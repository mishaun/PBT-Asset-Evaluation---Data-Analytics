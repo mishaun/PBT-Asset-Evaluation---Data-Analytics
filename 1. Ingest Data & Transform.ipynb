{
 "cells": [
  {
   "cell_type": "markdown",
   "id": "bb031a07",
   "metadata": {},
   "source": [
    "# Import Libraries"
   ]
  },
  {
   "cell_type": "code",
   "execution_count": 1,
   "id": "ca9458f0",
   "metadata": {},
   "outputs": [],
   "source": [
    "import pandas as pd\n",
    "import requests\n",
    "\n",
    "import yfinance as yf\n",
    "from pandas_datareader import data as pdr"
   ]
  },
  {
   "cell_type": "code",
   "execution_count": 2,
   "id": "f8aa6868",
   "metadata": {},
   "outputs": [],
   "source": [
    "import datetime as dt"
   ]
  },
  {
   "cell_type": "code",
   "execution_count": 3,
   "id": "7f849e61",
   "metadata": {},
   "outputs": [],
   "source": [
    "pd.options.display.max_columns=1000\n",
    "\n",
    "from IPython.core.interactiveshell import InteractiveShell\n",
    "InteractiveShell.ast_node_interactivity = \"all\""
   ]
  },
  {
   "cell_type": "markdown",
   "id": "5a93f07b",
   "metadata": {},
   "source": [
    "# Folder Paths"
   ]
  },
  {
   "cell_type": "code",
   "execution_count": 4,
   "id": "84b790f1",
   "metadata": {},
   "outputs": [],
   "source": [
    "raw_data_folder = \"Data/raw\"\n",
    "presentation_data_folder = \"Data/presentation\""
   ]
  },
  {
   "cell_type": "markdown",
   "id": "e295c364",
   "metadata": {},
   "source": [
    "<hr>"
   ]
  },
  {
   "cell_type": "markdown",
   "id": "ba6cf7aa",
   "metadata": {},
   "source": [
    "# Ingest & Transform Data "
   ]
  },
  {
   "cell_type": "markdown",
   "id": "9f741416",
   "metadata": {},
   "source": [
    "## PBT Historical Asset Price"
   ]
  },
  {
   "cell_type": "markdown",
   "id": "5562c605",
   "metadata": {},
   "source": [
    "### Ingest from Yahoo Finance API"
   ]
  },
  {
   "cell_type": "markdown",
   "id": "f4d075cc",
   "metadata": {},
   "source": [
    "#### Get Current Date"
   ]
  },
  {
   "cell_type": "code",
   "execution_count": 5,
   "id": "8e140a6f",
   "metadata": {},
   "outputs": [
    {
     "data": {
      "text/plain": [
       "'2022-01-05'"
      ]
     },
     "execution_count": 5,
     "metadata": {},
     "output_type": "execute_result"
    }
   ],
   "source": [
    "present_date = dt.datetime.strftime(dt.datetime.now(), '%Y-%m-%d')\n",
    "present_date"
   ]
  },
  {
   "cell_type": "code",
   "execution_count": 6,
   "id": "f1dddded",
   "metadata": {},
   "outputs": [
    {
     "name": "stdout",
     "output_type": "stream",
     "text": [
      "[*********************100%***********************]  1 of 1 completed\n"
     ]
    }
   ],
   "source": [
    "yf.pdr_override()\n",
    "\n",
    "# download dataframe\n",
    "data = pdr.get_data_yahoo(\"PBT\", start=\"1996-01-01\", end=present_date)\n"
   ]
  },
  {
   "cell_type": "markdown",
   "id": "a632b88f",
   "metadata": {},
   "source": [
    "### Transform - Select Columns"
   ]
  },
  {
   "cell_type": "code",
   "execution_count": 7,
   "id": "629cda4a",
   "metadata": {},
   "outputs": [
    {
     "data": {
      "text/html": [
       "<div>\n",
       "<style scoped>\n",
       "    .dataframe tbody tr th:only-of-type {\n",
       "        vertical-align: middle;\n",
       "    }\n",
       "\n",
       "    .dataframe tbody tr th {\n",
       "        vertical-align: top;\n",
       "    }\n",
       "\n",
       "    .dataframe thead th {\n",
       "        text-align: right;\n",
       "    }\n",
       "</style>\n",
       "<table border=\"1\" class=\"dataframe\">\n",
       "  <thead>\n",
       "    <tr style=\"text-align: right;\">\n",
       "      <th></th>\n",
       "      <th>Date</th>\n",
       "      <th>Close</th>\n",
       "    </tr>\n",
       "  </thead>\n",
       "  <tbody>\n",
       "    <tr>\n",
       "      <th>0</th>\n",
       "      <td>1996-01-02</td>\n",
       "      <td>3.125</td>\n",
       "    </tr>\n",
       "    <tr>\n",
       "      <th>1</th>\n",
       "      <td>1996-01-03</td>\n",
       "      <td>3.375</td>\n",
       "    </tr>\n",
       "    <tr>\n",
       "      <th>2</th>\n",
       "      <td>1996-01-04</td>\n",
       "      <td>3.500</td>\n",
       "    </tr>\n",
       "    <tr>\n",
       "      <th>3</th>\n",
       "      <td>1996-01-05</td>\n",
       "      <td>3.500</td>\n",
       "    </tr>\n",
       "    <tr>\n",
       "      <th>4</th>\n",
       "      <td>1996-01-08</td>\n",
       "      <td>3.625</td>\n",
       "    </tr>\n",
       "  </tbody>\n",
       "</table>\n",
       "</div>"
      ],
      "text/plain": [
       "        Date  Close\n",
       "0 1996-01-02  3.125\n",
       "1 1996-01-03  3.375\n",
       "2 1996-01-04  3.500\n",
       "3 1996-01-05  3.500\n",
       "4 1996-01-08  3.625"
      ]
     },
     "execution_count": 7,
     "metadata": {},
     "output_type": "execute_result"
    }
   ],
   "source": [
    "#resetting index to make date a column and only taking closing price and date\n",
    "historical_close = data.reset_index()[['Date', 'Close']]\n",
    "historical_close.head()\n",
    "historical_close.to_csv(f\"{presentation_data_folder}/pbt_asset_price/pbt asset price.csv\", index = False)"
   ]
  },
  {
   "cell_type": "markdown",
   "id": "f59734fc",
   "metadata": {},
   "source": [
    "<hr>"
   ]
  },
  {
   "cell_type": "markdown",
   "id": "22c7c802",
   "metadata": {},
   "source": [
    "\n",
    "## Oil Price by Month - Excel Download\n",
    "* Source URL: https://www.eia.gov/dnav/pet/hist/LeafHandler.ashx?n=PET&s=RWTC&f=M"
   ]
  },
  {
   "cell_type": "markdown",
   "id": "c0427783",
   "metadata": {},
   "source": [
    "### Ingest from Excel File Download"
   ]
  },
  {
   "cell_type": "code",
   "execution_count": 8,
   "id": "bc0b4143",
   "metadata": {},
   "outputs": [],
   "source": [
    "oilPricebyMonth = pd.read_csv(f\"{raw_data_folder}/oil_prices/Cushing_OK_WTI_Spot_Price_FOB.csv\", header = 4)"
   ]
  },
  {
   "cell_type": "markdown",
   "id": "2366d983",
   "metadata": {},
   "source": [
    "### Transform - Rename columns and Format Date Field"
   ]
  },
  {
   "cell_type": "code",
   "execution_count": 9,
   "id": "2d2e65da",
   "metadata": {},
   "outputs": [
    {
     "data": {
      "text/html": [
       "<div>\n",
       "<style scoped>\n",
       "    .dataframe tbody tr th:only-of-type {\n",
       "        vertical-align: middle;\n",
       "    }\n",
       "\n",
       "    .dataframe tbody tr th {\n",
       "        vertical-align: top;\n",
       "    }\n",
       "\n",
       "    .dataframe thead th {\n",
       "        text-align: right;\n",
       "    }\n",
       "</style>\n",
       "<table border=\"1\" class=\"dataframe\">\n",
       "  <thead>\n",
       "    <tr style=\"text-align: right;\">\n",
       "      <th></th>\n",
       "      <th>Month</th>\n",
       "      <th>monthly_oil_price</th>\n",
       "    </tr>\n",
       "  </thead>\n",
       "  <tbody>\n",
       "    <tr>\n",
       "      <th>0</th>\n",
       "      <td>Nov 2021</td>\n",
       "      <td>79.15</td>\n",
       "    </tr>\n",
       "    <tr>\n",
       "      <th>1</th>\n",
       "      <td>Oct 2021</td>\n",
       "      <td>81.48</td>\n",
       "    </tr>\n",
       "    <tr>\n",
       "      <th>2</th>\n",
       "      <td>Sep 2021</td>\n",
       "      <td>71.65</td>\n",
       "    </tr>\n",
       "    <tr>\n",
       "      <th>3</th>\n",
       "      <td>Aug 2021</td>\n",
       "      <td>67.73</td>\n",
       "    </tr>\n",
       "    <tr>\n",
       "      <th>4</th>\n",
       "      <td>Jul 2021</td>\n",
       "      <td>72.49</td>\n",
       "    </tr>\n",
       "  </tbody>\n",
       "</table>\n",
       "</div>"
      ],
      "text/plain": [
       "      Month  monthly_oil_price\n",
       "0  Nov 2021              79.15\n",
       "1  Oct 2021              81.48\n",
       "2  Sep 2021              71.65\n",
       "3  Aug 2021              67.73\n",
       "4  Jul 2021              72.49"
      ]
     },
     "execution_count": 9,
     "metadata": {},
     "output_type": "execute_result"
    }
   ],
   "source": [
    "oilPricebyMonth.rename(columns = {oilPricebyMonth.columns[-1]: 'monthly_oil_price'}, inplace=True)\n",
    "\n",
    "oilPricebyMonth.head()\n"
   ]
  },
  {
   "cell_type": "code",
   "execution_count": 10,
   "id": "babb4940",
   "metadata": {},
   "outputs": [
    {
     "data": {
      "text/plain": [
       "datetime.datetime(2021, 11, 1, 0, 0)"
      ]
     },
     "execution_count": 10,
     "metadata": {},
     "output_type": "execute_result"
    },
    {
     "data": {
      "text/html": [
       "<div>\n",
       "<style scoped>\n",
       "    .dataframe tbody tr th:only-of-type {\n",
       "        vertical-align: middle;\n",
       "    }\n",
       "\n",
       "    .dataframe tbody tr th {\n",
       "        vertical-align: top;\n",
       "    }\n",
       "\n",
       "    .dataframe thead th {\n",
       "        text-align: right;\n",
       "    }\n",
       "</style>\n",
       "<table border=\"1\" class=\"dataframe\">\n",
       "  <thead>\n",
       "    <tr style=\"text-align: right;\">\n",
       "      <th></th>\n",
       "      <th>Month</th>\n",
       "      <th>monthly_oil_price</th>\n",
       "      <th>Adj Oil Price 1E-1</th>\n",
       "    </tr>\n",
       "  </thead>\n",
       "  <tbody>\n",
       "    <tr>\n",
       "      <th>0</th>\n",
       "      <td>2021-11-01</td>\n",
       "      <td>79.15</td>\n",
       "      <td>7.915</td>\n",
       "    </tr>\n",
       "    <tr>\n",
       "      <th>1</th>\n",
       "      <td>2021-10-01</td>\n",
       "      <td>81.48</td>\n",
       "      <td>8.148</td>\n",
       "    </tr>\n",
       "    <tr>\n",
       "      <th>2</th>\n",
       "      <td>2021-09-01</td>\n",
       "      <td>71.65</td>\n",
       "      <td>7.165</td>\n",
       "    </tr>\n",
       "    <tr>\n",
       "      <th>3</th>\n",
       "      <td>2021-08-01</td>\n",
       "      <td>67.73</td>\n",
       "      <td>6.773</td>\n",
       "    </tr>\n",
       "    <tr>\n",
       "      <th>4</th>\n",
       "      <td>2021-07-01</td>\n",
       "      <td>72.49</td>\n",
       "      <td>7.249</td>\n",
       "    </tr>\n",
       "  </tbody>\n",
       "</table>\n",
       "</div>"
      ],
      "text/plain": [
       "       Month  monthly_oil_price  Adj Oil Price 1E-1\n",
       "0 2021-11-01              79.15               7.915\n",
       "1 2021-10-01              81.48               8.148\n",
       "2 2021-09-01              71.65               7.165\n",
       "3 2021-08-01              67.73               6.773\n",
       "4 2021-07-01              72.49               7.249"
      ]
     },
     "execution_count": 10,
     "metadata": {},
     "output_type": "execute_result"
    }
   ],
   "source": [
    "testDate = oilPricebyMonth.iloc[0]['Month']\n",
    "dt.datetime.strptime(testDate, '%b %Y')\n",
    "\n",
    "oilPricebyMonth[\"Month\"] = oilPricebyMonth['Month'].apply(lambda x: dt.datetime.strptime(x, '%b %Y'))\n",
    "\n",
    "oilPricebyMonth[\"Adj Oil Price 1E-1\"] = oilPricebyMonth['monthly_oil_price'] / 10\n",
    "oilPricebyMonth.head()"
   ]
  },
  {
   "cell_type": "code",
   "execution_count": 11,
   "id": "5deacc61",
   "metadata": {},
   "outputs": [],
   "source": [
    "oilPricebyMonth.to_csv(f\"{presentation_data_folder}/oil_prices/oil price by month.csv\", index = False)"
   ]
  },
  {
   "cell_type": "markdown",
   "id": "a2ff026c",
   "metadata": {},
   "source": [
    "## Gas Price by Month - Excel Download\n",
    "* Source Url: https://www.eia.gov/dnav/ng/hist/rngwhhdm.htm"
   ]
  },
  {
   "cell_type": "markdown",
   "id": "ffd3d42a",
   "metadata": {},
   "source": [
    "### Ingest from Excel File Download"
   ]
  },
  {
   "cell_type": "code",
   "execution_count": 12,
   "id": "bfa183af",
   "metadata": {},
   "outputs": [],
   "source": [
    "gasPricebyMonth = pd.read_excel(f\"{raw_data_folder}/gas_prices/RNGWHHDm.xls\", sheet_name= 'Data 1', header = 2)"
   ]
  },
  {
   "cell_type": "markdown",
   "id": "8d07b43a",
   "metadata": {},
   "source": [
    "### Transform - Rename columns"
   ]
  },
  {
   "cell_type": "code",
   "execution_count": 13,
   "id": "6fe56f99",
   "metadata": {},
   "outputs": [
    {
     "data": {
      "text/html": [
       "<div>\n",
       "<style scoped>\n",
       "    .dataframe tbody tr th:only-of-type {\n",
       "        vertical-align: middle;\n",
       "    }\n",
       "\n",
       "    .dataframe tbody tr th {\n",
       "        vertical-align: top;\n",
       "    }\n",
       "\n",
       "    .dataframe thead th {\n",
       "        text-align: right;\n",
       "    }\n",
       "</style>\n",
       "<table border=\"1\" class=\"dataframe\">\n",
       "  <thead>\n",
       "    <tr style=\"text-align: right;\">\n",
       "      <th></th>\n",
       "      <th>Date</th>\n",
       "      <th>monthly_gas_price</th>\n",
       "    </tr>\n",
       "  </thead>\n",
       "  <tbody>\n",
       "    <tr>\n",
       "      <th>0</th>\n",
       "      <td>1997-01-15</td>\n",
       "      <td>3.45</td>\n",
       "    </tr>\n",
       "    <tr>\n",
       "      <th>1</th>\n",
       "      <td>1997-02-15</td>\n",
       "      <td>2.15</td>\n",
       "    </tr>\n",
       "    <tr>\n",
       "      <th>2</th>\n",
       "      <td>1997-03-15</td>\n",
       "      <td>1.89</td>\n",
       "    </tr>\n",
       "    <tr>\n",
       "      <th>3</th>\n",
       "      <td>1997-04-15</td>\n",
       "      <td>2.03</td>\n",
       "    </tr>\n",
       "    <tr>\n",
       "      <th>4</th>\n",
       "      <td>1997-05-15</td>\n",
       "      <td>2.25</td>\n",
       "    </tr>\n",
       "  </tbody>\n",
       "</table>\n",
       "</div>"
      ],
      "text/plain": [
       "        Date  monthly_gas_price\n",
       "0 1997-01-15               3.45\n",
       "1 1997-02-15               2.15\n",
       "2 1997-03-15               1.89\n",
       "3 1997-04-15               2.03\n",
       "4 1997-05-15               2.25"
      ]
     },
     "execution_count": 13,
     "metadata": {},
     "output_type": "execute_result"
    }
   ],
   "source": [
    "gasPricebyMonth.rename(columns = {gasPricebyMonth.columns[-1]: 'monthly_gas_price'}, inplace=True)\n",
    "\n",
    "gasPricebyMonth.head()\n",
    "gasPricebyMonth.to_csv(f\"{presentation_data_folder}/gas_prices/gas price by month.csv\", index = False)"
   ]
  },
  {
   "cell_type": "markdown",
   "id": "5c3bd4b9",
   "metadata": {},
   "source": [
    "<hr>\n",
    "<br>\n",
    "\n"
   ]
  },
  {
   "cell_type": "markdown",
   "id": "65c862eb",
   "metadata": {},
   "source": [
    "## Historical Field Production"
   ]
  },
  {
   "cell_type": "markdown",
   "id": "c5e68c5c",
   "metadata": {},
   "source": [
    "### Ingest historical production"
   ]
  },
  {
   "cell_type": "code",
   "execution_count": 14,
   "id": "fed2c5cf",
   "metadata": {},
   "outputs": [],
   "source": [
    "historical_prod = pd.read_csv(f'{raw_data_folder}/historical_production/Historical Production.csv')"
   ]
  },
  {
   "cell_type": "markdown",
   "id": "f1eb5787",
   "metadata": {},
   "source": [
    "### Transform - Convert String Timestamp to Date and Adding Fields"
   ]
  },
  {
   "cell_type": "code",
   "execution_count": 15,
   "id": "bcb7868d",
   "metadata": {},
   "outputs": [],
   "source": [
    "historical_prod['Date'] = pd.to_datetime(historical_prod['Date'])\n",
    "\n",
    "historical_prod['Mbbl/month'] = historical_prod['Oil']/1E3\n",
    "historical_prod['Ten\\'s of Thousand bbl /month (1E-4)'] = historical_prod['Oil']/1E4\n",
    "\n",
    "historical_prod['MMcf/month'] = historical_prod['Gas']/1E3\n",
    "historical_prod['Ten\\'s of Thousand mcf /month (1E-4)'] = historical_prod['Gas']/1E4"
   ]
  },
  {
   "cell_type": "code",
   "execution_count": 16,
   "id": "1f79c80c",
   "metadata": {},
   "outputs": [],
   "source": [
    "historical_prod.to_csv(f'{presentation_data_folder}/historical_production/historical_production.csv', index = False)"
   ]
  },
  {
   "cell_type": "markdown",
   "id": "62820bf2",
   "metadata": {},
   "source": [
    "<hr>\n",
    "<br>"
   ]
  },
  {
   "cell_type": "markdown",
   "id": "9cd038e3",
   "metadata": {},
   "source": [
    "## Wells in Field"
   ]
  },
  {
   "cell_type": "markdown",
   "id": "60a709a1",
   "metadata": {},
   "source": [
    "### Ingest Wells"
   ]
  },
  {
   "cell_type": "code",
   "execution_count": 17,
   "id": "b04c4ec5",
   "metadata": {},
   "outputs": [],
   "source": [
    "wells = pd.read_csv(f'{raw_data_folder}/wells/Production Table.csv')"
   ]
  },
  {
   "cell_type": "markdown",
   "id": "058dc798",
   "metadata": {},
   "source": [
    "### Transform - Add Fields"
   ]
  },
  {
   "cell_type": "code",
   "execution_count": 18,
   "id": "9cf0146f",
   "metadata": {},
   "outputs": [],
   "source": [
    "wells[\"Total MMbbl\"] = wells['Cum Oil']/1E6\n",
    "wells[\"Total BCF\"] = wells['Cum Gas']/1E6"
   ]
  },
  {
   "cell_type": "code",
   "execution_count": 19,
   "id": "e238c6fe",
   "metadata": {},
   "outputs": [],
   "source": [
    "wells.to_csv(f'{presentation_data_folder}/wells/wells.csv', index = False)"
   ]
  },
  {
   "cell_type": "markdown",
   "id": "6fac51db",
   "metadata": {},
   "source": [
    "<hr>\n",
    "<br>"
   ]
  },
  {
   "cell_type": "markdown",
   "id": "57d30325",
   "metadata": {},
   "source": [
    "## Permits"
   ]
  },
  {
   "cell_type": "markdown",
   "id": "92ed77ae",
   "metadata": {},
   "source": [
    "### Ingest Permits"
   ]
  },
  {
   "cell_type": "code",
   "execution_count": 20,
   "id": "eba9abfc",
   "metadata": {},
   "outputs": [],
   "source": [
    "permits = pd.read_csv(f'{raw_data_folder}/permits/Permits Table.csv')"
   ]
  },
  {
   "cell_type": "markdown",
   "id": "c3eed42d",
   "metadata": {},
   "source": [
    "### Transform - Group Similar Values in Well Status Field"
   ]
  },
  {
   "cell_type": "code",
   "execution_count": 21,
   "id": "67db2371",
   "metadata": {},
   "outputs": [],
   "source": [
    "def group_categories(value, similar_categories, target_category):\n",
    "    '''\n",
    "    similar_categories: list of values that wish to be grouped together\n",
    "    target_category: value for similar values to be grouped to\n",
    "    value: value in row of DataFrame\n",
    "    '''\n",
    "    if value in similar_categories:\n",
    "        return target_category\n",
    "    else:\n",
    "        return value"
   ]
  },
  {
   "cell_type": "code",
   "execution_count": 22,
   "id": "1ef9984f",
   "metadata": {},
   "outputs": [],
   "source": [
    "vals_to_be_grouped = ['DUC', 'COMPLETED', 'INACTIVE', 'DRILLED']"
   ]
  },
  {
   "cell_type": "code",
   "execution_count": 23,
   "id": "83f0790e",
   "metadata": {},
   "outputs": [],
   "source": [
    "permits['Well Status Grouped'] = permits['Well Status'].apply(lambda x: group_categories(x, vals_to_be_grouped, 'Drilled, Not Producing'))"
   ]
  },
  {
   "cell_type": "code",
   "execution_count": 24,
   "id": "2d63c7ce",
   "metadata": {},
   "outputs": [
    {
     "data": {
      "text/plain": [
       "PERMITTED                 77\n",
       "Drilled, Not Producing    68\n",
       "ACTIVE                    34\n",
       "UNKNOWN                   11\n",
       "CANCELLED                  3\n",
       "DRILLING                   2\n",
       "P & A                      1\n",
       "Name: Well Status Grouped, dtype: int64"
      ]
     },
     "execution_count": 24,
     "metadata": {},
     "output_type": "execute_result"
    }
   ],
   "source": [
    "permits['Well Status Grouped'].value_counts()"
   ]
  },
  {
   "cell_type": "code",
   "execution_count": 25,
   "id": "79b7cf6f",
   "metadata": {},
   "outputs": [],
   "source": [
    "permits.to_excel(f'{presentation_data_folder}/permits/permits.xlsx', index = False)"
   ]
  },
  {
   "cell_type": "markdown",
   "id": "849671c8",
   "metadata": {},
   "source": [
    "<hr>\n",
    "<br>"
   ]
  },
  {
   "cell_type": "markdown",
   "id": "346c8202",
   "metadata": {},
   "source": [
    "# Combined Tables for Analysis"
   ]
  },
  {
   "cell_type": "markdown",
   "id": "bffedf10",
   "metadata": {},
   "source": [
    "## Gross Revenue "
   ]
  },
  {
   "cell_type": "code",
   "execution_count": 26,
   "id": "e98fa34a",
   "metadata": {},
   "outputs": [
    {
     "data": {
      "text/html": [
       "<div>\n",
       "<style scoped>\n",
       "    .dataframe tbody tr th:only-of-type {\n",
       "        vertical-align: middle;\n",
       "    }\n",
       "\n",
       "    .dataframe tbody tr th {\n",
       "        vertical-align: top;\n",
       "    }\n",
       "\n",
       "    .dataframe thead th {\n",
       "        text-align: right;\n",
       "    }\n",
       "</style>\n",
       "<table border=\"1\" class=\"dataframe\">\n",
       "  <thead>\n",
       "    <tr style=\"text-align: right;\">\n",
       "      <th></th>\n",
       "      <th>Date</th>\n",
       "      <th>Oil</th>\n",
       "      <th>Gas</th>\n",
       "      <th>Water</th>\n",
       "      <th>Well Count</th>\n",
       "      <th>Mbbl/month</th>\n",
       "      <th>Ten's of Thousand bbl /month (1E-4)</th>\n",
       "      <th>MMcf/month</th>\n",
       "      <th>Ten's of Thousand mcf /month (1E-4)</th>\n",
       "    </tr>\n",
       "  </thead>\n",
       "  <tbody>\n",
       "    <tr>\n",
       "      <th>0</th>\n",
       "      <td>1941-01-01</td>\n",
       "      <td>4684</td>\n",
       "      <td>0</td>\n",
       "      <td>16736</td>\n",
       "      <td>1</td>\n",
       "      <td>4.684</td>\n",
       "      <td>0.4684</td>\n",
       "      <td>0.0</td>\n",
       "      <td>0.0</td>\n",
       "    </tr>\n",
       "  </tbody>\n",
       "</table>\n",
       "</div>"
      ],
      "text/plain": [
       "        Date   Oil  Gas  Water  Well Count  Mbbl/month  \\\n",
       "0 1941-01-01  4684    0  16736           1       4.684   \n",
       "\n",
       "   Ten's of Thousand bbl /month (1E-4)  MMcf/month  \\\n",
       "0                               0.4684         0.0   \n",
       "\n",
       "   Ten's of Thousand mcf /month (1E-4)  \n",
       "0                                  0.0  "
      ]
     },
     "execution_count": 26,
     "metadata": {},
     "output_type": "execute_result"
    },
    {
     "data": {
      "text/html": [
       "<div>\n",
       "<style scoped>\n",
       "    .dataframe tbody tr th:only-of-type {\n",
       "        vertical-align: middle;\n",
       "    }\n",
       "\n",
       "    .dataframe tbody tr th {\n",
       "        vertical-align: top;\n",
       "    }\n",
       "\n",
       "    .dataframe thead th {\n",
       "        text-align: right;\n",
       "    }\n",
       "</style>\n",
       "<table border=\"1\" class=\"dataframe\">\n",
       "  <thead>\n",
       "    <tr style=\"text-align: right;\">\n",
       "      <th></th>\n",
       "      <th>Month</th>\n",
       "      <th>monthly_oil_price</th>\n",
       "      <th>Adj Oil Price 1E-1</th>\n",
       "    </tr>\n",
       "  </thead>\n",
       "  <tbody>\n",
       "    <tr>\n",
       "      <th>0</th>\n",
       "      <td>2021-11-01</td>\n",
       "      <td>79.15</td>\n",
       "      <td>7.915</td>\n",
       "    </tr>\n",
       "  </tbody>\n",
       "</table>\n",
       "</div>"
      ],
      "text/plain": [
       "       Month  monthly_oil_price  Adj Oil Price 1E-1\n",
       "0 2021-11-01              79.15               7.915"
      ]
     },
     "execution_count": 26,
     "metadata": {},
     "output_type": "execute_result"
    },
    {
     "data": {
      "text/html": [
       "<div>\n",
       "<style scoped>\n",
       "    .dataframe tbody tr th:only-of-type {\n",
       "        vertical-align: middle;\n",
       "    }\n",
       "\n",
       "    .dataframe tbody tr th {\n",
       "        vertical-align: top;\n",
       "    }\n",
       "\n",
       "    .dataframe thead th {\n",
       "        text-align: right;\n",
       "    }\n",
       "</style>\n",
       "<table border=\"1\" class=\"dataframe\">\n",
       "  <thead>\n",
       "    <tr style=\"text-align: right;\">\n",
       "      <th></th>\n",
       "      <th>Date</th>\n",
       "      <th>monthly_gas_price</th>\n",
       "    </tr>\n",
       "  </thead>\n",
       "  <tbody>\n",
       "    <tr>\n",
       "      <th>0</th>\n",
       "      <td>1997-01-15</td>\n",
       "      <td>3.45</td>\n",
       "    </tr>\n",
       "  </tbody>\n",
       "</table>\n",
       "</div>"
      ],
      "text/plain": [
       "        Date  monthly_gas_price\n",
       "0 1997-01-15               3.45"
      ]
     },
     "execution_count": 26,
     "metadata": {},
     "output_type": "execute_result"
    }
   ],
   "source": [
    "historical_prod.head(1)\n",
    "oilPricebyMonth.head(1)\n",
    "gasPricebyMonth.head(1)"
   ]
  },
  {
   "cell_type": "markdown",
   "id": "47faced2",
   "metadata": {},
   "source": [
    "### Transform - Create Field for Joining Tables"
   ]
  },
  {
   "cell_type": "code",
   "execution_count": 27,
   "id": "f3643a14",
   "metadata": {},
   "outputs": [],
   "source": [
    "#creating field for joining 3 tables since dates resembling each month differ slightly\n",
    "historical_prod['Date Key'] = historical_prod['Date'].apply(lambda x: dt.datetime.strftime(x, '%Y-%m'))\n",
    "gasPricebyMonth['Date Key'] = gasPricebyMonth['Date'].apply(lambda x: dt.datetime.strftime(x, '%Y-%m'))\n",
    "oilPricebyMonth['Date Key'] = oilPricebyMonth['Month'].apply(lambda x: dt.datetime.strftime(x, '%Y-%m'))"
   ]
  },
  {
   "cell_type": "code",
   "execution_count": 28,
   "id": "8d80bdd7",
   "metadata": {},
   "outputs": [
    {
     "data": {
      "text/html": [
       "<div>\n",
       "<style scoped>\n",
       "    .dataframe tbody tr th:only-of-type {\n",
       "        vertical-align: middle;\n",
       "    }\n",
       "\n",
       "    .dataframe tbody tr th {\n",
       "        vertical-align: top;\n",
       "    }\n",
       "\n",
       "    .dataframe thead th {\n",
       "        text-align: right;\n",
       "    }\n",
       "</style>\n",
       "<table border=\"1\" class=\"dataframe\">\n",
       "  <thead>\n",
       "    <tr style=\"text-align: right;\">\n",
       "      <th></th>\n",
       "      <th>Date</th>\n",
       "      <th>Oil</th>\n",
       "      <th>Gas</th>\n",
       "      <th>Water</th>\n",
       "      <th>Well Count</th>\n",
       "      <th>Mbbl/month</th>\n",
       "      <th>Ten's of Thousand bbl /month (1E-4)</th>\n",
       "      <th>MMcf/month</th>\n",
       "      <th>Ten's of Thousand mcf /month (1E-4)</th>\n",
       "      <th>Date Key</th>\n",
       "    </tr>\n",
       "  </thead>\n",
       "  <tbody>\n",
       "    <tr>\n",
       "      <th>0</th>\n",
       "      <td>1941-01-01</td>\n",
       "      <td>4684</td>\n",
       "      <td>0</td>\n",
       "      <td>16736</td>\n",
       "      <td>1</td>\n",
       "      <td>4.684</td>\n",
       "      <td>0.4684</td>\n",
       "      <td>0.0</td>\n",
       "      <td>0.0</td>\n",
       "      <td>1941-01</td>\n",
       "    </tr>\n",
       "    <tr>\n",
       "      <th>1</th>\n",
       "      <td>1941-02-01</td>\n",
       "      <td>5458</td>\n",
       "      <td>0</td>\n",
       "      <td>19502</td>\n",
       "      <td>1</td>\n",
       "      <td>5.458</td>\n",
       "      <td>0.5458</td>\n",
       "      <td>0.0</td>\n",
       "      <td>0.0</td>\n",
       "      <td>1941-02</td>\n",
       "    </tr>\n",
       "  </tbody>\n",
       "</table>\n",
       "</div>"
      ],
      "text/plain": [
       "        Date   Oil  Gas  Water  Well Count  Mbbl/month  \\\n",
       "0 1941-01-01  4684    0  16736           1       4.684   \n",
       "1 1941-02-01  5458    0  19502           1       5.458   \n",
       "\n",
       "   Ten's of Thousand bbl /month (1E-4)  MMcf/month  \\\n",
       "0                               0.4684         0.0   \n",
       "1                               0.5458         0.0   \n",
       "\n",
       "   Ten's of Thousand mcf /month (1E-4) Date Key  \n",
       "0                                  0.0  1941-01  \n",
       "1                                  0.0  1941-02  "
      ]
     },
     "execution_count": 28,
     "metadata": {},
     "output_type": "execute_result"
    },
    {
     "data": {
      "text/html": [
       "<div>\n",
       "<style scoped>\n",
       "    .dataframe tbody tr th:only-of-type {\n",
       "        vertical-align: middle;\n",
       "    }\n",
       "\n",
       "    .dataframe tbody tr th {\n",
       "        vertical-align: top;\n",
       "    }\n",
       "\n",
       "    .dataframe thead th {\n",
       "        text-align: right;\n",
       "    }\n",
       "</style>\n",
       "<table border=\"1\" class=\"dataframe\">\n",
       "  <thead>\n",
       "    <tr style=\"text-align: right;\">\n",
       "      <th></th>\n",
       "      <th>Month</th>\n",
       "      <th>monthly_oil_price</th>\n",
       "      <th>Adj Oil Price 1E-1</th>\n",
       "      <th>Date Key</th>\n",
       "    </tr>\n",
       "  </thead>\n",
       "  <tbody>\n",
       "    <tr>\n",
       "      <th>0</th>\n",
       "      <td>2021-11-01</td>\n",
       "      <td>79.15</td>\n",
       "      <td>7.915</td>\n",
       "      <td>2021-11</td>\n",
       "    </tr>\n",
       "    <tr>\n",
       "      <th>1</th>\n",
       "      <td>2021-10-01</td>\n",
       "      <td>81.48</td>\n",
       "      <td>8.148</td>\n",
       "      <td>2021-10</td>\n",
       "    </tr>\n",
       "  </tbody>\n",
       "</table>\n",
       "</div>"
      ],
      "text/plain": [
       "       Month  monthly_oil_price  Adj Oil Price 1E-1 Date Key\n",
       "0 2021-11-01              79.15               7.915  2021-11\n",
       "1 2021-10-01              81.48               8.148  2021-10"
      ]
     },
     "execution_count": 28,
     "metadata": {},
     "output_type": "execute_result"
    },
    {
     "data": {
      "text/html": [
       "<div>\n",
       "<style scoped>\n",
       "    .dataframe tbody tr th:only-of-type {\n",
       "        vertical-align: middle;\n",
       "    }\n",
       "\n",
       "    .dataframe tbody tr th {\n",
       "        vertical-align: top;\n",
       "    }\n",
       "\n",
       "    .dataframe thead th {\n",
       "        text-align: right;\n",
       "    }\n",
       "</style>\n",
       "<table border=\"1\" class=\"dataframe\">\n",
       "  <thead>\n",
       "    <tr style=\"text-align: right;\">\n",
       "      <th></th>\n",
       "      <th>Date</th>\n",
       "      <th>monthly_gas_price</th>\n",
       "      <th>Date Key</th>\n",
       "    </tr>\n",
       "  </thead>\n",
       "  <tbody>\n",
       "    <tr>\n",
       "      <th>0</th>\n",
       "      <td>1997-01-15</td>\n",
       "      <td>3.45</td>\n",
       "      <td>1997-01</td>\n",
       "    </tr>\n",
       "    <tr>\n",
       "      <th>1</th>\n",
       "      <td>1997-02-15</td>\n",
       "      <td>2.15</td>\n",
       "      <td>1997-02</td>\n",
       "    </tr>\n",
       "  </tbody>\n",
       "</table>\n",
       "</div>"
      ],
      "text/plain": [
       "        Date  monthly_gas_price Date Key\n",
       "0 1997-01-15               3.45  1997-01\n",
       "1 1997-02-15               2.15  1997-02"
      ]
     },
     "execution_count": 28,
     "metadata": {},
     "output_type": "execute_result"
    }
   ],
   "source": [
    "historical_prod.head(2)\n",
    "oilPricebyMonth.head(2)\n",
    "gasPricebyMonth.head(2)"
   ]
  },
  {
   "cell_type": "markdown",
   "id": "62656e9c",
   "metadata": {},
   "source": [
    "### Perform Join and Clean Up Fields"
   ]
  },
  {
   "cell_type": "code",
   "execution_count": 29,
   "id": "acac943e",
   "metadata": {},
   "outputs": [],
   "source": [
    "#merging 3 tables together to get commodity pricing along side production. Then cleaning up by selecting only necessary columns\n",
    "revenue = pd.merge(historical_prod, oilPricebyMonth.drop(columns = 'Month'), on = 'Date Key', how = 'inner') \\\n",
    "    .merge(gasPricebyMonth.drop(columns = 'Date'), on = 'Date Key', how = 'inner') \\\n",
    "    .drop(columns = 'Date Key') \\\n",
    "    .loc[:,['Date', 'Oil', 'Gas', 'monthly_oil_price', 'monthly_gas_price']]"
   ]
  },
  {
   "cell_type": "markdown",
   "id": "3319cf79",
   "metadata": {},
   "source": [
    "### Calculate Revenue for Oil, Gas, and Total"
   ]
  },
  {
   "cell_type": "code",
   "execution_count": 30,
   "id": "66042a08",
   "metadata": {},
   "outputs": [
    {
     "data": {
      "text/html": [
       "<div>\n",
       "<style scoped>\n",
       "    .dataframe tbody tr th:only-of-type {\n",
       "        vertical-align: middle;\n",
       "    }\n",
       "\n",
       "    .dataframe tbody tr th {\n",
       "        vertical-align: top;\n",
       "    }\n",
       "\n",
       "    .dataframe thead th {\n",
       "        text-align: right;\n",
       "    }\n",
       "</style>\n",
       "<table border=\"1\" class=\"dataframe\">\n",
       "  <thead>\n",
       "    <tr style=\"text-align: right;\">\n",
       "      <th></th>\n",
       "      <th>Date</th>\n",
       "      <th>Oil</th>\n",
       "      <th>Gas</th>\n",
       "      <th>monthly_oil_price</th>\n",
       "      <th>monthly_gas_price</th>\n",
       "      <th>Revenue Oil</th>\n",
       "      <th>Revenue Gas</th>\n",
       "      <th>Total Revenue</th>\n",
       "      <th>$M Total Revenue</th>\n",
       "    </tr>\n",
       "  </thead>\n",
       "  <tbody>\n",
       "    <tr>\n",
       "      <th>0</th>\n",
       "      <td>1997-01-01</td>\n",
       "      <td>280995</td>\n",
       "      <td>1202974</td>\n",
       "      <td>25.13</td>\n",
       "      <td>3.45</td>\n",
       "      <td>7061404.35</td>\n",
       "      <td>4150260.30</td>\n",
       "      <td>11211664.65</td>\n",
       "      <td>11.21</td>\n",
       "    </tr>\n",
       "    <tr>\n",
       "      <th>1</th>\n",
       "      <td>1997-02-01</td>\n",
       "      <td>260744</td>\n",
       "      <td>1161835</td>\n",
       "      <td>22.18</td>\n",
       "      <td>2.15</td>\n",
       "      <td>5783301.92</td>\n",
       "      <td>2497945.25</td>\n",
       "      <td>8281247.17</td>\n",
       "      <td>8.28</td>\n",
       "    </tr>\n",
       "    <tr>\n",
       "      <th>2</th>\n",
       "      <td>1997-03-01</td>\n",
       "      <td>290928</td>\n",
       "      <td>1284172</td>\n",
       "      <td>20.97</td>\n",
       "      <td>1.89</td>\n",
       "      <td>6100760.16</td>\n",
       "      <td>2427085.08</td>\n",
       "      <td>8527845.24</td>\n",
       "      <td>8.53</td>\n",
       "    </tr>\n",
       "    <tr>\n",
       "      <th>3</th>\n",
       "      <td>1997-04-01</td>\n",
       "      <td>286429</td>\n",
       "      <td>1232001</td>\n",
       "      <td>19.70</td>\n",
       "      <td>2.03</td>\n",
       "      <td>5642651.30</td>\n",
       "      <td>2500962.03</td>\n",
       "      <td>8143613.33</td>\n",
       "      <td>8.14</td>\n",
       "    </tr>\n",
       "    <tr>\n",
       "      <th>4</th>\n",
       "      <td>1997-05-01</td>\n",
       "      <td>310124</td>\n",
       "      <td>1289414</td>\n",
       "      <td>20.82</td>\n",
       "      <td>2.25</td>\n",
       "      <td>6456781.68</td>\n",
       "      <td>2901181.50</td>\n",
       "      <td>9357963.18</td>\n",
       "      <td>9.36</td>\n",
       "    </tr>\n",
       "    <tr>\n",
       "      <th>...</th>\n",
       "      <td>...</td>\n",
       "      <td>...</td>\n",
       "      <td>...</td>\n",
       "      <td>...</td>\n",
       "      <td>...</td>\n",
       "      <td>...</td>\n",
       "      <td>...</td>\n",
       "      <td>...</td>\n",
       "      <td>...</td>\n",
       "    </tr>\n",
       "    <tr>\n",
       "      <th>293</th>\n",
       "      <td>2021-06-01</td>\n",
       "      <td>200332</td>\n",
       "      <td>914030</td>\n",
       "      <td>71.38</td>\n",
       "      <td>3.26</td>\n",
       "      <td>14299698.16</td>\n",
       "      <td>2979737.80</td>\n",
       "      <td>17279435.96</td>\n",
       "      <td>17.28</td>\n",
       "    </tr>\n",
       "    <tr>\n",
       "      <th>294</th>\n",
       "      <td>2021-07-01</td>\n",
       "      <td>220864</td>\n",
       "      <td>1002275</td>\n",
       "      <td>72.49</td>\n",
       "      <td>3.84</td>\n",
       "      <td>16010431.36</td>\n",
       "      <td>3848736.00</td>\n",
       "      <td>19859167.36</td>\n",
       "      <td>19.86</td>\n",
       "    </tr>\n",
       "    <tr>\n",
       "      <th>295</th>\n",
       "      <td>2021-08-01</td>\n",
       "      <td>206105</td>\n",
       "      <td>1023171</td>\n",
       "      <td>67.73</td>\n",
       "      <td>4.07</td>\n",
       "      <td>13959491.65</td>\n",
       "      <td>4164305.97</td>\n",
       "      <td>18123797.62</td>\n",
       "      <td>18.12</td>\n",
       "    </tr>\n",
       "    <tr>\n",
       "      <th>296</th>\n",
       "      <td>2021-09-01</td>\n",
       "      <td>203026</td>\n",
       "      <td>973874</td>\n",
       "      <td>71.65</td>\n",
       "      <td>5.16</td>\n",
       "      <td>14546812.90</td>\n",
       "      <td>5025189.84</td>\n",
       "      <td>19572002.74</td>\n",
       "      <td>19.57</td>\n",
       "    </tr>\n",
       "    <tr>\n",
       "      <th>297</th>\n",
       "      <td>2021-10-01</td>\n",
       "      <td>201477</td>\n",
       "      <td>897893</td>\n",
       "      <td>81.48</td>\n",
       "      <td>5.51</td>\n",
       "      <td>16416345.96</td>\n",
       "      <td>4947390.43</td>\n",
       "      <td>21363736.39</td>\n",
       "      <td>21.36</td>\n",
       "    </tr>\n",
       "  </tbody>\n",
       "</table>\n",
       "<p>298 rows × 9 columns</p>\n",
       "</div>"
      ],
      "text/plain": [
       "          Date     Oil      Gas  monthly_oil_price  monthly_gas_price  \\\n",
       "0   1997-01-01  280995  1202974              25.13               3.45   \n",
       "1   1997-02-01  260744  1161835              22.18               2.15   \n",
       "2   1997-03-01  290928  1284172              20.97               1.89   \n",
       "3   1997-04-01  286429  1232001              19.70               2.03   \n",
       "4   1997-05-01  310124  1289414              20.82               2.25   \n",
       "..         ...     ...      ...                ...                ...   \n",
       "293 2021-06-01  200332   914030              71.38               3.26   \n",
       "294 2021-07-01  220864  1002275              72.49               3.84   \n",
       "295 2021-08-01  206105  1023171              67.73               4.07   \n",
       "296 2021-09-01  203026   973874              71.65               5.16   \n",
       "297 2021-10-01  201477   897893              81.48               5.51   \n",
       "\n",
       "     Revenue Oil  Revenue Gas  Total Revenue  $M Total Revenue  \n",
       "0     7061404.35   4150260.30    11211664.65             11.21  \n",
       "1     5783301.92   2497945.25     8281247.17              8.28  \n",
       "2     6100760.16   2427085.08     8527845.24              8.53  \n",
       "3     5642651.30   2500962.03     8143613.33              8.14  \n",
       "4     6456781.68   2901181.50     9357963.18              9.36  \n",
       "..           ...          ...            ...               ...  \n",
       "293  14299698.16   2979737.80    17279435.96             17.28  \n",
       "294  16010431.36   3848736.00    19859167.36             19.86  \n",
       "295  13959491.65   4164305.97    18123797.62             18.12  \n",
       "296  14546812.90   5025189.84    19572002.74             19.57  \n",
       "297  16416345.96   4947390.43    21363736.39             21.36  \n",
       "\n",
       "[298 rows x 9 columns]"
      ]
     },
     "execution_count": 30,
     "metadata": {},
     "output_type": "execute_result"
    }
   ],
   "source": [
    "revenue[\"Revenue Oil\"] = revenue[\"Oil\"] * revenue['monthly_oil_price']\n",
    "revenue[\"Revenue Gas\"] = revenue[\"Gas\"] * revenue['monthly_gas_price']\n",
    "\n",
    "revenue['Total Revenue'] = revenue[\"Revenue Oil\"] + revenue[\"Revenue Gas\"]\n",
    "\n",
    "revenue['$M Total Revenue'] = round(revenue[\"Total Revenue\"] / 1E6, 2)\n",
    "\n",
    "revenue"
   ]
  },
  {
   "cell_type": "code",
   "execution_count": 31,
   "id": "5b171bb6",
   "metadata": {},
   "outputs": [],
   "source": [
    "revenue.to_csv(f'{presentation_data_folder}/revenue/revenue.csv', index = False)"
   ]
  },
  {
   "cell_type": "markdown",
   "id": "f59b0b7c",
   "metadata": {},
   "source": [
    "## Creating Normalized / Scaled Revenue and Asset Price -  from 0 to 1"
   ]
  },
  {
   "cell_type": "code",
   "execution_count": 32,
   "id": "454ac35e",
   "metadata": {},
   "outputs": [],
   "source": [
    "from sklearn import preprocessing"
   ]
  },
  {
   "cell_type": "markdown",
   "id": "d00763b1",
   "metadata": {},
   "source": [
    "### Scaling Revenue"
   ]
  },
  {
   "cell_type": "code",
   "execution_count": 33,
   "id": "c5232d91",
   "metadata": {},
   "outputs": [],
   "source": [
    "scalerRev = preprocessing.MinMaxScaler().fit(revenue.iloc[:,1:])"
   ]
  },
  {
   "cell_type": "code",
   "execution_count": 34,
   "id": "4777a22f",
   "metadata": {},
   "outputs": [],
   "source": [
    "scaled_revenue_vals = scalerRev.transform(revenue.iloc[:,1:])"
   ]
  },
  {
   "cell_type": "code",
   "execution_count": 35,
   "id": "2f28a921",
   "metadata": {},
   "outputs": [
    {
     "data": {
      "text/html": [
       "<div>\n",
       "<style scoped>\n",
       "    .dataframe tbody tr th:only-of-type {\n",
       "        vertical-align: middle;\n",
       "    }\n",
       "\n",
       "    .dataframe tbody tr th {\n",
       "        vertical-align: top;\n",
       "    }\n",
       "\n",
       "    .dataframe thead th {\n",
       "        text-align: right;\n",
       "    }\n",
       "</style>\n",
       "<table border=\"1\" class=\"dataframe\">\n",
       "  <thead>\n",
       "    <tr style=\"text-align: right;\">\n",
       "      <th></th>\n",
       "      <th>Date</th>\n",
       "      <th>Oil</th>\n",
       "      <th>Gas</th>\n",
       "      <th>monthly_oil_price</th>\n",
       "      <th>monthly_gas_price</th>\n",
       "      <th>Revenue Oil</th>\n",
       "      <th>Revenue Gas</th>\n",
       "      <th>Total Revenue</th>\n",
       "      <th>$M Total Revenue</th>\n",
       "    </tr>\n",
       "  </thead>\n",
       "  <tbody>\n",
       "    <tr>\n",
       "      <th>0</th>\n",
       "      <td>1997-01-01</td>\n",
       "      <td>0.722649</td>\n",
       "      <td>0.845847</td>\n",
       "      <td>0.112462</td>\n",
       "      <td>0.154368</td>\n",
       "      <td>0.233823</td>\n",
       "      <td>0.259824</td>\n",
       "      <td>0.244986</td>\n",
       "      <td>0.244840</td>\n",
       "    </tr>\n",
       "    <tr>\n",
       "      <th>1</th>\n",
       "      <td>1997-02-01</td>\n",
       "      <td>0.634258</td>\n",
       "      <td>0.790250</td>\n",
       "      <td>0.088387</td>\n",
       "      <td>0.044105</td>\n",
       "      <td>0.155704</td>\n",
       "      <td>0.109146</td>\n",
       "      <td>0.126395</td>\n",
       "      <td>0.126265</td>\n",
       "    </tr>\n",
       "    <tr>\n",
       "      <th>2</th>\n",
       "      <td>1997-03-01</td>\n",
       "      <td>0.766005</td>\n",
       "      <td>0.955581</td>\n",
       "      <td>0.078511</td>\n",
       "      <td>0.022053</td>\n",
       "      <td>0.175108</td>\n",
       "      <td>0.102684</td>\n",
       "      <td>0.136374</td>\n",
       "      <td>0.136382</td>\n",
       "    </tr>\n",
       "    <tr>\n",
       "      <th>3</th>\n",
       "      <td>1997-04-01</td>\n",
       "      <td>0.746367</td>\n",
       "      <td>0.885075</td>\n",
       "      <td>0.068147</td>\n",
       "      <td>0.033927</td>\n",
       "      <td>0.147108</td>\n",
       "      <td>0.109421</td>\n",
       "      <td>0.120825</td>\n",
       "      <td>0.120599</td>\n",
       "    </tr>\n",
       "    <tr>\n",
       "      <th>4</th>\n",
       "      <td>1997-05-01</td>\n",
       "      <td>0.849791</td>\n",
       "      <td>0.962665</td>\n",
       "      <td>0.077287</td>\n",
       "      <td>0.052587</td>\n",
       "      <td>0.196868</td>\n",
       "      <td>0.145918</td>\n",
       "      <td>0.169968</td>\n",
       "      <td>0.169972</td>\n",
       "    </tr>\n",
       "    <tr>\n",
       "      <th>...</th>\n",
       "      <td>...</td>\n",
       "      <td>...</td>\n",
       "      <td>...</td>\n",
       "      <td>...</td>\n",
       "      <td>...</td>\n",
       "      <td>...</td>\n",
       "      <td>...</td>\n",
       "      <td>...</td>\n",
       "      <td>...</td>\n",
       "    </tr>\n",
       "    <tr>\n",
       "      <th>293</th>\n",
       "      <td>2021-06-01</td>\n",
       "      <td>0.370574</td>\n",
       "      <td>0.455358</td>\n",
       "      <td>0.489921</td>\n",
       "      <td>0.138253</td>\n",
       "      <td>0.676233</td>\n",
       "      <td>0.153081</td>\n",
       "      <td>0.490545</td>\n",
       "      <td>0.490490</td>\n",
       "    </tr>\n",
       "    <tr>\n",
       "      <th>294</th>\n",
       "      <td>2021-07-01</td>\n",
       "      <td>0.460191</td>\n",
       "      <td>0.574615</td>\n",
       "      <td>0.498980</td>\n",
       "      <td>0.187447</td>\n",
       "      <td>0.780795</td>\n",
       "      <td>0.232327</td>\n",
       "      <td>0.594945</td>\n",
       "      <td>0.594901</td>\n",
       "    </tr>\n",
       "    <tr>\n",
       "      <th>295</th>\n",
       "      <td>2021-08-01</td>\n",
       "      <td>0.395771</td>\n",
       "      <td>0.602855</td>\n",
       "      <td>0.460132</td>\n",
       "      <td>0.206955</td>\n",
       "      <td>0.655440</td>\n",
       "      <td>0.261105</td>\n",
       "      <td>0.524716</td>\n",
       "      <td>0.524484</td>\n",
       "    </tr>\n",
       "    <tr>\n",
       "      <th>296</th>\n",
       "      <td>2021-09-01</td>\n",
       "      <td>0.382332</td>\n",
       "      <td>0.536233</td>\n",
       "      <td>0.492124</td>\n",
       "      <td>0.299406</td>\n",
       "      <td>0.691337</td>\n",
       "      <td>0.339611</td>\n",
       "      <td>0.583323</td>\n",
       "      <td>0.583165</td>\n",
       "    </tr>\n",
       "    <tr>\n",
       "      <th>297</th>\n",
       "      <td>2021-10-01</td>\n",
       "      <td>0.375571</td>\n",
       "      <td>0.433550</td>\n",
       "      <td>0.572350</td>\n",
       "      <td>0.329092</td>\n",
       "      <td>0.805605</td>\n",
       "      <td>0.332516</td>\n",
       "      <td>0.655834</td>\n",
       "      <td>0.655605</td>\n",
       "    </tr>\n",
       "  </tbody>\n",
       "</table>\n",
       "<p>298 rows × 9 columns</p>\n",
       "</div>"
      ],
      "text/plain": [
       "          Date       Oil       Gas  monthly_oil_price  monthly_gas_price  \\\n",
       "0   1997-01-01  0.722649  0.845847           0.112462           0.154368   \n",
       "1   1997-02-01  0.634258  0.790250           0.088387           0.044105   \n",
       "2   1997-03-01  0.766005  0.955581           0.078511           0.022053   \n",
       "3   1997-04-01  0.746367  0.885075           0.068147           0.033927   \n",
       "4   1997-05-01  0.849791  0.962665           0.077287           0.052587   \n",
       "..         ...       ...       ...                ...                ...   \n",
       "293 2021-06-01  0.370574  0.455358           0.489921           0.138253   \n",
       "294 2021-07-01  0.460191  0.574615           0.498980           0.187447   \n",
       "295 2021-08-01  0.395771  0.602855           0.460132           0.206955   \n",
       "296 2021-09-01  0.382332  0.536233           0.492124           0.299406   \n",
       "297 2021-10-01  0.375571  0.433550           0.572350           0.329092   \n",
       "\n",
       "     Revenue Oil  Revenue Gas  Total Revenue  $M Total Revenue  \n",
       "0       0.233823     0.259824       0.244986          0.244840  \n",
       "1       0.155704     0.109146       0.126395          0.126265  \n",
       "2       0.175108     0.102684       0.136374          0.136382  \n",
       "3       0.147108     0.109421       0.120825          0.120599  \n",
       "4       0.196868     0.145918       0.169968          0.169972  \n",
       "..           ...          ...            ...               ...  \n",
       "293     0.676233     0.153081       0.490545          0.490490  \n",
       "294     0.780795     0.232327       0.594945          0.594901  \n",
       "295     0.655440     0.261105       0.524716          0.524484  \n",
       "296     0.691337     0.339611       0.583323          0.583165  \n",
       "297     0.805605     0.332516       0.655834          0.655605  \n",
       "\n",
       "[298 rows x 9 columns]"
      ]
     },
     "execution_count": 35,
     "metadata": {},
     "output_type": "execute_result"
    }
   ],
   "source": [
    "scaled_Revenue = pd.DataFrame(scaled_revenue_vals)\n",
    "scaled_Revenue.insert(0, 'Date', revenue['Date'])\n",
    "scaled_Revenue.columns = revenue.columns\n",
    "scaled_Revenue"
   ]
  },
  {
   "cell_type": "code",
   "execution_count": 36,
   "id": "cec977b7",
   "metadata": {},
   "outputs": [],
   "source": [
    "for column in scaled_Revenue.columns[1:]:\n",
    "    scaled_Revenue.rename(columns = {column: f'scaled_{column}'}, inplace=True)"
   ]
  },
  {
   "cell_type": "code",
   "execution_count": 37,
   "id": "0c08dcdc",
   "metadata": {},
   "outputs": [
    {
     "data": {
      "text/html": [
       "<div>\n",
       "<style scoped>\n",
       "    .dataframe tbody tr th:only-of-type {\n",
       "        vertical-align: middle;\n",
       "    }\n",
       "\n",
       "    .dataframe tbody tr th {\n",
       "        vertical-align: top;\n",
       "    }\n",
       "\n",
       "    .dataframe thead th {\n",
       "        text-align: right;\n",
       "    }\n",
       "</style>\n",
       "<table border=\"1\" class=\"dataframe\">\n",
       "  <thead>\n",
       "    <tr style=\"text-align: right;\">\n",
       "      <th></th>\n",
       "      <th>Date</th>\n",
       "      <th>scaled_Oil</th>\n",
       "      <th>scaled_Gas</th>\n",
       "      <th>scaled_monthly_oil_price</th>\n",
       "      <th>scaled_monthly_gas_price</th>\n",
       "      <th>scaled_Revenue Oil</th>\n",
       "      <th>scaled_Revenue Gas</th>\n",
       "      <th>scaled_Total Revenue</th>\n",
       "      <th>scaled_$M Total Revenue</th>\n",
       "    </tr>\n",
       "  </thead>\n",
       "  <tbody>\n",
       "    <tr>\n",
       "      <th>0</th>\n",
       "      <td>1997-01-01</td>\n",
       "      <td>0.722649</td>\n",
       "      <td>0.845847</td>\n",
       "      <td>0.112462</td>\n",
       "      <td>0.154368</td>\n",
       "      <td>0.233823</td>\n",
       "      <td>0.259824</td>\n",
       "      <td>0.244986</td>\n",
       "      <td>0.244840</td>\n",
       "    </tr>\n",
       "    <tr>\n",
       "      <th>1</th>\n",
       "      <td>1997-02-01</td>\n",
       "      <td>0.634258</td>\n",
       "      <td>0.790250</td>\n",
       "      <td>0.088387</td>\n",
       "      <td>0.044105</td>\n",
       "      <td>0.155704</td>\n",
       "      <td>0.109146</td>\n",
       "      <td>0.126395</td>\n",
       "      <td>0.126265</td>\n",
       "    </tr>\n",
       "  </tbody>\n",
       "</table>\n",
       "</div>"
      ],
      "text/plain": [
       "        Date  scaled_Oil  scaled_Gas  scaled_monthly_oil_price  \\\n",
       "0 1997-01-01    0.722649    0.845847                  0.112462   \n",
       "1 1997-02-01    0.634258    0.790250                  0.088387   \n",
       "\n",
       "   scaled_monthly_gas_price  scaled_Revenue Oil  scaled_Revenue Gas  \\\n",
       "0                  0.154368            0.233823            0.259824   \n",
       "1                  0.044105            0.155704            0.109146   \n",
       "\n",
       "   scaled_Total Revenue  scaled_$M Total Revenue  \n",
       "0              0.244986                 0.244840  \n",
       "1              0.126395                 0.126265  "
      ]
     },
     "execution_count": 37,
     "metadata": {},
     "output_type": "execute_result"
    }
   ],
   "source": [
    "scaled_Revenue.head(2)\n",
    "scaled_Revenue.to_csv(f'{presentation_data_folder}/scaled_transforms/scaled_revenue_and_commodity.csv', index = False)"
   ]
  },
  {
   "cell_type": "markdown",
   "id": "0b70775a",
   "metadata": {},
   "source": [
    "### Scaling Asset Price"
   ]
  },
  {
   "cell_type": "code",
   "execution_count": 38,
   "id": "08578146",
   "metadata": {},
   "outputs": [
    {
     "data": {
      "text/html": [
       "<div>\n",
       "<style scoped>\n",
       "    .dataframe tbody tr th:only-of-type {\n",
       "        vertical-align: middle;\n",
       "    }\n",
       "\n",
       "    .dataframe tbody tr th {\n",
       "        vertical-align: top;\n",
       "    }\n",
       "\n",
       "    .dataframe thead th {\n",
       "        text-align: right;\n",
       "    }\n",
       "</style>\n",
       "<table border=\"1\" class=\"dataframe\">\n",
       "  <thead>\n",
       "    <tr style=\"text-align: right;\">\n",
       "      <th></th>\n",
       "      <th>Date</th>\n",
       "      <th>Close</th>\n",
       "    </tr>\n",
       "  </thead>\n",
       "  <tbody>\n",
       "    <tr>\n",
       "      <th>0</th>\n",
       "      <td>1996-01-02</td>\n",
       "      <td>0.036942</td>\n",
       "    </tr>\n",
       "    <tr>\n",
       "      <th>1</th>\n",
       "      <td>1996-01-03</td>\n",
       "      <td>0.046819</td>\n",
       "    </tr>\n",
       "  </tbody>\n",
       "</table>\n",
       "</div>"
      ],
      "text/plain": [
       "        Date     Close\n",
       "0 1996-01-02  0.036942\n",
       "1 1996-01-03  0.046819"
      ]
     },
     "execution_count": 38,
     "metadata": {},
     "output_type": "execute_result"
    }
   ],
   "source": [
    "scalerRev = preprocessing.MinMaxScaler().fit(historical_close.iloc[:,1:])\n",
    "\n",
    "scaled_historical_close_vals = scalerRev.transform(historical_close.iloc[:,1:])\n",
    "\n",
    "scaled_historical_close = pd.DataFrame(scaled_historical_close_vals)\n",
    "scaled_historical_close.insert(0, 'Date', historical_close['Date'])\n",
    "scaled_historical_close.columns = historical_close.columns\n",
    "scaled_historical_close.head(2)"
   ]
  },
  {
   "cell_type": "markdown",
   "id": "34c76a47",
   "metadata": {},
   "source": [
    "#### Rename cols to Scaled 'x'"
   ]
  },
  {
   "cell_type": "code",
   "execution_count": 39,
   "id": "53ce9ae6",
   "metadata": {},
   "outputs": [],
   "source": [
    "for column in scaled_historical_close.columns[1:]:\n",
    "    scaled_historical_close.rename(columns = {column: f'scaled_{column}'}, inplace=True)"
   ]
  },
  {
   "cell_type": "code",
   "execution_count": 40,
   "id": "1fb51719",
   "metadata": {},
   "outputs": [
    {
     "data": {
      "text/html": [
       "<div>\n",
       "<style scoped>\n",
       "    .dataframe tbody tr th:only-of-type {\n",
       "        vertical-align: middle;\n",
       "    }\n",
       "\n",
       "    .dataframe tbody tr th {\n",
       "        vertical-align: top;\n",
       "    }\n",
       "\n",
       "    .dataframe thead th {\n",
       "        text-align: right;\n",
       "    }\n",
       "</style>\n",
       "<table border=\"1\" class=\"dataframe\">\n",
       "  <thead>\n",
       "    <tr style=\"text-align: right;\">\n",
       "      <th></th>\n",
       "      <th>Date</th>\n",
       "      <th>scaled_Close</th>\n",
       "    </tr>\n",
       "  </thead>\n",
       "  <tbody>\n",
       "    <tr>\n",
       "      <th>0</th>\n",
       "      <td>1996-01-02</td>\n",
       "      <td>0.036942</td>\n",
       "    </tr>\n",
       "    <tr>\n",
       "      <th>1</th>\n",
       "      <td>1996-01-03</td>\n",
       "      <td>0.046819</td>\n",
       "    </tr>\n",
       "  </tbody>\n",
       "</table>\n",
       "</div>"
      ],
      "text/plain": [
       "        Date  scaled_Close\n",
       "0 1996-01-02      0.036942\n",
       "1 1996-01-03      0.046819"
      ]
     },
     "execution_count": 40,
     "metadata": {},
     "output_type": "execute_result"
    }
   ],
   "source": [
    "scaled_historical_close.head(2)\n",
    "scaled_historical_close.to_csv(f'{presentation_data_folder}/scaled_transforms/scaled_asset_price.csv', index = False)"
   ]
  },
  {
   "cell_type": "code",
   "execution_count": 41,
   "id": "aa60f14d",
   "metadata": {},
   "outputs": [],
   "source": [
    "import seaborn as sns\n",
    "import matplotlib.pyplot as plt"
   ]
  },
  {
   "cell_type": "code",
   "execution_count": 53,
   "id": "99949b6b",
   "metadata": {},
   "outputs": [
    {
     "data": {
      "text/plain": [
       "<Figure size 1080x504 with 0 Axes>"
      ]
     },
     "execution_count": 53,
     "metadata": {},
     "output_type": "execute_result"
    },
    {
     "data": {
      "text/plain": [
       "Text(0.5, 1.0, 'Revenue ($M) vs Year')"
      ]
     },
     "execution_count": 53,
     "metadata": {},
     "output_type": "execute_result"
    },
    {
     "name": "stderr",
     "output_type": "stream",
     "text": [
      "/Users/Mishaun_Bhakta/opt/anaconda3/lib/python3.9/site-packages/seaborn/_decorators.py:36: FutureWarning: Pass the following variables as keyword args: x, y. From version 0.12, the only valid positional argument will be `data`, and passing other arguments without an explicit keyword will result in an error or misinterpretation.\n",
      "  warnings.warn(\n"
     ]
    },
    {
     "data": {
      "text/plain": [
       "<AxesSubplot:title={'center':'Revenue ($M) vs Year'}, xlabel='Date', ylabel='$M Total Revenue'>"
      ]
     },
     "execution_count": 53,
     "metadata": {},
     "output_type": "execute_result"
    },
    {
     "name": "stderr",
     "output_type": "stream",
     "text": [
      "/Users/Mishaun_Bhakta/opt/anaconda3/lib/python3.9/site-packages/seaborn/_decorators.py:36: FutureWarning: Pass the following variables as keyword args: x, y. From version 0.12, the only valid positional argument will be `data`, and passing other arguments without an explicit keyword will result in an error or misinterpretation.\n",
      "  warnings.warn(\n"
     ]
    },
    {
     "data": {
      "text/plain": [
       "<AxesSubplot:title={'center':'Revenue ($M) vs Year'}, xlabel='Date', ylabel='$M Total Revenue'>"
      ]
     },
     "execution_count": 53,
     "metadata": {},
     "output_type": "execute_result"
    },
    {
     "data": {
      "image/png": "[encoded data removed]",
      "text/plain": [
       "<Figure size 1080x504 with 1 Axes>"
      ]
     },
     "metadata": {
      "needs_background": "light"
     },
     "output_type": "display_data"
    }
   ],
   "source": [
    "plt.figure(figsize=(15,7))\n",
    "\n",
    "plt.title('Revenue ($M) vs Year', fontdict={\"fontsize\": 20})\n",
    "sns.scatterplot(revenue['Date'], revenue['$M Total Revenue'], palette='rainbow')\n",
    "sns.scatterplot(historical_close[\"Date\"], historical_close['Close'])"
   ]
  }
 ],
 "metadata": {
  "kernelspec": {
   "display_name": "Python 3 (ipykernel)",
   "language": "python",
   "name": "python3"
  },
  "language_info": {
   "codemirror_mode": {
    "name": "ipython",
    "version": 3
   },
   "file_extension": ".py",
   "mimetype": "text/x-python",
   "name": "python",
   "nbconvert_exporter": "python",
   "pygments_lexer": "ipython3",
   "version": "3.9.7"
  }
 },
 "nbformat": 4,
 "nbformat_minor": 5
}
