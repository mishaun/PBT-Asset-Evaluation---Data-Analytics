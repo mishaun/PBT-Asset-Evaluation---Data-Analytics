{
 "cells": [
  {
   "cell_type": "markdown",
   "id": "0da25692",
   "metadata": {},
   "source": [
    "# Import Libraries"
   ]
  },
  {
   "cell_type": "code",
   "execution_count": 1,
   "id": "5ca391ac",
   "metadata": {},
   "outputs": [],
   "source": [
    "import pandas as pd\n",
    "import requests\n",
    "\n",
    "import yfinance as yf\n",
    "from pandas_datareader import data as pdr"
   ]
  },
  {
   "cell_type": "code",
   "execution_count": 2,
   "id": "8d93358a",
   "metadata": {},
   "outputs": [],
   "source": [
    "import datetime as dt"
   ]
  },
  {
   "cell_type": "code",
   "execution_count": 53,
   "id": "5c7fc690",
   "metadata": {},
   "outputs": [],
   "source": [
    "pd.options.display.max_columns=1000\n",
    "\n",
    "from IPython.core.interactiveshell import InteractiveShell\n",
    "InteractiveShell.ast_node_interactivity = \"all\""
   ]
  },
  {
   "cell_type": "markdown",
   "id": "efad98aa",
   "metadata": {},
   "source": [
    "# Folder Paths"
   ]
  },
  {
   "cell_type": "code",
   "execution_count": 54,
   "id": "e8621e54",
   "metadata": {},
   "outputs": [],
   "source": [
    "raw_data_folder = \"Data/raw\"\n",
    "presentation_data_folder = \"Data/presentation\""
   ]
  },
  {
   "cell_type": "markdown",
   "id": "b9f9b80f",
   "metadata": {},
   "source": [
    "<hr>"
   ]
  },
  {
   "cell_type": "markdown",
   "id": "2755468f",
   "metadata": {},
   "source": [
    "# Ingest & Transform Data "
   ]
  },
  {
   "cell_type": "markdown",
   "id": "37744d8b",
   "metadata": {},
   "source": [
    "## PBT Historical Asset Price"
   ]
  },
  {
   "cell_type": "markdown",
   "id": "9e0bbe2d",
   "metadata": {},
   "source": [
    "### Ingest from Yahoo Finance API"
   ]
  },
  {
   "cell_type": "markdown",
   "id": "253c4fe2",
   "metadata": {},
   "source": [
    "#### Get Current Date"
   ]
  },
  {
   "cell_type": "code",
   "execution_count": 55,
   "id": "2262fd8b",
   "metadata": {},
   "outputs": [
    {
     "data": {
      "text/plain": [
       "'2022-01-05'"
      ]
     },
     "execution_count": 55,
     "metadata": {},
     "output_type": "execute_result"
    }
   ],
   "source": [
    "present_date = dt.datetime.strftime(dt.datetime.now(), '%Y-%m-%d')\n",
    "present_date"
   ]
  },
  {
   "cell_type": "code",
   "execution_count": 56,
   "id": "6d31ff0a",
   "metadata": {},
   "outputs": [
    {
     "name": "stdout",
     "output_type": "stream",
     "text": [
      "[*********************100%***********************]  1 of 1 completed\n"
     ]
    }
   ],
   "source": [
    "yf.pdr_override()\n",
    "\n",
    "# download dataframe\n",
    "data = pdr.get_data_yahoo(\"PBT\", start=\"2000-01-01\", end=present_date)\n"
   ]
  },
  {
   "cell_type": "markdown",
   "id": "bbd1d2f0",
   "metadata": {},
   "source": [
    "### Transform - Select Columns"
   ]
  },
  {
   "cell_type": "code",
   "execution_count": 57,
   "id": "f86ac216",
   "metadata": {},
   "outputs": [
    {
     "data": {
      "text/html": [
       "<div>\n",
       "<style scoped>\n",
       "    .dataframe tbody tr th:only-of-type {\n",
       "        vertical-align: middle;\n",
       "    }\n",
       "\n",
       "    .dataframe tbody tr th {\n",
       "        vertical-align: top;\n",
       "    }\n",
       "\n",
       "    .dataframe thead th {\n",
       "        text-align: right;\n",
       "    }\n",
       "</style>\n",
       "<table border=\"1\" class=\"dataframe\">\n",
       "  <thead>\n",
       "    <tr style=\"text-align: right;\">\n",
       "      <th></th>\n",
       "      <th>Date</th>\n",
       "      <th>Close</th>\n",
       "    </tr>\n",
       "  </thead>\n",
       "  <tbody>\n",
       "    <tr>\n",
       "      <th>0</th>\n",
       "      <td>2000-01-03</td>\n",
       "      <td>5.5000</td>\n",
       "    </tr>\n",
       "    <tr>\n",
       "      <th>1</th>\n",
       "      <td>2000-01-04</td>\n",
       "      <td>5.3750</td>\n",
       "    </tr>\n",
       "    <tr>\n",
       "      <th>2</th>\n",
       "      <td>2000-01-05</td>\n",
       "      <td>5.4375</td>\n",
       "    </tr>\n",
       "    <tr>\n",
       "      <th>3</th>\n",
       "      <td>2000-01-06</td>\n",
       "      <td>5.3750</td>\n",
       "    </tr>\n",
       "    <tr>\n",
       "      <th>4</th>\n",
       "      <td>2000-01-07</td>\n",
       "      <td>5.3750</td>\n",
       "    </tr>\n",
       "  </tbody>\n",
       "</table>\n",
       "</div>"
      ],
      "text/plain": [
       "        Date   Close\n",
       "0 2000-01-03  5.5000\n",
       "1 2000-01-04  5.3750\n",
       "2 2000-01-05  5.4375\n",
       "3 2000-01-06  5.3750\n",
       "4 2000-01-07  5.3750"
      ]
     },
     "execution_count": 57,
     "metadata": {},
     "output_type": "execute_result"
    }
   ],
   "source": [
    "#resetting index to make date a column and only taking closing price and date\n",
    "historical_close = data.reset_index()[['Date', 'Close']]\n",
    "historical_close.head()\n",
    "historical_close.to_csv(f\"{presentation_data_folder}/pbt_asset_price/pbt asset price.csv\", index = False)"
   ]
  },
  {
   "cell_type": "markdown",
   "id": "0a508807",
   "metadata": {},
   "source": [
    "<hr>"
   ]
  },
  {
   "cell_type": "markdown",
   "id": "fa8bb52f",
   "metadata": {},
   "source": [
    "\n",
    "## Oil Price by Month - Excel Download\n",
    "* Source URL: https://www.eia.gov/dnav/pet/hist/LeafHandler.ashx?n=PET&s=RWTC&f=M"
   ]
  },
  {
   "cell_type": "markdown",
   "id": "692ea0d5",
   "metadata": {},
   "source": [
    "### Ingest from Excel File Download"
   ]
  },
  {
   "cell_type": "code",
   "execution_count": 58,
   "id": "bd593965",
   "metadata": {},
   "outputs": [],
   "source": [
    "oilPricebyMonth = pd.read_csv(f\"{raw_data_folder}/oil_prices/Cushing_OK_WTI_Spot_Price_FOB.csv\", header = 4)"
   ]
  },
  {
   "cell_type": "markdown",
   "id": "33631f66",
   "metadata": {},
   "source": [
    "### Transform - Rename columns and Format Date Field"
   ]
  },
  {
   "cell_type": "code",
   "execution_count": 59,
   "id": "10416cb5",
   "metadata": {},
   "outputs": [
    {
     "data": {
      "text/html": [
       "<div>\n",
       "<style scoped>\n",
       "    .dataframe tbody tr th:only-of-type {\n",
       "        vertical-align: middle;\n",
       "    }\n",
       "\n",
       "    .dataframe tbody tr th {\n",
       "        vertical-align: top;\n",
       "    }\n",
       "\n",
       "    .dataframe thead th {\n",
       "        text-align: right;\n",
       "    }\n",
       "</style>\n",
       "<table border=\"1\" class=\"dataframe\">\n",
       "  <thead>\n",
       "    <tr style=\"text-align: right;\">\n",
       "      <th></th>\n",
       "      <th>Month</th>\n",
       "      <th>monthly_oil_price</th>\n",
       "    </tr>\n",
       "  </thead>\n",
       "  <tbody>\n",
       "    <tr>\n",
       "      <th>0</th>\n",
       "      <td>Nov 2021</td>\n",
       "      <td>79.15</td>\n",
       "    </tr>\n",
       "    <tr>\n",
       "      <th>1</th>\n",
       "      <td>Oct 2021</td>\n",
       "      <td>81.48</td>\n",
       "    </tr>\n",
       "    <tr>\n",
       "      <th>2</th>\n",
       "      <td>Sep 2021</td>\n",
       "      <td>71.65</td>\n",
       "    </tr>\n",
       "    <tr>\n",
       "      <th>3</th>\n",
       "      <td>Aug 2021</td>\n",
       "      <td>67.73</td>\n",
       "    </tr>\n",
       "    <tr>\n",
       "      <th>4</th>\n",
       "      <td>Jul 2021</td>\n",
       "      <td>72.49</td>\n",
       "    </tr>\n",
       "  </tbody>\n",
       "</table>\n",
       "</div>"
      ],
      "text/plain": [
       "      Month  monthly_oil_price\n",
       "0  Nov 2021              79.15\n",
       "1  Oct 2021              81.48\n",
       "2  Sep 2021              71.65\n",
       "3  Aug 2021              67.73\n",
       "4  Jul 2021              72.49"
      ]
     },
     "execution_count": 59,
     "metadata": {},
     "output_type": "execute_result"
    }
   ],
   "source": [
    "oilPricebyMonth.rename(columns = {oilPricebyMonth.columns[-1]: 'monthly_oil_price'}, inplace=True)\n",
    "\n",
    "oilPricebyMonth.head()\n"
   ]
  },
  {
   "cell_type": "code",
   "execution_count": 60,
   "id": "7d3dda65",
   "metadata": {},
   "outputs": [
    {
     "data": {
      "text/plain": [
       "datetime.datetime(2021, 11, 1, 0, 0)"
      ]
     },
     "execution_count": 60,
     "metadata": {},
     "output_type": "execute_result"
    },
    {
     "data": {
      "text/html": [
       "<div>\n",
       "<style scoped>\n",
       "    .dataframe tbody tr th:only-of-type {\n",
       "        vertical-align: middle;\n",
       "    }\n",
       "\n",
       "    .dataframe tbody tr th {\n",
       "        vertical-align: top;\n",
       "    }\n",
       "\n",
       "    .dataframe thead th {\n",
       "        text-align: right;\n",
       "    }\n",
       "</style>\n",
       "<table border=\"1\" class=\"dataframe\">\n",
       "  <thead>\n",
       "    <tr style=\"text-align: right;\">\n",
       "      <th></th>\n",
       "      <th>Month</th>\n",
       "      <th>monthly_oil_price</th>\n",
       "      <th>Adj Oil Price 1E-1</th>\n",
       "    </tr>\n",
       "  </thead>\n",
       "  <tbody>\n",
       "    <tr>\n",
       "      <th>0</th>\n",
       "      <td>2021-11-01</td>\n",
       "      <td>79.15</td>\n",
       "      <td>7.915</td>\n",
       "    </tr>\n",
       "    <tr>\n",
       "      <th>1</th>\n",
       "      <td>2021-10-01</td>\n",
       "      <td>81.48</td>\n",
       "      <td>8.148</td>\n",
       "    </tr>\n",
       "    <tr>\n",
       "      <th>2</th>\n",
       "      <td>2021-09-01</td>\n",
       "      <td>71.65</td>\n",
       "      <td>7.165</td>\n",
       "    </tr>\n",
       "    <tr>\n",
       "      <th>3</th>\n",
       "      <td>2021-08-01</td>\n",
       "      <td>67.73</td>\n",
       "      <td>6.773</td>\n",
       "    </tr>\n",
       "    <tr>\n",
       "      <th>4</th>\n",
       "      <td>2021-07-01</td>\n",
       "      <td>72.49</td>\n",
       "      <td>7.249</td>\n",
       "    </tr>\n",
       "  </tbody>\n",
       "</table>\n",
       "</div>"
      ],
      "text/plain": [
       "       Month  monthly_oil_price  Adj Oil Price 1E-1\n",
       "0 2021-11-01              79.15               7.915\n",
       "1 2021-10-01              81.48               8.148\n",
       "2 2021-09-01              71.65               7.165\n",
       "3 2021-08-01              67.73               6.773\n",
       "4 2021-07-01              72.49               7.249"
      ]
     },
     "execution_count": 60,
     "metadata": {},
     "output_type": "execute_result"
    }
   ],
   "source": [
    "testDate = oilPricebyMonth.iloc[0]['Month']\n",
    "dt.datetime.strptime(testDate, '%b %Y')\n",
    "\n",
    "oilPricebyMonth[\"Month\"] = oilPricebyMonth['Month'].apply(lambda x: dt.datetime.strptime(x, '%b %Y'))\n",
    "\n",
    "oilPricebyMonth[\"Adj Oil Price 1E-1\"] = oilPricebyMonth['monthly_oil_price'] / 10\n",
    "oilPricebyMonth.head()"
   ]
  },
  {
   "cell_type": "code",
   "execution_count": 61,
   "id": "21e79da6",
   "metadata": {},
   "outputs": [],
   "source": [
    "oilPricebyMonth.to_csv(f\"{presentation_data_folder}/oil_prices/oil price by month.csv\", index = False)"
   ]
  },
  {
   "cell_type": "markdown",
   "id": "99b08bff",
   "metadata": {},
   "source": [
    "## Gas Price by Month - Excel Download\n",
    "* Source Url: https://www.eia.gov/dnav/ng/hist/rngwhhdm.htm"
   ]
  },
  {
   "cell_type": "markdown",
   "id": "e2e42dfa",
   "metadata": {},
   "source": [
    "### Ingest from Excel File Download"
   ]
  },
  {
   "cell_type": "code",
   "execution_count": 62,
   "id": "5b88312e",
   "metadata": {},
   "outputs": [],
   "source": [
    "gasPricebyMonth = pd.read_excel(f\"{raw_data_folder}/gas_prices/RNGWHHDm.xls\", sheet_name= 'Data 1', header = 2)"
   ]
  },
  {
   "cell_type": "markdown",
   "id": "190a3f59",
   "metadata": {},
   "source": [
    "### Transform - Rename columns"
   ]
  },
  {
   "cell_type": "code",
   "execution_count": 63,
   "id": "79ae60da",
   "metadata": {},
   "outputs": [
    {
     "data": {
      "text/html": [
       "<div>\n",
       "<style scoped>\n",
       "    .dataframe tbody tr th:only-of-type {\n",
       "        vertical-align: middle;\n",
       "    }\n",
       "\n",
       "    .dataframe tbody tr th {\n",
       "        vertical-align: top;\n",
       "    }\n",
       "\n",
       "    .dataframe thead th {\n",
       "        text-align: right;\n",
       "    }\n",
       "</style>\n",
       "<table border=\"1\" class=\"dataframe\">\n",
       "  <thead>\n",
       "    <tr style=\"text-align: right;\">\n",
       "      <th></th>\n",
       "      <th>Date</th>\n",
       "      <th>monthly_gas_price</th>\n",
       "    </tr>\n",
       "  </thead>\n",
       "  <tbody>\n",
       "    <tr>\n",
       "      <th>0</th>\n",
       "      <td>1997-01-15</td>\n",
       "      <td>3.45</td>\n",
       "    </tr>\n",
       "    <tr>\n",
       "      <th>1</th>\n",
       "      <td>1997-02-15</td>\n",
       "      <td>2.15</td>\n",
       "    </tr>\n",
       "    <tr>\n",
       "      <th>2</th>\n",
       "      <td>1997-03-15</td>\n",
       "      <td>1.89</td>\n",
       "    </tr>\n",
       "    <tr>\n",
       "      <th>3</th>\n",
       "      <td>1997-04-15</td>\n",
       "      <td>2.03</td>\n",
       "    </tr>\n",
       "    <tr>\n",
       "      <th>4</th>\n",
       "      <td>1997-05-15</td>\n",
       "      <td>2.25</td>\n",
       "    </tr>\n",
       "  </tbody>\n",
       "</table>\n",
       "</div>"
      ],
      "text/plain": [
       "        Date  monthly_gas_price\n",
       "0 1997-01-15               3.45\n",
       "1 1997-02-15               2.15\n",
       "2 1997-03-15               1.89\n",
       "3 1997-04-15               2.03\n",
       "4 1997-05-15               2.25"
      ]
     },
     "execution_count": 63,
     "metadata": {},
     "output_type": "execute_result"
    }
   ],
   "source": [
    "gasPricebyMonth.rename(columns = {gasPricebyMonth.columns[-1]: 'monthly_gas_price'}, inplace=True)\n",
    "\n",
    "gasPricebyMonth.head()\n",
    "gasPricebyMonth.to_csv(f\"{presentation_data_folder}/gas_prices/gas price by month.csv\", index = False)"
   ]
  },
  {
   "cell_type": "markdown",
   "id": "cfe8f0fb",
   "metadata": {},
   "source": [
    "<hr>\n",
    "<br>\n",
    "\n"
   ]
  },
  {
   "cell_type": "markdown",
   "id": "07c81c77",
   "metadata": {},
   "source": [
    "## Historical Field Production"
   ]
  },
  {
   "cell_type": "markdown",
   "id": "f4c8e018",
   "metadata": {},
   "source": [
    "### Ingest historical production"
   ]
  },
  {
   "cell_type": "code",
   "execution_count": 64,
   "id": "4bc865cb",
   "metadata": {},
   "outputs": [],
   "source": [
    "historical_prod = pd.read_csv(f'{raw_data_folder}/historical_production/Historical Production.csv')"
   ]
  },
  {
   "cell_type": "markdown",
   "id": "da77e84c",
   "metadata": {},
   "source": [
    "### Transform - Convert String Timestamp to Date and Adding Fields"
   ]
  },
  {
   "cell_type": "code",
   "execution_count": 65,
   "id": "c5d8b24b",
   "metadata": {},
   "outputs": [],
   "source": [
    "historical_prod['Date'] = pd.to_datetime(historical_prod['Date'])\n",
    "\n",
    "historical_prod['Mbbl/month'] = historical_prod['Oil']/1E3\n",
    "historical_prod['Ten\\'s of Thousand bbl /month (1E-4)'] = historical_prod['Oil']/1E4\n",
    "\n",
    "historical_prod['MMcf/month'] = historical_prod['Gas']/1E3\n",
    "historical_prod['Ten\\'s of Thousand mcf /month (1E-4)'] = historical_prod['Gas']/1E4"
   ]
  },
  {
   "cell_type": "code",
   "execution_count": 66,
   "id": "5dc164d8",
   "metadata": {},
   "outputs": [],
   "source": [
    "historical_prod.to_csv(f'{presentation_data_folder}/historical_production/historical_production.csv', index = False)"
   ]
  },
  {
   "cell_type": "markdown",
   "id": "4b2c560f",
   "metadata": {},
   "source": [
    "<hr>\n",
    "<br>"
   ]
  },
  {
   "cell_type": "markdown",
   "id": "40d34d98",
   "metadata": {},
   "source": [
    "## Wells in Field"
   ]
  },
  {
   "cell_type": "markdown",
   "id": "ddf40d65",
   "metadata": {},
   "source": [
    "### Ingest Wells"
   ]
  },
  {
   "cell_type": "code",
   "execution_count": 67,
   "id": "3dc39ba0",
   "metadata": {},
   "outputs": [],
   "source": [
    "wells = pd.read_csv(f'{raw_data_folder}/wells/Production Table.csv')"
   ]
  },
  {
   "cell_type": "markdown",
   "id": "f6274a4f",
   "metadata": {},
   "source": [
    "### Transform - Add Fields"
   ]
  },
  {
   "cell_type": "code",
   "execution_count": 68,
   "id": "be45a0a4",
   "metadata": {},
   "outputs": [],
   "source": [
    "wells[\"Total MMbbl\"] = wells['Cum Oil']/1E6\n",
    "wells[\"Total BCF\"] = wells['Cum Gas']/1E6"
   ]
  },
  {
   "cell_type": "code",
   "execution_count": 69,
   "id": "90e5e556",
   "metadata": {},
   "outputs": [],
   "source": [
    "wells.to_csv(f'{presentation_data_folder}/wells/wells.csv', index = False)"
   ]
  },
  {
   "cell_type": "markdown",
   "id": "7d9d4731",
   "metadata": {},
   "source": [
    "<hr>\n",
    "<br>"
   ]
  },
  {
   "cell_type": "markdown",
   "id": "ffbea5ea",
   "metadata": {},
   "source": [
    "## Permits"
   ]
  },
  {
   "cell_type": "markdown",
   "id": "0c0d49c5",
   "metadata": {},
   "source": [
    "### Ingest Permits"
   ]
  },
  {
   "cell_type": "code",
   "execution_count": 70,
   "id": "8e087638",
   "metadata": {},
   "outputs": [],
   "source": [
    "permits = pd.read_csv(f'{raw_data_folder}/permits/Permits Table.csv')"
   ]
  },
  {
   "cell_type": "markdown",
   "id": "e25bef5a",
   "metadata": {},
   "source": [
    "### Transform - Group Similar Values in Well Status Field"
   ]
  },
  {
   "cell_type": "code",
   "execution_count": 71,
   "id": "424d38fa",
   "metadata": {},
   "outputs": [],
   "source": [
    "def group_categories(value, similar_categories, target_category):\n",
    "    '''\n",
    "    similar_categories: list of values that wish to be grouped together\n",
    "    target_category: value for similar values to be grouped to\n",
    "    value: value in row of DataFrame\n",
    "    '''\n",
    "    if value in similar_categories:\n",
    "        return target_category\n",
    "    else:\n",
    "        return value"
   ]
  },
  {
   "cell_type": "code",
   "execution_count": 72,
   "id": "e67de854",
   "metadata": {},
   "outputs": [],
   "source": [
    "vals_to_be_grouped = ['DUC', 'COMPLETED', 'INACTIVE', 'DRILLED']"
   ]
  },
  {
   "cell_type": "code",
   "execution_count": 73,
   "id": "018e2ff8",
   "metadata": {},
   "outputs": [],
   "source": [
    "permits['Well Status Grouped'] = permits['Well Status'].apply(lambda x: group_categories(x, vals_to_be_grouped, 'Drilled, Not Producing'))"
   ]
  },
  {
   "cell_type": "code",
   "execution_count": 74,
   "id": "9ebf0257",
   "metadata": {},
   "outputs": [
    {
     "data": {
      "text/plain": [
       "PERMITTED                 77\n",
       "Drilled, Not Producing    68\n",
       "ACTIVE                    34\n",
       "UNKNOWN                   11\n",
       "CANCELLED                  3\n",
       "DRILLING                   2\n",
       "P & A                      1\n",
       "Name: Well Status Grouped, dtype: int64"
      ]
     },
     "execution_count": 74,
     "metadata": {},
     "output_type": "execute_result"
    }
   ],
   "source": [
    "permits['Well Status Grouped'].value_counts()"
   ]
  },
  {
   "cell_type": "code",
   "execution_count": 75,
   "id": "af64680d",
   "metadata": {},
   "outputs": [],
   "source": [
    "permits.to_excel(f'{presentation_data_folder}/permits/permits.xlsx', index = False)"
   ]
  },
  {
   "cell_type": "markdown",
   "id": "8ff8efad",
   "metadata": {},
   "source": [
    "<hr>\n",
    "<br>"
   ]
  },
  {
   "cell_type": "markdown",
   "id": "a9358501",
   "metadata": {},
   "source": [
    "# Combined Tables for Analysis"
   ]
  },
  {
   "cell_type": "markdown",
   "id": "65f3c4e8",
   "metadata": {},
   "source": [
    "## Gross Revenue "
   ]
  },
  {
   "cell_type": "code",
   "execution_count": 88,
   "id": "a960b071",
   "metadata": {},
   "outputs": [
    {
     "data": {
      "text/html": [
       "<div>\n",
       "<style scoped>\n",
       "    .dataframe tbody tr th:only-of-type {\n",
       "        vertical-align: middle;\n",
       "    }\n",
       "\n",
       "    .dataframe tbody tr th {\n",
       "        vertical-align: top;\n",
       "    }\n",
       "\n",
       "    .dataframe thead th {\n",
       "        text-align: right;\n",
       "    }\n",
       "</style>\n",
       "<table border=\"1\" class=\"dataframe\">\n",
       "  <thead>\n",
       "    <tr style=\"text-align: right;\">\n",
       "      <th></th>\n",
       "      <th>Date</th>\n",
       "      <th>Oil</th>\n",
       "      <th>Gas</th>\n",
       "      <th>Water</th>\n",
       "      <th>Well Count</th>\n",
       "      <th>Mbbl/month</th>\n",
       "      <th>Ten's of Thousand bbl /month (1E-4)</th>\n",
       "      <th>MMcf/month</th>\n",
       "      <th>Ten's of Thousand mcf /month (1E-4)</th>\n",
       "      <th>Date Key</th>\n",
       "    </tr>\n",
       "  </thead>\n",
       "  <tbody>\n",
       "    <tr>\n",
       "      <th>0</th>\n",
       "      <td>1941-01-01</td>\n",
       "      <td>4684</td>\n",
       "      <td>0</td>\n",
       "      <td>16736</td>\n",
       "      <td>1</td>\n",
       "      <td>4.684</td>\n",
       "      <td>0.4684</td>\n",
       "      <td>0.0</td>\n",
       "      <td>0.0</td>\n",
       "      <td>1941-01</td>\n",
       "    </tr>\n",
       "  </tbody>\n",
       "</table>\n",
       "</div>"
      ],
      "text/plain": [
       "        Date   Oil  Gas  Water  Well Count  Mbbl/month  \\\n",
       "0 1941-01-01  4684    0  16736           1       4.684   \n",
       "\n",
       "   Ten's of Thousand bbl /month (1E-4)  MMcf/month  \\\n",
       "0                               0.4684         0.0   \n",
       "\n",
       "   Ten's of Thousand mcf /month (1E-4) Date Key  \n",
       "0                                  0.0  1941-01  "
      ]
     },
     "execution_count": 88,
     "metadata": {},
     "output_type": "execute_result"
    },
    {
     "data": {
      "text/html": [
       "<div>\n",
       "<style scoped>\n",
       "    .dataframe tbody tr th:only-of-type {\n",
       "        vertical-align: middle;\n",
       "    }\n",
       "\n",
       "    .dataframe tbody tr th {\n",
       "        vertical-align: top;\n",
       "    }\n",
       "\n",
       "    .dataframe thead th {\n",
       "        text-align: right;\n",
       "    }\n",
       "</style>\n",
       "<table border=\"1\" class=\"dataframe\">\n",
       "  <thead>\n",
       "    <tr style=\"text-align: right;\">\n",
       "      <th></th>\n",
       "      <th>Month</th>\n",
       "      <th>monthly_oil_price</th>\n",
       "      <th>Adj Oil Price 1E-1</th>\n",
       "      <th>Date Key</th>\n",
       "    </tr>\n",
       "  </thead>\n",
       "  <tbody>\n",
       "    <tr>\n",
       "      <th>0</th>\n",
       "      <td>2021-11-01</td>\n",
       "      <td>79.15</td>\n",
       "      <td>7.915</td>\n",
       "      <td>2021-11</td>\n",
       "    </tr>\n",
       "  </tbody>\n",
       "</table>\n",
       "</div>"
      ],
      "text/plain": [
       "       Month  monthly_oil_price  Adj Oil Price 1E-1 Date Key\n",
       "0 2021-11-01              79.15               7.915  2021-11"
      ]
     },
     "execution_count": 88,
     "metadata": {},
     "output_type": "execute_result"
    },
    {
     "data": {
      "text/html": [
       "<div>\n",
       "<style scoped>\n",
       "    .dataframe tbody tr th:only-of-type {\n",
       "        vertical-align: middle;\n",
       "    }\n",
       "\n",
       "    .dataframe tbody tr th {\n",
       "        vertical-align: top;\n",
       "    }\n",
       "\n",
       "    .dataframe thead th {\n",
       "        text-align: right;\n",
       "    }\n",
       "</style>\n",
       "<table border=\"1\" class=\"dataframe\">\n",
       "  <thead>\n",
       "    <tr style=\"text-align: right;\">\n",
       "      <th></th>\n",
       "      <th>Date</th>\n",
       "      <th>monthly_gas_price</th>\n",
       "      <th>Date Key</th>\n",
       "    </tr>\n",
       "  </thead>\n",
       "  <tbody>\n",
       "    <tr>\n",
       "      <th>0</th>\n",
       "      <td>1997-01-15</td>\n",
       "      <td>3.45</td>\n",
       "      <td>1997-01</td>\n",
       "    </tr>\n",
       "  </tbody>\n",
       "</table>\n",
       "</div>"
      ],
      "text/plain": [
       "        Date  monthly_gas_price Date Key\n",
       "0 1997-01-15               3.45  1997-01"
      ]
     },
     "execution_count": 88,
     "metadata": {},
     "output_type": "execute_result"
    }
   ],
   "source": [
    "historical_prod.head(1)\n",
    "oilPricebyMonth.head(1)\n",
    "gasPricebyMonth.head(1)"
   ]
  },
  {
   "cell_type": "markdown",
   "id": "6c9a5e5d",
   "metadata": {},
   "source": [
    "### Transform - Create Field for Joining Tables"
   ]
  },
  {
   "cell_type": "code",
   "execution_count": 85,
   "id": "41f78a8d",
   "metadata": {},
   "outputs": [],
   "source": [
    "#creating field for joining 3 tables since dates resembling each month differ slightly\n",
    "historical_prod['Date Key'] = historical_prod['Date'].apply(lambda x: dt.datetime.strftime(x, '%Y-%m'))\n",
    "gasPricebyMonth['Date Key'] = gasPricebyMonth['Date'].apply(lambda x: dt.datetime.strftime(x, '%Y-%m'))\n",
    "oilPricebyMonth['Date Key'] = oilPricebyMonth['Month'].apply(lambda x: dt.datetime.strftime(x, '%Y-%m'))"
   ]
  },
  {
   "cell_type": "code",
   "execution_count": 89,
   "id": "3d975904",
   "metadata": {},
   "outputs": [
    {
     "data": {
      "text/html": [
       "<div>\n",
       "<style scoped>\n",
       "    .dataframe tbody tr th:only-of-type {\n",
       "        vertical-align: middle;\n",
       "    }\n",
       "\n",
       "    .dataframe tbody tr th {\n",
       "        vertical-align: top;\n",
       "    }\n",
       "\n",
       "    .dataframe thead th {\n",
       "        text-align: right;\n",
       "    }\n",
       "</style>\n",
       "<table border=\"1\" class=\"dataframe\">\n",
       "  <thead>\n",
       "    <tr style=\"text-align: right;\">\n",
       "      <th></th>\n",
       "      <th>Date</th>\n",
       "      <th>Oil</th>\n",
       "      <th>Gas</th>\n",
       "      <th>Water</th>\n",
       "      <th>Well Count</th>\n",
       "      <th>Mbbl/month</th>\n",
       "      <th>Ten's of Thousand bbl /month (1E-4)</th>\n",
       "      <th>MMcf/month</th>\n",
       "      <th>Ten's of Thousand mcf /month (1E-4)</th>\n",
       "      <th>Date Key</th>\n",
       "    </tr>\n",
       "  </thead>\n",
       "  <tbody>\n",
       "    <tr>\n",
       "      <th>0</th>\n",
       "      <td>1941-01-01</td>\n",
       "      <td>4684</td>\n",
       "      <td>0</td>\n",
       "      <td>16736</td>\n",
       "      <td>1</td>\n",
       "      <td>4.684</td>\n",
       "      <td>0.4684</td>\n",
       "      <td>0.0</td>\n",
       "      <td>0.0</td>\n",
       "      <td>1941-01</td>\n",
       "    </tr>\n",
       "    <tr>\n",
       "      <th>1</th>\n",
       "      <td>1941-02-01</td>\n",
       "      <td>5458</td>\n",
       "      <td>0</td>\n",
       "      <td>19502</td>\n",
       "      <td>1</td>\n",
       "      <td>5.458</td>\n",
       "      <td>0.5458</td>\n",
       "      <td>0.0</td>\n",
       "      <td>0.0</td>\n",
       "      <td>1941-02</td>\n",
       "    </tr>\n",
       "  </tbody>\n",
       "</table>\n",
       "</div>"
      ],
      "text/plain": [
       "        Date   Oil  Gas  Water  Well Count  Mbbl/month  \\\n",
       "0 1941-01-01  4684    0  16736           1       4.684   \n",
       "1 1941-02-01  5458    0  19502           1       5.458   \n",
       "\n",
       "   Ten's of Thousand bbl /month (1E-4)  MMcf/month  \\\n",
       "0                               0.4684         0.0   \n",
       "1                               0.5458         0.0   \n",
       "\n",
       "   Ten's of Thousand mcf /month (1E-4) Date Key  \n",
       "0                                  0.0  1941-01  \n",
       "1                                  0.0  1941-02  "
      ]
     },
     "execution_count": 89,
     "metadata": {},
     "output_type": "execute_result"
    },
    {
     "data": {
      "text/html": [
       "<div>\n",
       "<style scoped>\n",
       "    .dataframe tbody tr th:only-of-type {\n",
       "        vertical-align: middle;\n",
       "    }\n",
       "\n",
       "    .dataframe tbody tr th {\n",
       "        vertical-align: top;\n",
       "    }\n",
       "\n",
       "    .dataframe thead th {\n",
       "        text-align: right;\n",
       "    }\n",
       "</style>\n",
       "<table border=\"1\" class=\"dataframe\">\n",
       "  <thead>\n",
       "    <tr style=\"text-align: right;\">\n",
       "      <th></th>\n",
       "      <th>Month</th>\n",
       "      <th>monthly_oil_price</th>\n",
       "      <th>Adj Oil Price 1E-1</th>\n",
       "      <th>Date Key</th>\n",
       "    </tr>\n",
       "  </thead>\n",
       "  <tbody>\n",
       "    <tr>\n",
       "      <th>0</th>\n",
       "      <td>2021-11-01</td>\n",
       "      <td>79.15</td>\n",
       "      <td>7.915</td>\n",
       "      <td>2021-11</td>\n",
       "    </tr>\n",
       "    <tr>\n",
       "      <th>1</th>\n",
       "      <td>2021-10-01</td>\n",
       "      <td>81.48</td>\n",
       "      <td>8.148</td>\n",
       "      <td>2021-10</td>\n",
       "    </tr>\n",
       "  </tbody>\n",
       "</table>\n",
       "</div>"
      ],
      "text/plain": [
       "       Month  monthly_oil_price  Adj Oil Price 1E-1 Date Key\n",
       "0 2021-11-01              79.15               7.915  2021-11\n",
       "1 2021-10-01              81.48               8.148  2021-10"
      ]
     },
     "execution_count": 89,
     "metadata": {},
     "output_type": "execute_result"
    },
    {
     "data": {
      "text/html": [
       "<div>\n",
       "<style scoped>\n",
       "    .dataframe tbody tr th:only-of-type {\n",
       "        vertical-align: middle;\n",
       "    }\n",
       "\n",
       "    .dataframe tbody tr th {\n",
       "        vertical-align: top;\n",
       "    }\n",
       "\n",
       "    .dataframe thead th {\n",
       "        text-align: right;\n",
       "    }\n",
       "</style>\n",
       "<table border=\"1\" class=\"dataframe\">\n",
       "  <thead>\n",
       "    <tr style=\"text-align: right;\">\n",
       "      <th></th>\n",
       "      <th>Date</th>\n",
       "      <th>monthly_gas_price</th>\n",
       "      <th>Date Key</th>\n",
       "    </tr>\n",
       "  </thead>\n",
       "  <tbody>\n",
       "    <tr>\n",
       "      <th>0</th>\n",
       "      <td>1997-01-15</td>\n",
       "      <td>3.45</td>\n",
       "      <td>1997-01</td>\n",
       "    </tr>\n",
       "    <tr>\n",
       "      <th>1</th>\n",
       "      <td>1997-02-15</td>\n",
       "      <td>2.15</td>\n",
       "      <td>1997-02</td>\n",
       "    </tr>\n",
       "  </tbody>\n",
       "</table>\n",
       "</div>"
      ],
      "text/plain": [
       "        Date  monthly_gas_price Date Key\n",
       "0 1997-01-15               3.45  1997-01\n",
       "1 1997-02-15               2.15  1997-02"
      ]
     },
     "execution_count": 89,
     "metadata": {},
     "output_type": "execute_result"
    }
   ],
   "source": [
    "historical_prod.head(2)\n",
    "oilPricebyMonth.head(2)\n",
    "gasPricebyMonth.head(2)"
   ]
  },
  {
   "cell_type": "markdown",
   "id": "2824612e",
   "metadata": {},
   "source": [
    "### Perform Join and Clean Up Fields"
   ]
  },
  {
   "cell_type": "code",
   "execution_count": 105,
   "id": "ddb15067",
   "metadata": {},
   "outputs": [],
   "source": [
    "#merging 3 tables together to get commodity pricing along side production. Then cleaning up by selecting only necessary columns\n",
    "revenue = pd.merge(historical_prod, oilPricebyMonth.drop(columns = 'Month'), on = 'Date Key', how = 'inner') \\\n",
    "    .merge(gasPricebyMonth.drop(columns = 'Date'), on = 'Date Key', how = 'inner') \\\n",
    "    .drop(columns = 'Date Key') \\\n",
    "    .loc[:,['Date', 'Oil', 'Gas', 'monthly_oil_price', 'monthly_gas_price']]"
   ]
  },
  {
   "cell_type": "markdown",
   "id": "123a9a24",
   "metadata": {},
   "source": [
    "### Calculate Revenue for Oil, Gas, and Total"
   ]
  },
  {
   "cell_type": "code",
   "execution_count": 106,
   "id": "389ff826",
   "metadata": {},
   "outputs": [],
   "source": [
    "revenue[\"Revenue Oil\"] = revenue[\"Oil\"] * revenue['monthly_oil_price']\n",
    "revenue[\"Revenue Gas\"] = revenue[\"Gas\"] * revenue['monthly_gas_price']\n",
    "\n",
    "revenue['Total Revenue'] = revenue[\"Revenue Oil\"] + revenue[\"Revenue Gas\"]\n",
    "\n",
    "revenue['$M Total Revenue'] = round(revenue[\"Total Revenue\"] / 1E6, 2)\n",
    "\n",
    "revenue"
   ]
  },
  {
   "cell_type": "code",
   "execution_count": 129,
   "id": "03031ec7",
   "metadata": {},
   "outputs": [],
   "source": [
    "revenue.to_csv(f'{presentation_data_folder}/revenue/revenue.csv', index = False)"
   ]
  },
  {
   "cell_type": "code",
   "execution_count": 121,
   "id": "97cc0148",
   "metadata": {},
   "outputs": [],
   "source": [
    "import seaborn as sns\n",
    "import matplotlib.pyplot as plt"
   ]
  },
  {
   "cell_type": "code",
   "execution_count": 128,
   "id": "9dae59d6",
   "metadata": {},
   "outputs": [
    {
     "data": {
      "text/plain": [
       "<Figure size 1080x504 with 0 Axes>"
      ]
     },
     "execution_count": 128,
     "metadata": {},
     "output_type": "execute_result"
    },
    {
     "data": {
      "text/plain": [
       "Text(0.5, 1.0, 'Revnue ($M) vs Year')"
      ]
     },
     "execution_count": 128,
     "metadata": {},
     "output_type": "execute_result"
    },
    {
     "name": "stderr",
     "output_type": "stream",
     "text": [
      "/Users/Mishaun_Bhakta/opt/anaconda3/lib/python3.9/site-packages/seaborn/_decorators.py:36: FutureWarning: Pass the following variables as keyword args: x, y. From version 0.12, the only valid positional argument will be `data`, and passing other arguments without an explicit keyword will result in an error or misinterpretation.\n",
      "  warnings.warn(\n"
     ]
    },
    {
     "data": {
      "text/plain": [
       "<AxesSubplot:title={'center':'Revnue ($M) vs Year'}, xlabel='Date', ylabel='$M Total Revenue'>"
      ]
     },
     "execution_count": 128,
     "metadata": {},
     "output_type": "execute_result"
    },
    {
     "data": {
      "image/png": "[encoded data removed]",
      "text/plain": [
       "<Figure size 1080x504 with 1 Axes>"
      ]
     },
     "metadata": {
      "needs_background": "light"
     },
     "output_type": "display_data"
    }
   ],
   "source": [
    "plt.figure(figsize=(15,7))\n",
    "plt.title('Revnue ($M) vs Year', fontdict={\"fontsize\": 20})\n",
    "sns.scatterplot(revenue['Date'], revenue['$M Total Revenue'])"
   ]
  },
  {
   "cell_type": "code",
   "execution_count": null,
   "id": "196dae4f",
   "metadata": {},
   "outputs": [],
   "source": []
  }
 ],
 "metadata": {
  "kernelspec": {
   "display_name": "Python 3 (ipykernel)",
   "language": "python",
   "name": "python3"
  },
  "language_info": {
   "codemirror_mode": {
    "name": "ipython",
    "version": 3
   },
   "file_extension": ".py",
   "mimetype": "text/x-python",
   "name": "python",
   "nbconvert_exporter": "python",
   "pygments_lexer": "ipython3",
   "version": "3.9.7"
  }
 },
 "nbformat": 4,
 "nbformat_minor": 5
}
