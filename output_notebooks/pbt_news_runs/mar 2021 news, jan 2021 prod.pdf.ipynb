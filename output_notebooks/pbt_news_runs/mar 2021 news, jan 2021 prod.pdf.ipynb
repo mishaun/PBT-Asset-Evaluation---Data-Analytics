{
 "cells": [
  {
   "cell_type": "markdown",
   "id": "3bf9f2f8",
   "metadata": {
    "papermill": {
     "duration": 0.025604,
     "end_time": "2022-01-16T20:34:43.483648",
     "exception": false,
     "start_time": "2022-01-16T20:34:43.458044",
     "status": "completed"
    },
    "tags": []
   },
   "source": [
    "# Ingest PBT News Releases"
   ]
  },
  {
   "cell_type": "code",
   "execution_count": 1,
   "id": "f63d6cde",
   "metadata": {
    "execution": {
     "iopub.execute_input": "2022-01-16T20:34:43.514425Z",
     "iopub.status.busy": "2022-01-16T20:34:43.513702Z",
     "iopub.status.idle": "2022-01-16T20:34:44.316024Z",
     "shell.execute_reply": "2022-01-16T20:34:44.316308Z"
    },
    "papermill": {
     "duration": 0.823599,
     "end_time": "2022-01-16T20:34:44.316513",
     "exception": false,
     "start_time": "2022-01-16T20:34:43.492914",
     "status": "completed"
    },
    "tags": []
   },
   "outputs": [],
   "source": [
    "from tabula import read_pdf"
   ]
  },
  {
   "cell_type": "code",
   "execution_count": 2,
   "id": "b68a4e59",
   "metadata": {
    "execution": {
     "iopub.execute_input": "2022-01-16T20:34:44.333538Z",
     "iopub.status.busy": "2022-01-16T20:34:44.333154Z",
     "iopub.status.idle": "2022-01-16T20:34:44.362113Z",
     "shell.execute_reply": "2022-01-16T20:34:44.362427Z"
    },
    "papermill": {
     "duration": 0.03874,
     "end_time": "2022-01-16T20:34:44.362565",
     "exception": false,
     "start_time": "2022-01-16T20:34:44.323825",
     "status": "completed"
    },
    "tags": []
   },
   "outputs": [],
   "source": [
    "%run configs.ipynb"
   ]
  },
  {
   "cell_type": "code",
   "execution_count": 3,
   "id": "b5516fe2",
   "metadata": {
    "execution": {
     "iopub.execute_input": "2022-01-16T20:34:44.378364Z",
     "iopub.status.busy": "2022-01-16T20:34:44.377877Z",
     "iopub.status.idle": "2022-01-16T20:34:44.379504Z",
     "shell.execute_reply": "2022-01-16T20:34:44.379832Z"
    },
    "papermill": {
     "duration": 0.010937,
     "end_time": "2022-01-16T20:34:44.379966",
     "exception": false,
     "start_time": "2022-01-16T20:34:44.369029",
     "status": "completed"
    },
    "tags": [
     "parameters"
    ]
   },
   "outputs": [],
   "source": [
    "#parameters cell\n",
    "news_file_name = 'dec 2021 news, oct 2021 prod.pdf'"
   ]
  },
  {
   "cell_type": "code",
   "execution_count": 4,
   "id": "92b40564",
   "metadata": {
    "execution": {
     "iopub.execute_input": "2022-01-16T20:34:44.396689Z",
     "iopub.status.busy": "2022-01-16T20:34:44.396128Z",
     "iopub.status.idle": "2022-01-16T20:34:44.397571Z",
     "shell.execute_reply": "2022-01-16T20:34:44.397889Z"
    },
    "papermill": {
     "duration": 0.011508,
     "end_time": "2022-01-16T20:34:44.398060",
     "exception": false,
     "start_time": "2022-01-16T20:34:44.386552",
     "status": "completed"
    },
    "tags": [
     "injected-parameters"
    ]
   },
   "outputs": [],
   "source": [
    "# Parameters\n",
    "news_file_name = \"mar 2021 news, jan 2021 prod.pdf\"\n"
   ]
  },
  {
   "cell_type": "code",
   "execution_count": 5,
   "id": "89d75a6d",
   "metadata": {
    "execution": {
     "iopub.execute_input": "2022-01-16T20:34:44.414345Z",
     "iopub.status.busy": "2022-01-16T20:34:44.413946Z",
     "iopub.status.idle": "2022-01-16T20:34:47.585287Z",
     "shell.execute_reply": "2022-01-16T20:34:47.585686Z"
    },
    "papermill": {
     "duration": 3.181124,
     "end_time": "2022-01-16T20:34:47.585854",
     "exception": false,
     "start_time": "2022-01-16T20:34:44.404730",
     "status": "completed"
    },
    "tags": []
   },
   "outputs": [
    {
     "name": "stderr",
     "output_type": "stream",
     "text": [
      "'pages' argument isn't specified.Will extract only from page 1 by default.\n"
     ]
    },
    {
     "data": {
      "text/html": [
       "<div>\n",
       "<style scoped>\n",
       "    .dataframe tbody tr th:only-of-type {\n",
       "        vertical-align: middle;\n",
       "    }\n",
       "\n",
       "    .dataframe tbody tr th {\n",
       "        vertical-align: top;\n",
       "    }\n",
       "\n",
       "    .dataframe thead th {\n",
       "        text-align: right;\n",
       "    }\n",
       "</style>\n",
       "<table border=\"1\" class=\"dataframe\">\n",
       "  <thead>\n",
       "    <tr style=\"text-align: right;\">\n",
       "      <th></th>\n",
       "      <th>Unnamed: 0</th>\n",
       "      <th>Unnamed: 1</th>\n",
       "      <th>Unnamed: 2</th>\n",
       "      <th>Unnamed: 3</th>\n",
       "      <th>Unnamed: 4</th>\n",
       "    </tr>\n",
       "  </thead>\n",
       "  <tbody>\n",
       "    <tr>\n",
       "      <th>0</th>\n",
       "      <td>NaN</td>\n",
       "      <td>Underlying Properties</td>\n",
       "      <td>Net to Trust Sales</td>\n",
       "      <td>NaN</td>\n",
       "      <td>NaN</td>\n",
       "    </tr>\n",
       "    <tr>\n",
       "      <th>1</th>\n",
       "      <td>NaN</td>\n",
       "      <td>Volumes</td>\n",
       "      <td>Volumes</td>\n",
       "      <td>Average</td>\n",
       "      <td>Price</td>\n",
       "    </tr>\n",
       "    <tr>\n",
       "      <th>2</th>\n",
       "      <td>NaN</td>\n",
       "      <td>Oil  Gas</td>\n",
       "      <td>Oil  Gas</td>\n",
       "      <td>Oil</td>\n",
       "      <td>Gas</td>\n",
       "    </tr>\n",
       "    <tr>\n",
       "      <th>3</th>\n",
       "      <td>NaN</td>\n",
       "      <td>(bbls) (Mcf)</td>\n",
       "      <td>(bbls) (Mcf)</td>\n",
       "      <td>(per bbl)</td>\n",
       "      <td>(per Mcf)</td>\n",
       "    </tr>\n",
       "    <tr>\n",
       "      <th>4</th>\n",
       "      <td>Current Month</td>\n",
       "      <td>NaN</td>\n",
       "      <td>NaN</td>\n",
       "      <td>NaN</td>\n",
       "      <td>NaN</td>\n",
       "    </tr>\n",
       "    <tr>\n",
       "      <th>5</th>\n",
       "      <td>Waddell Ranch</td>\n",
       "      <td>61,828 218,264</td>\n",
       "      <td>46,371 163,653*</td>\n",
       "      <td>$50.16</td>\n",
       "      <td>$2.20**</td>\n",
       "    </tr>\n",
       "    <tr>\n",
       "      <th>6</th>\n",
       "      <td>Texas Royalties</td>\n",
       "      <td>16,211 8,828</td>\n",
       "      <td>13,882 7,560*</td>\n",
       "      <td>$49.13</td>\n",
       "      <td>$5.68**</td>\n",
       "    </tr>\n",
       "    <tr>\n",
       "      <th>7</th>\n",
       "      <td>NaN</td>\n",
       "      <td>NaN</td>\n",
       "      <td>NaN</td>\n",
       "      <td>NaN</td>\n",
       "      <td>NaN</td>\n",
       "    </tr>\n",
       "    <tr>\n",
       "      <th>8</th>\n",
       "      <td>Prior Month</td>\n",
       "      <td>NaN</td>\n",
       "      <td>NaN</td>\n",
       "      <td>NaN</td>\n",
       "      <td>NaN</td>\n",
       "    </tr>\n",
       "    <tr>\n",
       "      <th>9</th>\n",
       "      <td>Waddell Ranch</td>\n",
       "      <td>60,513 198,389</td>\n",
       "      <td>45,385 148,792*</td>\n",
       "      <td>$44.12</td>\n",
       "      <td>$2.61**</td>\n",
       "    </tr>\n",
       "    <tr>\n",
       "      <th>10</th>\n",
       "      <td>Texas Royalties</td>\n",
       "      <td>18,861 13,349</td>\n",
       "      <td>17,918 12,682*</td>\n",
       "      <td>$43.60</td>\n",
       "      <td>$3.65**</td>\n",
       "    </tr>\n",
       "  </tbody>\n",
       "</table>\n",
       "</div>"
      ],
      "text/plain": [
       "         Unnamed: 0             Unnamed: 1          Unnamed: 2 Unnamed: 3  \\\n",
       "0               NaN  Underlying Properties  Net to Trust Sales        NaN   \n",
       "1               NaN                Volumes             Volumes    Average   \n",
       "2               NaN               Oil  Gas            Oil  Gas        Oil   \n",
       "3               NaN           (bbls) (Mcf)        (bbls) (Mcf)  (per bbl)   \n",
       "4     Current Month                    NaN                 NaN        NaN   \n",
       "5     Waddell Ranch         61,828 218,264     46,371 163,653*     $50.16   \n",
       "6   Texas Royalties           16,211 8,828       13,882 7,560*     $49.13   \n",
       "7               NaN                    NaN                 NaN        NaN   \n",
       "8       Prior Month                    NaN                 NaN        NaN   \n",
       "9     Waddell Ranch         60,513 198,389     45,385 148,792*     $44.12   \n",
       "10  Texas Royalties          18,861 13,349      17,918 12,682*     $43.60   \n",
       "\n",
       "   Unnamed: 4  \n",
       "0         NaN  \n",
       "1       Price  \n",
       "2         Gas  \n",
       "3   (per Mcf)  \n",
       "4         NaN  \n",
       "5     $2.20**  \n",
       "6     $5.68**  \n",
       "7         NaN  \n",
       "8         NaN  \n",
       "9     $2.61**  \n",
       "10    $3.65**  "
      ]
     },
     "execution_count": 5,
     "metadata": {},
     "output_type": "execute_result"
    }
   ],
   "source": [
    "pbt_news_DF = read_pdf(f'{raw_data_folder}/pbt_news/2021/{news_file_name}')[0]\n",
    "\n",
    "pbt_news_DF"
   ]
  },
  {
   "cell_type": "code",
   "execution_count": 6,
   "id": "5ad174f1",
   "metadata": {
    "execution": {
     "iopub.execute_input": "2022-01-16T20:34:47.606040Z",
     "iopub.status.busy": "2022-01-16T20:34:47.605484Z",
     "iopub.status.idle": "2022-01-16T20:34:47.607008Z",
     "shell.execute_reply": "2022-01-16T20:34:47.607556Z"
    },
    "papermill": {
     "duration": 0.012913,
     "end_time": "2022-01-16T20:34:47.607711",
     "exception": false,
     "start_time": "2022-01-16T20:34:47.594798",
     "status": "completed"
    },
    "tags": []
   },
   "outputs": [],
   "source": [
    "cols_pdf = 'Property', 'Gross Oil Volume (PBT News)', 'Net Oil Volume (PBT News)', 'Average Oil Price', 'Average Gas Price'\n",
    "pbt_news_DF.columns = cols_pdf"
   ]
  },
  {
   "cell_type": "code",
   "execution_count": 7,
   "id": "9e1a6833",
   "metadata": {
    "execution": {
     "iopub.execute_input": "2022-01-16T20:34:47.628700Z",
     "iopub.status.busy": "2022-01-16T20:34:47.628156Z",
     "iopub.status.idle": "2022-01-16T20:34:47.630273Z",
     "shell.execute_reply": "2022-01-16T20:34:47.630640Z"
    },
    "papermill": {
     "duration": 0.016057,
     "end_time": "2022-01-16T20:34:47.630832",
     "exception": false,
     "start_time": "2022-01-16T20:34:47.614775",
     "status": "completed"
    },
    "tags": []
   },
   "outputs": [
    {
     "data": {
      "text/html": [
       "<div>\n",
       "<style scoped>\n",
       "    .dataframe tbody tr th:only-of-type {\n",
       "        vertical-align: middle;\n",
       "    }\n",
       "\n",
       "    .dataframe tbody tr th {\n",
       "        vertical-align: top;\n",
       "    }\n",
       "\n",
       "    .dataframe thead th {\n",
       "        text-align: right;\n",
       "    }\n",
       "</style>\n",
       "<table border=\"1\" class=\"dataframe\">\n",
       "  <thead>\n",
       "    <tr style=\"text-align: right;\">\n",
       "      <th></th>\n",
       "      <th>Property</th>\n",
       "      <th>Gross Oil Volume (PBT News)</th>\n",
       "      <th>Net Oil Volume (PBT News)</th>\n",
       "      <th>Average Oil Price</th>\n",
       "      <th>Average Gas Price</th>\n",
       "    </tr>\n",
       "  </thead>\n",
       "  <tbody>\n",
       "    <tr>\n",
       "      <th>5</th>\n",
       "      <td>Waddell Ranch</td>\n",
       "      <td>61,828 218,264</td>\n",
       "      <td>46,371 163,653*</td>\n",
       "      <td>$50.16</td>\n",
       "      <td>$2.20**</td>\n",
       "    </tr>\n",
       "    <tr>\n",
       "      <th>6</th>\n",
       "      <td>Texas Royalties</td>\n",
       "      <td>16,211 8,828</td>\n",
       "      <td>13,882 7,560*</td>\n",
       "      <td>$49.13</td>\n",
       "      <td>$5.68**</td>\n",
       "    </tr>\n",
       "    <tr>\n",
       "      <th>9</th>\n",
       "      <td>Waddell Ranch</td>\n",
       "      <td>60,513 198,389</td>\n",
       "      <td>45,385 148,792*</td>\n",
       "      <td>$44.12</td>\n",
       "      <td>$2.61**</td>\n",
       "    </tr>\n",
       "    <tr>\n",
       "      <th>10</th>\n",
       "      <td>Texas Royalties</td>\n",
       "      <td>18,861 13,349</td>\n",
       "      <td>17,918 12,682*</td>\n",
       "      <td>$43.60</td>\n",
       "      <td>$3.65**</td>\n",
       "    </tr>\n",
       "  </tbody>\n",
       "</table>\n",
       "</div>"
      ],
      "text/plain": [
       "           Property Gross Oil Volume (PBT News) Net Oil Volume (PBT News)  \\\n",
       "5     Waddell Ranch              61,828 218,264           46,371 163,653*   \n",
       "6   Texas Royalties                16,211 8,828             13,882 7,560*   \n",
       "9     Waddell Ranch              60,513 198,389           45,385 148,792*   \n",
       "10  Texas Royalties               18,861 13,349            17,918 12,682*   \n",
       "\n",
       "   Average Oil Price Average Gas Price  \n",
       "5             $50.16           $2.20**  \n",
       "6             $49.13           $5.68**  \n",
       "9             $44.12           $2.61**  \n",
       "10            $43.60           $3.65**  "
      ]
     },
     "execution_count": 7,
     "metadata": {},
     "output_type": "execute_result"
    }
   ],
   "source": [
    "pbt_news_DF.dropna(inplace = True)\n",
    "pbt_news_DF"
   ]
  },
  {
   "cell_type": "markdown",
   "id": "9ea8667f",
   "metadata": {
    "papermill": {
     "duration": 0.007327,
     "end_time": "2022-01-16T20:34:47.645469",
     "exception": false,
     "start_time": "2022-01-16T20:34:47.638142",
     "status": "completed"
    },
    "tags": []
   },
   "source": [
    "### Splitting Net Oil Column to Get Gas Volume\n",
    "### Applying Text Cleaning to remove commas"
   ]
  },
  {
   "cell_type": "code",
   "execution_count": 8,
   "id": "0e4b24f4",
   "metadata": {
    "execution": {
     "iopub.execute_input": "2022-01-16T20:34:47.664602Z",
     "iopub.status.busy": "2022-01-16T20:34:47.664047Z",
     "iopub.status.idle": "2022-01-16T20:34:47.665800Z",
     "shell.execute_reply": "2022-01-16T20:34:47.666248Z"
    },
    "papermill": {
     "duration": 0.013883,
     "end_time": "2022-01-16T20:34:47.666427",
     "exception": false,
     "start_time": "2022-01-16T20:34:47.652544",
     "status": "completed"
    },
    "tags": []
   },
   "outputs": [],
   "source": [
    "pbt_news_DF['Gross Gas Volume (PBT News)'] = pbt_news_DF['Gross Oil Volume (PBT News)'].apply(lambda x: int(x.split(' ')[1].replace(',', '')))\n",
    "\n",
    "pbt_news_DF['Gross Oil Volume (PBT News)'] = pbt_news_DF['Gross Oil Volume (PBT News)'].apply(lambda x: int(x.split(' ')[0].replace(',', '')))"
   ]
  },
  {
   "cell_type": "code",
   "execution_count": 9,
   "id": "735d5051",
   "metadata": {
    "execution": {
     "iopub.execute_input": "2022-01-16T20:34:47.686204Z",
     "iopub.status.busy": "2022-01-16T20:34:47.682845Z",
     "iopub.status.idle": "2022-01-16T20:34:47.688063Z",
     "shell.execute_reply": "2022-01-16T20:34:47.688339Z"
    },
    "papermill": {
     "duration": 0.014675,
     "end_time": "2022-01-16T20:34:47.688489",
     "exception": false,
     "start_time": "2022-01-16T20:34:47.673814",
     "status": "completed"
    },
    "tags": []
   },
   "outputs": [
    {
     "data": {
      "text/html": [
       "<div>\n",
       "<style scoped>\n",
       "    .dataframe tbody tr th:only-of-type {\n",
       "        vertical-align: middle;\n",
       "    }\n",
       "\n",
       "    .dataframe tbody tr th {\n",
       "        vertical-align: top;\n",
       "    }\n",
       "\n",
       "    .dataframe thead th {\n",
       "        text-align: right;\n",
       "    }\n",
       "</style>\n",
       "<table border=\"1\" class=\"dataframe\">\n",
       "  <thead>\n",
       "    <tr style=\"text-align: right;\">\n",
       "      <th></th>\n",
       "      <th>Property</th>\n",
       "      <th>Gross Oil Volume (PBT News)</th>\n",
       "      <th>Net Oil Volume (PBT News)</th>\n",
       "      <th>Average Oil Price</th>\n",
       "      <th>Average Gas Price</th>\n",
       "      <th>Gross Gas Volume (PBT News)</th>\n",
       "    </tr>\n",
       "  </thead>\n",
       "  <tbody>\n",
       "    <tr>\n",
       "      <th>5</th>\n",
       "      <td>Waddell Ranch</td>\n",
       "      <td>61828</td>\n",
       "      <td>46,371 163,653*</td>\n",
       "      <td>$50.16</td>\n",
       "      <td>$2.20**</td>\n",
       "      <td>218264</td>\n",
       "    </tr>\n",
       "    <tr>\n",
       "      <th>6</th>\n",
       "      <td>Texas Royalties</td>\n",
       "      <td>16211</td>\n",
       "      <td>13,882 7,560*</td>\n",
       "      <td>$49.13</td>\n",
       "      <td>$5.68**</td>\n",
       "      <td>8828</td>\n",
       "    </tr>\n",
       "    <tr>\n",
       "      <th>9</th>\n",
       "      <td>Waddell Ranch</td>\n",
       "      <td>60513</td>\n",
       "      <td>45,385 148,792*</td>\n",
       "      <td>$44.12</td>\n",
       "      <td>$2.61**</td>\n",
       "      <td>198389</td>\n",
       "    </tr>\n",
       "    <tr>\n",
       "      <th>10</th>\n",
       "      <td>Texas Royalties</td>\n",
       "      <td>18861</td>\n",
       "      <td>17,918 12,682*</td>\n",
       "      <td>$43.60</td>\n",
       "      <td>$3.65**</td>\n",
       "      <td>13349</td>\n",
       "    </tr>\n",
       "  </tbody>\n",
       "</table>\n",
       "</div>"
      ],
      "text/plain": [
       "           Property  Gross Oil Volume (PBT News) Net Oil Volume (PBT News)  \\\n",
       "5     Waddell Ranch                        61828           46,371 163,653*   \n",
       "6   Texas Royalties                        16211             13,882 7,560*   \n",
       "9     Waddell Ranch                        60513           45,385 148,792*   \n",
       "10  Texas Royalties                        18861            17,918 12,682*   \n",
       "\n",
       "   Average Oil Price Average Gas Price  Gross Gas Volume (PBT News)  \n",
       "5             $50.16           $2.20**                       218264  \n",
       "6             $49.13           $5.68**                         8828  \n",
       "9             $44.12           $2.61**                       198389  \n",
       "10            $43.60           $3.65**                        13349  "
      ]
     },
     "execution_count": 9,
     "metadata": {},
     "output_type": "execute_result"
    }
   ],
   "source": [
    "pbt_news_DF"
   ]
  },
  {
   "cell_type": "markdown",
   "id": "27cceb93",
   "metadata": {
    "papermill": {
     "duration": 0.008205,
     "end_time": "2022-01-16T20:34:47.705167",
     "exception": false,
     "start_time": "2022-01-16T20:34:47.696962",
     "status": "completed"
    },
    "tags": []
   },
   "source": [
    "### Splitting Net Oil Column to Get Gas Volume\n",
    "### Applying Text Cleaning to remove commas and asterisks"
   ]
  },
  {
   "cell_type": "code",
   "execution_count": 10,
   "id": "36f1f177",
   "metadata": {
    "execution": {
     "iopub.execute_input": "2022-01-16T20:34:47.724679Z",
     "iopub.status.busy": "2022-01-16T20:34:47.724204Z",
     "iopub.status.idle": "2022-01-16T20:34:47.725798Z",
     "shell.execute_reply": "2022-01-16T20:34:47.726158Z"
    },
    "papermill": {
     "duration": 0.013695,
     "end_time": "2022-01-16T20:34:47.726317",
     "exception": false,
     "start_time": "2022-01-16T20:34:47.712622",
     "status": "completed"
    },
    "tags": []
   },
   "outputs": [],
   "source": [
    "pbt_news_DF['Net Gas Volume (PBT News)'] = pbt_news_DF['Net Oil Volume (PBT News)'].apply(lambda x: int(x.split(' ')[1]\\\n",
    "                                                                                  .replace(',', '')\\\n",
    "                                                                                 .replace('*','')))\n",
    "\n",
    "pbt_news_DF['Net Oil Volume (PBT News)'] = pbt_news_DF['Net Oil Volume (PBT News)'].apply(lambda x: int(x.split(' ')[0].replace(',', '')))"
   ]
  },
  {
   "cell_type": "markdown",
   "id": "f78ceacc",
   "metadata": {
    "papermill": {
     "duration": 0.007941,
     "end_time": "2022-01-16T20:34:47.756411",
     "exception": false,
     "start_time": "2022-01-16T20:34:47.748470",
     "status": "completed"
    },
    "tags": []
   },
   "source": [
    "### Cleaning Prices Columns by removing asterisks and Dollar Sign"
   ]
  },
  {
   "cell_type": "code",
   "execution_count": 11,
   "id": "670ab6d8",
   "metadata": {
    "execution": {
     "iopub.execute_input": "2022-01-16T20:34:47.776180Z",
     "iopub.status.busy": "2022-01-16T20:34:47.775536Z",
     "iopub.status.idle": "2022-01-16T20:34:47.777141Z",
     "shell.execute_reply": "2022-01-16T20:34:47.777562Z"
    },
    "papermill": {
     "duration": 0.0135,
     "end_time": "2022-01-16T20:34:47.777705",
     "exception": false,
     "start_time": "2022-01-16T20:34:47.764205",
     "status": "completed"
    },
    "tags": []
   },
   "outputs": [],
   "source": [
    "pbt_news_DF['Average Gas Price'] = pbt_news_DF['Average Gas Price'].apply(lambda x: x.replace('$','').replace('**',''))\n",
    "\n",
    "pbt_news_DF['Average Oil Price'] = pbt_news_DF['Average Oil Price'].apply(lambda x: x.replace('$','').replace('**',''))"
   ]
  },
  {
   "cell_type": "code",
   "execution_count": 12,
   "id": "b1456a0e",
   "metadata": {
    "execution": {
     "iopub.execute_input": "2022-01-16T20:34:47.796416Z",
     "iopub.status.busy": "2022-01-16T20:34:47.795956Z",
     "iopub.status.idle": "2022-01-16T20:34:47.797501Z",
     "shell.execute_reply": "2022-01-16T20:34:47.797869Z"
    },
    "papermill": {
     "duration": 0.012505,
     "end_time": "2022-01-16T20:34:47.798033",
     "exception": false,
     "start_time": "2022-01-16T20:34:47.785528",
     "status": "completed"
    },
    "tags": []
   },
   "outputs": [],
   "source": [
    "#filtering table to the 'current month' values\n",
    "pbt_news_DF = pbt_news_DF.head(2)"
   ]
  },
  {
   "cell_type": "code",
   "execution_count": 13,
   "id": "6d802530",
   "metadata": {
    "execution": {
     "iopub.execute_input": "2022-01-16T20:34:47.822784Z",
     "iopub.status.busy": "2022-01-16T20:34:47.821762Z",
     "iopub.status.idle": "2022-01-16T20:34:47.824976Z",
     "shell.execute_reply": "2022-01-16T20:34:47.825456Z"
    },
    "papermill": {
     "duration": 0.018725,
     "end_time": "2022-01-16T20:34:47.825652",
     "exception": false,
     "start_time": "2022-01-16T20:34:47.806927",
     "status": "completed"
    },
    "tags": []
   },
   "outputs": [
    {
     "data": {
      "text/html": [
       "<div>\n",
       "<style scoped>\n",
       "    .dataframe tbody tr th:only-of-type {\n",
       "        vertical-align: middle;\n",
       "    }\n",
       "\n",
       "    .dataframe tbody tr th {\n",
       "        vertical-align: top;\n",
       "    }\n",
       "\n",
       "    .dataframe thead th {\n",
       "        text-align: right;\n",
       "    }\n",
       "</style>\n",
       "<table border=\"1\" class=\"dataframe\">\n",
       "  <thead>\n",
       "    <tr style=\"text-align: right;\">\n",
       "      <th></th>\n",
       "      <th>Property</th>\n",
       "      <th>Gross Oil Volume (PBT News)</th>\n",
       "      <th>Net Oil Volume (PBT News)</th>\n",
       "      <th>Average Oil Price</th>\n",
       "      <th>Average Gas Price</th>\n",
       "      <th>Gross Gas Volume (PBT News)</th>\n",
       "      <th>Net Gas Volume (PBT News)</th>\n",
       "    </tr>\n",
       "  </thead>\n",
       "  <tbody>\n",
       "    <tr>\n",
       "      <th>5</th>\n",
       "      <td>Waddell Ranch</td>\n",
       "      <td>61828</td>\n",
       "      <td>46371</td>\n",
       "      <td>50.16</td>\n",
       "      <td>2.20</td>\n",
       "      <td>218264</td>\n",
       "      <td>163653</td>\n",
       "    </tr>\n",
       "    <tr>\n",
       "      <th>6</th>\n",
       "      <td>Texas Royalties</td>\n",
       "      <td>16211</td>\n",
       "      <td>13882</td>\n",
       "      <td>49.13</td>\n",
       "      <td>5.68</td>\n",
       "      <td>8828</td>\n",
       "      <td>7560</td>\n",
       "    </tr>\n",
       "  </tbody>\n",
       "</table>\n",
       "</div>"
      ],
      "text/plain": [
       "          Property  Gross Oil Volume (PBT News)  Net Oil Volume (PBT News)  \\\n",
       "5    Waddell Ranch                        61828                      46371   \n",
       "6  Texas Royalties                        16211                      13882   \n",
       "\n",
       "  Average Oil Price Average Gas Price  Gross Gas Volume (PBT News)  \\\n",
       "5             50.16              2.20                       218264   \n",
       "6             49.13              5.68                         8828   \n",
       "\n",
       "   Net Gas Volume (PBT News)  \n",
       "5                     163653  \n",
       "6                       7560  "
      ]
     },
     "execution_count": 13,
     "metadata": {},
     "output_type": "execute_result"
    }
   ],
   "source": [
    "pbt_news_DF"
   ]
  },
  {
   "cell_type": "code",
   "execution_count": 14,
   "id": "9bcb4f75",
   "metadata": {
    "execution": {
     "iopub.execute_input": "2022-01-16T20:34:47.858502Z",
     "iopub.status.busy": "2022-01-16T20:34:47.857207Z",
     "iopub.status.idle": "2022-01-16T20:34:47.859721Z",
     "shell.execute_reply": "2022-01-16T20:34:47.860147Z"
    },
    "papermill": {
     "duration": 0.016736,
     "end_time": "2022-01-16T20:34:47.860351",
     "exception": false,
     "start_time": "2022-01-16T20:34:47.843615",
     "status": "completed"
    },
    "tags": []
   },
   "outputs": [],
   "source": [
    "date_from_filename = news_file_name.split(',')[1]\\\n",
    "                                    .split('.')[0]\\\n",
    "                                    .strip()\\\n",
    "                                    .replace(' prod', '')"
   ]
  },
  {
   "cell_type": "code",
   "execution_count": 15,
   "id": "b2d00cad",
   "metadata": {
    "execution": {
     "iopub.execute_input": "2022-01-16T20:34:47.882482Z",
     "iopub.status.busy": "2022-01-16T20:34:47.881852Z",
     "iopub.status.idle": "2022-01-16T20:34:47.884165Z",
     "shell.execute_reply": "2022-01-16T20:34:47.884780Z"
    },
    "papermill": {
     "duration": 0.015214,
     "end_time": "2022-01-16T20:34:47.884992",
     "exception": false,
     "start_time": "2022-01-16T20:34:47.869778",
     "status": "completed"
    },
    "tags": []
   },
   "outputs": [],
   "source": [
    "pbt_news_DF.insert(0, 'Date', date_from_filename.title())"
   ]
  },
  {
   "cell_type": "code",
   "execution_count": 16,
   "id": "e38fd321",
   "metadata": {
    "execution": {
     "iopub.execute_input": "2022-01-16T20:34:47.909180Z",
     "iopub.status.busy": "2022-01-16T20:34:47.908664Z",
     "iopub.status.idle": "2022-01-16T20:34:47.910479Z",
     "shell.execute_reply": "2022-01-16T20:34:47.910746Z"
    },
    "papermill": {
     "duration": 0.016968,
     "end_time": "2022-01-16T20:34:47.910889",
     "exception": false,
     "start_time": "2022-01-16T20:34:47.893921",
     "status": "completed"
    },
    "tags": []
   },
   "outputs": [
    {
     "data": {
      "text/html": [
       "<div>\n",
       "<style scoped>\n",
       "    .dataframe tbody tr th:only-of-type {\n",
       "        vertical-align: middle;\n",
       "    }\n",
       "\n",
       "    .dataframe tbody tr th {\n",
       "        vertical-align: top;\n",
       "    }\n",
       "\n",
       "    .dataframe thead th {\n",
       "        text-align: right;\n",
       "    }\n",
       "</style>\n",
       "<table border=\"1\" class=\"dataframe\">\n",
       "  <thead>\n",
       "    <tr style=\"text-align: right;\">\n",
       "      <th></th>\n",
       "      <th>Date</th>\n",
       "      <th>Property</th>\n",
       "      <th>Gross Oil Volume (PBT News)</th>\n",
       "      <th>Net Oil Volume (PBT News)</th>\n",
       "      <th>Average Oil Price</th>\n",
       "      <th>Average Gas Price</th>\n",
       "      <th>Gross Gas Volume (PBT News)</th>\n",
       "      <th>Net Gas Volume (PBT News)</th>\n",
       "    </tr>\n",
       "  </thead>\n",
       "  <tbody>\n",
       "    <tr>\n",
       "      <th>5</th>\n",
       "      <td>Jan 2021</td>\n",
       "      <td>Waddell Ranch</td>\n",
       "      <td>61828</td>\n",
       "      <td>46371</td>\n",
       "      <td>50.16</td>\n",
       "      <td>2.20</td>\n",
       "      <td>218264</td>\n",
       "      <td>163653</td>\n",
       "    </tr>\n",
       "    <tr>\n",
       "      <th>6</th>\n",
       "      <td>Jan 2021</td>\n",
       "      <td>Texas Royalties</td>\n",
       "      <td>16211</td>\n",
       "      <td>13882</td>\n",
       "      <td>49.13</td>\n",
       "      <td>5.68</td>\n",
       "      <td>8828</td>\n",
       "      <td>7560</td>\n",
       "    </tr>\n",
       "  </tbody>\n",
       "</table>\n",
       "</div>"
      ],
      "text/plain": [
       "       Date         Property  Gross Oil Volume (PBT News)  \\\n",
       "5  Jan 2021    Waddell Ranch                        61828   \n",
       "6  Jan 2021  Texas Royalties                        16211   \n",
       "\n",
       "   Net Oil Volume (PBT News) Average Oil Price Average Gas Price  \\\n",
       "5                      46371             50.16              2.20   \n",
       "6                      13882             49.13              5.68   \n",
       "\n",
       "   Gross Gas Volume (PBT News)  Net Gas Volume (PBT News)  \n",
       "5                       218264                     163653  \n",
       "6                         8828                       7560  "
      ]
     },
     "execution_count": 16,
     "metadata": {},
     "output_type": "execute_result"
    }
   ],
   "source": [
    "pbt_news_DF"
   ]
  },
  {
   "cell_type": "markdown",
   "id": "eb3ae53a",
   "metadata": {
    "papermill": {
     "duration": 0.008899,
     "end_time": "2022-01-16T20:34:47.929162",
     "exception": false,
     "start_time": "2022-01-16T20:34:47.920263",
     "status": "completed"
    },
    "tags": []
   },
   "source": [
    "# Write Table to File"
   ]
  },
  {
   "cell_type": "code",
   "execution_count": 17,
   "id": "c9638897",
   "metadata": {
    "execution": {
     "iopub.execute_input": "2022-01-16T20:34:47.954249Z",
     "iopub.status.busy": "2022-01-16T20:34:47.953504Z",
     "iopub.status.idle": "2022-01-16T20:34:47.956281Z",
     "shell.execute_reply": "2022-01-16T20:34:47.956593Z"
    },
    "papermill": {
     "duration": 0.018925,
     "end_time": "2022-01-16T20:34:47.956758",
     "exception": false,
     "start_time": "2022-01-16T20:34:47.937833",
     "status": "completed"
    },
    "tags": []
   },
   "outputs": [
    {
     "data": {
      "text/plain": [
       "'mar 2021 news, jan 2021 prod.csv'"
      ]
     },
     "execution_count": 17,
     "metadata": {},
     "output_type": "execute_result"
    }
   ],
   "source": [
    "to_file_name = news_file_name.split('.')[0] + '.csv'\n",
    "\n",
    "to_file_name"
   ]
  },
  {
   "cell_type": "code",
   "execution_count": 18,
   "id": "6553b868",
   "metadata": {
    "execution": {
     "iopub.execute_input": "2022-01-16T20:34:47.979055Z",
     "iopub.status.busy": "2022-01-16T20:34:47.978607Z",
     "iopub.status.idle": "2022-01-16T20:34:47.981770Z",
     "shell.execute_reply": "2022-01-16T20:34:47.982155Z"
    },
    "papermill": {
     "duration": 0.01588,
     "end_time": "2022-01-16T20:34:47.982421",
     "exception": false,
     "start_time": "2022-01-16T20:34:47.966541",
     "status": "completed"
    },
    "tags": []
   },
   "outputs": [],
   "source": [
    "pbt_news_DF.to_csv(f'{processed_data_folder}/pbt_news_prod/{to_file_name}', index = False)"
   ]
  },
  {
   "cell_type": "code",
   "execution_count": null,
   "id": "7b8340db",
   "metadata": {
    "papermill": {
     "duration": 0.009769,
     "end_time": "2022-01-16T20:34:48.000929",
     "exception": false,
     "start_time": "2022-01-16T20:34:47.991160",
     "status": "completed"
    },
    "tags": []
   },
   "outputs": [],
   "source": []
  }
 ],
 "metadata": {
  "kernelspec": {
   "display_name": "Python 3 (ipykernel)",
   "language": "python",
   "name": "python3"
  },
  "language_info": {
   "codemirror_mode": {
    "name": "ipython",
    "version": 3
   },
   "file_extension": ".py",
   "mimetype": "text/x-python",
   "name": "python",
   "nbconvert_exporter": "python",
   "pygments_lexer": "ipython3",
   "version": "3.9.7"
  },
  "papermill": {
   "default_parameters": {},
   "duration": 5.666379,
   "end_time": "2022-01-16T20:34:48.220408",
   "environment_variables": {},
   "exception": null,
   "input_path": "3. Ingest PBT News Release PDFs.ipynb",
   "output_path": "output_notebooks/pbt_news_runs/mar 2021 news, jan 2021 prod.pdf.ipynb",
   "parameters": {
    "news_file_name": "mar 2021 news, jan 2021 prod.pdf"
   },
   "start_time": "2022-01-16T20:34:42.554029",
   "version": "2.3.3"
  }
 },
 "nbformat": 4,
 "nbformat_minor": 5
}