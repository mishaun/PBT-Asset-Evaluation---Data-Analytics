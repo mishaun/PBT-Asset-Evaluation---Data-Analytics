{
 "cells": [
  {
   "cell_type": "markdown",
   "id": "b020d585",
   "metadata": {
    "papermill": {
     "duration": 0.022169,
     "end_time": "2022-01-15T23:48:43.854967",
     "exception": false,
     "start_time": "2022-01-15T23:48:43.832798",
     "status": "completed"
    },
    "tags": []
   },
   "source": [
    "# Ingest PBT News Releases"
   ]
  },
  {
   "cell_type": "code",
   "execution_count": 1,
   "id": "dfeb746d",
   "metadata": {
    "execution": {
     "iopub.execute_input": "2022-01-15T23:48:43.874698Z",
     "iopub.status.busy": "2022-01-15T23:48:43.874199Z",
     "iopub.status.idle": "2022-01-15T23:48:44.610388Z",
     "shell.execute_reply": "2022-01-15T23:48:44.610620Z"
    },
    "papermill": {
     "duration": 0.7485,
     "end_time": "2022-01-15T23:48:44.610789",
     "exception": false,
     "start_time": "2022-01-15T23:48:43.862289",
     "status": "completed"
    },
    "tags": []
   },
   "outputs": [],
   "source": [
    "from tabula import read_pdf"
   ]
  },
  {
   "cell_type": "code",
   "execution_count": 2,
   "id": "79c56f99",
   "metadata": {
    "execution": {
     "iopub.execute_input": "2022-01-15T23:48:44.626461Z",
     "iopub.status.busy": "2022-01-15T23:48:44.626075Z",
     "iopub.status.idle": "2022-01-15T23:48:44.651662Z",
     "shell.execute_reply": "2022-01-15T23:48:44.651916Z"
    },
    "papermill": {
     "duration": 0.034312,
     "end_time": "2022-01-15T23:48:44.652052",
     "exception": false,
     "start_time": "2022-01-15T23:48:44.617740",
     "status": "completed"
    },
    "tags": []
   },
   "outputs": [],
   "source": [
    "%run configs.ipynb"
   ]
  },
  {
   "cell_type": "code",
   "execution_count": 3,
   "id": "0339b1fb",
   "metadata": {
    "execution": {
     "iopub.execute_input": "2022-01-15T23:48:44.666391Z",
     "iopub.status.busy": "2022-01-15T23:48:44.666026Z",
     "iopub.status.idle": "2022-01-15T23:48:44.667362Z",
     "shell.execute_reply": "2022-01-15T23:48:44.667599Z"
    },
    "papermill": {
     "duration": 0.009388,
     "end_time": "2022-01-15T23:48:44.667708",
     "exception": false,
     "start_time": "2022-01-15T23:48:44.658320",
     "status": "completed"
    },
    "tags": [
     "parameters"
    ]
   },
   "outputs": [],
   "source": [
    "news_file_name = 'dec 2021 news, oct 2021 prod.pdf'"
   ]
  },
  {
   "cell_type": "code",
   "execution_count": 4,
   "id": "dc1d75ed",
   "metadata": {
    "execution": {
     "iopub.execute_input": "2022-01-15T23:48:44.681848Z",
     "iopub.status.busy": "2022-01-15T23:48:44.681446Z",
     "iopub.status.idle": "2022-01-15T23:48:44.682480Z",
     "shell.execute_reply": "2022-01-15T23:48:44.682782Z"
    },
    "papermill": {
     "duration": 0.009081,
     "end_time": "2022-01-15T23:48:44.682891",
     "exception": false,
     "start_time": "2022-01-15T23:48:44.673810",
     "status": "completed"
    },
    "tags": [
     "injected-parameters"
    ]
   },
   "outputs": [],
   "source": [
    "# Parameters\n",
    "news_file_name = \"june 2021 news, apr 2021 prod.pdf\"\n"
   ]
  },
  {
   "cell_type": "code",
   "execution_count": 5,
   "id": "69d15a49",
   "metadata": {
    "execution": {
     "iopub.execute_input": "2022-01-15T23:48:44.697354Z",
     "iopub.status.busy": "2022-01-15T23:48:44.696976Z",
     "iopub.status.idle": "2022-01-15T23:48:47.241956Z",
     "shell.execute_reply": "2022-01-15T23:48:47.242279Z"
    },
    "papermill": {
     "duration": 2.553359,
     "end_time": "2022-01-15T23:48:47.242455",
     "exception": false,
     "start_time": "2022-01-15T23:48:44.689096",
     "status": "completed"
    },
    "tags": []
   },
   "outputs": [
    {
     "name": "stderr",
     "output_type": "stream",
     "text": [
      "'pages' argument isn't specified.Will extract only from page 1 by default.\n"
     ]
    },
    {
     "data": {
      "text/html": [
       "<div>\n",
       "<style scoped>\n",
       "    .dataframe tbody tr th:only-of-type {\n",
       "        vertical-align: middle;\n",
       "    }\n",
       "\n",
       "    .dataframe tbody tr th {\n",
       "        vertical-align: top;\n",
       "    }\n",
       "\n",
       "    .dataframe thead th {\n",
       "        text-align: right;\n",
       "    }\n",
       "</style>\n",
       "<table border=\"1\" class=\"dataframe\">\n",
       "  <thead>\n",
       "    <tr style=\"text-align: right;\">\n",
       "      <th></th>\n",
       "      <th>Unnamed: 0</th>\n",
       "      <th>Unnamed: 1</th>\n",
       "      <th>Unnamed: 2</th>\n",
       "      <th>Unnamed: 3</th>\n",
       "      <th>Unnamed: 4</th>\n",
       "    </tr>\n",
       "  </thead>\n",
       "  <tbody>\n",
       "    <tr>\n",
       "      <th>0</th>\n",
       "      <td>NaN</td>\n",
       "      <td>Underlying Properties</td>\n",
       "      <td>Net to Trust Sales</td>\n",
       "      <td>NaN</td>\n",
       "      <td>NaN</td>\n",
       "    </tr>\n",
       "    <tr>\n",
       "      <th>1</th>\n",
       "      <td>NaN</td>\n",
       "      <td>Volumes</td>\n",
       "      <td>Volumes</td>\n",
       "      <td>Average</td>\n",
       "      <td>Price</td>\n",
       "    </tr>\n",
       "    <tr>\n",
       "      <th>2</th>\n",
       "      <td>NaN</td>\n",
       "      <td>Oil  Gas</td>\n",
       "      <td>Oil  Gas</td>\n",
       "      <td>Oil</td>\n",
       "      <td>Gas</td>\n",
       "    </tr>\n",
       "    <tr>\n",
       "      <th>3</th>\n",
       "      <td>NaN</td>\n",
       "      <td>(bbls) (Mcf)</td>\n",
       "      <td>(bbls) (Mcf)</td>\n",
       "      <td>(per bbl)</td>\n",
       "      <td>(per Mcf)</td>\n",
       "    </tr>\n",
       "    <tr>\n",
       "      <th>4</th>\n",
       "      <td>Current Month</td>\n",
       "      <td>NaN</td>\n",
       "      <td>NaN</td>\n",
       "      <td>NaN</td>\n",
       "      <td>NaN</td>\n",
       "    </tr>\n",
       "    <tr>\n",
       "      <th>5</th>\n",
       "      <td>Waddell Ranch</td>\n",
       "      <td>80,362 259,608</td>\n",
       "      <td>60,272 194,706*</td>\n",
       "      <td>$59.93</td>\n",
       "      <td>$1.91**</td>\n",
       "    </tr>\n",
       "    <tr>\n",
       "      <th>6</th>\n",
       "      <td>Texas Royalties</td>\n",
       "      <td>16,339 12,869</td>\n",
       "      <td>14,344 11,276*</td>\n",
       "      <td>$60.65</td>\n",
       "      <td>$8.34**</td>\n",
       "    </tr>\n",
       "    <tr>\n",
       "      <th>7</th>\n",
       "      <td>NaN</td>\n",
       "      <td>NaN</td>\n",
       "      <td>NaN</td>\n",
       "      <td>NaN</td>\n",
       "      <td>NaN</td>\n",
       "    </tr>\n",
       "    <tr>\n",
       "      <th>8</th>\n",
       "      <td>Prior Month</td>\n",
       "      <td>NaN</td>\n",
       "      <td>NaN</td>\n",
       "      <td>NaN</td>\n",
       "      <td>NaN</td>\n",
       "    </tr>\n",
       "    <tr>\n",
       "      <th>9</th>\n",
       "      <td>Waddell Ranch</td>\n",
       "      <td>74,075 157,614</td>\n",
       "      <td>55,556 118,211*</td>\n",
       "      <td>$61.36</td>\n",
       "      <td>$3.38**</td>\n",
       "    </tr>\n",
       "    <tr>\n",
       "      <th>10</th>\n",
       "      <td>Texas Royalties</td>\n",
       "      <td>17,920 12,115</td>\n",
       "      <td>15,902 10,598*</td>\n",
       "      <td>$58.09</td>\n",
       "      <td>$6.86**</td>\n",
       "    </tr>\n",
       "  </tbody>\n",
       "</table>\n",
       "</div>"
      ],
      "text/plain": [
       "         Unnamed: 0             Unnamed: 1          Unnamed: 2 Unnamed: 3  \\\n",
       "0               NaN  Underlying Properties  Net to Trust Sales        NaN   \n",
       "1               NaN                Volumes             Volumes    Average   \n",
       "2               NaN               Oil  Gas            Oil  Gas        Oil   \n",
       "3               NaN           (bbls) (Mcf)        (bbls) (Mcf)  (per bbl)   \n",
       "4     Current Month                    NaN                 NaN        NaN   \n",
       "5     Waddell Ranch         80,362 259,608     60,272 194,706*     $59.93   \n",
       "6   Texas Royalties          16,339 12,869      14,344 11,276*     $60.65   \n",
       "7               NaN                    NaN                 NaN        NaN   \n",
       "8       Prior Month                    NaN                 NaN        NaN   \n",
       "9     Waddell Ranch         74,075 157,614     55,556 118,211*     $61.36   \n",
       "10  Texas Royalties          17,920 12,115      15,902 10,598*     $58.09   \n",
       "\n",
       "   Unnamed: 4  \n",
       "0         NaN  \n",
       "1       Price  \n",
       "2         Gas  \n",
       "3   (per Mcf)  \n",
       "4         NaN  \n",
       "5     $1.91**  \n",
       "6     $8.34**  \n",
       "7         NaN  \n",
       "8         NaN  \n",
       "9     $3.38**  \n",
       "10    $6.86**  "
      ]
     },
     "execution_count": 5,
     "metadata": {},
     "output_type": "execute_result"
    }
   ],
   "source": [
    "pbt_news_DF = read_pdf(f'{raw_data_folder}/pbt_news/2021/{news_file_name}')[0]\n",
    "\n",
    "pbt_news_DF"
   ]
  },
  {
   "cell_type": "code",
   "execution_count": 6,
   "id": "97aa3b27",
   "metadata": {
    "execution": {
     "iopub.execute_input": "2022-01-15T23:48:47.259508Z",
     "iopub.status.busy": "2022-01-15T23:48:47.259143Z",
     "iopub.status.idle": "2022-01-15T23:48:47.260380Z",
     "shell.execute_reply": "2022-01-15T23:48:47.260685Z"
    },
    "papermill": {
     "duration": 0.010896,
     "end_time": "2022-01-15T23:48:47.260820",
     "exception": false,
     "start_time": "2022-01-15T23:48:47.249924",
     "status": "completed"
    },
    "tags": []
   },
   "outputs": [],
   "source": [
    "cols_pdf = 'Property', 'Gross Oil Volume (PBT News)', 'Net Oil Volume (PBT News)', 'Average Oil Price', 'Average Gas Price'\n",
    "pbt_news_DF.columns = cols_pdf"
   ]
  },
  {
   "cell_type": "code",
   "execution_count": 7,
   "id": "1ae3c239",
   "metadata": {
    "execution": {
     "iopub.execute_input": "2022-01-15T23:48:47.280266Z",
     "iopub.status.busy": "2022-01-15T23:48:47.279887Z",
     "iopub.status.idle": "2022-01-15T23:48:47.281547Z",
     "shell.execute_reply": "2022-01-15T23:48:47.281857Z"
    },
    "papermill": {
     "duration": 0.014295,
     "end_time": "2022-01-15T23:48:47.281978",
     "exception": false,
     "start_time": "2022-01-15T23:48:47.267683",
     "status": "completed"
    },
    "tags": []
   },
   "outputs": [
    {
     "data": {
      "text/html": [
       "<div>\n",
       "<style scoped>\n",
       "    .dataframe tbody tr th:only-of-type {\n",
       "        vertical-align: middle;\n",
       "    }\n",
       "\n",
       "    .dataframe tbody tr th {\n",
       "        vertical-align: top;\n",
       "    }\n",
       "\n",
       "    .dataframe thead th {\n",
       "        text-align: right;\n",
       "    }\n",
       "</style>\n",
       "<table border=\"1\" class=\"dataframe\">\n",
       "  <thead>\n",
       "    <tr style=\"text-align: right;\">\n",
       "      <th></th>\n",
       "      <th>Property</th>\n",
       "      <th>Gross Oil Volume (PBT News)</th>\n",
       "      <th>Net Oil Volume (PBT News)</th>\n",
       "      <th>Average Oil Price</th>\n",
       "      <th>Average Gas Price</th>\n",
       "    </tr>\n",
       "  </thead>\n",
       "  <tbody>\n",
       "    <tr>\n",
       "      <th>5</th>\n",
       "      <td>Waddell Ranch</td>\n",
       "      <td>80,362 259,608</td>\n",
       "      <td>60,272 194,706*</td>\n",
       "      <td>$59.93</td>\n",
       "      <td>$1.91**</td>\n",
       "    </tr>\n",
       "    <tr>\n",
       "      <th>6</th>\n",
       "      <td>Texas Royalties</td>\n",
       "      <td>16,339 12,869</td>\n",
       "      <td>14,344 11,276*</td>\n",
       "      <td>$60.65</td>\n",
       "      <td>$8.34**</td>\n",
       "    </tr>\n",
       "    <tr>\n",
       "      <th>9</th>\n",
       "      <td>Waddell Ranch</td>\n",
       "      <td>74,075 157,614</td>\n",
       "      <td>55,556 118,211*</td>\n",
       "      <td>$61.36</td>\n",
       "      <td>$3.38**</td>\n",
       "    </tr>\n",
       "    <tr>\n",
       "      <th>10</th>\n",
       "      <td>Texas Royalties</td>\n",
       "      <td>17,920 12,115</td>\n",
       "      <td>15,902 10,598*</td>\n",
       "      <td>$58.09</td>\n",
       "      <td>$6.86**</td>\n",
       "    </tr>\n",
       "  </tbody>\n",
       "</table>\n",
       "</div>"
      ],
      "text/plain": [
       "           Property Gross Oil Volume (PBT News) Net Oil Volume (PBT News)  \\\n",
       "5     Waddell Ranch              80,362 259,608           60,272 194,706*   \n",
       "6   Texas Royalties               16,339 12,869            14,344 11,276*   \n",
       "9     Waddell Ranch              74,075 157,614           55,556 118,211*   \n",
       "10  Texas Royalties               17,920 12,115            15,902 10,598*   \n",
       "\n",
       "   Average Oil Price Average Gas Price  \n",
       "5             $59.93           $1.91**  \n",
       "6             $60.65           $8.34**  \n",
       "9             $61.36           $3.38**  \n",
       "10            $58.09           $6.86**  "
      ]
     },
     "execution_count": 7,
     "metadata": {},
     "output_type": "execute_result"
    }
   ],
   "source": [
    "pbt_news_DF.dropna(inplace = True)\n",
    "pbt_news_DF"
   ]
  },
  {
   "cell_type": "markdown",
   "id": "936c3277",
   "metadata": {
    "papermill": {
     "duration": 0.006751,
     "end_time": "2022-01-15T23:48:47.295669",
     "exception": false,
     "start_time": "2022-01-15T23:48:47.288918",
     "status": "completed"
    },
    "tags": []
   },
   "source": [
    "### Splitting Net Oil Column to Get Gas Volume\n",
    "### Applying Text Cleaning to remove commas"
   ]
  },
  {
   "cell_type": "code",
   "execution_count": 8,
   "id": "9244fbca",
   "metadata": {
    "execution": {
     "iopub.execute_input": "2022-01-15T23:48:47.313070Z",
     "iopub.status.busy": "2022-01-15T23:48:47.312619Z",
     "iopub.status.idle": "2022-01-15T23:48:47.313837Z",
     "shell.execute_reply": "2022-01-15T23:48:47.314080Z"
    },
    "papermill": {
     "duration": 0.011781,
     "end_time": "2022-01-15T23:48:47.314195",
     "exception": false,
     "start_time": "2022-01-15T23:48:47.302414",
     "status": "completed"
    },
    "tags": []
   },
   "outputs": [],
   "source": [
    "pbt_news_DF['Gross Gas Volume (PBT News)'] = pbt_news_DF['Gross Oil Volume (PBT News)'].apply(lambda x: int(x.split(' ')[1].replace(',', '')))\n",
    "\n",
    "pbt_news_DF['Gross Oil Volume (PBT News)'] = pbt_news_DF['Gross Oil Volume (PBT News)'].apply(lambda x: int(x.split(' ')[0].replace(',', '')))"
   ]
  },
  {
   "cell_type": "code",
   "execution_count": 9,
   "id": "8ce06c49",
   "metadata": {
    "execution": {
     "iopub.execute_input": "2022-01-15T23:48:47.332531Z",
     "iopub.status.busy": "2022-01-15T23:48:47.332105Z",
     "iopub.status.idle": "2022-01-15T23:48:47.333701Z",
     "shell.execute_reply": "2022-01-15T23:48:47.333931Z"
    },
    "papermill": {
     "duration": 0.012897,
     "end_time": "2022-01-15T23:48:47.334050",
     "exception": false,
     "start_time": "2022-01-15T23:48:47.321153",
     "status": "completed"
    },
    "tags": []
   },
   "outputs": [
    {
     "data": {
      "text/html": [
       "<div>\n",
       "<style scoped>\n",
       "    .dataframe tbody tr th:only-of-type {\n",
       "        vertical-align: middle;\n",
       "    }\n",
       "\n",
       "    .dataframe tbody tr th {\n",
       "        vertical-align: top;\n",
       "    }\n",
       "\n",
       "    .dataframe thead th {\n",
       "        text-align: right;\n",
       "    }\n",
       "</style>\n",
       "<table border=\"1\" class=\"dataframe\">\n",
       "  <thead>\n",
       "    <tr style=\"text-align: right;\">\n",
       "      <th></th>\n",
       "      <th>Property</th>\n",
       "      <th>Gross Oil Volume (PBT News)</th>\n",
       "      <th>Net Oil Volume (PBT News)</th>\n",
       "      <th>Average Oil Price</th>\n",
       "      <th>Average Gas Price</th>\n",
       "      <th>Gross Gas Volume (PBT News)</th>\n",
       "    </tr>\n",
       "  </thead>\n",
       "  <tbody>\n",
       "    <tr>\n",
       "      <th>5</th>\n",
       "      <td>Waddell Ranch</td>\n",
       "      <td>80362</td>\n",
       "      <td>60,272 194,706*</td>\n",
       "      <td>$59.93</td>\n",
       "      <td>$1.91**</td>\n",
       "      <td>259608</td>\n",
       "    </tr>\n",
       "    <tr>\n",
       "      <th>6</th>\n",
       "      <td>Texas Royalties</td>\n",
       "      <td>16339</td>\n",
       "      <td>14,344 11,276*</td>\n",
       "      <td>$60.65</td>\n",
       "      <td>$8.34**</td>\n",
       "      <td>12869</td>\n",
       "    </tr>\n",
       "    <tr>\n",
       "      <th>9</th>\n",
       "      <td>Waddell Ranch</td>\n",
       "      <td>74075</td>\n",
       "      <td>55,556 118,211*</td>\n",
       "      <td>$61.36</td>\n",
       "      <td>$3.38**</td>\n",
       "      <td>157614</td>\n",
       "    </tr>\n",
       "    <tr>\n",
       "      <th>10</th>\n",
       "      <td>Texas Royalties</td>\n",
       "      <td>17920</td>\n",
       "      <td>15,902 10,598*</td>\n",
       "      <td>$58.09</td>\n",
       "      <td>$6.86**</td>\n",
       "      <td>12115</td>\n",
       "    </tr>\n",
       "  </tbody>\n",
       "</table>\n",
       "</div>"
      ],
      "text/plain": [
       "           Property  Gross Oil Volume (PBT News) Net Oil Volume (PBT News)  \\\n",
       "5     Waddell Ranch                        80362           60,272 194,706*   \n",
       "6   Texas Royalties                        16339            14,344 11,276*   \n",
       "9     Waddell Ranch                        74075           55,556 118,211*   \n",
       "10  Texas Royalties                        17920            15,902 10,598*   \n",
       "\n",
       "   Average Oil Price Average Gas Price  Gross Gas Volume (PBT News)  \n",
       "5             $59.93           $1.91**                       259608  \n",
       "6             $60.65           $8.34**                        12869  \n",
       "9             $61.36           $3.38**                       157614  \n",
       "10            $58.09           $6.86**                        12115  "
      ]
     },
     "execution_count": 9,
     "metadata": {},
     "output_type": "execute_result"
    }
   ],
   "source": [
    "pbt_news_DF"
   ]
  },
  {
   "cell_type": "markdown",
   "id": "bd4fafe8",
   "metadata": {
    "papermill": {
     "duration": 0.00712,
     "end_time": "2022-01-15T23:48:47.348459",
     "exception": false,
     "start_time": "2022-01-15T23:48:47.341339",
     "status": "completed"
    },
    "tags": []
   },
   "source": [
    "### Splitting Net Oil Column to Get Gas Volume\n",
    "### Applying Text Cleaning to remove commas and asterisks"
   ]
  },
  {
   "cell_type": "code",
   "execution_count": 10,
   "id": "71a54166",
   "metadata": {
    "execution": {
     "iopub.execute_input": "2022-01-15T23:48:47.368496Z",
     "iopub.status.busy": "2022-01-15T23:48:47.368106Z",
     "iopub.status.idle": "2022-01-15T23:48:47.369410Z",
     "shell.execute_reply": "2022-01-15T23:48:47.369825Z"
    },
    "papermill": {
     "duration": 0.013318,
     "end_time": "2022-01-15T23:48:47.370039",
     "exception": false,
     "start_time": "2022-01-15T23:48:47.356721",
     "status": "completed"
    },
    "tags": []
   },
   "outputs": [],
   "source": [
    "pbt_news_DF['Net Gas Volume (PBT News)'] = pbt_news_DF['Net Oil Volume (PBT News)'].apply(lambda x: int(x.split(' ')[1]\\\n",
    "                                                                                  .replace(',', '')\\\n",
    "                                                                                 .replace('*','')))\n",
    "\n",
    "pbt_news_DF['Net Oil Volume (PBT News)'] = pbt_news_DF['Net Oil Volume (PBT News)'].apply(lambda x: int(x.split(' ')[0].replace(',', '')))"
   ]
  },
  {
   "cell_type": "markdown",
   "id": "aaccf39d",
   "metadata": {
    "papermill": {
     "duration": 0.007116,
     "end_time": "2022-01-15T23:48:47.384767",
     "exception": false,
     "start_time": "2022-01-15T23:48:47.377651",
     "status": "completed"
    },
    "tags": []
   },
   "source": [
    "### Cleaning Prices Columns by removing asterisks and Dollar Sign"
   ]
  },
  {
   "cell_type": "code",
   "execution_count": 11,
   "id": "e2b7313b",
   "metadata": {
    "execution": {
     "iopub.execute_input": "2022-01-15T23:48:47.402442Z",
     "iopub.status.busy": "2022-01-15T23:48:47.402010Z",
     "iopub.status.idle": "2022-01-15T23:48:47.403209Z",
     "shell.execute_reply": "2022-01-15T23:48:47.403458Z"
    },
    "papermill": {
     "duration": 0.011692,
     "end_time": "2022-01-15T23:48:47.403591",
     "exception": false,
     "start_time": "2022-01-15T23:48:47.391899",
     "status": "completed"
    },
    "tags": []
   },
   "outputs": [],
   "source": [
    "pbt_news_DF['Average Gas Price'] = pbt_news_DF['Average Gas Price'].apply(lambda x: x.replace('$','').replace('**',''))\n",
    "\n",
    "pbt_news_DF['Average Oil Price'] = pbt_news_DF['Average Oil Price'].apply(lambda x: x.replace('$','').replace('**',''))"
   ]
  },
  {
   "cell_type": "code",
   "execution_count": 12,
   "id": "db418091",
   "metadata": {
    "execution": {
     "iopub.execute_input": "2022-01-15T23:48:47.420516Z",
     "iopub.status.busy": "2022-01-15T23:48:47.420085Z",
     "iopub.status.idle": "2022-01-15T23:48:47.421101Z",
     "shell.execute_reply": "2022-01-15T23:48:47.421331Z"
    },
    "papermill": {
     "duration": 0.010372,
     "end_time": "2022-01-15T23:48:47.421439",
     "exception": false,
     "start_time": "2022-01-15T23:48:47.411067",
     "status": "completed"
    },
    "tags": []
   },
   "outputs": [],
   "source": [
    "#filtering table to the 'current month' values\n",
    "pbt_news_DF = pbt_news_DF.head(2)"
   ]
  },
  {
   "cell_type": "code",
   "execution_count": 13,
   "id": "f7e14200",
   "metadata": {
    "execution": {
     "iopub.execute_input": "2022-01-15T23:48:47.440481Z",
     "iopub.status.busy": "2022-01-15T23:48:47.440063Z",
     "iopub.status.idle": "2022-01-15T23:48:47.441688Z",
     "shell.execute_reply": "2022-01-15T23:48:47.441970Z"
    },
    "papermill": {
     "duration": 0.013299,
     "end_time": "2022-01-15T23:48:47.442081",
     "exception": false,
     "start_time": "2022-01-15T23:48:47.428782",
     "status": "completed"
    },
    "tags": []
   },
   "outputs": [
    {
     "data": {
      "text/html": [
       "<div>\n",
       "<style scoped>\n",
       "    .dataframe tbody tr th:only-of-type {\n",
       "        vertical-align: middle;\n",
       "    }\n",
       "\n",
       "    .dataframe tbody tr th {\n",
       "        vertical-align: top;\n",
       "    }\n",
       "\n",
       "    .dataframe thead th {\n",
       "        text-align: right;\n",
       "    }\n",
       "</style>\n",
       "<table border=\"1\" class=\"dataframe\">\n",
       "  <thead>\n",
       "    <tr style=\"text-align: right;\">\n",
       "      <th></th>\n",
       "      <th>Property</th>\n",
       "      <th>Gross Oil Volume (PBT News)</th>\n",
       "      <th>Net Oil Volume (PBT News)</th>\n",
       "      <th>Average Oil Price</th>\n",
       "      <th>Average Gas Price</th>\n",
       "      <th>Gross Gas Volume (PBT News)</th>\n",
       "      <th>Net Gas Volume (PBT News)</th>\n",
       "    </tr>\n",
       "  </thead>\n",
       "  <tbody>\n",
       "    <tr>\n",
       "      <th>5</th>\n",
       "      <td>Waddell Ranch</td>\n",
       "      <td>80362</td>\n",
       "      <td>60272</td>\n",
       "      <td>59.93</td>\n",
       "      <td>1.91</td>\n",
       "      <td>259608</td>\n",
       "      <td>194706</td>\n",
       "    </tr>\n",
       "    <tr>\n",
       "      <th>6</th>\n",
       "      <td>Texas Royalties</td>\n",
       "      <td>16339</td>\n",
       "      <td>14344</td>\n",
       "      <td>60.65</td>\n",
       "      <td>8.34</td>\n",
       "      <td>12869</td>\n",
       "      <td>11276</td>\n",
       "    </tr>\n",
       "  </tbody>\n",
       "</table>\n",
       "</div>"
      ],
      "text/plain": [
       "          Property  Gross Oil Volume (PBT News)  Net Oil Volume (PBT News)  \\\n",
       "5    Waddell Ranch                        80362                      60272   \n",
       "6  Texas Royalties                        16339                      14344   \n",
       "\n",
       "  Average Oil Price Average Gas Price  Gross Gas Volume (PBT News)  \\\n",
       "5             59.93              1.91                       259608   \n",
       "6             60.65              8.34                        12869   \n",
       "\n",
       "   Net Gas Volume (PBT News)  \n",
       "5                     194706  \n",
       "6                      11276  "
      ]
     },
     "execution_count": 13,
     "metadata": {},
     "output_type": "execute_result"
    }
   ],
   "source": [
    "pbt_news_DF"
   ]
  },
  {
   "cell_type": "code",
   "execution_count": 14,
   "id": "3418a45d",
   "metadata": {
    "execution": {
     "iopub.execute_input": "2022-01-15T23:48:47.459229Z",
     "iopub.status.busy": "2022-01-15T23:48:47.458827Z",
     "iopub.status.idle": "2022-01-15T23:48:47.460135Z",
     "shell.execute_reply": "2022-01-15T23:48:47.460370Z"
    },
    "papermill": {
     "duration": 0.010848,
     "end_time": "2022-01-15T23:48:47.460482",
     "exception": false,
     "start_time": "2022-01-15T23:48:47.449634",
     "status": "completed"
    },
    "tags": []
   },
   "outputs": [],
   "source": [
    "date_from_filename = news_file_name.split(',')[1]\\\n",
    "                                    .split('.')[0]\\\n",
    "                                    .strip()\\\n",
    "                                    .replace(' prod', '')"
   ]
  },
  {
   "cell_type": "code",
   "execution_count": 15,
   "id": "7f62808a",
   "metadata": {
    "execution": {
     "iopub.execute_input": "2022-01-15T23:48:47.479300Z",
     "iopub.status.busy": "2022-01-15T23:48:47.478873Z",
     "iopub.status.idle": "2022-01-15T23:48:47.480086Z",
     "shell.execute_reply": "2022-01-15T23:48:47.480333Z"
    },
    "papermill": {
     "duration": 0.01149,
     "end_time": "2022-01-15T23:48:47.480444",
     "exception": false,
     "start_time": "2022-01-15T23:48:47.468954",
     "status": "completed"
    },
    "tags": []
   },
   "outputs": [],
   "source": [
    "pbt_news_DF.insert(0, 'Date', date_from_filename.title())"
   ]
  },
  {
   "cell_type": "code",
   "execution_count": 16,
   "id": "30dfab25",
   "metadata": {
    "execution": {
     "iopub.execute_input": "2022-01-15T23:48:47.500435Z",
     "iopub.status.busy": "2022-01-15T23:48:47.500050Z",
     "iopub.status.idle": "2022-01-15T23:48:47.501638Z",
     "shell.execute_reply": "2022-01-15T23:48:47.501887Z"
    },
    "papermill": {
     "duration": 0.013844,
     "end_time": "2022-01-15T23:48:47.502012",
     "exception": false,
     "start_time": "2022-01-15T23:48:47.488168",
     "status": "completed"
    },
    "tags": []
   },
   "outputs": [
    {
     "data": {
      "text/html": [
       "<div>\n",
       "<style scoped>\n",
       "    .dataframe tbody tr th:only-of-type {\n",
       "        vertical-align: middle;\n",
       "    }\n",
       "\n",
       "    .dataframe tbody tr th {\n",
       "        vertical-align: top;\n",
       "    }\n",
       "\n",
       "    .dataframe thead th {\n",
       "        text-align: right;\n",
       "    }\n",
       "</style>\n",
       "<table border=\"1\" class=\"dataframe\">\n",
       "  <thead>\n",
       "    <tr style=\"text-align: right;\">\n",
       "      <th></th>\n",
       "      <th>Date</th>\n",
       "      <th>Property</th>\n",
       "      <th>Gross Oil Volume (PBT News)</th>\n",
       "      <th>Net Oil Volume (PBT News)</th>\n",
       "      <th>Average Oil Price</th>\n",
       "      <th>Average Gas Price</th>\n",
       "      <th>Gross Gas Volume (PBT News)</th>\n",
       "      <th>Net Gas Volume (PBT News)</th>\n",
       "    </tr>\n",
       "  </thead>\n",
       "  <tbody>\n",
       "    <tr>\n",
       "      <th>5</th>\n",
       "      <td>Apr 2021</td>\n",
       "      <td>Waddell Ranch</td>\n",
       "      <td>80362</td>\n",
       "      <td>60272</td>\n",
       "      <td>59.93</td>\n",
       "      <td>1.91</td>\n",
       "      <td>259608</td>\n",
       "      <td>194706</td>\n",
       "    </tr>\n",
       "    <tr>\n",
       "      <th>6</th>\n",
       "      <td>Apr 2021</td>\n",
       "      <td>Texas Royalties</td>\n",
       "      <td>16339</td>\n",
       "      <td>14344</td>\n",
       "      <td>60.65</td>\n",
       "      <td>8.34</td>\n",
       "      <td>12869</td>\n",
       "      <td>11276</td>\n",
       "    </tr>\n",
       "  </tbody>\n",
       "</table>\n",
       "</div>"
      ],
      "text/plain": [
       "       Date         Property  Gross Oil Volume (PBT News)  \\\n",
       "5  Apr 2021    Waddell Ranch                        80362   \n",
       "6  Apr 2021  Texas Royalties                        16339   \n",
       "\n",
       "   Net Oil Volume (PBT News) Average Oil Price Average Gas Price  \\\n",
       "5                      60272             59.93              1.91   \n",
       "6                      14344             60.65              8.34   \n",
       "\n",
       "   Gross Gas Volume (PBT News)  Net Gas Volume (PBT News)  \n",
       "5                       259608                     194706  \n",
       "6                        12869                      11276  "
      ]
     },
     "execution_count": 16,
     "metadata": {},
     "output_type": "execute_result"
    }
   ],
   "source": [
    "pbt_news_DF"
   ]
  },
  {
   "cell_type": "markdown",
   "id": "84a27d62",
   "metadata": {
    "papermill": {
     "duration": 0.008382,
     "end_time": "2022-01-15T23:48:47.518221",
     "exception": false,
     "start_time": "2022-01-15T23:48:47.509839",
     "status": "completed"
    },
    "tags": []
   },
   "source": [
    "# Write Table to File"
   ]
  },
  {
   "cell_type": "code",
   "execution_count": 17,
   "id": "0d50b451",
   "metadata": {
    "execution": {
     "iopub.execute_input": "2022-01-15T23:48:47.537483Z",
     "iopub.status.busy": "2022-01-15T23:48:47.537094Z",
     "iopub.status.idle": "2022-01-15T23:48:47.538760Z",
     "shell.execute_reply": "2022-01-15T23:48:47.539063Z"
    },
    "papermill": {
     "duration": 0.0129,
     "end_time": "2022-01-15T23:48:47.539182",
     "exception": false,
     "start_time": "2022-01-15T23:48:47.526282",
     "status": "completed"
    },
    "tags": []
   },
   "outputs": [
    {
     "data": {
      "text/plain": [
       "'june 2021 news, apr 2021 prod.csv'"
      ]
     },
     "execution_count": 17,
     "metadata": {},
     "output_type": "execute_result"
    }
   ],
   "source": [
    "to_file_name = news_file_name.split('.')[0] + '.csv'\n",
    "\n",
    "to_file_name"
   ]
  },
  {
   "cell_type": "code",
   "execution_count": 18,
   "id": "b51450e5",
   "metadata": {
    "execution": {
     "iopub.execute_input": "2022-01-15T23:48:47.557986Z",
     "iopub.status.busy": "2022-01-15T23:48:47.557630Z",
     "iopub.status.idle": "2022-01-15T23:48:47.560276Z",
     "shell.execute_reply": "2022-01-15T23:48:47.560524Z"
    },
    "papermill": {
     "duration": 0.01291,
     "end_time": "2022-01-15T23:48:47.560646",
     "exception": false,
     "start_time": "2022-01-15T23:48:47.547736",
     "status": "completed"
    },
    "tags": []
   },
   "outputs": [],
   "source": [
    "pbt_news_DF.to_csv(f'{processed_data_folder}/pbt_news_prod/{to_file_name}', index = False)"
   ]
  },
  {
   "cell_type": "code",
   "execution_count": null,
   "id": "dfa563b5",
   "metadata": {
    "papermill": {
     "duration": 0.008256,
     "end_time": "2022-01-15T23:48:47.577916",
     "exception": false,
     "start_time": "2022-01-15T23:48:47.569660",
     "status": "completed"
    },
    "tags": []
   },
   "outputs": [],
   "source": []
  }
 ],
 "metadata": {
  "celltoolbar": "Tags",
  "kernelspec": {
   "display_name": "Python 3 (ipykernel)",
   "language": "python",
   "name": "python3"
  },
  "language_info": {
   "codemirror_mode": {
    "name": "ipython",
    "version": 3
   },
   "file_extension": ".py",
   "mimetype": "text/x-python",
   "name": "python",
   "nbconvert_exporter": "python",
   "pygments_lexer": "ipython3",
   "version": "3.9.7"
  },
  "papermill": {
   "default_parameters": {},
   "duration": 4.917567,
   "end_time": "2022-01-15T23:48:47.793255",
   "environment_variables": {},
   "exception": null,
   "input_path": "3. Ingest PBT News Release PDFs.ipynb",
   "output_path": "output_notebooks/pbt_news_runs/june 2021 news, apr 2021 prod.pdf.ipynb",
   "parameters": {
    "news_file_name": "june 2021 news, apr 2021 prod.pdf"
   },
   "start_time": "2022-01-15T23:48:42.875688",
   "version": "2.3.3"
  }
 },
 "nbformat": 4,
 "nbformat_minor": 5
}