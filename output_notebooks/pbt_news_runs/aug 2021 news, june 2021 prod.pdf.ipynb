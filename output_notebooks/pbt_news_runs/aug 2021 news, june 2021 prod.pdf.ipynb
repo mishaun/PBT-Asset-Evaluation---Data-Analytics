{
 "cells": [
  {
   "cell_type": "markdown",
   "id": "b020d585",
   "metadata": {
    "papermill": {
     "duration": 0.02832,
     "end_time": "2022-01-15T23:48:37.620387",
     "exception": false,
     "start_time": "2022-01-15T23:48:37.592067",
     "status": "completed"
    },
    "tags": []
   },
   "source": [
    "# Ingest PBT News Releases"
   ]
  },
  {
   "cell_type": "code",
   "execution_count": 1,
   "id": "dfeb746d",
   "metadata": {
    "execution": {
     "iopub.execute_input": "2022-01-15T23:48:37.641537Z",
     "iopub.status.busy": "2022-01-15T23:48:37.640970Z",
     "iopub.status.idle": "2022-01-15T23:48:38.437226Z",
     "shell.execute_reply": "2022-01-15T23:48:38.437699Z"
    },
    "papermill": {
     "duration": 0.809522,
     "end_time": "2022-01-15T23:48:38.437967",
     "exception": false,
     "start_time": "2022-01-15T23:48:37.628445",
     "status": "completed"
    },
    "tags": []
   },
   "outputs": [],
   "source": [
    "from tabula import read_pdf"
   ]
  },
  {
   "cell_type": "code",
   "execution_count": 2,
   "id": "79c56f99",
   "metadata": {
    "execution": {
     "iopub.execute_input": "2022-01-15T23:48:38.455326Z",
     "iopub.status.busy": "2022-01-15T23:48:38.454895Z",
     "iopub.status.idle": "2022-01-15T23:48:38.484342Z",
     "shell.execute_reply": "2022-01-15T23:48:38.484582Z"
    },
    "papermill": {
     "duration": 0.039282,
     "end_time": "2022-01-15T23:48:38.484763",
     "exception": false,
     "start_time": "2022-01-15T23:48:38.445481",
     "status": "completed"
    },
    "tags": []
   },
   "outputs": [],
   "source": [
    "%run configs.ipynb"
   ]
  },
  {
   "cell_type": "code",
   "execution_count": 3,
   "id": "0339b1fb",
   "metadata": {
    "execution": {
     "iopub.execute_input": "2022-01-15T23:48:38.500643Z",
     "iopub.status.busy": "2022-01-15T23:48:38.500099Z",
     "iopub.status.idle": "2022-01-15T23:48:38.501582Z",
     "shell.execute_reply": "2022-01-15T23:48:38.501843Z"
    },
    "papermill": {
     "duration": 0.010543,
     "end_time": "2022-01-15T23:48:38.501969",
     "exception": false,
     "start_time": "2022-01-15T23:48:38.491426",
     "status": "completed"
    },
    "tags": [
     "parameters"
    ]
   },
   "outputs": [],
   "source": [
    "news_file_name = 'dec 2021 news, oct 2021 prod.pdf'"
   ]
  },
  {
   "cell_type": "code",
   "execution_count": 4,
   "id": "649ef39d",
   "metadata": {
    "execution": {
     "iopub.execute_input": "2022-01-15T23:48:38.517578Z",
     "iopub.status.busy": "2022-01-15T23:48:38.517127Z",
     "iopub.status.idle": "2022-01-15T23:48:38.518801Z",
     "shell.execute_reply": "2022-01-15T23:48:38.519049Z"
    },
    "papermill": {
     "duration": 0.01068,
     "end_time": "2022-01-15T23:48:38.519184",
     "exception": false,
     "start_time": "2022-01-15T23:48:38.508504",
     "status": "completed"
    },
    "tags": [
     "injected-parameters"
    ]
   },
   "outputs": [],
   "source": [
    "# Parameters\n",
    "news_file_name = \"aug 2021 news, june 2021 prod.pdf\"\n"
   ]
  },
  {
   "cell_type": "code",
   "execution_count": 5,
   "id": "69d15a49",
   "metadata": {
    "execution": {
     "iopub.execute_input": "2022-01-15T23:48:38.535588Z",
     "iopub.status.busy": "2022-01-15T23:48:38.534960Z",
     "iopub.status.idle": "2022-01-15T23:48:41.315416Z",
     "shell.execute_reply": "2022-01-15T23:48:41.315720Z"
    },
    "papermill": {
     "duration": 2.79001,
     "end_time": "2022-01-15T23:48:41.315858",
     "exception": false,
     "start_time": "2022-01-15T23:48:38.525848",
     "status": "completed"
    },
    "tags": []
   },
   "outputs": [
    {
     "name": "stderr",
     "output_type": "stream",
     "text": [
      "'pages' argument isn't specified.Will extract only from page 1 by default.\n"
     ]
    },
    {
     "data": {
      "text/html": [
       "<div>\n",
       "<style scoped>\n",
       "    .dataframe tbody tr th:only-of-type {\n",
       "        vertical-align: middle;\n",
       "    }\n",
       "\n",
       "    .dataframe tbody tr th {\n",
       "        vertical-align: top;\n",
       "    }\n",
       "\n",
       "    .dataframe thead th {\n",
       "        text-align: right;\n",
       "    }\n",
       "</style>\n",
       "<table border=\"1\" class=\"dataframe\">\n",
       "  <thead>\n",
       "    <tr style=\"text-align: right;\">\n",
       "      <th></th>\n",
       "      <th>Unnamed: 0</th>\n",
       "      <th>Unnamed: 1</th>\n",
       "      <th>Unnamed: 2</th>\n",
       "      <th>Unnamed: 3</th>\n",
       "      <th>Unnamed: 4</th>\n",
       "    </tr>\n",
       "  </thead>\n",
       "  <tbody>\n",
       "    <tr>\n",
       "      <th>0</th>\n",
       "      <td>NaN</td>\n",
       "      <td>Underlying Properties</td>\n",
       "      <td>Net to Trust Sales</td>\n",
       "      <td>NaN</td>\n",
       "      <td>NaN</td>\n",
       "    </tr>\n",
       "    <tr>\n",
       "      <th>1</th>\n",
       "      <td>NaN</td>\n",
       "      <td>Volumes</td>\n",
       "      <td>Volumes</td>\n",
       "      <td>Average</td>\n",
       "      <td>Price</td>\n",
       "    </tr>\n",
       "    <tr>\n",
       "      <th>2</th>\n",
       "      <td>NaN</td>\n",
       "      <td>Oil  Gas</td>\n",
       "      <td>Oil  Gas</td>\n",
       "      <td>Oil</td>\n",
       "      <td>Gas</td>\n",
       "    </tr>\n",
       "    <tr>\n",
       "      <th>3</th>\n",
       "      <td>NaN</td>\n",
       "      <td>(bbls) (Mcf)</td>\n",
       "      <td>(bbls) (Mcf)</td>\n",
       "      <td>(per bbl)</td>\n",
       "      <td>(per Mcf)</td>\n",
       "    </tr>\n",
       "    <tr>\n",
       "      <th>4</th>\n",
       "      <td>Current Month</td>\n",
       "      <td>NaN</td>\n",
       "      <td>NaN</td>\n",
       "      <td>NaN</td>\n",
       "      <td>NaN</td>\n",
       "    </tr>\n",
       "    <tr>\n",
       "      <th>5</th>\n",
       "      <td>Waddell Ranch</td>\n",
       "      <td>90,258 220,120</td>\n",
       "      <td>67,694 165,090*</td>\n",
       "      <td>$70.22</td>\n",
       "      <td>$4.21**</td>\n",
       "    </tr>\n",
       "    <tr>\n",
       "      <th>6</th>\n",
       "      <td>Texas Royalties</td>\n",
       "      <td>17,820 9,894</td>\n",
       "      <td>15,854 8,797*</td>\n",
       "      <td>$69.06</td>\n",
       "      <td>$7.89**</td>\n",
       "    </tr>\n",
       "    <tr>\n",
       "      <th>7</th>\n",
       "      <td>NaN</td>\n",
       "      <td>NaN</td>\n",
       "      <td>NaN</td>\n",
       "      <td>NaN</td>\n",
       "      <td>NaN</td>\n",
       "    </tr>\n",
       "    <tr>\n",
       "      <th>8</th>\n",
       "      <td>Prior Month</td>\n",
       "      <td>NaN</td>\n",
       "      <td>NaN</td>\n",
       "      <td>NaN</td>\n",
       "      <td>NaN</td>\n",
       "    </tr>\n",
       "    <tr>\n",
       "      <th>9</th>\n",
       "      <td>Waddell Ranch</td>\n",
       "      <td>94,554 194,689</td>\n",
       "      <td>70,916 146,017*</td>\n",
       "      <td>$63.97</td>\n",
       "      <td>$2.61**</td>\n",
       "    </tr>\n",
       "    <tr>\n",
       "      <th>10</th>\n",
       "      <td>Texas Royalties</td>\n",
       "      <td>19,114 10,523</td>\n",
       "      <td>16,949 9,333*</td>\n",
       "      <td>$61.94</td>\n",
       "      <td>$6.62**</td>\n",
       "    </tr>\n",
       "  </tbody>\n",
       "</table>\n",
       "</div>"
      ],
      "text/plain": [
       "         Unnamed: 0             Unnamed: 1          Unnamed: 2 Unnamed: 3  \\\n",
       "0               NaN  Underlying Properties  Net to Trust Sales        NaN   \n",
       "1               NaN                Volumes             Volumes    Average   \n",
       "2               NaN               Oil  Gas            Oil  Gas        Oil   \n",
       "3               NaN           (bbls) (Mcf)        (bbls) (Mcf)  (per bbl)   \n",
       "4     Current Month                    NaN                 NaN        NaN   \n",
       "5     Waddell Ranch         90,258 220,120     67,694 165,090*     $70.22   \n",
       "6   Texas Royalties           17,820 9,894       15,854 8,797*     $69.06   \n",
       "7               NaN                    NaN                 NaN        NaN   \n",
       "8       Prior Month                    NaN                 NaN        NaN   \n",
       "9     Waddell Ranch         94,554 194,689     70,916 146,017*     $63.97   \n",
       "10  Texas Royalties          19,114 10,523       16,949 9,333*     $61.94   \n",
       "\n",
       "   Unnamed: 4  \n",
       "0         NaN  \n",
       "1       Price  \n",
       "2         Gas  \n",
       "3   (per Mcf)  \n",
       "4         NaN  \n",
       "5     $4.21**  \n",
       "6     $7.89**  \n",
       "7         NaN  \n",
       "8         NaN  \n",
       "9     $2.61**  \n",
       "10    $6.62**  "
      ]
     },
     "execution_count": 5,
     "metadata": {},
     "output_type": "execute_result"
    }
   ],
   "source": [
    "pbt_news_DF = read_pdf(f'{raw_data_folder}/pbt_news/2021/{news_file_name}')[0]\n",
    "\n",
    "pbt_news_DF"
   ]
  },
  {
   "cell_type": "code",
   "execution_count": 6,
   "id": "97aa3b27",
   "metadata": {
    "execution": {
     "iopub.execute_input": "2022-01-15T23:48:41.333228Z",
     "iopub.status.busy": "2022-01-15T23:48:41.332851Z",
     "iopub.status.idle": "2022-01-15T23:48:41.334131Z",
     "shell.execute_reply": "2022-01-15T23:48:41.334420Z"
    },
    "papermill": {
     "duration": 0.01111,
     "end_time": "2022-01-15T23:48:41.334533",
     "exception": false,
     "start_time": "2022-01-15T23:48:41.323423",
     "status": "completed"
    },
    "tags": []
   },
   "outputs": [],
   "source": [
    "cols_pdf = 'Property', 'Gross Oil Volume (PBT News)', 'Net Oil Volume (PBT News)', 'Average Oil Price', 'Average Gas Price'\n",
    "pbt_news_DF.columns = cols_pdf"
   ]
  },
  {
   "cell_type": "code",
   "execution_count": 7,
   "id": "1ae3c239",
   "metadata": {
    "execution": {
     "iopub.execute_input": "2022-01-15T23:48:41.354922Z",
     "iopub.status.busy": "2022-01-15T23:48:41.354524Z",
     "iopub.status.idle": "2022-01-15T23:48:41.356114Z",
     "shell.execute_reply": "2022-01-15T23:48:41.356337Z"
    },
    "papermill": {
     "duration": 0.015191,
     "end_time": "2022-01-15T23:48:41.356461",
     "exception": false,
     "start_time": "2022-01-15T23:48:41.341270",
     "status": "completed"
    },
    "tags": []
   },
   "outputs": [
    {
     "data": {
      "text/html": [
       "<div>\n",
       "<style scoped>\n",
       "    .dataframe tbody tr th:only-of-type {\n",
       "        vertical-align: middle;\n",
       "    }\n",
       "\n",
       "    .dataframe tbody tr th {\n",
       "        vertical-align: top;\n",
       "    }\n",
       "\n",
       "    .dataframe thead th {\n",
       "        text-align: right;\n",
       "    }\n",
       "</style>\n",
       "<table border=\"1\" class=\"dataframe\">\n",
       "  <thead>\n",
       "    <tr style=\"text-align: right;\">\n",
       "      <th></th>\n",
       "      <th>Property</th>\n",
       "      <th>Gross Oil Volume (PBT News)</th>\n",
       "      <th>Net Oil Volume (PBT News)</th>\n",
       "      <th>Average Oil Price</th>\n",
       "      <th>Average Gas Price</th>\n",
       "    </tr>\n",
       "  </thead>\n",
       "  <tbody>\n",
       "    <tr>\n",
       "      <th>5</th>\n",
       "      <td>Waddell Ranch</td>\n",
       "      <td>90,258 220,120</td>\n",
       "      <td>67,694 165,090*</td>\n",
       "      <td>$70.22</td>\n",
       "      <td>$4.21**</td>\n",
       "    </tr>\n",
       "    <tr>\n",
       "      <th>6</th>\n",
       "      <td>Texas Royalties</td>\n",
       "      <td>17,820 9,894</td>\n",
       "      <td>15,854 8,797*</td>\n",
       "      <td>$69.06</td>\n",
       "      <td>$7.89**</td>\n",
       "    </tr>\n",
       "    <tr>\n",
       "      <th>9</th>\n",
       "      <td>Waddell Ranch</td>\n",
       "      <td>94,554 194,689</td>\n",
       "      <td>70,916 146,017*</td>\n",
       "      <td>$63.97</td>\n",
       "      <td>$2.61**</td>\n",
       "    </tr>\n",
       "    <tr>\n",
       "      <th>10</th>\n",
       "      <td>Texas Royalties</td>\n",
       "      <td>19,114 10,523</td>\n",
       "      <td>16,949 9,333*</td>\n",
       "      <td>$61.94</td>\n",
       "      <td>$6.62**</td>\n",
       "    </tr>\n",
       "  </tbody>\n",
       "</table>\n",
       "</div>"
      ],
      "text/plain": [
       "           Property Gross Oil Volume (PBT News) Net Oil Volume (PBT News)  \\\n",
       "5     Waddell Ranch              90,258 220,120           67,694 165,090*   \n",
       "6   Texas Royalties                17,820 9,894             15,854 8,797*   \n",
       "9     Waddell Ranch              94,554 194,689           70,916 146,017*   \n",
       "10  Texas Royalties               19,114 10,523             16,949 9,333*   \n",
       "\n",
       "   Average Oil Price Average Gas Price  \n",
       "5             $70.22           $4.21**  \n",
       "6             $69.06           $7.89**  \n",
       "9             $63.97           $2.61**  \n",
       "10            $61.94           $6.62**  "
      ]
     },
     "execution_count": 7,
     "metadata": {},
     "output_type": "execute_result"
    }
   ],
   "source": [
    "pbt_news_DF.dropna(inplace = True)\n",
    "pbt_news_DF"
   ]
  },
  {
   "cell_type": "markdown",
   "id": "936c3277",
   "metadata": {
    "papermill": {
     "duration": 0.007359,
     "end_time": "2022-01-15T23:48:41.371105",
     "exception": false,
     "start_time": "2022-01-15T23:48:41.363746",
     "status": "completed"
    },
    "tags": []
   },
   "source": [
    "### Splitting Net Oil Column to Get Gas Volume\n",
    "### Applying Text Cleaning to remove commas"
   ]
  },
  {
   "cell_type": "code",
   "execution_count": 8,
   "id": "9244fbca",
   "metadata": {
    "execution": {
     "iopub.execute_input": "2022-01-15T23:48:41.389026Z",
     "iopub.status.busy": "2022-01-15T23:48:41.388617Z",
     "iopub.status.idle": "2022-01-15T23:48:41.389934Z",
     "shell.execute_reply": "2022-01-15T23:48:41.390170Z"
    },
    "papermill": {
     "duration": 0.012206,
     "end_time": "2022-01-15T23:48:41.390289",
     "exception": false,
     "start_time": "2022-01-15T23:48:41.378083",
     "status": "completed"
    },
    "tags": []
   },
   "outputs": [],
   "source": [
    "pbt_news_DF['Gross Gas Volume (PBT News)'] = pbt_news_DF['Gross Oil Volume (PBT News)'].apply(lambda x: int(x.split(' ')[1].replace(',', '')))\n",
    "\n",
    "pbt_news_DF['Gross Oil Volume (PBT News)'] = pbt_news_DF['Gross Oil Volume (PBT News)'].apply(lambda x: int(x.split(' ')[0].replace(',', '')))"
   ]
  },
  {
   "cell_type": "code",
   "execution_count": 9,
   "id": "8ce06c49",
   "metadata": {
    "execution": {
     "iopub.execute_input": "2022-01-15T23:48:41.408876Z",
     "iopub.status.busy": "2022-01-15T23:48:41.408435Z",
     "iopub.status.idle": "2022-01-15T23:48:41.410185Z",
     "shell.execute_reply": "2022-01-15T23:48:41.410437Z"
    },
    "papermill": {
     "duration": 0.013189,
     "end_time": "2022-01-15T23:48:41.410555",
     "exception": false,
     "start_time": "2022-01-15T23:48:41.397366",
     "status": "completed"
    },
    "tags": []
   },
   "outputs": [
    {
     "data": {
      "text/html": [
       "<div>\n",
       "<style scoped>\n",
       "    .dataframe tbody tr th:only-of-type {\n",
       "        vertical-align: middle;\n",
       "    }\n",
       "\n",
       "    .dataframe tbody tr th {\n",
       "        vertical-align: top;\n",
       "    }\n",
       "\n",
       "    .dataframe thead th {\n",
       "        text-align: right;\n",
       "    }\n",
       "</style>\n",
       "<table border=\"1\" class=\"dataframe\">\n",
       "  <thead>\n",
       "    <tr style=\"text-align: right;\">\n",
       "      <th></th>\n",
       "      <th>Property</th>\n",
       "      <th>Gross Oil Volume (PBT News)</th>\n",
       "      <th>Net Oil Volume (PBT News)</th>\n",
       "      <th>Average Oil Price</th>\n",
       "      <th>Average Gas Price</th>\n",
       "      <th>Gross Gas Volume (PBT News)</th>\n",
       "    </tr>\n",
       "  </thead>\n",
       "  <tbody>\n",
       "    <tr>\n",
       "      <th>5</th>\n",
       "      <td>Waddell Ranch</td>\n",
       "      <td>90258</td>\n",
       "      <td>67,694 165,090*</td>\n",
       "      <td>$70.22</td>\n",
       "      <td>$4.21**</td>\n",
       "      <td>220120</td>\n",
       "    </tr>\n",
       "    <tr>\n",
       "      <th>6</th>\n",
       "      <td>Texas Royalties</td>\n",
       "      <td>17820</td>\n",
       "      <td>15,854 8,797*</td>\n",
       "      <td>$69.06</td>\n",
       "      <td>$7.89**</td>\n",
       "      <td>9894</td>\n",
       "    </tr>\n",
       "    <tr>\n",
       "      <th>9</th>\n",
       "      <td>Waddell Ranch</td>\n",
       "      <td>94554</td>\n",
       "      <td>70,916 146,017*</td>\n",
       "      <td>$63.97</td>\n",
       "      <td>$2.61**</td>\n",
       "      <td>194689</td>\n",
       "    </tr>\n",
       "    <tr>\n",
       "      <th>10</th>\n",
       "      <td>Texas Royalties</td>\n",
       "      <td>19114</td>\n",
       "      <td>16,949 9,333*</td>\n",
       "      <td>$61.94</td>\n",
       "      <td>$6.62**</td>\n",
       "      <td>10523</td>\n",
       "    </tr>\n",
       "  </tbody>\n",
       "</table>\n",
       "</div>"
      ],
      "text/plain": [
       "           Property  Gross Oil Volume (PBT News) Net Oil Volume (PBT News)  \\\n",
       "5     Waddell Ranch                        90258           67,694 165,090*   \n",
       "6   Texas Royalties                        17820             15,854 8,797*   \n",
       "9     Waddell Ranch                        94554           70,916 146,017*   \n",
       "10  Texas Royalties                        19114             16,949 9,333*   \n",
       "\n",
       "   Average Oil Price Average Gas Price  Gross Gas Volume (PBT News)  \n",
       "5             $70.22           $4.21**                       220120  \n",
       "6             $69.06           $7.89**                         9894  \n",
       "9             $63.97           $2.61**                       194689  \n",
       "10            $61.94           $6.62**                        10523  "
      ]
     },
     "execution_count": 9,
     "metadata": {},
     "output_type": "execute_result"
    }
   ],
   "source": [
    "pbt_news_DF"
   ]
  },
  {
   "cell_type": "markdown",
   "id": "bd4fafe8",
   "metadata": {
    "papermill": {
     "duration": 0.007063,
     "end_time": "2022-01-15T23:48:41.424889",
     "exception": false,
     "start_time": "2022-01-15T23:48:41.417826",
     "status": "completed"
    },
    "tags": []
   },
   "source": [
    "### Splitting Net Oil Column to Get Gas Volume\n",
    "### Applying Text Cleaning to remove commas and asterisks"
   ]
  },
  {
   "cell_type": "code",
   "execution_count": 10,
   "id": "71a54166",
   "metadata": {
    "execution": {
     "iopub.execute_input": "2022-01-15T23:48:41.443942Z",
     "iopub.status.busy": "2022-01-15T23:48:41.443565Z",
     "iopub.status.idle": "2022-01-15T23:48:41.444781Z",
     "shell.execute_reply": "2022-01-15T23:48:41.445014Z"
    },
    "papermill": {
     "duration": 0.012322,
     "end_time": "2022-01-15T23:48:41.445132",
     "exception": false,
     "start_time": "2022-01-15T23:48:41.432810",
     "status": "completed"
    },
    "tags": []
   },
   "outputs": [],
   "source": [
    "pbt_news_DF['Net Gas Volume (PBT News)'] = pbt_news_DF['Net Oil Volume (PBT News)'].apply(lambda x: int(x.split(' ')[1]\\\n",
    "                                                                                  .replace(',', '')\\\n",
    "                                                                                 .replace('*','')))\n",
    "\n",
    "pbt_news_DF['Net Oil Volume (PBT News)'] = pbt_news_DF['Net Oil Volume (PBT News)'].apply(lambda x: int(x.split(' ')[0].replace(',', '')))"
   ]
  },
  {
   "cell_type": "markdown",
   "id": "aaccf39d",
   "metadata": {
    "papermill": {
     "duration": 0.007172,
     "end_time": "2022-01-15T23:48:41.459835",
     "exception": false,
     "start_time": "2022-01-15T23:48:41.452663",
     "status": "completed"
    },
    "tags": []
   },
   "source": [
    "### Cleaning Prices Columns by removing asterisks and Dollar Sign"
   ]
  },
  {
   "cell_type": "code",
   "execution_count": 11,
   "id": "e2b7313b",
   "metadata": {
    "execution": {
     "iopub.execute_input": "2022-01-15T23:48:41.478299Z",
     "iopub.status.busy": "2022-01-15T23:48:41.477919Z",
     "iopub.status.idle": "2022-01-15T23:48:41.479076Z",
     "shell.execute_reply": "2022-01-15T23:48:41.479430Z"
    },
    "papermill": {
     "duration": 0.01257,
     "end_time": "2022-01-15T23:48:41.479549",
     "exception": false,
     "start_time": "2022-01-15T23:48:41.466979",
     "status": "completed"
    },
    "tags": []
   },
   "outputs": [],
   "source": [
    "pbt_news_DF['Average Gas Price'] = pbt_news_DF['Average Gas Price'].apply(lambda x: x.replace('$','').replace('**',''))\n",
    "\n",
    "pbt_news_DF['Average Oil Price'] = pbt_news_DF['Average Oil Price'].apply(lambda x: x.replace('$','').replace('**',''))"
   ]
  },
  {
   "cell_type": "code",
   "execution_count": 12,
   "id": "db418091",
   "metadata": {
    "execution": {
     "iopub.execute_input": "2022-01-15T23:48:41.496748Z",
     "iopub.status.busy": "2022-01-15T23:48:41.496371Z",
     "iopub.status.idle": "2022-01-15T23:48:41.497882Z",
     "shell.execute_reply": "2022-01-15T23:48:41.498319Z"
    },
    "papermill": {
     "duration": 0.01135,
     "end_time": "2022-01-15T23:48:41.498459",
     "exception": false,
     "start_time": "2022-01-15T23:48:41.487109",
     "status": "completed"
    },
    "tags": []
   },
   "outputs": [],
   "source": [
    "#filtering table to the 'current month' values\n",
    "pbt_news_DF = pbt_news_DF.head(2)"
   ]
  },
  {
   "cell_type": "code",
   "execution_count": 13,
   "id": "f7e14200",
   "metadata": {
    "execution": {
     "iopub.execute_input": "2022-01-15T23:48:41.518199Z",
     "iopub.status.busy": "2022-01-15T23:48:41.517816Z",
     "iopub.status.idle": "2022-01-15T23:48:41.519233Z",
     "shell.execute_reply": "2022-01-15T23:48:41.519464Z"
    },
    "papermill": {
     "duration": 0.013324,
     "end_time": "2022-01-15T23:48:41.519575",
     "exception": false,
     "start_time": "2022-01-15T23:48:41.506251",
     "status": "completed"
    },
    "tags": []
   },
   "outputs": [
    {
     "data": {
      "text/html": [
       "<div>\n",
       "<style scoped>\n",
       "    .dataframe tbody tr th:only-of-type {\n",
       "        vertical-align: middle;\n",
       "    }\n",
       "\n",
       "    .dataframe tbody tr th {\n",
       "        vertical-align: top;\n",
       "    }\n",
       "\n",
       "    .dataframe thead th {\n",
       "        text-align: right;\n",
       "    }\n",
       "</style>\n",
       "<table border=\"1\" class=\"dataframe\">\n",
       "  <thead>\n",
       "    <tr style=\"text-align: right;\">\n",
       "      <th></th>\n",
       "      <th>Property</th>\n",
       "      <th>Gross Oil Volume (PBT News)</th>\n",
       "      <th>Net Oil Volume (PBT News)</th>\n",
       "      <th>Average Oil Price</th>\n",
       "      <th>Average Gas Price</th>\n",
       "      <th>Gross Gas Volume (PBT News)</th>\n",
       "      <th>Net Gas Volume (PBT News)</th>\n",
       "    </tr>\n",
       "  </thead>\n",
       "  <tbody>\n",
       "    <tr>\n",
       "      <th>5</th>\n",
       "      <td>Waddell Ranch</td>\n",
       "      <td>90258</td>\n",
       "      <td>67694</td>\n",
       "      <td>70.22</td>\n",
       "      <td>4.21</td>\n",
       "      <td>220120</td>\n",
       "      <td>165090</td>\n",
       "    </tr>\n",
       "    <tr>\n",
       "      <th>6</th>\n",
       "      <td>Texas Royalties</td>\n",
       "      <td>17820</td>\n",
       "      <td>15854</td>\n",
       "      <td>69.06</td>\n",
       "      <td>7.89</td>\n",
       "      <td>9894</td>\n",
       "      <td>8797</td>\n",
       "    </tr>\n",
       "  </tbody>\n",
       "</table>\n",
       "</div>"
      ],
      "text/plain": [
       "          Property  Gross Oil Volume (PBT News)  Net Oil Volume (PBT News)  \\\n",
       "5    Waddell Ranch                        90258                      67694   \n",
       "6  Texas Royalties                        17820                      15854   \n",
       "\n",
       "  Average Oil Price Average Gas Price  Gross Gas Volume (PBT News)  \\\n",
       "5             70.22              4.21                       220120   \n",
       "6             69.06              7.89                         9894   \n",
       "\n",
       "   Net Gas Volume (PBT News)  \n",
       "5                     165090  \n",
       "6                       8797  "
      ]
     },
     "execution_count": 13,
     "metadata": {},
     "output_type": "execute_result"
    }
   ],
   "source": [
    "pbt_news_DF"
   ]
  },
  {
   "cell_type": "code",
   "execution_count": 14,
   "id": "3418a45d",
   "metadata": {
    "execution": {
     "iopub.execute_input": "2022-01-15T23:48:41.536899Z",
     "iopub.status.busy": "2022-01-15T23:48:41.536527Z",
     "iopub.status.idle": "2022-01-15T23:48:41.537785Z",
     "shell.execute_reply": "2022-01-15T23:48:41.538053Z"
    },
    "papermill": {
     "duration": 0.010981,
     "end_time": "2022-01-15T23:48:41.538166",
     "exception": false,
     "start_time": "2022-01-15T23:48:41.527185",
     "status": "completed"
    },
    "tags": []
   },
   "outputs": [],
   "source": [
    "date_from_filename = news_file_name.split(',')[1]\\\n",
    "                                    .split('.')[0]\\\n",
    "                                    .strip()\\\n",
    "                                    .replace(' prod', '')"
   ]
  },
  {
   "cell_type": "code",
   "execution_count": 15,
   "id": "7f62808a",
   "metadata": {
    "execution": {
     "iopub.execute_input": "2022-01-15T23:48:41.556985Z",
     "iopub.status.busy": "2022-01-15T23:48:41.556585Z",
     "iopub.status.idle": "2022-01-15T23:48:41.557697Z",
     "shell.execute_reply": "2022-01-15T23:48:41.557927Z"
    },
    "papermill": {
     "duration": 0.011385,
     "end_time": "2022-01-15T23:48:41.558037",
     "exception": false,
     "start_time": "2022-01-15T23:48:41.546652",
     "status": "completed"
    },
    "tags": []
   },
   "outputs": [],
   "source": [
    "pbt_news_DF.insert(0, 'Date', date_from_filename.title())"
   ]
  },
  {
   "cell_type": "code",
   "execution_count": 16,
   "id": "30dfab25",
   "metadata": {
    "execution": {
     "iopub.execute_input": "2022-01-15T23:48:41.579244Z",
     "iopub.status.busy": "2022-01-15T23:48:41.578803Z",
     "iopub.status.idle": "2022-01-15T23:48:41.580468Z",
     "shell.execute_reply": "2022-01-15T23:48:41.580744Z"
    },
    "papermill": {
     "duration": 0.014922,
     "end_time": "2022-01-15T23:48:41.580868",
     "exception": false,
     "start_time": "2022-01-15T23:48:41.565946",
     "status": "completed"
    },
    "tags": []
   },
   "outputs": [
    {
     "data": {
      "text/html": [
       "<div>\n",
       "<style scoped>\n",
       "    .dataframe tbody tr th:only-of-type {\n",
       "        vertical-align: middle;\n",
       "    }\n",
       "\n",
       "    .dataframe tbody tr th {\n",
       "        vertical-align: top;\n",
       "    }\n",
       "\n",
       "    .dataframe thead th {\n",
       "        text-align: right;\n",
       "    }\n",
       "</style>\n",
       "<table border=\"1\" class=\"dataframe\">\n",
       "  <thead>\n",
       "    <tr style=\"text-align: right;\">\n",
       "      <th></th>\n",
       "      <th>Date</th>\n",
       "      <th>Property</th>\n",
       "      <th>Gross Oil Volume (PBT News)</th>\n",
       "      <th>Net Oil Volume (PBT News)</th>\n",
       "      <th>Average Oil Price</th>\n",
       "      <th>Average Gas Price</th>\n",
       "      <th>Gross Gas Volume (PBT News)</th>\n",
       "      <th>Net Gas Volume (PBT News)</th>\n",
       "    </tr>\n",
       "  </thead>\n",
       "  <tbody>\n",
       "    <tr>\n",
       "      <th>5</th>\n",
       "      <td>June 2021</td>\n",
       "      <td>Waddell Ranch</td>\n",
       "      <td>90258</td>\n",
       "      <td>67694</td>\n",
       "      <td>70.22</td>\n",
       "      <td>4.21</td>\n",
       "      <td>220120</td>\n",
       "      <td>165090</td>\n",
       "    </tr>\n",
       "    <tr>\n",
       "      <th>6</th>\n",
       "      <td>June 2021</td>\n",
       "      <td>Texas Royalties</td>\n",
       "      <td>17820</td>\n",
       "      <td>15854</td>\n",
       "      <td>69.06</td>\n",
       "      <td>7.89</td>\n",
       "      <td>9894</td>\n",
       "      <td>8797</td>\n",
       "    </tr>\n",
       "  </tbody>\n",
       "</table>\n",
       "</div>"
      ],
      "text/plain": [
       "        Date         Property  Gross Oil Volume (PBT News)  \\\n",
       "5  June 2021    Waddell Ranch                        90258   \n",
       "6  June 2021  Texas Royalties                        17820   \n",
       "\n",
       "   Net Oil Volume (PBT News) Average Oil Price Average Gas Price  \\\n",
       "5                      67694             70.22              4.21   \n",
       "6                      15854             69.06              7.89   \n",
       "\n",
       "   Gross Gas Volume (PBT News)  Net Gas Volume (PBT News)  \n",
       "5                       220120                     165090  \n",
       "6                         9894                       8797  "
      ]
     },
     "execution_count": 16,
     "metadata": {},
     "output_type": "execute_result"
    }
   ],
   "source": [
    "pbt_news_DF"
   ]
  },
  {
   "cell_type": "markdown",
   "id": "84a27d62",
   "metadata": {
    "papermill": {
     "duration": 0.007733,
     "end_time": "2022-01-15T23:48:41.596570",
     "exception": false,
     "start_time": "2022-01-15T23:48:41.588837",
     "status": "completed"
    },
    "tags": []
   },
   "source": [
    "# Write Table to File"
   ]
  },
  {
   "cell_type": "code",
   "execution_count": 17,
   "id": "0d50b451",
   "metadata": {
    "execution": {
     "iopub.execute_input": "2022-01-15T23:48:41.614469Z",
     "iopub.status.busy": "2022-01-15T23:48:41.614047Z",
     "iopub.status.idle": "2022-01-15T23:48:41.615651Z",
     "shell.execute_reply": "2022-01-15T23:48:41.615883Z"
    },
    "papermill": {
     "duration": 0.011684,
     "end_time": "2022-01-15T23:48:41.616015",
     "exception": false,
     "start_time": "2022-01-15T23:48:41.604331",
     "status": "completed"
    },
    "tags": []
   },
   "outputs": [
    {
     "data": {
      "text/plain": [
       "'aug 2021 news, june 2021 prod.csv'"
      ]
     },
     "execution_count": 17,
     "metadata": {},
     "output_type": "execute_result"
    }
   ],
   "source": [
    "to_file_name = news_file_name.split('.')[0] + '.csv'\n",
    "\n",
    "to_file_name"
   ]
  },
  {
   "cell_type": "code",
   "execution_count": 18,
   "id": "b51450e5",
   "metadata": {
    "execution": {
     "iopub.execute_input": "2022-01-15T23:48:41.634698Z",
     "iopub.status.busy": "2022-01-15T23:48:41.634316Z",
     "iopub.status.idle": "2022-01-15T23:48:41.636902Z",
     "shell.execute_reply": "2022-01-15T23:48:41.637135Z"
    },
    "papermill": {
     "duration": 0.013072,
     "end_time": "2022-01-15T23:48:41.637248",
     "exception": false,
     "start_time": "2022-01-15T23:48:41.624176",
     "status": "completed"
    },
    "tags": []
   },
   "outputs": [],
   "source": [
    "pbt_news_DF.to_csv(f'{processed_data_folder}/pbt_news_prod/{to_file_name}', index = False)"
   ]
  },
  {
   "cell_type": "code",
   "execution_count": null,
   "id": "dfa563b5",
   "metadata": {
    "papermill": {
     "duration": 0.008037,
     "end_time": "2022-01-15T23:48:41.653487",
     "exception": false,
     "start_time": "2022-01-15T23:48:41.645450",
     "status": "completed"
    },
    "tags": []
   },
   "outputs": [],
   "source": []
  }
 ],
 "metadata": {
  "celltoolbar": "Tags",
  "kernelspec": {
   "display_name": "Python 3 (ipykernel)",
   "language": "python",
   "name": "python3"
  },
  "language_info": {
   "codemirror_mode": {
    "name": "ipython",
    "version": 3
   },
   "file_extension": ".py",
   "mimetype": "text/x-python",
   "name": "python",
   "nbconvert_exporter": "python",
   "pygments_lexer": "ipython3",
   "version": "3.9.7"
  },
  "papermill": {
   "default_parameters": {},
   "duration": 6.052288,
   "end_time": "2022-01-15T23:48:42.819646",
   "environment_variables": {},
   "exception": null,
   "input_path": "3. Ingest PBT News Release PDFs.ipynb",
   "output_path": "output_notebooks/pbt_news_runs/aug 2021 news, june 2021 prod.pdf.ipynb",
   "parameters": {
    "news_file_name": "aug 2021 news, june 2021 prod.pdf"
   },
   "start_time": "2022-01-15T23:48:36.767358",
   "version": "2.3.3"
  }
 },
 "nbformat": 4,
 "nbformat_minor": 5
}