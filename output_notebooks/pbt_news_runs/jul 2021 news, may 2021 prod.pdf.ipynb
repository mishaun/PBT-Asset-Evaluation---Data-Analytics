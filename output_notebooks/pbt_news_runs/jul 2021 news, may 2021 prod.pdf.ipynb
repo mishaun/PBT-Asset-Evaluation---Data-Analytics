{
 "cells": [
  {
   "cell_type": "markdown",
   "id": "3bf9f2f8",
   "metadata": {
    "papermill": {
     "duration": 0.022707,
     "end_time": "2022-01-16T20:34:54.669461",
     "exception": false,
     "start_time": "2022-01-16T20:34:54.646754",
     "status": "completed"
    },
    "tags": []
   },
   "source": [
    "# Ingest PBT News Releases"
   ]
  },
  {
   "cell_type": "code",
   "execution_count": 1,
   "id": "f63d6cde",
   "metadata": {
    "execution": {
     "iopub.execute_input": "2022-01-16T20:34:54.689642Z",
     "iopub.status.busy": "2022-01-16T20:34:54.689245Z",
     "iopub.status.idle": "2022-01-16T20:34:55.442797Z",
     "shell.execute_reply": "2022-01-16T20:34:55.443057Z"
    },
    "papermill": {
     "duration": 0.766533,
     "end_time": "2022-01-16T20:34:55.443240",
     "exception": false,
     "start_time": "2022-01-16T20:34:54.676707",
     "status": "completed"
    },
    "tags": []
   },
   "outputs": [],
   "source": [
    "from tabula import read_pdf"
   ]
  },
  {
   "cell_type": "code",
   "execution_count": 2,
   "id": "b68a4e59",
   "metadata": {
    "execution": {
     "iopub.execute_input": "2022-01-16T20:34:55.459203Z",
     "iopub.status.busy": "2022-01-16T20:34:55.458823Z",
     "iopub.status.idle": "2022-01-16T20:34:55.484523Z",
     "shell.execute_reply": "2022-01-16T20:34:55.484750Z"
    },
    "papermill": {
     "duration": 0.0346,
     "end_time": "2022-01-16T20:34:55.484883",
     "exception": false,
     "start_time": "2022-01-16T20:34:55.450283",
     "status": "completed"
    },
    "tags": []
   },
   "outputs": [],
   "source": [
    "%run configs.ipynb"
   ]
  },
  {
   "cell_type": "code",
   "execution_count": 3,
   "id": "b5516fe2",
   "metadata": {
    "execution": {
     "iopub.execute_input": "2022-01-16T20:34:55.499416Z",
     "iopub.status.busy": "2022-01-16T20:34:55.499026Z",
     "iopub.status.idle": "2022-01-16T20:34:55.500299Z",
     "shell.execute_reply": "2022-01-16T20:34:55.500541Z"
    },
    "papermill": {
     "duration": 0.009447,
     "end_time": "2022-01-16T20:34:55.500665",
     "exception": false,
     "start_time": "2022-01-16T20:34:55.491218",
     "status": "completed"
    },
    "tags": [
     "parameters"
    ]
   },
   "outputs": [],
   "source": [
    "#parameters cell\n",
    "news_file_name = 'dec 2021 news, oct 2021 prod.pdf'"
   ]
  },
  {
   "cell_type": "code",
   "execution_count": 4,
   "id": "0cbe05cc",
   "metadata": {
    "execution": {
     "iopub.execute_input": "2022-01-16T20:34:55.515210Z",
     "iopub.status.busy": "2022-01-16T20:34:55.514813Z",
     "iopub.status.idle": "2022-01-16T20:34:55.515954Z",
     "shell.execute_reply": "2022-01-16T20:34:55.516341Z"
    },
    "papermill": {
     "duration": 0.00943,
     "end_time": "2022-01-16T20:34:55.516455",
     "exception": false,
     "start_time": "2022-01-16T20:34:55.507025",
     "status": "completed"
    },
    "tags": [
     "injected-parameters"
    ]
   },
   "outputs": [],
   "source": [
    "# Parameters\n",
    "news_file_name = \"jul 2021 news, may 2021 prod.pdf\"\n"
   ]
  },
  {
   "cell_type": "code",
   "execution_count": 5,
   "id": "89d75a6d",
   "metadata": {
    "execution": {
     "iopub.execute_input": "2022-01-16T20:34:55.531358Z",
     "iopub.status.busy": "2022-01-16T20:34:55.530886Z",
     "iopub.status.idle": "2022-01-16T20:34:58.263349Z",
     "shell.execute_reply": "2022-01-16T20:34:58.263874Z"
    },
    "papermill": {
     "duration": 2.741252,
     "end_time": "2022-01-16T20:34:58.264037",
     "exception": false,
     "start_time": "2022-01-16T20:34:55.522785",
     "status": "completed"
    },
    "tags": []
   },
   "outputs": [
    {
     "name": "stderr",
     "output_type": "stream",
     "text": [
      "'pages' argument isn't specified.Will extract only from page 1 by default.\n"
     ]
    },
    {
     "data": {
      "text/html": [
       "<div>\n",
       "<style scoped>\n",
       "    .dataframe tbody tr th:only-of-type {\n",
       "        vertical-align: middle;\n",
       "    }\n",
       "\n",
       "    .dataframe tbody tr th {\n",
       "        vertical-align: top;\n",
       "    }\n",
       "\n",
       "    .dataframe thead th {\n",
       "        text-align: right;\n",
       "    }\n",
       "</style>\n",
       "<table border=\"1\" class=\"dataframe\">\n",
       "  <thead>\n",
       "    <tr style=\"text-align: right;\">\n",
       "      <th></th>\n",
       "      <th>Unnamed: 0</th>\n",
       "      <th>Unnamed: 1</th>\n",
       "      <th>Unnamed: 2</th>\n",
       "      <th>Unnamed: 3</th>\n",
       "      <th>Unnamed: 4</th>\n",
       "    </tr>\n",
       "  </thead>\n",
       "  <tbody>\n",
       "    <tr>\n",
       "      <th>0</th>\n",
       "      <td>NaN</td>\n",
       "      <td>Underlying Properties</td>\n",
       "      <td>Net to Trust Sales</td>\n",
       "      <td>NaN</td>\n",
       "      <td>NaN</td>\n",
       "    </tr>\n",
       "    <tr>\n",
       "      <th>1</th>\n",
       "      <td>NaN</td>\n",
       "      <td>Volumes</td>\n",
       "      <td>Volumes</td>\n",
       "      <td>Average</td>\n",
       "      <td>Price</td>\n",
       "    </tr>\n",
       "    <tr>\n",
       "      <th>2</th>\n",
       "      <td>NaN</td>\n",
       "      <td>Oil  Gas</td>\n",
       "      <td>Oil  Gas</td>\n",
       "      <td>Oil</td>\n",
       "      <td>Gas</td>\n",
       "    </tr>\n",
       "    <tr>\n",
       "      <th>3</th>\n",
       "      <td>NaN</td>\n",
       "      <td>(bbls) (Mcf)</td>\n",
       "      <td>(bbls) (Mcf)</td>\n",
       "      <td>(per bbl)</td>\n",
       "      <td>(per Mcf)</td>\n",
       "    </tr>\n",
       "    <tr>\n",
       "      <th>4</th>\n",
       "      <td>Current Month</td>\n",
       "      <td>NaN</td>\n",
       "      <td>NaN</td>\n",
       "      <td>NaN</td>\n",
       "      <td>NaN</td>\n",
       "    </tr>\n",
       "    <tr>\n",
       "      <th>5</th>\n",
       "      <td>Waddell Ranch</td>\n",
       "      <td>94,554 194,689</td>\n",
       "      <td>70,916 146,017*</td>\n",
       "      <td>$63.97</td>\n",
       "      <td>$2.61**</td>\n",
       "    </tr>\n",
       "    <tr>\n",
       "      <th>6</th>\n",
       "      <td>Texas Royalties</td>\n",
       "      <td>19,114 10,523</td>\n",
       "      <td>16,949 9,333*</td>\n",
       "      <td>$61.94</td>\n",
       "      <td>$6.62**</td>\n",
       "    </tr>\n",
       "    <tr>\n",
       "      <th>7</th>\n",
       "      <td>NaN</td>\n",
       "      <td>NaN</td>\n",
       "      <td>NaN</td>\n",
       "      <td>NaN</td>\n",
       "      <td>NaN</td>\n",
       "    </tr>\n",
       "    <tr>\n",
       "      <th>8</th>\n",
       "      <td>Prior Month</td>\n",
       "      <td>NaN</td>\n",
       "      <td>NaN</td>\n",
       "      <td>NaN</td>\n",
       "      <td>NaN</td>\n",
       "    </tr>\n",
       "    <tr>\n",
       "      <th>9</th>\n",
       "      <td>Waddell Ranch</td>\n",
       "      <td>80,362 259,608</td>\n",
       "      <td>60,272 194,706*</td>\n",
       "      <td>$59.93</td>\n",
       "      <td>$1.91**</td>\n",
       "    </tr>\n",
       "    <tr>\n",
       "      <th>10</th>\n",
       "      <td>Texas Royalties</td>\n",
       "      <td>16,339 12,869</td>\n",
       "      <td>14,344 11,276*</td>\n",
       "      <td>$60.65</td>\n",
       "      <td>$8.34**</td>\n",
       "    </tr>\n",
       "  </tbody>\n",
       "</table>\n",
       "</div>"
      ],
      "text/plain": [
       "         Unnamed: 0             Unnamed: 1          Unnamed: 2 Unnamed: 3  \\\n",
       "0               NaN  Underlying Properties  Net to Trust Sales        NaN   \n",
       "1               NaN                Volumes             Volumes    Average   \n",
       "2               NaN               Oil  Gas            Oil  Gas        Oil   \n",
       "3               NaN           (bbls) (Mcf)        (bbls) (Mcf)  (per bbl)   \n",
       "4     Current Month                    NaN                 NaN        NaN   \n",
       "5     Waddell Ranch         94,554 194,689     70,916 146,017*     $63.97   \n",
       "6   Texas Royalties          19,114 10,523       16,949 9,333*     $61.94   \n",
       "7               NaN                    NaN                 NaN        NaN   \n",
       "8       Prior Month                    NaN                 NaN        NaN   \n",
       "9     Waddell Ranch         80,362 259,608     60,272 194,706*     $59.93   \n",
       "10  Texas Royalties          16,339 12,869      14,344 11,276*     $60.65   \n",
       "\n",
       "   Unnamed: 4  \n",
       "0         NaN  \n",
       "1       Price  \n",
       "2         Gas  \n",
       "3   (per Mcf)  \n",
       "4         NaN  \n",
       "5     $2.61**  \n",
       "6     $6.62**  \n",
       "7         NaN  \n",
       "8         NaN  \n",
       "9     $1.91**  \n",
       "10    $8.34**  "
      ]
     },
     "execution_count": 5,
     "metadata": {},
     "output_type": "execute_result"
    }
   ],
   "source": [
    "pbt_news_DF = read_pdf(f'{raw_data_folder}/pbt_news/2021/{news_file_name}')[0]\n",
    "\n",
    "pbt_news_DF"
   ]
  },
  {
   "cell_type": "code",
   "execution_count": 6,
   "id": "5ad174f1",
   "metadata": {
    "execution": {
     "iopub.execute_input": "2022-01-16T20:34:58.282733Z",
     "iopub.status.busy": "2022-01-16T20:34:58.282371Z",
     "iopub.status.idle": "2022-01-16T20:34:58.283502Z",
     "shell.execute_reply": "2022-01-16T20:34:58.283891Z"
    },
    "papermill": {
     "duration": 0.012097,
     "end_time": "2022-01-16T20:34:58.284016",
     "exception": false,
     "start_time": "2022-01-16T20:34:58.271919",
     "status": "completed"
    },
    "tags": []
   },
   "outputs": [],
   "source": [
    "cols_pdf = 'Property', 'Gross Oil Volume (PBT News)', 'Net Oil Volume (PBT News)', 'Average Oil Price', 'Average Gas Price'\n",
    "pbt_news_DF.columns = cols_pdf"
   ]
  },
  {
   "cell_type": "code",
   "execution_count": 7,
   "id": "9e1a6833",
   "metadata": {
    "execution": {
     "iopub.execute_input": "2022-01-16T20:34:58.308487Z",
     "iopub.status.busy": "2022-01-16T20:34:58.307917Z",
     "iopub.status.idle": "2022-01-16T20:34:58.309836Z",
     "shell.execute_reply": "2022-01-16T20:34:58.310135Z"
    },
    "papermill": {
     "duration": 0.018787,
     "end_time": "2022-01-16T20:34:58.310277",
     "exception": false,
     "start_time": "2022-01-16T20:34:58.291490",
     "status": "completed"
    },
    "tags": []
   },
   "outputs": [
    {
     "data": {
      "text/html": [
       "<div>\n",
       "<style scoped>\n",
       "    .dataframe tbody tr th:only-of-type {\n",
       "        vertical-align: middle;\n",
       "    }\n",
       "\n",
       "    .dataframe tbody tr th {\n",
       "        vertical-align: top;\n",
       "    }\n",
       "\n",
       "    .dataframe thead th {\n",
       "        text-align: right;\n",
       "    }\n",
       "</style>\n",
       "<table border=\"1\" class=\"dataframe\">\n",
       "  <thead>\n",
       "    <tr style=\"text-align: right;\">\n",
       "      <th></th>\n",
       "      <th>Property</th>\n",
       "      <th>Gross Oil Volume (PBT News)</th>\n",
       "      <th>Net Oil Volume (PBT News)</th>\n",
       "      <th>Average Oil Price</th>\n",
       "      <th>Average Gas Price</th>\n",
       "    </tr>\n",
       "  </thead>\n",
       "  <tbody>\n",
       "    <tr>\n",
       "      <th>5</th>\n",
       "      <td>Waddell Ranch</td>\n",
       "      <td>94,554 194,689</td>\n",
       "      <td>70,916 146,017*</td>\n",
       "      <td>$63.97</td>\n",
       "      <td>$2.61**</td>\n",
       "    </tr>\n",
       "    <tr>\n",
       "      <th>6</th>\n",
       "      <td>Texas Royalties</td>\n",
       "      <td>19,114 10,523</td>\n",
       "      <td>16,949 9,333*</td>\n",
       "      <td>$61.94</td>\n",
       "      <td>$6.62**</td>\n",
       "    </tr>\n",
       "    <tr>\n",
       "      <th>9</th>\n",
       "      <td>Waddell Ranch</td>\n",
       "      <td>80,362 259,608</td>\n",
       "      <td>60,272 194,706*</td>\n",
       "      <td>$59.93</td>\n",
       "      <td>$1.91**</td>\n",
       "    </tr>\n",
       "    <tr>\n",
       "      <th>10</th>\n",
       "      <td>Texas Royalties</td>\n",
       "      <td>16,339 12,869</td>\n",
       "      <td>14,344 11,276*</td>\n",
       "      <td>$60.65</td>\n",
       "      <td>$8.34**</td>\n",
       "    </tr>\n",
       "  </tbody>\n",
       "</table>\n",
       "</div>"
      ],
      "text/plain": [
       "           Property Gross Oil Volume (PBT News) Net Oil Volume (PBT News)  \\\n",
       "5     Waddell Ranch              94,554 194,689           70,916 146,017*   \n",
       "6   Texas Royalties               19,114 10,523             16,949 9,333*   \n",
       "9     Waddell Ranch              80,362 259,608           60,272 194,706*   \n",
       "10  Texas Royalties               16,339 12,869            14,344 11,276*   \n",
       "\n",
       "   Average Oil Price Average Gas Price  \n",
       "5             $63.97           $2.61**  \n",
       "6             $61.94           $6.62**  \n",
       "9             $59.93           $1.91**  \n",
       "10            $60.65           $8.34**  "
      ]
     },
     "execution_count": 7,
     "metadata": {},
     "output_type": "execute_result"
    }
   ],
   "source": [
    "pbt_news_DF.dropna(inplace = True)\n",
    "pbt_news_DF"
   ]
  },
  {
   "cell_type": "markdown",
   "id": "9ea8667f",
   "metadata": {
    "papermill": {
     "duration": 0.007311,
     "end_time": "2022-01-16T20:34:58.324954",
     "exception": false,
     "start_time": "2022-01-16T20:34:58.317643",
     "status": "completed"
    },
    "tags": []
   },
   "source": [
    "### Splitting Net Oil Column to Get Gas Volume\n",
    "### Applying Text Cleaning to remove commas"
   ]
  },
  {
   "cell_type": "code",
   "execution_count": 8,
   "id": "0e4b24f4",
   "metadata": {
    "execution": {
     "iopub.execute_input": "2022-01-16T20:34:58.344473Z",
     "iopub.status.busy": "2022-01-16T20:34:58.344077Z",
     "iopub.status.idle": "2022-01-16T20:34:58.345587Z",
     "shell.execute_reply": "2022-01-16T20:34:58.345909Z"
    },
    "papermill": {
     "duration": 0.013865,
     "end_time": "2022-01-16T20:34:58.346046",
     "exception": false,
     "start_time": "2022-01-16T20:34:58.332181",
     "status": "completed"
    },
    "tags": []
   },
   "outputs": [],
   "source": [
    "pbt_news_DF['Gross Gas Volume (PBT News)'] = pbt_news_DF['Gross Oil Volume (PBT News)'].apply(lambda x: int(x.split(' ')[1].replace(',', '')))\n",
    "\n",
    "pbt_news_DF['Gross Oil Volume (PBT News)'] = pbt_news_DF['Gross Oil Volume (PBT News)'].apply(lambda x: int(x.split(' ')[0].replace(',', '')))"
   ]
  },
  {
   "cell_type": "code",
   "execution_count": 9,
   "id": "735d5051",
   "metadata": {
    "execution": {
     "iopub.execute_input": "2022-01-16T20:34:58.366871Z",
     "iopub.status.busy": "2022-01-16T20:34:58.366289Z",
     "iopub.status.idle": "2022-01-16T20:34:58.368465Z",
     "shell.execute_reply": "2022-01-16T20:34:58.368809Z"
    },
    "papermill": {
     "duration": 0.015568,
     "end_time": "2022-01-16T20:34:58.369023",
     "exception": false,
     "start_time": "2022-01-16T20:34:58.353455",
     "status": "completed"
    },
    "tags": []
   },
   "outputs": [
    {
     "data": {
      "text/html": [
       "<div>\n",
       "<style scoped>\n",
       "    .dataframe tbody tr th:only-of-type {\n",
       "        vertical-align: middle;\n",
       "    }\n",
       "\n",
       "    .dataframe tbody tr th {\n",
       "        vertical-align: top;\n",
       "    }\n",
       "\n",
       "    .dataframe thead th {\n",
       "        text-align: right;\n",
       "    }\n",
       "</style>\n",
       "<table border=\"1\" class=\"dataframe\">\n",
       "  <thead>\n",
       "    <tr style=\"text-align: right;\">\n",
       "      <th></th>\n",
       "      <th>Property</th>\n",
       "      <th>Gross Oil Volume (PBT News)</th>\n",
       "      <th>Net Oil Volume (PBT News)</th>\n",
       "      <th>Average Oil Price</th>\n",
       "      <th>Average Gas Price</th>\n",
       "      <th>Gross Gas Volume (PBT News)</th>\n",
       "    </tr>\n",
       "  </thead>\n",
       "  <tbody>\n",
       "    <tr>\n",
       "      <th>5</th>\n",
       "      <td>Waddell Ranch</td>\n",
       "      <td>94554</td>\n",
       "      <td>70,916 146,017*</td>\n",
       "      <td>$63.97</td>\n",
       "      <td>$2.61**</td>\n",
       "      <td>194689</td>\n",
       "    </tr>\n",
       "    <tr>\n",
       "      <th>6</th>\n",
       "      <td>Texas Royalties</td>\n",
       "      <td>19114</td>\n",
       "      <td>16,949 9,333*</td>\n",
       "      <td>$61.94</td>\n",
       "      <td>$6.62**</td>\n",
       "      <td>10523</td>\n",
       "    </tr>\n",
       "    <tr>\n",
       "      <th>9</th>\n",
       "      <td>Waddell Ranch</td>\n",
       "      <td>80362</td>\n",
       "      <td>60,272 194,706*</td>\n",
       "      <td>$59.93</td>\n",
       "      <td>$1.91**</td>\n",
       "      <td>259608</td>\n",
       "    </tr>\n",
       "    <tr>\n",
       "      <th>10</th>\n",
       "      <td>Texas Royalties</td>\n",
       "      <td>16339</td>\n",
       "      <td>14,344 11,276*</td>\n",
       "      <td>$60.65</td>\n",
       "      <td>$8.34**</td>\n",
       "      <td>12869</td>\n",
       "    </tr>\n",
       "  </tbody>\n",
       "</table>\n",
       "</div>"
      ],
      "text/plain": [
       "           Property  Gross Oil Volume (PBT News) Net Oil Volume (PBT News)  \\\n",
       "5     Waddell Ranch                        94554           70,916 146,017*   \n",
       "6   Texas Royalties                        19114             16,949 9,333*   \n",
       "9     Waddell Ranch                        80362           60,272 194,706*   \n",
       "10  Texas Royalties                        16339            14,344 11,276*   \n",
       "\n",
       "   Average Oil Price Average Gas Price  Gross Gas Volume (PBT News)  \n",
       "5             $63.97           $2.61**                       194689  \n",
       "6             $61.94           $6.62**                        10523  \n",
       "9             $59.93           $1.91**                       259608  \n",
       "10            $60.65           $8.34**                        12869  "
      ]
     },
     "execution_count": 9,
     "metadata": {},
     "output_type": "execute_result"
    }
   ],
   "source": [
    "pbt_news_DF"
   ]
  },
  {
   "cell_type": "markdown",
   "id": "27cceb93",
   "metadata": {
    "papermill": {
     "duration": 0.008706,
     "end_time": "2022-01-16T20:34:58.386746",
     "exception": false,
     "start_time": "2022-01-16T20:34:58.378040",
     "status": "completed"
    },
    "tags": []
   },
   "source": [
    "### Splitting Net Oil Column to Get Gas Volume\n",
    "### Applying Text Cleaning to remove commas and asterisks"
   ]
  },
  {
   "cell_type": "code",
   "execution_count": 10,
   "id": "36f1f177",
   "metadata": {
    "execution": {
     "iopub.execute_input": "2022-01-16T20:34:58.406901Z",
     "iopub.status.busy": "2022-01-16T20:34:58.406403Z",
     "iopub.status.idle": "2022-01-16T20:34:58.408276Z",
     "shell.execute_reply": "2022-01-16T20:34:58.408548Z"
    },
    "papermill": {
     "duration": 0.014312,
     "end_time": "2022-01-16T20:34:58.408686",
     "exception": false,
     "start_time": "2022-01-16T20:34:58.394374",
     "status": "completed"
    },
    "tags": []
   },
   "outputs": [],
   "source": [
    "pbt_news_DF['Net Gas Volume (PBT News)'] = pbt_news_DF['Net Oil Volume (PBT News)'].apply(lambda x: int(x.split(' ')[1]\\\n",
    "                                                                                  .replace(',', '')\\\n",
    "                                                                                 .replace('*','')))\n",
    "\n",
    "pbt_news_DF['Net Oil Volume (PBT News)'] = pbt_news_DF['Net Oil Volume (PBT News)'].apply(lambda x: int(x.split(' ')[0].replace(',', '')))"
   ]
  },
  {
   "cell_type": "markdown",
   "id": "f78ceacc",
   "metadata": {
    "papermill": {
     "duration": 0.007593,
     "end_time": "2022-01-16T20:34:58.424260",
     "exception": false,
     "start_time": "2022-01-16T20:34:58.416667",
     "status": "completed"
    },
    "tags": []
   },
   "source": [
    "### Cleaning Prices Columns by removing asterisks and Dollar Sign"
   ]
  },
  {
   "cell_type": "code",
   "execution_count": 11,
   "id": "670ab6d8",
   "metadata": {
    "execution": {
     "iopub.execute_input": "2022-01-16T20:34:58.443901Z",
     "iopub.status.busy": "2022-01-16T20:34:58.443432Z",
     "iopub.status.idle": "2022-01-16T20:34:58.445104Z",
     "shell.execute_reply": "2022-01-16T20:34:58.445427Z"
    },
    "papermill": {
     "duration": 0.013873,
     "end_time": "2022-01-16T20:34:58.445672",
     "exception": false,
     "start_time": "2022-01-16T20:34:58.431799",
     "status": "completed"
    },
    "tags": []
   },
   "outputs": [],
   "source": [
    "pbt_news_DF['Average Gas Price'] = pbt_news_DF['Average Gas Price'].apply(lambda x: x.replace('$','').replace('**',''))\n",
    "\n",
    "pbt_news_DF['Average Oil Price'] = pbt_news_DF['Average Oil Price'].apply(lambda x: x.replace('$','').replace('**',''))"
   ]
  },
  {
   "cell_type": "code",
   "execution_count": 12,
   "id": "b1456a0e",
   "metadata": {
    "execution": {
     "iopub.execute_input": "2022-01-16T20:34:58.464165Z",
     "iopub.status.busy": "2022-01-16T20:34:58.463677Z",
     "iopub.status.idle": "2022-01-16T20:34:58.465140Z",
     "shell.execute_reply": "2022-01-16T20:34:58.465394Z"
    },
    "papermill": {
     "duration": 0.012122,
     "end_time": "2022-01-16T20:34:58.465515",
     "exception": false,
     "start_time": "2022-01-16T20:34:58.453393",
     "status": "completed"
    },
    "tags": []
   },
   "outputs": [],
   "source": [
    "#filtering table to the 'current month' values\n",
    "pbt_news_DF = pbt_news_DF.head(2)"
   ]
  },
  {
   "cell_type": "code",
   "execution_count": 13,
   "id": "6d802530",
   "metadata": {
    "execution": {
     "iopub.execute_input": "2022-01-16T20:34:58.486906Z",
     "iopub.status.busy": "2022-01-16T20:34:58.486473Z",
     "iopub.status.idle": "2022-01-16T20:34:58.488350Z",
     "shell.execute_reply": "2022-01-16T20:34:58.488667Z"
    },
    "papermill": {
     "duration": 0.015435,
     "end_time": "2022-01-16T20:34:58.488795",
     "exception": false,
     "start_time": "2022-01-16T20:34:58.473360",
     "status": "completed"
    },
    "tags": []
   },
   "outputs": [
    {
     "data": {
      "text/html": [
       "<div>\n",
       "<style scoped>\n",
       "    .dataframe tbody tr th:only-of-type {\n",
       "        vertical-align: middle;\n",
       "    }\n",
       "\n",
       "    .dataframe tbody tr th {\n",
       "        vertical-align: top;\n",
       "    }\n",
       "\n",
       "    .dataframe thead th {\n",
       "        text-align: right;\n",
       "    }\n",
       "</style>\n",
       "<table border=\"1\" class=\"dataframe\">\n",
       "  <thead>\n",
       "    <tr style=\"text-align: right;\">\n",
       "      <th></th>\n",
       "      <th>Property</th>\n",
       "      <th>Gross Oil Volume (PBT News)</th>\n",
       "      <th>Net Oil Volume (PBT News)</th>\n",
       "      <th>Average Oil Price</th>\n",
       "      <th>Average Gas Price</th>\n",
       "      <th>Gross Gas Volume (PBT News)</th>\n",
       "      <th>Net Gas Volume (PBT News)</th>\n",
       "    </tr>\n",
       "  </thead>\n",
       "  <tbody>\n",
       "    <tr>\n",
       "      <th>5</th>\n",
       "      <td>Waddell Ranch</td>\n",
       "      <td>94554</td>\n",
       "      <td>70916</td>\n",
       "      <td>63.97</td>\n",
       "      <td>2.61</td>\n",
       "      <td>194689</td>\n",
       "      <td>146017</td>\n",
       "    </tr>\n",
       "    <tr>\n",
       "      <th>6</th>\n",
       "      <td>Texas Royalties</td>\n",
       "      <td>19114</td>\n",
       "      <td>16949</td>\n",
       "      <td>61.94</td>\n",
       "      <td>6.62</td>\n",
       "      <td>10523</td>\n",
       "      <td>9333</td>\n",
       "    </tr>\n",
       "  </tbody>\n",
       "</table>\n",
       "</div>"
      ],
      "text/plain": [
       "          Property  Gross Oil Volume (PBT News)  Net Oil Volume (PBT News)  \\\n",
       "5    Waddell Ranch                        94554                      70916   \n",
       "6  Texas Royalties                        19114                      16949   \n",
       "\n",
       "  Average Oil Price Average Gas Price  Gross Gas Volume (PBT News)  \\\n",
       "5             63.97              2.61                       194689   \n",
       "6             61.94              6.62                        10523   \n",
       "\n",
       "   Net Gas Volume (PBT News)  \n",
       "5                     146017  \n",
       "6                       9333  "
      ]
     },
     "execution_count": 13,
     "metadata": {},
     "output_type": "execute_result"
    }
   ],
   "source": [
    "pbt_news_DF"
   ]
  },
  {
   "cell_type": "code",
   "execution_count": 14,
   "id": "9bcb4f75",
   "metadata": {
    "execution": {
     "iopub.execute_input": "2022-01-16T20:34:58.509176Z",
     "iopub.status.busy": "2022-01-16T20:34:58.508774Z",
     "iopub.status.idle": "2022-01-16T20:34:58.510048Z",
     "shell.execute_reply": "2022-01-16T20:34:58.510437Z"
    },
    "papermill": {
     "duration": 0.012729,
     "end_time": "2022-01-16T20:34:58.510571",
     "exception": false,
     "start_time": "2022-01-16T20:34:58.497842",
     "status": "completed"
    },
    "tags": []
   },
   "outputs": [],
   "source": [
    "date_from_filename = news_file_name.split(',')[1]\\\n",
    "                                    .split('.')[0]\\\n",
    "                                    .strip()\\\n",
    "                                    .replace(' prod', '')"
   ]
  },
  {
   "cell_type": "code",
   "execution_count": 15,
   "id": "b2d00cad",
   "metadata": {
    "execution": {
     "iopub.execute_input": "2022-01-16T20:34:58.529581Z",
     "iopub.status.busy": "2022-01-16T20:34:58.529198Z",
     "iopub.status.idle": "2022-01-16T20:34:58.530472Z",
     "shell.execute_reply": "2022-01-16T20:34:58.530720Z"
    },
    "papermill": {
     "duration": 0.012207,
     "end_time": "2022-01-16T20:34:58.530852",
     "exception": false,
     "start_time": "2022-01-16T20:34:58.518645",
     "status": "completed"
    },
    "tags": []
   },
   "outputs": [],
   "source": [
    "pbt_news_DF.insert(0, 'Date', date_from_filename.title())"
   ]
  },
  {
   "cell_type": "code",
   "execution_count": 16,
   "id": "e38fd321",
   "metadata": {
    "execution": {
     "iopub.execute_input": "2022-01-16T20:34:58.551901Z",
     "iopub.status.busy": "2022-01-16T20:34:58.551463Z",
     "iopub.status.idle": "2022-01-16T20:34:58.553039Z",
     "shell.execute_reply": "2022-01-16T20:34:58.553361Z"
    },
    "papermill": {
     "duration": 0.014675,
     "end_time": "2022-01-16T20:34:58.553485",
     "exception": false,
     "start_time": "2022-01-16T20:34:58.538810",
     "status": "completed"
    },
    "tags": []
   },
   "outputs": [
    {
     "data": {
      "text/html": [
       "<div>\n",
       "<style scoped>\n",
       "    .dataframe tbody tr th:only-of-type {\n",
       "        vertical-align: middle;\n",
       "    }\n",
       "\n",
       "    .dataframe tbody tr th {\n",
       "        vertical-align: top;\n",
       "    }\n",
       "\n",
       "    .dataframe thead th {\n",
       "        text-align: right;\n",
       "    }\n",
       "</style>\n",
       "<table border=\"1\" class=\"dataframe\">\n",
       "  <thead>\n",
       "    <tr style=\"text-align: right;\">\n",
       "      <th></th>\n",
       "      <th>Date</th>\n",
       "      <th>Property</th>\n",
       "      <th>Gross Oil Volume (PBT News)</th>\n",
       "      <th>Net Oil Volume (PBT News)</th>\n",
       "      <th>Average Oil Price</th>\n",
       "      <th>Average Gas Price</th>\n",
       "      <th>Gross Gas Volume (PBT News)</th>\n",
       "      <th>Net Gas Volume (PBT News)</th>\n",
       "    </tr>\n",
       "  </thead>\n",
       "  <tbody>\n",
       "    <tr>\n",
       "      <th>5</th>\n",
       "      <td>May 2021</td>\n",
       "      <td>Waddell Ranch</td>\n",
       "      <td>94554</td>\n",
       "      <td>70916</td>\n",
       "      <td>63.97</td>\n",
       "      <td>2.61</td>\n",
       "      <td>194689</td>\n",
       "      <td>146017</td>\n",
       "    </tr>\n",
       "    <tr>\n",
       "      <th>6</th>\n",
       "      <td>May 2021</td>\n",
       "      <td>Texas Royalties</td>\n",
       "      <td>19114</td>\n",
       "      <td>16949</td>\n",
       "      <td>61.94</td>\n",
       "      <td>6.62</td>\n",
       "      <td>10523</td>\n",
       "      <td>9333</td>\n",
       "    </tr>\n",
       "  </tbody>\n",
       "</table>\n",
       "</div>"
      ],
      "text/plain": [
       "       Date         Property  Gross Oil Volume (PBT News)  \\\n",
       "5  May 2021    Waddell Ranch                        94554   \n",
       "6  May 2021  Texas Royalties                        19114   \n",
       "\n",
       "   Net Oil Volume (PBT News) Average Oil Price Average Gas Price  \\\n",
       "5                      70916             63.97              2.61   \n",
       "6                      16949             61.94              6.62   \n",
       "\n",
       "   Gross Gas Volume (PBT News)  Net Gas Volume (PBT News)  \n",
       "5                       194689                     146017  \n",
       "6                        10523                       9333  "
      ]
     },
     "execution_count": 16,
     "metadata": {},
     "output_type": "execute_result"
    }
   ],
   "source": [
    "pbt_news_DF"
   ]
  },
  {
   "cell_type": "markdown",
   "id": "eb3ae53a",
   "metadata": {
    "papermill": {
     "duration": 0.008498,
     "end_time": "2022-01-16T20:34:58.570107",
     "exception": false,
     "start_time": "2022-01-16T20:34:58.561609",
     "status": "completed"
    },
    "tags": []
   },
   "source": [
    "# Write Table to File"
   ]
  },
  {
   "cell_type": "code",
   "execution_count": 17,
   "id": "c9638897",
   "metadata": {
    "execution": {
     "iopub.execute_input": "2022-01-16T20:34:58.589134Z",
     "iopub.status.busy": "2022-01-16T20:34:58.588703Z",
     "iopub.status.idle": "2022-01-16T20:34:58.590392Z",
     "shell.execute_reply": "2022-01-16T20:34:58.590705Z"
    },
    "papermill": {
     "duration": 0.012606,
     "end_time": "2022-01-16T20:34:58.590830",
     "exception": false,
     "start_time": "2022-01-16T20:34:58.578224",
     "status": "completed"
    },
    "tags": []
   },
   "outputs": [
    {
     "data": {
      "text/plain": [
       "'jul 2021 news, may 2021 prod.csv'"
      ]
     },
     "execution_count": 17,
     "metadata": {},
     "output_type": "execute_result"
    }
   ],
   "source": [
    "to_file_name = news_file_name.split('.')[0] + '.csv'\n",
    "\n",
    "to_file_name"
   ]
  },
  {
   "cell_type": "code",
   "execution_count": 18,
   "id": "6553b868",
   "metadata": {
    "execution": {
     "iopub.execute_input": "2022-01-16T20:34:58.611747Z",
     "iopub.status.busy": "2022-01-16T20:34:58.611361Z",
     "iopub.status.idle": "2022-01-16T20:34:58.614294Z",
     "shell.execute_reply": "2022-01-16T20:34:58.614540Z"
    },
    "papermill": {
     "duration": 0.014565,
     "end_time": "2022-01-16T20:34:58.614678",
     "exception": false,
     "start_time": "2022-01-16T20:34:58.600113",
     "status": "completed"
    },
    "tags": []
   },
   "outputs": [],
   "source": [
    "pbt_news_DF.to_csv(f'{processed_data_folder}/pbt_news_prod/{to_file_name}', index = False)"
   ]
  },
  {
   "cell_type": "code",
   "execution_count": null,
   "id": "7b8340db",
   "metadata": {
    "papermill": {
     "duration": 0.008391,
     "end_time": "2022-01-16T20:34:58.631528",
     "exception": false,
     "start_time": "2022-01-16T20:34:58.623137",
     "status": "completed"
    },
    "tags": []
   },
   "outputs": [],
   "source": []
  }
 ],
 "metadata": {
  "kernelspec": {
   "display_name": "Python 3 (ipykernel)",
   "language": "python",
   "name": "python3"
  },
  "language_info": {
   "codemirror_mode": {
    "name": "ipython",
    "version": 3
   },
   "file_extension": ".py",
   "mimetype": "text/x-python",
   "name": "python",
   "nbconvert_exporter": "python",
   "pygments_lexer": "ipython3",
   "version": "3.9.7"
  },
  "papermill": {
   "default_parameters": {},
   "duration": 6.043068,
   "end_time": "2022-01-16T20:34:59.719119",
   "environment_variables": {},
   "exception": null,
   "input_path": "3. Ingest PBT News Release PDFs.ipynb",
   "output_path": "output_notebooks/pbt_news_runs/jul 2021 news, may 2021 prod.pdf.ipynb",
   "parameters": {
    "news_file_name": "jul 2021 news, may 2021 prod.pdf"
   },
   "start_time": "2022-01-16T20:34:53.676051",
   "version": "2.3.3"
  }
 },
 "nbformat": 4,
 "nbformat_minor": 5
}