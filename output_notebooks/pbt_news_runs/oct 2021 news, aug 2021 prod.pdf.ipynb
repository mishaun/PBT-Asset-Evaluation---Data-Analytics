{
 "cells": [
  {
   "cell_type": "markdown",
   "id": "3bf9f2f8",
   "metadata": {
    "papermill": {
     "duration": 0.023467,
     "end_time": "2022-01-16T20:35:00.793722",
     "exception": false,
     "start_time": "2022-01-16T20:35:00.770255",
     "status": "completed"
    },
    "tags": []
   },
   "source": [
    "# Ingest PBT News Releases"
   ]
  },
  {
   "cell_type": "code",
   "execution_count": 1,
   "id": "f63d6cde",
   "metadata": {
    "execution": {
     "iopub.execute_input": "2022-01-16T20:35:00.826385Z",
     "iopub.status.busy": "2022-01-16T20:35:00.825186Z",
     "iopub.status.idle": "2022-01-16T20:35:01.605462Z",
     "shell.execute_reply": "2022-01-16T20:35:01.605729Z"
    },
    "papermill": {
     "duration": 0.800561,
     "end_time": "2022-01-16T20:35:01.605955",
     "exception": false,
     "start_time": "2022-01-16T20:35:00.805394",
     "status": "completed"
    },
    "tags": []
   },
   "outputs": [],
   "source": [
    "from tabula import read_pdf"
   ]
  },
  {
   "cell_type": "code",
   "execution_count": 2,
   "id": "b68a4e59",
   "metadata": {
    "execution": {
     "iopub.execute_input": "2022-01-16T20:35:01.622716Z",
     "iopub.status.busy": "2022-01-16T20:35:01.622297Z",
     "iopub.status.idle": "2022-01-16T20:35:01.651357Z",
     "shell.execute_reply": "2022-01-16T20:35:01.651610Z"
    },
    "papermill": {
     "duration": 0.038597,
     "end_time": "2022-01-16T20:35:01.651749",
     "exception": false,
     "start_time": "2022-01-16T20:35:01.613152",
     "status": "completed"
    },
    "tags": []
   },
   "outputs": [],
   "source": [
    "%run configs.ipynb"
   ]
  },
  {
   "cell_type": "code",
   "execution_count": 3,
   "id": "b5516fe2",
   "metadata": {
    "execution": {
     "iopub.execute_input": "2022-01-16T20:35:01.666740Z",
     "iopub.status.busy": "2022-01-16T20:35:01.666348Z",
     "iopub.status.idle": "2022-01-16T20:35:01.667582Z",
     "shell.execute_reply": "2022-01-16T20:35:01.667833Z"
    },
    "papermill": {
     "duration": 0.00976,
     "end_time": "2022-01-16T20:35:01.667955",
     "exception": false,
     "start_time": "2022-01-16T20:35:01.658195",
     "status": "completed"
    },
    "tags": [
     "parameters"
    ]
   },
   "outputs": [],
   "source": [
    "#parameters cell\n",
    "news_file_name = 'dec 2021 news, oct 2021 prod.pdf'"
   ]
  },
  {
   "cell_type": "code",
   "execution_count": 4,
   "id": "dedf38cd",
   "metadata": {
    "execution": {
     "iopub.execute_input": "2022-01-16T20:35:01.683232Z",
     "iopub.status.busy": "2022-01-16T20:35:01.682857Z",
     "iopub.status.idle": "2022-01-16T20:35:01.684389Z",
     "shell.execute_reply": "2022-01-16T20:35:01.684691Z"
    },
    "papermill": {
     "duration": 0.010208,
     "end_time": "2022-01-16T20:35:01.684813",
     "exception": false,
     "start_time": "2022-01-16T20:35:01.674605",
     "status": "completed"
    },
    "tags": [
     "injected-parameters"
    ]
   },
   "outputs": [],
   "source": [
    "# Parameters\n",
    "news_file_name = \"oct 2021 news, aug 2021 prod.pdf\"\n"
   ]
  },
  {
   "cell_type": "code",
   "execution_count": 5,
   "id": "89d75a6d",
   "metadata": {
    "execution": {
     "iopub.execute_input": "2022-01-16T20:35:01.701183Z",
     "iopub.status.busy": "2022-01-16T20:35:01.700785Z",
     "iopub.status.idle": "2022-01-16T20:35:04.561405Z",
     "shell.execute_reply": "2022-01-16T20:35:04.561706Z"
    },
    "papermill": {
     "duration": 2.870327,
     "end_time": "2022-01-16T20:35:04.561840",
     "exception": false,
     "start_time": "2022-01-16T20:35:01.691513",
     "status": "completed"
    },
    "tags": []
   },
   "outputs": [
    {
     "name": "stderr",
     "output_type": "stream",
     "text": [
      "'pages' argument isn't specified.Will extract only from page 1 by default.\n"
     ]
    },
    {
     "data": {
      "text/html": [
       "<div>\n",
       "<style scoped>\n",
       "    .dataframe tbody tr th:only-of-type {\n",
       "        vertical-align: middle;\n",
       "    }\n",
       "\n",
       "    .dataframe tbody tr th {\n",
       "        vertical-align: top;\n",
       "    }\n",
       "\n",
       "    .dataframe thead th {\n",
       "        text-align: right;\n",
       "    }\n",
       "</style>\n",
       "<table border=\"1\" class=\"dataframe\">\n",
       "  <thead>\n",
       "    <tr style=\"text-align: right;\">\n",
       "      <th></th>\n",
       "      <th>Unnamed: 0</th>\n",
       "      <th>Unnamed: 1</th>\n",
       "      <th>Unnamed: 2</th>\n",
       "      <th>Unnamed: 3</th>\n",
       "      <th>Unnamed: 4</th>\n",
       "    </tr>\n",
       "  </thead>\n",
       "  <tbody>\n",
       "    <tr>\n",
       "      <th>0</th>\n",
       "      <td>NaN</td>\n",
       "      <td>Underlying Properties</td>\n",
       "      <td>Net to Trust Sales</td>\n",
       "      <td>NaN</td>\n",
       "      <td>NaN</td>\n",
       "    </tr>\n",
       "    <tr>\n",
       "      <th>1</th>\n",
       "      <td>NaN</td>\n",
       "      <td>Volumes</td>\n",
       "      <td>Volumes</td>\n",
       "      <td>Average</td>\n",
       "      <td>Price</td>\n",
       "    </tr>\n",
       "    <tr>\n",
       "      <th>2</th>\n",
       "      <td>NaN</td>\n",
       "      <td>Oil  Gas</td>\n",
       "      <td>Oil  Gas</td>\n",
       "      <td>Oil</td>\n",
       "      <td>Gas</td>\n",
       "    </tr>\n",
       "    <tr>\n",
       "      <th>3</th>\n",
       "      <td>NaN</td>\n",
       "      <td>(bbls) (Mcf)</td>\n",
       "      <td>(bbls) (Mcf)</td>\n",
       "      <td>(per bbl)</td>\n",
       "      <td>(per Mcf)</td>\n",
       "    </tr>\n",
       "    <tr>\n",
       "      <th>4</th>\n",
       "      <td>Current Month</td>\n",
       "      <td>NaN</td>\n",
       "      <td>NaN</td>\n",
       "      <td>NaN</td>\n",
       "      <td>NaN</td>\n",
       "    </tr>\n",
       "    <tr>\n",
       "      <th>5</th>\n",
       "      <td>Waddell Ranch</td>\n",
       "      <td>108,522 257,857</td>\n",
       "      <td>81,392 193,393*</td>\n",
       "      <td>$66.66</td>\n",
       "      <td>$3.44**</td>\n",
       "    </tr>\n",
       "    <tr>\n",
       "      <th>6</th>\n",
       "      <td>Texas Royalties</td>\n",
       "      <td>17,941 9,871</td>\n",
       "      <td>15,927 8,757*</td>\n",
       "      <td>$66.39</td>\n",
       "      <td>$8.01**</td>\n",
       "    </tr>\n",
       "    <tr>\n",
       "      <th>7</th>\n",
       "      <td>NaN</td>\n",
       "      <td>NaN</td>\n",
       "      <td>NaN</td>\n",
       "      <td>NaN</td>\n",
       "      <td>NaN</td>\n",
       "    </tr>\n",
       "    <tr>\n",
       "      <th>8</th>\n",
       "      <td>Prior Month</td>\n",
       "      <td>NaN</td>\n",
       "      <td>NaN</td>\n",
       "      <td>NaN</td>\n",
       "      <td>NaN</td>\n",
       "    </tr>\n",
       "    <tr>\n",
       "      <th>9</th>\n",
       "      <td>Waddell Ranch</td>\n",
       "      <td>102,735 249,359</td>\n",
       "      <td>77,051 187,019*</td>\n",
       "      <td>$71.32</td>\n",
       "      <td>$3.45**</td>\n",
       "    </tr>\n",
       "    <tr>\n",
       "      <th>10</th>\n",
       "      <td>Texas Royalties</td>\n",
       "      <td>17,690 11,870</td>\n",
       "      <td>15,772 10,570*</td>\n",
       "      <td>$71.11</td>\n",
       "      <td>$8.09**</td>\n",
       "    </tr>\n",
       "  </tbody>\n",
       "</table>\n",
       "</div>"
      ],
      "text/plain": [
       "         Unnamed: 0             Unnamed: 1          Unnamed: 2 Unnamed: 3  \\\n",
       "0               NaN  Underlying Properties  Net to Trust Sales        NaN   \n",
       "1               NaN                Volumes             Volumes    Average   \n",
       "2               NaN               Oil  Gas            Oil  Gas        Oil   \n",
       "3               NaN           (bbls) (Mcf)        (bbls) (Mcf)  (per bbl)   \n",
       "4     Current Month                    NaN                 NaN        NaN   \n",
       "5     Waddell Ranch        108,522 257,857     81,392 193,393*     $66.66   \n",
       "6   Texas Royalties           17,941 9,871       15,927 8,757*     $66.39   \n",
       "7               NaN                    NaN                 NaN        NaN   \n",
       "8       Prior Month                    NaN                 NaN        NaN   \n",
       "9     Waddell Ranch        102,735 249,359     77,051 187,019*     $71.32   \n",
       "10  Texas Royalties          17,690 11,870      15,772 10,570*     $71.11   \n",
       "\n",
       "   Unnamed: 4  \n",
       "0         NaN  \n",
       "1       Price  \n",
       "2         Gas  \n",
       "3   (per Mcf)  \n",
       "4         NaN  \n",
       "5     $3.44**  \n",
       "6     $8.01**  \n",
       "7         NaN  \n",
       "8         NaN  \n",
       "9     $3.45**  \n",
       "10    $8.09**  "
      ]
     },
     "execution_count": 5,
     "metadata": {},
     "output_type": "execute_result"
    }
   ],
   "source": [
    "pbt_news_DF = read_pdf(f'{raw_data_folder}/pbt_news/2021/{news_file_name}')[0]\n",
    "\n",
    "pbt_news_DF"
   ]
  },
  {
   "cell_type": "code",
   "execution_count": 6,
   "id": "5ad174f1",
   "metadata": {
    "execution": {
     "iopub.execute_input": "2022-01-16T20:35:04.579491Z",
     "iopub.status.busy": "2022-01-16T20:35:04.579059Z",
     "iopub.status.idle": "2022-01-16T20:35:04.580203Z",
     "shell.execute_reply": "2022-01-16T20:35:04.580452Z"
    },
    "papermill": {
     "duration": 0.011088,
     "end_time": "2022-01-16T20:35:04.580569",
     "exception": false,
     "start_time": "2022-01-16T20:35:04.569481",
     "status": "completed"
    },
    "tags": []
   },
   "outputs": [],
   "source": [
    "cols_pdf = 'Property', 'Gross Oil Volume (PBT News)', 'Net Oil Volume (PBT News)', 'Average Oil Price', 'Average Gas Price'\n",
    "pbt_news_DF.columns = cols_pdf"
   ]
  },
  {
   "cell_type": "code",
   "execution_count": 7,
   "id": "9e1a6833",
   "metadata": {
    "execution": {
     "iopub.execute_input": "2022-01-16T20:35:04.600287Z",
     "iopub.status.busy": "2022-01-16T20:35:04.599887Z",
     "iopub.status.idle": "2022-01-16T20:35:04.601575Z",
     "shell.execute_reply": "2022-01-16T20:35:04.601820Z"
    },
    "papermill": {
     "duration": 0.014476,
     "end_time": "2022-01-16T20:35:04.601934",
     "exception": false,
     "start_time": "2022-01-16T20:35:04.587458",
     "status": "completed"
    },
    "tags": []
   },
   "outputs": [
    {
     "data": {
      "text/html": [
       "<div>\n",
       "<style scoped>\n",
       "    .dataframe tbody tr th:only-of-type {\n",
       "        vertical-align: middle;\n",
       "    }\n",
       "\n",
       "    .dataframe tbody tr th {\n",
       "        vertical-align: top;\n",
       "    }\n",
       "\n",
       "    .dataframe thead th {\n",
       "        text-align: right;\n",
       "    }\n",
       "</style>\n",
       "<table border=\"1\" class=\"dataframe\">\n",
       "  <thead>\n",
       "    <tr style=\"text-align: right;\">\n",
       "      <th></th>\n",
       "      <th>Property</th>\n",
       "      <th>Gross Oil Volume (PBT News)</th>\n",
       "      <th>Net Oil Volume (PBT News)</th>\n",
       "      <th>Average Oil Price</th>\n",
       "      <th>Average Gas Price</th>\n",
       "    </tr>\n",
       "  </thead>\n",
       "  <tbody>\n",
       "    <tr>\n",
       "      <th>5</th>\n",
       "      <td>Waddell Ranch</td>\n",
       "      <td>108,522 257,857</td>\n",
       "      <td>81,392 193,393*</td>\n",
       "      <td>$66.66</td>\n",
       "      <td>$3.44**</td>\n",
       "    </tr>\n",
       "    <tr>\n",
       "      <th>6</th>\n",
       "      <td>Texas Royalties</td>\n",
       "      <td>17,941 9,871</td>\n",
       "      <td>15,927 8,757*</td>\n",
       "      <td>$66.39</td>\n",
       "      <td>$8.01**</td>\n",
       "    </tr>\n",
       "    <tr>\n",
       "      <th>9</th>\n",
       "      <td>Waddell Ranch</td>\n",
       "      <td>102,735 249,359</td>\n",
       "      <td>77,051 187,019*</td>\n",
       "      <td>$71.32</td>\n",
       "      <td>$3.45**</td>\n",
       "    </tr>\n",
       "    <tr>\n",
       "      <th>10</th>\n",
       "      <td>Texas Royalties</td>\n",
       "      <td>17,690 11,870</td>\n",
       "      <td>15,772 10,570*</td>\n",
       "      <td>$71.11</td>\n",
       "      <td>$8.09**</td>\n",
       "    </tr>\n",
       "  </tbody>\n",
       "</table>\n",
       "</div>"
      ],
      "text/plain": [
       "           Property Gross Oil Volume (PBT News) Net Oil Volume (PBT News)  \\\n",
       "5     Waddell Ranch             108,522 257,857           81,392 193,393*   \n",
       "6   Texas Royalties                17,941 9,871             15,927 8,757*   \n",
       "9     Waddell Ranch             102,735 249,359           77,051 187,019*   \n",
       "10  Texas Royalties               17,690 11,870            15,772 10,570*   \n",
       "\n",
       "   Average Oil Price Average Gas Price  \n",
       "5             $66.66           $3.44**  \n",
       "6             $66.39           $8.01**  \n",
       "9             $71.32           $3.45**  \n",
       "10            $71.11           $8.09**  "
      ]
     },
     "execution_count": 7,
     "metadata": {},
     "output_type": "execute_result"
    }
   ],
   "source": [
    "pbt_news_DF.dropna(inplace = True)\n",
    "pbt_news_DF"
   ]
  },
  {
   "cell_type": "markdown",
   "id": "9ea8667f",
   "metadata": {
    "papermill": {
     "duration": 0.006894,
     "end_time": "2022-01-16T20:35:04.615866",
     "exception": false,
     "start_time": "2022-01-16T20:35:04.608972",
     "status": "completed"
    },
    "tags": []
   },
   "source": [
    "### Splitting Net Oil Column to Get Gas Volume\n",
    "### Applying Text Cleaning to remove commas"
   ]
  },
  {
   "cell_type": "code",
   "execution_count": 8,
   "id": "0e4b24f4",
   "metadata": {
    "execution": {
     "iopub.execute_input": "2022-01-16T20:35:04.633412Z",
     "iopub.status.busy": "2022-01-16T20:35:04.633038Z",
     "iopub.status.idle": "2022-01-16T20:35:04.634310Z",
     "shell.execute_reply": "2022-01-16T20:35:04.634550Z"
    },
    "papermill": {
     "duration": 0.011971,
     "end_time": "2022-01-16T20:35:04.634667",
     "exception": false,
     "start_time": "2022-01-16T20:35:04.622696",
     "status": "completed"
    },
    "tags": []
   },
   "outputs": [],
   "source": [
    "pbt_news_DF['Gross Gas Volume (PBT News)'] = pbt_news_DF['Gross Oil Volume (PBT News)'].apply(lambda x: int(x.split(' ')[1].replace(',', '')))\n",
    "\n",
    "pbt_news_DF['Gross Oil Volume (PBT News)'] = pbt_news_DF['Gross Oil Volume (PBT News)'].apply(lambda x: int(x.split(' ')[0].replace(',', '')))"
   ]
  },
  {
   "cell_type": "code",
   "execution_count": 9,
   "id": "735d5051",
   "metadata": {
    "execution": {
     "iopub.execute_input": "2022-01-16T20:35:04.653290Z",
     "iopub.status.busy": "2022-01-16T20:35:04.652881Z",
     "iopub.status.idle": "2022-01-16T20:35:04.654550Z",
     "shell.execute_reply": "2022-01-16T20:35:04.654790Z"
    },
    "papermill": {
     "duration": 0.013102,
     "end_time": "2022-01-16T20:35:04.654906",
     "exception": false,
     "start_time": "2022-01-16T20:35:04.641804",
     "status": "completed"
    },
    "tags": []
   },
   "outputs": [
    {
     "data": {
      "text/html": [
       "<div>\n",
       "<style scoped>\n",
       "    .dataframe tbody tr th:only-of-type {\n",
       "        vertical-align: middle;\n",
       "    }\n",
       "\n",
       "    .dataframe tbody tr th {\n",
       "        vertical-align: top;\n",
       "    }\n",
       "\n",
       "    .dataframe thead th {\n",
       "        text-align: right;\n",
       "    }\n",
       "</style>\n",
       "<table border=\"1\" class=\"dataframe\">\n",
       "  <thead>\n",
       "    <tr style=\"text-align: right;\">\n",
       "      <th></th>\n",
       "      <th>Property</th>\n",
       "      <th>Gross Oil Volume (PBT News)</th>\n",
       "      <th>Net Oil Volume (PBT News)</th>\n",
       "      <th>Average Oil Price</th>\n",
       "      <th>Average Gas Price</th>\n",
       "      <th>Gross Gas Volume (PBT News)</th>\n",
       "    </tr>\n",
       "  </thead>\n",
       "  <tbody>\n",
       "    <tr>\n",
       "      <th>5</th>\n",
       "      <td>Waddell Ranch</td>\n",
       "      <td>108522</td>\n",
       "      <td>81,392 193,393*</td>\n",
       "      <td>$66.66</td>\n",
       "      <td>$3.44**</td>\n",
       "      <td>257857</td>\n",
       "    </tr>\n",
       "    <tr>\n",
       "      <th>6</th>\n",
       "      <td>Texas Royalties</td>\n",
       "      <td>17941</td>\n",
       "      <td>15,927 8,757*</td>\n",
       "      <td>$66.39</td>\n",
       "      <td>$8.01**</td>\n",
       "      <td>9871</td>\n",
       "    </tr>\n",
       "    <tr>\n",
       "      <th>9</th>\n",
       "      <td>Waddell Ranch</td>\n",
       "      <td>102735</td>\n",
       "      <td>77,051 187,019*</td>\n",
       "      <td>$71.32</td>\n",
       "      <td>$3.45**</td>\n",
       "      <td>249359</td>\n",
       "    </tr>\n",
       "    <tr>\n",
       "      <th>10</th>\n",
       "      <td>Texas Royalties</td>\n",
       "      <td>17690</td>\n",
       "      <td>15,772 10,570*</td>\n",
       "      <td>$71.11</td>\n",
       "      <td>$8.09**</td>\n",
       "      <td>11870</td>\n",
       "    </tr>\n",
       "  </tbody>\n",
       "</table>\n",
       "</div>"
      ],
      "text/plain": [
       "           Property  Gross Oil Volume (PBT News) Net Oil Volume (PBT News)  \\\n",
       "5     Waddell Ranch                       108522           81,392 193,393*   \n",
       "6   Texas Royalties                        17941             15,927 8,757*   \n",
       "9     Waddell Ranch                       102735           77,051 187,019*   \n",
       "10  Texas Royalties                        17690            15,772 10,570*   \n",
       "\n",
       "   Average Oil Price Average Gas Price  Gross Gas Volume (PBT News)  \n",
       "5             $66.66           $3.44**                       257857  \n",
       "6             $66.39           $8.01**                         9871  \n",
       "9             $71.32           $3.45**                       249359  \n",
       "10            $71.11           $8.09**                        11870  "
      ]
     },
     "execution_count": 9,
     "metadata": {},
     "output_type": "execute_result"
    }
   ],
   "source": [
    "pbt_news_DF"
   ]
  },
  {
   "cell_type": "markdown",
   "id": "27cceb93",
   "metadata": {
    "papermill": {
     "duration": 0.007185,
     "end_time": "2022-01-16T20:35:04.669432",
     "exception": false,
     "start_time": "2022-01-16T20:35:04.662247",
     "status": "completed"
    },
    "tags": []
   },
   "source": [
    "### Splitting Net Oil Column to Get Gas Volume\n",
    "### Applying Text Cleaning to remove commas and asterisks"
   ]
  },
  {
   "cell_type": "code",
   "execution_count": 10,
   "id": "36f1f177",
   "metadata": {
    "execution": {
     "iopub.execute_input": "2022-01-16T20:35:04.688589Z",
     "iopub.status.busy": "2022-01-16T20:35:04.688136Z",
     "iopub.status.idle": "2022-01-16T20:35:04.690046Z",
     "shell.execute_reply": "2022-01-16T20:35:04.690282Z"
    },
    "papermill": {
     "duration": 0.012927,
     "end_time": "2022-01-16T20:35:04.690393",
     "exception": false,
     "start_time": "2022-01-16T20:35:04.677466",
     "status": "completed"
    },
    "tags": []
   },
   "outputs": [],
   "source": [
    "pbt_news_DF['Net Gas Volume (PBT News)'] = pbt_news_DF['Net Oil Volume (PBT News)'].apply(lambda x: int(x.split(' ')[1]\\\n",
    "                                                                                  .replace(',', '')\\\n",
    "                                                                                 .replace('*','')))\n",
    "\n",
    "pbt_news_DF['Net Oil Volume (PBT News)'] = pbt_news_DF['Net Oil Volume (PBT News)'].apply(lambda x: int(x.split(' ')[0].replace(',', '')))"
   ]
  },
  {
   "cell_type": "markdown",
   "id": "f78ceacc",
   "metadata": {
    "papermill": {
     "duration": 0.007596,
     "end_time": "2022-01-16T20:35:04.705372",
     "exception": false,
     "start_time": "2022-01-16T20:35:04.697776",
     "status": "completed"
    },
    "tags": []
   },
   "source": [
    "### Cleaning Prices Columns by removing asterisks and Dollar Sign"
   ]
  },
  {
   "cell_type": "code",
   "execution_count": 11,
   "id": "670ab6d8",
   "metadata": {
    "execution": {
     "iopub.execute_input": "2022-01-16T20:35:04.723185Z",
     "iopub.status.busy": "2022-01-16T20:35:04.722814Z",
     "iopub.status.idle": "2022-01-16T20:35:04.724124Z",
     "shell.execute_reply": "2022-01-16T20:35:04.724367Z"
    },
    "papermill": {
     "duration": 0.011877,
     "end_time": "2022-01-16T20:35:04.724483",
     "exception": false,
     "start_time": "2022-01-16T20:35:04.712606",
     "status": "completed"
    },
    "tags": []
   },
   "outputs": [],
   "source": [
    "pbt_news_DF['Average Gas Price'] = pbt_news_DF['Average Gas Price'].apply(lambda x: x.replace('$','').replace('**',''))\n",
    "\n",
    "pbt_news_DF['Average Oil Price'] = pbt_news_DF['Average Oil Price'].apply(lambda x: x.replace('$','').replace('**',''))"
   ]
  },
  {
   "cell_type": "code",
   "execution_count": 12,
   "id": "b1456a0e",
   "metadata": {
    "execution": {
     "iopub.execute_input": "2022-01-16T20:35:04.741829Z",
     "iopub.status.busy": "2022-01-16T20:35:04.741447Z",
     "iopub.status.idle": "2022-01-16T20:35:04.742780Z",
     "shell.execute_reply": "2022-01-16T20:35:04.743027Z"
    },
    "papermill": {
     "duration": 0.011087,
     "end_time": "2022-01-16T20:35:04.743142",
     "exception": false,
     "start_time": "2022-01-16T20:35:04.732055",
     "status": "completed"
    },
    "tags": []
   },
   "outputs": [],
   "source": [
    "#filtering table to the 'current month' values\n",
    "pbt_news_DF = pbt_news_DF.head(2)"
   ]
  },
  {
   "cell_type": "code",
   "execution_count": 13,
   "id": "6d802530",
   "metadata": {
    "execution": {
     "iopub.execute_input": "2022-01-16T20:35:04.762494Z",
     "iopub.status.busy": "2022-01-16T20:35:04.762093Z",
     "iopub.status.idle": "2022-01-16T20:35:04.763819Z",
     "shell.execute_reply": "2022-01-16T20:35:04.764069Z"
    },
    "papermill": {
     "duration": 0.013616,
     "end_time": "2022-01-16T20:35:04.764192",
     "exception": false,
     "start_time": "2022-01-16T20:35:04.750576",
     "status": "completed"
    },
    "tags": []
   },
   "outputs": [
    {
     "data": {
      "text/html": [
       "<div>\n",
       "<style scoped>\n",
       "    .dataframe tbody tr th:only-of-type {\n",
       "        vertical-align: middle;\n",
       "    }\n",
       "\n",
       "    .dataframe tbody tr th {\n",
       "        vertical-align: top;\n",
       "    }\n",
       "\n",
       "    .dataframe thead th {\n",
       "        text-align: right;\n",
       "    }\n",
       "</style>\n",
       "<table border=\"1\" class=\"dataframe\">\n",
       "  <thead>\n",
       "    <tr style=\"text-align: right;\">\n",
       "      <th></th>\n",
       "      <th>Property</th>\n",
       "      <th>Gross Oil Volume (PBT News)</th>\n",
       "      <th>Net Oil Volume (PBT News)</th>\n",
       "      <th>Average Oil Price</th>\n",
       "      <th>Average Gas Price</th>\n",
       "      <th>Gross Gas Volume (PBT News)</th>\n",
       "      <th>Net Gas Volume (PBT News)</th>\n",
       "    </tr>\n",
       "  </thead>\n",
       "  <tbody>\n",
       "    <tr>\n",
       "      <th>5</th>\n",
       "      <td>Waddell Ranch</td>\n",
       "      <td>108522</td>\n",
       "      <td>81392</td>\n",
       "      <td>66.66</td>\n",
       "      <td>3.44</td>\n",
       "      <td>257857</td>\n",
       "      <td>193393</td>\n",
       "    </tr>\n",
       "    <tr>\n",
       "      <th>6</th>\n",
       "      <td>Texas Royalties</td>\n",
       "      <td>17941</td>\n",
       "      <td>15927</td>\n",
       "      <td>66.39</td>\n",
       "      <td>8.01</td>\n",
       "      <td>9871</td>\n",
       "      <td>8757</td>\n",
       "    </tr>\n",
       "  </tbody>\n",
       "</table>\n",
       "</div>"
      ],
      "text/plain": [
       "          Property  Gross Oil Volume (PBT News)  Net Oil Volume (PBT News)  \\\n",
       "5    Waddell Ranch                       108522                      81392   \n",
       "6  Texas Royalties                        17941                      15927   \n",
       "\n",
       "  Average Oil Price Average Gas Price  Gross Gas Volume (PBT News)  \\\n",
       "5             66.66              3.44                       257857   \n",
       "6             66.39              8.01                         9871   \n",
       "\n",
       "   Net Gas Volume (PBT News)  \n",
       "5                     193393  \n",
       "6                       8757  "
      ]
     },
     "execution_count": 13,
     "metadata": {},
     "output_type": "execute_result"
    }
   ],
   "source": [
    "pbt_news_DF"
   ]
  },
  {
   "cell_type": "code",
   "execution_count": 14,
   "id": "9bcb4f75",
   "metadata": {
    "execution": {
     "iopub.execute_input": "2022-01-16T20:35:04.781880Z",
     "iopub.status.busy": "2022-01-16T20:35:04.781462Z",
     "iopub.status.idle": "2022-01-16T20:35:04.782525Z",
     "shell.execute_reply": "2022-01-16T20:35:04.782755Z"
    },
    "papermill": {
     "duration": 0.010943,
     "end_time": "2022-01-16T20:35:04.782864",
     "exception": false,
     "start_time": "2022-01-16T20:35:04.771921",
     "status": "completed"
    },
    "tags": []
   },
   "outputs": [],
   "source": [
    "date_from_filename = news_file_name.split(',')[1]\\\n",
    "                                    .split('.')[0]\\\n",
    "                                    .strip()\\\n",
    "                                    .replace(' prod', '')"
   ]
  },
  {
   "cell_type": "code",
   "execution_count": 15,
   "id": "b2d00cad",
   "metadata": {
    "execution": {
     "iopub.execute_input": "2022-01-16T20:35:04.802061Z",
     "iopub.status.busy": "2022-01-16T20:35:04.801642Z",
     "iopub.status.idle": "2022-01-16T20:35:04.802753Z",
     "shell.execute_reply": "2022-01-16T20:35:04.803053Z"
    },
    "papermill": {
     "duration": 0.01168,
     "end_time": "2022-01-16T20:35:04.803166",
     "exception": false,
     "start_time": "2022-01-16T20:35:04.791486",
     "status": "completed"
    },
    "tags": []
   },
   "outputs": [],
   "source": [
    "pbt_news_DF.insert(0, 'Date', date_from_filename.title())"
   ]
  },
  {
   "cell_type": "code",
   "execution_count": 16,
   "id": "e38fd321",
   "metadata": {
    "execution": {
     "iopub.execute_input": "2022-01-16T20:35:04.823386Z",
     "iopub.status.busy": "2022-01-16T20:35:04.822891Z",
     "iopub.status.idle": "2022-01-16T20:35:04.824586Z",
     "shell.execute_reply": "2022-01-16T20:35:04.824827Z"
    },
    "papermill": {
     "duration": 0.013924,
     "end_time": "2022-01-16T20:35:04.824936",
     "exception": false,
     "start_time": "2022-01-16T20:35:04.811012",
     "status": "completed"
    },
    "tags": []
   },
   "outputs": [
    {
     "data": {
      "text/html": [
       "<div>\n",
       "<style scoped>\n",
       "    .dataframe tbody tr th:only-of-type {\n",
       "        vertical-align: middle;\n",
       "    }\n",
       "\n",
       "    .dataframe tbody tr th {\n",
       "        vertical-align: top;\n",
       "    }\n",
       "\n",
       "    .dataframe thead th {\n",
       "        text-align: right;\n",
       "    }\n",
       "</style>\n",
       "<table border=\"1\" class=\"dataframe\">\n",
       "  <thead>\n",
       "    <tr style=\"text-align: right;\">\n",
       "      <th></th>\n",
       "      <th>Date</th>\n",
       "      <th>Property</th>\n",
       "      <th>Gross Oil Volume (PBT News)</th>\n",
       "      <th>Net Oil Volume (PBT News)</th>\n",
       "      <th>Average Oil Price</th>\n",
       "      <th>Average Gas Price</th>\n",
       "      <th>Gross Gas Volume (PBT News)</th>\n",
       "      <th>Net Gas Volume (PBT News)</th>\n",
       "    </tr>\n",
       "  </thead>\n",
       "  <tbody>\n",
       "    <tr>\n",
       "      <th>5</th>\n",
       "      <td>Aug 2021</td>\n",
       "      <td>Waddell Ranch</td>\n",
       "      <td>108522</td>\n",
       "      <td>81392</td>\n",
       "      <td>66.66</td>\n",
       "      <td>3.44</td>\n",
       "      <td>257857</td>\n",
       "      <td>193393</td>\n",
       "    </tr>\n",
       "    <tr>\n",
       "      <th>6</th>\n",
       "      <td>Aug 2021</td>\n",
       "      <td>Texas Royalties</td>\n",
       "      <td>17941</td>\n",
       "      <td>15927</td>\n",
       "      <td>66.39</td>\n",
       "      <td>8.01</td>\n",
       "      <td>9871</td>\n",
       "      <td>8757</td>\n",
       "    </tr>\n",
       "  </tbody>\n",
       "</table>\n",
       "</div>"
      ],
      "text/plain": [
       "       Date         Property  Gross Oil Volume (PBT News)  \\\n",
       "5  Aug 2021    Waddell Ranch                       108522   \n",
       "6  Aug 2021  Texas Royalties                        17941   \n",
       "\n",
       "   Net Oil Volume (PBT News) Average Oil Price Average Gas Price  \\\n",
       "5                      81392             66.66              3.44   \n",
       "6                      15927             66.39              8.01   \n",
       "\n",
       "   Gross Gas Volume (PBT News)  Net Gas Volume (PBT News)  \n",
       "5                       257857                     193393  \n",
       "6                         9871                       8757  "
      ]
     },
     "execution_count": 16,
     "metadata": {},
     "output_type": "execute_result"
    }
   ],
   "source": [
    "pbt_news_DF"
   ]
  },
  {
   "cell_type": "markdown",
   "id": "eb3ae53a",
   "metadata": {
    "papermill": {
     "duration": 0.007862,
     "end_time": "2022-01-16T20:35:04.840800",
     "exception": false,
     "start_time": "2022-01-16T20:35:04.832938",
     "status": "completed"
    },
    "tags": []
   },
   "source": [
    "# Write Table to File"
   ]
  },
  {
   "cell_type": "code",
   "execution_count": 17,
   "id": "c9638897",
   "metadata": {
    "execution": {
     "iopub.execute_input": "2022-01-16T20:35:04.859048Z",
     "iopub.status.busy": "2022-01-16T20:35:04.858618Z",
     "iopub.status.idle": "2022-01-16T20:35:04.860211Z",
     "shell.execute_reply": "2022-01-16T20:35:04.860444Z"
    },
    "papermill": {
     "duration": 0.011973,
     "end_time": "2022-01-16T20:35:04.860553",
     "exception": false,
     "start_time": "2022-01-16T20:35:04.848580",
     "status": "completed"
    },
    "tags": []
   },
   "outputs": [
    {
     "data": {
      "text/plain": [
       "'oct 2021 news, aug 2021 prod.csv'"
      ]
     },
     "execution_count": 17,
     "metadata": {},
     "output_type": "execute_result"
    }
   ],
   "source": [
    "to_file_name = news_file_name.split('.')[0] + '.csv'\n",
    "\n",
    "to_file_name"
   ]
  },
  {
   "cell_type": "code",
   "execution_count": 18,
   "id": "6553b868",
   "metadata": {
    "execution": {
     "iopub.execute_input": "2022-01-16T20:35:04.879092Z",
     "iopub.status.busy": "2022-01-16T20:35:04.878711Z",
     "iopub.status.idle": "2022-01-16T20:35:04.881637Z",
     "shell.execute_reply": "2022-01-16T20:35:04.881881Z"
    },
    "papermill": {
     "duration": 0.01322,
     "end_time": "2022-01-16T20:35:04.882006",
     "exception": false,
     "start_time": "2022-01-16T20:35:04.868786",
     "status": "completed"
    },
    "tags": []
   },
   "outputs": [],
   "source": [
    "pbt_news_DF.to_csv(f'{processed_data_folder}/pbt_news_prod/{to_file_name}', index = False)"
   ]
  },
  {
   "cell_type": "code",
   "execution_count": null,
   "id": "7b8340db",
   "metadata": {
    "papermill": {
     "duration": 0.008149,
     "end_time": "2022-01-16T20:35:04.898568",
     "exception": false,
     "start_time": "2022-01-16T20:35:04.890419",
     "status": "completed"
    },
    "tags": []
   },
   "outputs": [],
   "source": []
  }
 ],
 "metadata": {
  "kernelspec": {
   "display_name": "Python 3 (ipykernel)",
   "language": "python",
   "name": "python3"
  },
  "language_info": {
   "codemirror_mode": {
    "name": "ipython",
    "version": 3
   },
   "file_extension": ".py",
   "mimetype": "text/x-python",
   "name": "python",
   "nbconvert_exporter": "python",
   "pygments_lexer": "ipython3",
   "version": "3.9.7"
  },
  "papermill": {
   "default_parameters": {},
   "duration": 5.334243,
   "end_time": "2022-01-16T20:35:05.112558",
   "environment_variables": {},
   "exception": null,
   "input_path": "3. Ingest PBT News Release PDFs.ipynb",
   "output_path": "output_notebooks/pbt_news_runs/oct 2021 news, aug 2021 prod.pdf.ipynb",
   "parameters": {
    "news_file_name": "oct 2021 news, aug 2021 prod.pdf"
   },
   "start_time": "2022-01-16T20:34:59.778315",
   "version": "2.3.3"
  }
 },
 "nbformat": 4,
 "nbformat_minor": 5
}