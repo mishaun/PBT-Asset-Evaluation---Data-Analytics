{
 "cells": [
  {
   "cell_type": "markdown",
   "id": "3bf9f2f8",
   "metadata": {
    "papermill": {
     "duration": 0.022868,
     "end_time": "2022-01-16T20:35:16.541646",
     "exception": false,
     "start_time": "2022-01-16T20:35:16.518778",
     "status": "completed"
    },
    "tags": []
   },
   "source": [
    "# Ingest PBT News Releases"
   ]
  },
  {
   "cell_type": "code",
   "execution_count": 1,
   "id": "f63d6cde",
   "metadata": {
    "execution": {
     "iopub.execute_input": "2022-01-16T20:35:16.562372Z",
     "iopub.status.busy": "2022-01-16T20:35:16.561970Z",
     "iopub.status.idle": "2022-01-16T20:35:17.329394Z",
     "shell.execute_reply": "2022-01-16T20:35:17.329667Z"
    },
    "papermill": {
     "duration": 0.780725,
     "end_time": "2022-01-16T20:35:17.329897",
     "exception": false,
     "start_time": "2022-01-16T20:35:16.549172",
     "status": "completed"
    },
    "tags": []
   },
   "outputs": [],
   "source": [
    "from tabula import read_pdf"
   ]
  },
  {
   "cell_type": "code",
   "execution_count": 2,
   "id": "b68a4e59",
   "metadata": {
    "execution": {
     "iopub.execute_input": "2022-01-16T20:35:17.346799Z",
     "iopub.status.busy": "2022-01-16T20:35:17.346416Z",
     "iopub.status.idle": "2022-01-16T20:35:17.372995Z",
     "shell.execute_reply": "2022-01-16T20:35:17.373240Z"
    },
    "papermill": {
     "duration": 0.036108,
     "end_time": "2022-01-16T20:35:17.373394",
     "exception": false,
     "start_time": "2022-01-16T20:35:17.337286",
     "status": "completed"
    },
    "tags": []
   },
   "outputs": [],
   "source": [
    "%run configs.ipynb"
   ]
  },
  {
   "cell_type": "code",
   "execution_count": 3,
   "id": "b5516fe2",
   "metadata": {
    "execution": {
     "iopub.execute_input": "2022-01-16T20:35:17.388449Z",
     "iopub.status.busy": "2022-01-16T20:35:17.388070Z",
     "iopub.status.idle": "2022-01-16T20:35:17.389372Z",
     "shell.execute_reply": "2022-01-16T20:35:17.389618Z"
    },
    "papermill": {
     "duration": 0.00984,
     "end_time": "2022-01-16T20:35:17.389735",
     "exception": false,
     "start_time": "2022-01-16T20:35:17.379895",
     "status": "completed"
    },
    "tags": [
     "parameters"
    ]
   },
   "outputs": [],
   "source": [
    "#parameters cell\n",
    "news_file_name = 'dec 2021 news, oct 2021 prod.pdf'"
   ]
  },
  {
   "cell_type": "code",
   "execution_count": 4,
   "id": "8d14903a",
   "metadata": {
    "execution": {
     "iopub.execute_input": "2022-01-16T20:35:17.404508Z",
     "iopub.status.busy": "2022-01-16T20:35:17.404136Z",
     "iopub.status.idle": "2022-01-16T20:35:17.405540Z",
     "shell.execute_reply": "2022-01-16T20:35:17.405790Z"
    },
    "papermill": {
     "duration": 0.009791,
     "end_time": "2022-01-16T20:35:17.405918",
     "exception": false,
     "start_time": "2022-01-16T20:35:17.396127",
     "status": "completed"
    },
    "tags": [
     "injected-parameters"
    ]
   },
   "outputs": [],
   "source": [
    "# Parameters\n",
    "news_file_name = \"nov 2021 news, sept 2021 prod.pdf\"\n"
   ]
  },
  {
   "cell_type": "code",
   "execution_count": 5,
   "id": "89d75a6d",
   "metadata": {
    "execution": {
     "iopub.execute_input": "2022-01-16T20:35:17.421373Z",
     "iopub.status.busy": "2022-01-16T20:35:17.420898Z",
     "iopub.status.idle": "2022-01-16T20:35:20.425940Z",
     "shell.execute_reply": "2022-01-16T20:35:20.426740Z"
    },
    "papermill": {
     "duration": 3.014469,
     "end_time": "2022-01-16T20:35:20.426939",
     "exception": false,
     "start_time": "2022-01-16T20:35:17.412470",
     "status": "completed"
    },
    "tags": []
   },
   "outputs": [
    {
     "name": "stderr",
     "output_type": "stream",
     "text": [
      "'pages' argument isn't specified.Will extract only from page 1 by default.\n"
     ]
    },
    {
     "data": {
      "text/html": [
       "<div>\n",
       "<style scoped>\n",
       "    .dataframe tbody tr th:only-of-type {\n",
       "        vertical-align: middle;\n",
       "    }\n",
       "\n",
       "    .dataframe tbody tr th {\n",
       "        vertical-align: top;\n",
       "    }\n",
       "\n",
       "    .dataframe thead th {\n",
       "        text-align: right;\n",
       "    }\n",
       "</style>\n",
       "<table border=\"1\" class=\"dataframe\">\n",
       "  <thead>\n",
       "    <tr style=\"text-align: right;\">\n",
       "      <th></th>\n",
       "      <th>Unnamed: 0</th>\n",
       "      <th>Unnamed: 1</th>\n",
       "      <th>Unnamed: 2</th>\n",
       "      <th>Unnamed: 3</th>\n",
       "      <th>Unnamed: 4</th>\n",
       "    </tr>\n",
       "  </thead>\n",
       "  <tbody>\n",
       "    <tr>\n",
       "      <th>0</th>\n",
       "      <td>NaN</td>\n",
       "      <td>Underlying Properties</td>\n",
       "      <td>Net to Trust Sales</td>\n",
       "      <td>NaN</td>\n",
       "      <td>NaN</td>\n",
       "    </tr>\n",
       "    <tr>\n",
       "      <th>1</th>\n",
       "      <td>NaN</td>\n",
       "      <td>Volumes</td>\n",
       "      <td>Volumes</td>\n",
       "      <td>Average</td>\n",
       "      <td>Price</td>\n",
       "    </tr>\n",
       "    <tr>\n",
       "      <th>2</th>\n",
       "      <td>NaN</td>\n",
       "      <td>Oil  Gas</td>\n",
       "      <td>Oil  Gas</td>\n",
       "      <td>Oil</td>\n",
       "      <td>Gas</td>\n",
       "    </tr>\n",
       "    <tr>\n",
       "      <th>3</th>\n",
       "      <td>NaN</td>\n",
       "      <td>(bbls) (Mcf)</td>\n",
       "      <td>(bbls) (Mcf)</td>\n",
       "      <td>(per bbl)</td>\n",
       "      <td>(per Mcf)</td>\n",
       "    </tr>\n",
       "    <tr>\n",
       "      <th>4</th>\n",
       "      <td>Current Month</td>\n",
       "      <td>NaN</td>\n",
       "      <td>NaN</td>\n",
       "      <td>NaN</td>\n",
       "      <td>NaN</td>\n",
       "    </tr>\n",
       "    <tr>\n",
       "      <th>5</th>\n",
       "      <td>Waddell Ranch</td>\n",
       "      <td>120,643 265,108</td>\n",
       "      <td>90,482 198,831*</td>\n",
       "      <td>$70.09</td>\n",
       "      <td>$6.36**</td>\n",
       "    </tr>\n",
       "    <tr>\n",
       "      <th>6</th>\n",
       "      <td>Texas Royalties</td>\n",
       "      <td>17,123 10,650</td>\n",
       "      <td>15,191 9,442*</td>\n",
       "      <td>$68.94</td>\n",
       "      <td>$7.36**</td>\n",
       "    </tr>\n",
       "    <tr>\n",
       "      <th>7</th>\n",
       "      <td>NaN</td>\n",
       "      <td>NaN</td>\n",
       "      <td>NaN</td>\n",
       "      <td>NaN</td>\n",
       "      <td>NaN</td>\n",
       "    </tr>\n",
       "    <tr>\n",
       "      <th>8</th>\n",
       "      <td>Prior Month</td>\n",
       "      <td>NaN</td>\n",
       "      <td>NaN</td>\n",
       "      <td>NaN</td>\n",
       "      <td>NaN</td>\n",
       "    </tr>\n",
       "    <tr>\n",
       "      <th>9</th>\n",
       "      <td>Waddell Ranch</td>\n",
       "      <td>108,522 257,857</td>\n",
       "      <td>81,392 193,393*</td>\n",
       "      <td>$66.66</td>\n",
       "      <td>$6.38***</td>\n",
       "    </tr>\n",
       "    <tr>\n",
       "      <th>10</th>\n",
       "      <td>Texas Royalties</td>\n",
       "      <td>17,941 9,871</td>\n",
       "      <td>15,927 8,757*</td>\n",
       "      <td>$66.39</td>\n",
       "      <td>$8.01**</td>\n",
       "    </tr>\n",
       "  </tbody>\n",
       "</table>\n",
       "</div>"
      ],
      "text/plain": [
       "         Unnamed: 0             Unnamed: 1          Unnamed: 2 Unnamed: 3  \\\n",
       "0               NaN  Underlying Properties  Net to Trust Sales        NaN   \n",
       "1               NaN                Volumes             Volumes    Average   \n",
       "2               NaN               Oil  Gas            Oil  Gas        Oil   \n",
       "3               NaN           (bbls) (Mcf)        (bbls) (Mcf)  (per bbl)   \n",
       "4     Current Month                    NaN                 NaN        NaN   \n",
       "5     Waddell Ranch        120,643 265,108     90,482 198,831*     $70.09   \n",
       "6   Texas Royalties          17,123 10,650       15,191 9,442*     $68.94   \n",
       "7               NaN                    NaN                 NaN        NaN   \n",
       "8       Prior Month                    NaN                 NaN        NaN   \n",
       "9     Waddell Ranch        108,522 257,857     81,392 193,393*     $66.66   \n",
       "10  Texas Royalties           17,941 9,871       15,927 8,757*     $66.39   \n",
       "\n",
       "   Unnamed: 4  \n",
       "0         NaN  \n",
       "1       Price  \n",
       "2         Gas  \n",
       "3   (per Mcf)  \n",
       "4         NaN  \n",
       "5     $6.36**  \n",
       "6     $7.36**  \n",
       "7         NaN  \n",
       "8         NaN  \n",
       "9    $6.38***  \n",
       "10    $8.01**  "
      ]
     },
     "execution_count": 5,
     "metadata": {},
     "output_type": "execute_result"
    }
   ],
   "source": [
    "pbt_news_DF = read_pdf(f'{raw_data_folder}/pbt_news/2021/{news_file_name}')[0]\n",
    "\n",
    "pbt_news_DF"
   ]
  },
  {
   "cell_type": "code",
   "execution_count": 6,
   "id": "5ad174f1",
   "metadata": {
    "execution": {
     "iopub.execute_input": "2022-01-16T20:35:20.448493Z",
     "iopub.status.busy": "2022-01-16T20:35:20.447726Z",
     "iopub.status.idle": "2022-01-16T20:35:20.449960Z",
     "shell.execute_reply": "2022-01-16T20:35:20.450336Z"
    },
    "papermill": {
     "duration": 0.014939,
     "end_time": "2022-01-16T20:35:20.450482",
     "exception": false,
     "start_time": "2022-01-16T20:35:20.435543",
     "status": "completed"
    },
    "tags": []
   },
   "outputs": [],
   "source": [
    "cols_pdf = 'Property', 'Gross Oil Volume (PBT News)', 'Net Oil Volume (PBT News)', 'Average Oil Price', 'Average Gas Price'\n",
    "pbt_news_DF.columns = cols_pdf"
   ]
  },
  {
   "cell_type": "code",
   "execution_count": 7,
   "id": "9e1a6833",
   "metadata": {
    "execution": {
     "iopub.execute_input": "2022-01-16T20:35:20.473456Z",
     "iopub.status.busy": "2022-01-16T20:35:20.472961Z",
     "iopub.status.idle": "2022-01-16T20:35:20.475154Z",
     "shell.execute_reply": "2022-01-16T20:35:20.475475Z"
    },
    "papermill": {
     "duration": 0.01741,
     "end_time": "2022-01-16T20:35:20.475664",
     "exception": false,
     "start_time": "2022-01-16T20:35:20.458254",
     "status": "completed"
    },
    "tags": []
   },
   "outputs": [
    {
     "data": {
      "text/html": [
       "<div>\n",
       "<style scoped>\n",
       "    .dataframe tbody tr th:only-of-type {\n",
       "        vertical-align: middle;\n",
       "    }\n",
       "\n",
       "    .dataframe tbody tr th {\n",
       "        vertical-align: top;\n",
       "    }\n",
       "\n",
       "    .dataframe thead th {\n",
       "        text-align: right;\n",
       "    }\n",
       "</style>\n",
       "<table border=\"1\" class=\"dataframe\">\n",
       "  <thead>\n",
       "    <tr style=\"text-align: right;\">\n",
       "      <th></th>\n",
       "      <th>Property</th>\n",
       "      <th>Gross Oil Volume (PBT News)</th>\n",
       "      <th>Net Oil Volume (PBT News)</th>\n",
       "      <th>Average Oil Price</th>\n",
       "      <th>Average Gas Price</th>\n",
       "    </tr>\n",
       "  </thead>\n",
       "  <tbody>\n",
       "    <tr>\n",
       "      <th>5</th>\n",
       "      <td>Waddell Ranch</td>\n",
       "      <td>120,643 265,108</td>\n",
       "      <td>90,482 198,831*</td>\n",
       "      <td>$70.09</td>\n",
       "      <td>$6.36**</td>\n",
       "    </tr>\n",
       "    <tr>\n",
       "      <th>6</th>\n",
       "      <td>Texas Royalties</td>\n",
       "      <td>17,123 10,650</td>\n",
       "      <td>15,191 9,442*</td>\n",
       "      <td>$68.94</td>\n",
       "      <td>$7.36**</td>\n",
       "    </tr>\n",
       "    <tr>\n",
       "      <th>9</th>\n",
       "      <td>Waddell Ranch</td>\n",
       "      <td>108,522 257,857</td>\n",
       "      <td>81,392 193,393*</td>\n",
       "      <td>$66.66</td>\n",
       "      <td>$6.38***</td>\n",
       "    </tr>\n",
       "    <tr>\n",
       "      <th>10</th>\n",
       "      <td>Texas Royalties</td>\n",
       "      <td>17,941 9,871</td>\n",
       "      <td>15,927 8,757*</td>\n",
       "      <td>$66.39</td>\n",
       "      <td>$8.01**</td>\n",
       "    </tr>\n",
       "  </tbody>\n",
       "</table>\n",
       "</div>"
      ],
      "text/plain": [
       "           Property Gross Oil Volume (PBT News) Net Oil Volume (PBT News)  \\\n",
       "5     Waddell Ranch             120,643 265,108           90,482 198,831*   \n",
       "6   Texas Royalties               17,123 10,650             15,191 9,442*   \n",
       "9     Waddell Ranch             108,522 257,857           81,392 193,393*   \n",
       "10  Texas Royalties                17,941 9,871             15,927 8,757*   \n",
       "\n",
       "   Average Oil Price Average Gas Price  \n",
       "5             $70.09           $6.36**  \n",
       "6             $68.94           $7.36**  \n",
       "9             $66.66          $6.38***  \n",
       "10            $66.39           $8.01**  "
      ]
     },
     "execution_count": 7,
     "metadata": {},
     "output_type": "execute_result"
    }
   ],
   "source": [
    "pbt_news_DF.dropna(inplace = True)\n",
    "pbt_news_DF"
   ]
  },
  {
   "cell_type": "markdown",
   "id": "9ea8667f",
   "metadata": {
    "papermill": {
     "duration": 0.007375,
     "end_time": "2022-01-16T20:35:20.490444",
     "exception": false,
     "start_time": "2022-01-16T20:35:20.483069",
     "status": "completed"
    },
    "tags": []
   },
   "source": [
    "### Splitting Net Oil Column to Get Gas Volume\n",
    "### Applying Text Cleaning to remove commas"
   ]
  },
  {
   "cell_type": "code",
   "execution_count": 8,
   "id": "0e4b24f4",
   "metadata": {
    "execution": {
     "iopub.execute_input": "2022-01-16T20:35:20.509672Z",
     "iopub.status.busy": "2022-01-16T20:35:20.509126Z",
     "iopub.status.idle": "2022-01-16T20:35:20.510750Z",
     "shell.execute_reply": "2022-01-16T20:35:20.511047Z"
    },
    "papermill": {
     "duration": 0.013497,
     "end_time": "2022-01-16T20:35:20.511214",
     "exception": false,
     "start_time": "2022-01-16T20:35:20.497717",
     "status": "completed"
    },
    "tags": []
   },
   "outputs": [],
   "source": [
    "pbt_news_DF['Gross Gas Volume (PBT News)'] = pbt_news_DF['Gross Oil Volume (PBT News)'].apply(lambda x: int(x.split(' ')[1].replace(',', '')))\n",
    "\n",
    "pbt_news_DF['Gross Oil Volume (PBT News)'] = pbt_news_DF['Gross Oil Volume (PBT News)'].apply(lambda x: int(x.split(' ')[0].replace(',', '')))"
   ]
  },
  {
   "cell_type": "code",
   "execution_count": 9,
   "id": "735d5051",
   "metadata": {
    "execution": {
     "iopub.execute_input": "2022-01-16T20:35:20.530677Z",
     "iopub.status.busy": "2022-01-16T20:35:20.530176Z",
     "iopub.status.idle": "2022-01-16T20:35:20.532431Z",
     "shell.execute_reply": "2022-01-16T20:35:20.532854Z"
    },
    "papermill": {
     "duration": 0.014705,
     "end_time": "2022-01-16T20:35:20.533017",
     "exception": false,
     "start_time": "2022-01-16T20:35:20.518312",
     "status": "completed"
    },
    "tags": []
   },
   "outputs": [
    {
     "data": {
      "text/html": [
       "<div>\n",
       "<style scoped>\n",
       "    .dataframe tbody tr th:only-of-type {\n",
       "        vertical-align: middle;\n",
       "    }\n",
       "\n",
       "    .dataframe tbody tr th {\n",
       "        vertical-align: top;\n",
       "    }\n",
       "\n",
       "    .dataframe thead th {\n",
       "        text-align: right;\n",
       "    }\n",
       "</style>\n",
       "<table border=\"1\" class=\"dataframe\">\n",
       "  <thead>\n",
       "    <tr style=\"text-align: right;\">\n",
       "      <th></th>\n",
       "      <th>Property</th>\n",
       "      <th>Gross Oil Volume (PBT News)</th>\n",
       "      <th>Net Oil Volume (PBT News)</th>\n",
       "      <th>Average Oil Price</th>\n",
       "      <th>Average Gas Price</th>\n",
       "      <th>Gross Gas Volume (PBT News)</th>\n",
       "    </tr>\n",
       "  </thead>\n",
       "  <tbody>\n",
       "    <tr>\n",
       "      <th>5</th>\n",
       "      <td>Waddell Ranch</td>\n",
       "      <td>120643</td>\n",
       "      <td>90,482 198,831*</td>\n",
       "      <td>$70.09</td>\n",
       "      <td>$6.36**</td>\n",
       "      <td>265108</td>\n",
       "    </tr>\n",
       "    <tr>\n",
       "      <th>6</th>\n",
       "      <td>Texas Royalties</td>\n",
       "      <td>17123</td>\n",
       "      <td>15,191 9,442*</td>\n",
       "      <td>$68.94</td>\n",
       "      <td>$7.36**</td>\n",
       "      <td>10650</td>\n",
       "    </tr>\n",
       "    <tr>\n",
       "      <th>9</th>\n",
       "      <td>Waddell Ranch</td>\n",
       "      <td>108522</td>\n",
       "      <td>81,392 193,393*</td>\n",
       "      <td>$66.66</td>\n",
       "      <td>$6.38***</td>\n",
       "      <td>257857</td>\n",
       "    </tr>\n",
       "    <tr>\n",
       "      <th>10</th>\n",
       "      <td>Texas Royalties</td>\n",
       "      <td>17941</td>\n",
       "      <td>15,927 8,757*</td>\n",
       "      <td>$66.39</td>\n",
       "      <td>$8.01**</td>\n",
       "      <td>9871</td>\n",
       "    </tr>\n",
       "  </tbody>\n",
       "</table>\n",
       "</div>"
      ],
      "text/plain": [
       "           Property  Gross Oil Volume (PBT News) Net Oil Volume (PBT News)  \\\n",
       "5     Waddell Ranch                       120643           90,482 198,831*   \n",
       "6   Texas Royalties                        17123             15,191 9,442*   \n",
       "9     Waddell Ranch                       108522           81,392 193,393*   \n",
       "10  Texas Royalties                        17941             15,927 8,757*   \n",
       "\n",
       "   Average Oil Price Average Gas Price  Gross Gas Volume (PBT News)  \n",
       "5             $70.09           $6.36**                       265108  \n",
       "6             $68.94           $7.36**                        10650  \n",
       "9             $66.66          $6.38***                       257857  \n",
       "10            $66.39           $8.01**                         9871  "
      ]
     },
     "execution_count": 9,
     "metadata": {},
     "output_type": "execute_result"
    }
   ],
   "source": [
    "pbt_news_DF"
   ]
  },
  {
   "cell_type": "markdown",
   "id": "27cceb93",
   "metadata": {
    "papermill": {
     "duration": 0.007643,
     "end_time": "2022-01-16T20:35:20.548751",
     "exception": false,
     "start_time": "2022-01-16T20:35:20.541108",
     "status": "completed"
    },
    "tags": []
   },
   "source": [
    "### Splitting Net Oil Column to Get Gas Volume\n",
    "### Applying Text Cleaning to remove commas and asterisks"
   ]
  },
  {
   "cell_type": "code",
   "execution_count": 10,
   "id": "36f1f177",
   "metadata": {
    "execution": {
     "iopub.execute_input": "2022-01-16T20:35:20.567925Z",
     "iopub.status.busy": "2022-01-16T20:35:20.567537Z",
     "iopub.status.idle": "2022-01-16T20:35:20.568957Z",
     "shell.execute_reply": "2022-01-16T20:35:20.569329Z"
    },
    "papermill": {
     "duration": 0.013252,
     "end_time": "2022-01-16T20:35:20.569495",
     "exception": false,
     "start_time": "2022-01-16T20:35:20.556243",
     "status": "completed"
    },
    "tags": []
   },
   "outputs": [],
   "source": [
    "pbt_news_DF['Net Gas Volume (PBT News)'] = pbt_news_DF['Net Oil Volume (PBT News)'].apply(lambda x: int(x.split(' ')[1]\\\n",
    "                                                                                  .replace(',', '')\\\n",
    "                                                                                 .replace('*','')))\n",
    "\n",
    "pbt_news_DF['Net Oil Volume (PBT News)'] = pbt_news_DF['Net Oil Volume (PBT News)'].apply(lambda x: int(x.split(' ')[0].replace(',', '')))"
   ]
  },
  {
   "cell_type": "markdown",
   "id": "f78ceacc",
   "metadata": {
    "papermill": {
     "duration": 0.007289,
     "end_time": "2022-01-16T20:35:20.584577",
     "exception": false,
     "start_time": "2022-01-16T20:35:20.577288",
     "status": "completed"
    },
    "tags": []
   },
   "source": [
    "### Cleaning Prices Columns by removing asterisks and Dollar Sign"
   ]
  },
  {
   "cell_type": "code",
   "execution_count": 11,
   "id": "670ab6d8",
   "metadata": {
    "execution": {
     "iopub.execute_input": "2022-01-16T20:35:20.603250Z",
     "iopub.status.busy": "2022-01-16T20:35:20.602708Z",
     "iopub.status.idle": "2022-01-16T20:35:20.604150Z",
     "shell.execute_reply": "2022-01-16T20:35:20.604484Z"
    },
    "papermill": {
     "duration": 0.012972,
     "end_time": "2022-01-16T20:35:20.604701",
     "exception": false,
     "start_time": "2022-01-16T20:35:20.591729",
     "status": "completed"
    },
    "tags": []
   },
   "outputs": [],
   "source": [
    "pbt_news_DF['Average Gas Price'] = pbt_news_DF['Average Gas Price'].apply(lambda x: x.replace('$','').replace('**',''))\n",
    "\n",
    "pbt_news_DF['Average Oil Price'] = pbt_news_DF['Average Oil Price'].apply(lambda x: x.replace('$','').replace('**',''))"
   ]
  },
  {
   "cell_type": "code",
   "execution_count": 12,
   "id": "b1456a0e",
   "metadata": {
    "execution": {
     "iopub.execute_input": "2022-01-16T20:35:20.622803Z",
     "iopub.status.busy": "2022-01-16T20:35:20.622415Z",
     "iopub.status.idle": "2022-01-16T20:35:20.623816Z",
     "shell.execute_reply": "2022-01-16T20:35:20.624059Z"
    },
    "papermill": {
     "duration": 0.011918,
     "end_time": "2022-01-16T20:35:20.624181",
     "exception": false,
     "start_time": "2022-01-16T20:35:20.612263",
     "status": "completed"
    },
    "tags": []
   },
   "outputs": [],
   "source": [
    "#filtering table to the 'current month' values\n",
    "pbt_news_DF = pbt_news_DF.head(2)"
   ]
  },
  {
   "cell_type": "code",
   "execution_count": 13,
   "id": "6d802530",
   "metadata": {
    "execution": {
     "iopub.execute_input": "2022-01-16T20:35:20.644870Z",
     "iopub.status.busy": "2022-01-16T20:35:20.644400Z",
     "iopub.status.idle": "2022-01-16T20:35:20.646569Z",
     "shell.execute_reply": "2022-01-16T20:35:20.646923Z"
    },
    "papermill": {
     "duration": 0.015131,
     "end_time": "2022-01-16T20:35:20.647071",
     "exception": false,
     "start_time": "2022-01-16T20:35:20.631940",
     "status": "completed"
    },
    "tags": []
   },
   "outputs": [
    {
     "data": {
      "text/html": [
       "<div>\n",
       "<style scoped>\n",
       "    .dataframe tbody tr th:only-of-type {\n",
       "        vertical-align: middle;\n",
       "    }\n",
       "\n",
       "    .dataframe tbody tr th {\n",
       "        vertical-align: top;\n",
       "    }\n",
       "\n",
       "    .dataframe thead th {\n",
       "        text-align: right;\n",
       "    }\n",
       "</style>\n",
       "<table border=\"1\" class=\"dataframe\">\n",
       "  <thead>\n",
       "    <tr style=\"text-align: right;\">\n",
       "      <th></th>\n",
       "      <th>Property</th>\n",
       "      <th>Gross Oil Volume (PBT News)</th>\n",
       "      <th>Net Oil Volume (PBT News)</th>\n",
       "      <th>Average Oil Price</th>\n",
       "      <th>Average Gas Price</th>\n",
       "      <th>Gross Gas Volume (PBT News)</th>\n",
       "      <th>Net Gas Volume (PBT News)</th>\n",
       "    </tr>\n",
       "  </thead>\n",
       "  <tbody>\n",
       "    <tr>\n",
       "      <th>5</th>\n",
       "      <td>Waddell Ranch</td>\n",
       "      <td>120643</td>\n",
       "      <td>90482</td>\n",
       "      <td>70.09</td>\n",
       "      <td>6.36</td>\n",
       "      <td>265108</td>\n",
       "      <td>198831</td>\n",
       "    </tr>\n",
       "    <tr>\n",
       "      <th>6</th>\n",
       "      <td>Texas Royalties</td>\n",
       "      <td>17123</td>\n",
       "      <td>15191</td>\n",
       "      <td>68.94</td>\n",
       "      <td>7.36</td>\n",
       "      <td>10650</td>\n",
       "      <td>9442</td>\n",
       "    </tr>\n",
       "  </tbody>\n",
       "</table>\n",
       "</div>"
      ],
      "text/plain": [
       "          Property  Gross Oil Volume (PBT News)  Net Oil Volume (PBT News)  \\\n",
       "5    Waddell Ranch                       120643                      90482   \n",
       "6  Texas Royalties                        17123                      15191   \n",
       "\n",
       "  Average Oil Price Average Gas Price  Gross Gas Volume (PBT News)  \\\n",
       "5             70.09              6.36                       265108   \n",
       "6             68.94              7.36                        10650   \n",
       "\n",
       "   Net Gas Volume (PBT News)  \n",
       "5                     198831  \n",
       "6                       9442  "
      ]
     },
     "execution_count": 13,
     "metadata": {},
     "output_type": "execute_result"
    }
   ],
   "source": [
    "pbt_news_DF"
   ]
  },
  {
   "cell_type": "code",
   "execution_count": 14,
   "id": "9bcb4f75",
   "metadata": {
    "execution": {
     "iopub.execute_input": "2022-01-16T20:35:20.667619Z",
     "iopub.status.busy": "2022-01-16T20:35:20.667060Z",
     "iopub.status.idle": "2022-01-16T20:35:20.668571Z",
     "shell.execute_reply": "2022-01-16T20:35:20.668908Z"
    },
    "papermill": {
     "duration": 0.012975,
     "end_time": "2022-01-16T20:35:20.669051",
     "exception": false,
     "start_time": "2022-01-16T20:35:20.656076",
     "status": "completed"
    },
    "tags": []
   },
   "outputs": [],
   "source": [
    "date_from_filename = news_file_name.split(',')[1]\\\n",
    "                                    .split('.')[0]\\\n",
    "                                    .strip()\\\n",
    "                                    .replace(' prod', '')"
   ]
  },
  {
   "cell_type": "code",
   "execution_count": 15,
   "id": "b2d00cad",
   "metadata": {
    "execution": {
     "iopub.execute_input": "2022-01-16T20:35:20.688361Z",
     "iopub.status.busy": "2022-01-16T20:35:20.687875Z",
     "iopub.status.idle": "2022-01-16T20:35:20.689353Z",
     "shell.execute_reply": "2022-01-16T20:35:20.689701Z"
    },
    "papermill": {
     "duration": 0.012839,
     "end_time": "2022-01-16T20:35:20.689854",
     "exception": false,
     "start_time": "2022-01-16T20:35:20.677015",
     "status": "completed"
    },
    "tags": []
   },
   "outputs": [],
   "source": [
    "pbt_news_DF.insert(0, 'Date', date_from_filename.title())"
   ]
  },
  {
   "cell_type": "code",
   "execution_count": 16,
   "id": "e38fd321",
   "metadata": {
    "execution": {
     "iopub.execute_input": "2022-01-16T20:35:20.710754Z",
     "iopub.status.busy": "2022-01-16T20:35:20.710205Z",
     "iopub.status.idle": "2022-01-16T20:35:20.712399Z",
     "shell.execute_reply": "2022-01-16T20:35:20.712862Z"
    },
    "papermill": {
     "duration": 0.015357,
     "end_time": "2022-01-16T20:35:20.713053",
     "exception": false,
     "start_time": "2022-01-16T20:35:20.697696",
     "status": "completed"
    },
    "tags": []
   },
   "outputs": [
    {
     "data": {
      "text/html": [
       "<div>\n",
       "<style scoped>\n",
       "    .dataframe tbody tr th:only-of-type {\n",
       "        vertical-align: middle;\n",
       "    }\n",
       "\n",
       "    .dataframe tbody tr th {\n",
       "        vertical-align: top;\n",
       "    }\n",
       "\n",
       "    .dataframe thead th {\n",
       "        text-align: right;\n",
       "    }\n",
       "</style>\n",
       "<table border=\"1\" class=\"dataframe\">\n",
       "  <thead>\n",
       "    <tr style=\"text-align: right;\">\n",
       "      <th></th>\n",
       "      <th>Date</th>\n",
       "      <th>Property</th>\n",
       "      <th>Gross Oil Volume (PBT News)</th>\n",
       "      <th>Net Oil Volume (PBT News)</th>\n",
       "      <th>Average Oil Price</th>\n",
       "      <th>Average Gas Price</th>\n",
       "      <th>Gross Gas Volume (PBT News)</th>\n",
       "      <th>Net Gas Volume (PBT News)</th>\n",
       "    </tr>\n",
       "  </thead>\n",
       "  <tbody>\n",
       "    <tr>\n",
       "      <th>5</th>\n",
       "      <td>Sept 2021</td>\n",
       "      <td>Waddell Ranch</td>\n",
       "      <td>120643</td>\n",
       "      <td>90482</td>\n",
       "      <td>70.09</td>\n",
       "      <td>6.36</td>\n",
       "      <td>265108</td>\n",
       "      <td>198831</td>\n",
       "    </tr>\n",
       "    <tr>\n",
       "      <th>6</th>\n",
       "      <td>Sept 2021</td>\n",
       "      <td>Texas Royalties</td>\n",
       "      <td>17123</td>\n",
       "      <td>15191</td>\n",
       "      <td>68.94</td>\n",
       "      <td>7.36</td>\n",
       "      <td>10650</td>\n",
       "      <td>9442</td>\n",
       "    </tr>\n",
       "  </tbody>\n",
       "</table>\n",
       "</div>"
      ],
      "text/plain": [
       "        Date         Property  Gross Oil Volume (PBT News)  \\\n",
       "5  Sept 2021    Waddell Ranch                       120643   \n",
       "6  Sept 2021  Texas Royalties                        17123   \n",
       "\n",
       "   Net Oil Volume (PBT News) Average Oil Price Average Gas Price  \\\n",
       "5                      90482             70.09              6.36   \n",
       "6                      15191             68.94              7.36   \n",
       "\n",
       "   Gross Gas Volume (PBT News)  Net Gas Volume (PBT News)  \n",
       "5                       265108                     198831  \n",
       "6                        10650                       9442  "
      ]
     },
     "execution_count": 16,
     "metadata": {},
     "output_type": "execute_result"
    }
   ],
   "source": [
    "pbt_news_DF"
   ]
  },
  {
   "cell_type": "markdown",
   "id": "eb3ae53a",
   "metadata": {
    "papermill": {
     "duration": 0.007989,
     "end_time": "2022-01-16T20:35:20.729151",
     "exception": false,
     "start_time": "2022-01-16T20:35:20.721162",
     "status": "completed"
    },
    "tags": []
   },
   "source": [
    "# Write Table to File"
   ]
  },
  {
   "cell_type": "code",
   "execution_count": 17,
   "id": "c9638897",
   "metadata": {
    "execution": {
     "iopub.execute_input": "2022-01-16T20:35:20.747864Z",
     "iopub.status.busy": "2022-01-16T20:35:20.747344Z",
     "iopub.status.idle": "2022-01-16T20:35:20.749460Z",
     "shell.execute_reply": "2022-01-16T20:35:20.749775Z"
    },
    "papermill": {
     "duration": 0.013018,
     "end_time": "2022-01-16T20:35:20.749954",
     "exception": false,
     "start_time": "2022-01-16T20:35:20.736936",
     "status": "completed"
    },
    "tags": []
   },
   "outputs": [
    {
     "data": {
      "text/plain": [
       "'nov 2021 news, sept 2021 prod.csv'"
      ]
     },
     "execution_count": 17,
     "metadata": {},
     "output_type": "execute_result"
    }
   ],
   "source": [
    "to_file_name = news_file_name.split('.')[0] + '.csv'\n",
    "\n",
    "to_file_name"
   ]
  },
  {
   "cell_type": "code",
   "execution_count": 18,
   "id": "6553b868",
   "metadata": {
    "execution": {
     "iopub.execute_input": "2022-01-16T20:35:20.771262Z",
     "iopub.status.busy": "2022-01-16T20:35:20.770777Z",
     "iopub.status.idle": "2022-01-16T20:35:20.774270Z",
     "shell.execute_reply": "2022-01-16T20:35:20.774612Z"
    },
    "papermill": {
     "duration": 0.015334,
     "end_time": "2022-01-16T20:35:20.774787",
     "exception": false,
     "start_time": "2022-01-16T20:35:20.759453",
     "status": "completed"
    },
    "tags": []
   },
   "outputs": [],
   "source": [
    "pbt_news_DF.to_csv(f'{processed_data_folder}/pbt_news_prod/{to_file_name}', index = False)"
   ]
  },
  {
   "cell_type": "code",
   "execution_count": null,
   "id": "7b8340db",
   "metadata": {
    "papermill": {
     "duration": 0.008233,
     "end_time": "2022-01-16T20:35:20.791279",
     "exception": false,
     "start_time": "2022-01-16T20:35:20.783046",
     "status": "completed"
    },
    "tags": []
   },
   "outputs": [],
   "source": []
  }
 ],
 "metadata": {
  "kernelspec": {
   "display_name": "Python 3 (ipykernel)",
   "language": "python",
   "name": "python3"
  },
  "language_info": {
   "codemirror_mode": {
    "name": "ipython",
    "version": 3
   },
   "file_extension": ".py",
   "mimetype": "text/x-python",
   "name": "python",
   "nbconvert_exporter": "python",
   "pygments_lexer": "ipython3",
   "version": "3.9.7"
  },
  "papermill": {
   "default_parameters": {},
   "duration": 5.472864,
   "end_time": "2022-01-16T20:35:21.006548",
   "environment_variables": {},
   "exception": null,
   "input_path": "3. Ingest PBT News Release PDFs.ipynb",
   "output_path": "output_notebooks/pbt_news_runs/nov 2021 news, sept 2021 prod.pdf.ipynb",
   "parameters": {
    "news_file_name": "nov 2021 news, sept 2021 prod.pdf"
   },
   "start_time": "2022-01-16T20:35:15.533684",
   "version": "2.3.3"
  }
 },
 "nbformat": 4,
 "nbformat_minor": 5
}