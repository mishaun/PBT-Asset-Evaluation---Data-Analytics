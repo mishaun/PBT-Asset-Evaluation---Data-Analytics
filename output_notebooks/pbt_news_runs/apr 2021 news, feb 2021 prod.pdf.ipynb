{
 "cells": [
  {
   "cell_type": "markdown",
   "id": "3bf9f2f8",
   "metadata": {
    "papermill": {
     "duration": 0.023351,
     "end_time": "2022-01-16T20:35:11.120097",
     "exception": false,
     "start_time": "2022-01-16T20:35:11.096746",
     "status": "completed"
    },
    "tags": []
   },
   "source": [
    "# Ingest PBT News Releases"
   ]
  },
  {
   "cell_type": "code",
   "execution_count": 1,
   "id": "f63d6cde",
   "metadata": {
    "execution": {
     "iopub.execute_input": "2022-01-16T20:35:11.140781Z",
     "iopub.status.busy": "2022-01-16T20:35:11.140383Z",
     "iopub.status.idle": "2022-01-16T20:35:11.937081Z",
     "shell.execute_reply": "2022-01-16T20:35:11.937459Z"
    },
    "papermill": {
     "duration": 0.809568,
     "end_time": "2022-01-16T20:35:11.937695",
     "exception": false,
     "start_time": "2022-01-16T20:35:11.128127",
     "status": "completed"
    },
    "tags": []
   },
   "outputs": [],
   "source": [
    "from tabula import read_pdf"
   ]
  },
  {
   "cell_type": "code",
   "execution_count": 2,
   "id": "b68a4e59",
   "metadata": {
    "execution": {
     "iopub.execute_input": "2022-01-16T20:35:11.954764Z",
     "iopub.status.busy": "2022-01-16T20:35:11.954277Z",
     "iopub.status.idle": "2022-01-16T20:35:11.983724Z",
     "shell.execute_reply": "2022-01-16T20:35:11.983987Z"
    },
    "papermill": {
     "duration": 0.039248,
     "end_time": "2022-01-16T20:35:11.984126",
     "exception": false,
     "start_time": "2022-01-16T20:35:11.944878",
     "status": "completed"
    },
    "tags": []
   },
   "outputs": [],
   "source": [
    "%run configs.ipynb"
   ]
  },
  {
   "cell_type": "code",
   "execution_count": 3,
   "id": "b5516fe2",
   "metadata": {
    "execution": {
     "iopub.execute_input": "2022-01-16T20:35:12.000243Z",
     "iopub.status.busy": "2022-01-16T20:35:11.999645Z",
     "iopub.status.idle": "2022-01-16T20:35:12.001012Z",
     "shell.execute_reply": "2022-01-16T20:35:12.001460Z"
    },
    "papermill": {
     "duration": 0.010675,
     "end_time": "2022-01-16T20:35:12.001623",
     "exception": false,
     "start_time": "2022-01-16T20:35:11.990948",
     "status": "completed"
    },
    "tags": [
     "parameters"
    ]
   },
   "outputs": [],
   "source": [
    "#parameters cell\n",
    "news_file_name = 'dec 2021 news, oct 2021 prod.pdf'"
   ]
  },
  {
   "cell_type": "code",
   "execution_count": 4,
   "id": "b65e1e81",
   "metadata": {
    "execution": {
     "iopub.execute_input": "2022-01-16T20:35:12.016999Z",
     "iopub.status.busy": "2022-01-16T20:35:12.016437Z",
     "iopub.status.idle": "2022-01-16T20:35:12.018062Z",
     "shell.execute_reply": "2022-01-16T20:35:12.018461Z"
    },
    "papermill": {
     "duration": 0.010627,
     "end_time": "2022-01-16T20:35:12.018618",
     "exception": false,
     "start_time": "2022-01-16T20:35:12.007991",
     "status": "completed"
    },
    "tags": [
     "injected-parameters"
    ]
   },
   "outputs": [],
   "source": [
    "# Parameters\n",
    "news_file_name = \"apr 2021 news, feb 2021 prod.pdf\"\n"
   ]
  },
  {
   "cell_type": "code",
   "execution_count": 5,
   "id": "89d75a6d",
   "metadata": {
    "execution": {
     "iopub.execute_input": "2022-01-16T20:35:12.033905Z",
     "iopub.status.busy": "2022-01-16T20:35:12.033403Z",
     "iopub.status.idle": "2022-01-16T20:35:14.931266Z",
     "shell.execute_reply": "2022-01-16T20:35:14.931807Z"
    },
    "papermill": {
     "duration": 2.907157,
     "end_time": "2022-01-16T20:35:14.932065",
     "exception": false,
     "start_time": "2022-01-16T20:35:12.024908",
     "status": "completed"
    },
    "tags": []
   },
   "outputs": [
    {
     "name": "stderr",
     "output_type": "stream",
     "text": [
      "'pages' argument isn't specified.Will extract only from page 1 by default.\n"
     ]
    },
    {
     "data": {
      "text/html": [
       "<div>\n",
       "<style scoped>\n",
       "    .dataframe tbody tr th:only-of-type {\n",
       "        vertical-align: middle;\n",
       "    }\n",
       "\n",
       "    .dataframe tbody tr th {\n",
       "        vertical-align: top;\n",
       "    }\n",
       "\n",
       "    .dataframe thead th {\n",
       "        text-align: right;\n",
       "    }\n",
       "</style>\n",
       "<table border=\"1\" class=\"dataframe\">\n",
       "  <thead>\n",
       "    <tr style=\"text-align: right;\">\n",
       "      <th></th>\n",
       "      <th>Unnamed: 0</th>\n",
       "      <th>Unnamed: 1</th>\n",
       "      <th>Unnamed: 2</th>\n",
       "      <th>Unnamed: 3</th>\n",
       "      <th>Unnamed: 4</th>\n",
       "    </tr>\n",
       "  </thead>\n",
       "  <tbody>\n",
       "    <tr>\n",
       "      <th>0</th>\n",
       "      <td>NaN</td>\n",
       "      <td>Underlying Properties</td>\n",
       "      <td>Net to Trust Sales</td>\n",
       "      <td>NaN</td>\n",
       "      <td>NaN</td>\n",
       "    </tr>\n",
       "    <tr>\n",
       "      <th>1</th>\n",
       "      <td>NaN</td>\n",
       "      <td>Volumes</td>\n",
       "      <td>Volumes</td>\n",
       "      <td>Average</td>\n",
       "      <td>Price</td>\n",
       "    </tr>\n",
       "    <tr>\n",
       "      <th>2</th>\n",
       "      <td>NaN</td>\n",
       "      <td>Oil  Gas</td>\n",
       "      <td>Oil  Gas</td>\n",
       "      <td>Oil</td>\n",
       "      <td>Gas</td>\n",
       "    </tr>\n",
       "    <tr>\n",
       "      <th>3</th>\n",
       "      <td>NaN</td>\n",
       "      <td>(bbls) (Mcf)</td>\n",
       "      <td>(bbls) (Mcf)</td>\n",
       "      <td>(per bbl)</td>\n",
       "      <td>(per Mcf)</td>\n",
       "    </tr>\n",
       "    <tr>\n",
       "      <th>4</th>\n",
       "      <td>Current Month</td>\n",
       "      <td>NaN</td>\n",
       "      <td>NaN</td>\n",
       "      <td>NaN</td>\n",
       "      <td>NaN</td>\n",
       "    </tr>\n",
       "    <tr>\n",
       "      <th>5</th>\n",
       "      <td>Waddell Ranch</td>\n",
       "      <td>50,757 190,570</td>\n",
       "      <td>38,068 142,928*</td>\n",
       "      <td>$58.09</td>\n",
       "      <td>$2.28**</td>\n",
       "    </tr>\n",
       "    <tr>\n",
       "      <th>6</th>\n",
       "      <td>Texas Royalties</td>\n",
       "      <td>19,947 12,461</td>\n",
       "      <td>17,556 10,948*</td>\n",
       "      <td>$52.80</td>\n",
       "      <td>$5.89**</td>\n",
       "    </tr>\n",
       "    <tr>\n",
       "      <th>7</th>\n",
       "      <td>NaN</td>\n",
       "      <td>NaN</td>\n",
       "      <td>NaN</td>\n",
       "      <td>NaN</td>\n",
       "      <td>NaN</td>\n",
       "    </tr>\n",
       "    <tr>\n",
       "      <th>8</th>\n",
       "      <td>Prior Month</td>\n",
       "      <td>NaN</td>\n",
       "      <td>NaN</td>\n",
       "      <td>NaN</td>\n",
       "      <td>NaN</td>\n",
       "    </tr>\n",
       "    <tr>\n",
       "      <th>9</th>\n",
       "      <td>Waddell Ranch</td>\n",
       "      <td>61,828 218,264</td>\n",
       "      <td>46,371 163,653*</td>\n",
       "      <td>$50.16</td>\n",
       "      <td>$2.20**</td>\n",
       "    </tr>\n",
       "    <tr>\n",
       "      <th>10</th>\n",
       "      <td>Texas Royalties</td>\n",
       "      <td>16,211 8,828</td>\n",
       "      <td>13,882 7,560*</td>\n",
       "      <td>$49.13</td>\n",
       "      <td>$5.68**</td>\n",
       "    </tr>\n",
       "  </tbody>\n",
       "</table>\n",
       "</div>"
      ],
      "text/plain": [
       "         Unnamed: 0             Unnamed: 1          Unnamed: 2 Unnamed: 3  \\\n",
       "0               NaN  Underlying Properties  Net to Trust Sales        NaN   \n",
       "1               NaN                Volumes             Volumes    Average   \n",
       "2               NaN               Oil  Gas            Oil  Gas        Oil   \n",
       "3               NaN           (bbls) (Mcf)        (bbls) (Mcf)  (per bbl)   \n",
       "4     Current Month                    NaN                 NaN        NaN   \n",
       "5     Waddell Ranch         50,757 190,570     38,068 142,928*     $58.09   \n",
       "6   Texas Royalties          19,947 12,461      17,556 10,948*     $52.80   \n",
       "7               NaN                    NaN                 NaN        NaN   \n",
       "8       Prior Month                    NaN                 NaN        NaN   \n",
       "9     Waddell Ranch         61,828 218,264     46,371 163,653*     $50.16   \n",
       "10  Texas Royalties           16,211 8,828       13,882 7,560*     $49.13   \n",
       "\n",
       "   Unnamed: 4  \n",
       "0         NaN  \n",
       "1       Price  \n",
       "2         Gas  \n",
       "3   (per Mcf)  \n",
       "4         NaN  \n",
       "5     $2.28**  \n",
       "6     $5.89**  \n",
       "7         NaN  \n",
       "8         NaN  \n",
       "9     $2.20**  \n",
       "10    $5.68**  "
      ]
     },
     "execution_count": 5,
     "metadata": {},
     "output_type": "execute_result"
    }
   ],
   "source": [
    "pbt_news_DF = read_pdf(f'{raw_data_folder}/pbt_news/2021/{news_file_name}')[0]\n",
    "\n",
    "pbt_news_DF"
   ]
  },
  {
   "cell_type": "code",
   "execution_count": 6,
   "id": "5ad174f1",
   "metadata": {
    "execution": {
     "iopub.execute_input": "2022-01-16T20:35:14.950726Z",
     "iopub.status.busy": "2022-01-16T20:35:14.950281Z",
     "iopub.status.idle": "2022-01-16T20:35:14.951842Z",
     "shell.execute_reply": "2022-01-16T20:35:14.952210Z"
    },
    "papermill": {
     "duration": 0.012546,
     "end_time": "2022-01-16T20:35:14.952374",
     "exception": false,
     "start_time": "2022-01-16T20:35:14.939828",
     "status": "completed"
    },
    "tags": []
   },
   "outputs": [],
   "source": [
    "cols_pdf = 'Property', 'Gross Oil Volume (PBT News)', 'Net Oil Volume (PBT News)', 'Average Oil Price', 'Average Gas Price'\n",
    "pbt_news_DF.columns = cols_pdf"
   ]
  },
  {
   "cell_type": "code",
   "execution_count": 7,
   "id": "9e1a6833",
   "metadata": {
    "execution": {
     "iopub.execute_input": "2022-01-16T20:35:14.972800Z",
     "iopub.status.busy": "2022-01-16T20:35:14.972277Z",
     "iopub.status.idle": "2022-01-16T20:35:14.974257Z",
     "shell.execute_reply": "2022-01-16T20:35:14.974586Z"
    },
    "papermill": {
     "duration": 0.015492,
     "end_time": "2022-01-16T20:35:14.974721",
     "exception": false,
     "start_time": "2022-01-16T20:35:14.959229",
     "status": "completed"
    },
    "tags": []
   },
   "outputs": [
    {
     "data": {
      "text/html": [
       "<div>\n",
       "<style scoped>\n",
       "    .dataframe tbody tr th:only-of-type {\n",
       "        vertical-align: middle;\n",
       "    }\n",
       "\n",
       "    .dataframe tbody tr th {\n",
       "        vertical-align: top;\n",
       "    }\n",
       "\n",
       "    .dataframe thead th {\n",
       "        text-align: right;\n",
       "    }\n",
       "</style>\n",
       "<table border=\"1\" class=\"dataframe\">\n",
       "  <thead>\n",
       "    <tr style=\"text-align: right;\">\n",
       "      <th></th>\n",
       "      <th>Property</th>\n",
       "      <th>Gross Oil Volume (PBT News)</th>\n",
       "      <th>Net Oil Volume (PBT News)</th>\n",
       "      <th>Average Oil Price</th>\n",
       "      <th>Average Gas Price</th>\n",
       "    </tr>\n",
       "  </thead>\n",
       "  <tbody>\n",
       "    <tr>\n",
       "      <th>5</th>\n",
       "      <td>Waddell Ranch</td>\n",
       "      <td>50,757 190,570</td>\n",
       "      <td>38,068 142,928*</td>\n",
       "      <td>$58.09</td>\n",
       "      <td>$2.28**</td>\n",
       "    </tr>\n",
       "    <tr>\n",
       "      <th>6</th>\n",
       "      <td>Texas Royalties</td>\n",
       "      <td>19,947 12,461</td>\n",
       "      <td>17,556 10,948*</td>\n",
       "      <td>$52.80</td>\n",
       "      <td>$5.89**</td>\n",
       "    </tr>\n",
       "    <tr>\n",
       "      <th>9</th>\n",
       "      <td>Waddell Ranch</td>\n",
       "      <td>61,828 218,264</td>\n",
       "      <td>46,371 163,653*</td>\n",
       "      <td>$50.16</td>\n",
       "      <td>$2.20**</td>\n",
       "    </tr>\n",
       "    <tr>\n",
       "      <th>10</th>\n",
       "      <td>Texas Royalties</td>\n",
       "      <td>16,211 8,828</td>\n",
       "      <td>13,882 7,560*</td>\n",
       "      <td>$49.13</td>\n",
       "      <td>$5.68**</td>\n",
       "    </tr>\n",
       "  </tbody>\n",
       "</table>\n",
       "</div>"
      ],
      "text/plain": [
       "           Property Gross Oil Volume (PBT News) Net Oil Volume (PBT News)  \\\n",
       "5     Waddell Ranch              50,757 190,570           38,068 142,928*   \n",
       "6   Texas Royalties               19,947 12,461            17,556 10,948*   \n",
       "9     Waddell Ranch              61,828 218,264           46,371 163,653*   \n",
       "10  Texas Royalties                16,211 8,828             13,882 7,560*   \n",
       "\n",
       "   Average Oil Price Average Gas Price  \n",
       "5             $58.09           $2.28**  \n",
       "6             $52.80           $5.89**  \n",
       "9             $50.16           $2.20**  \n",
       "10            $49.13           $5.68**  "
      ]
     },
     "execution_count": 7,
     "metadata": {},
     "output_type": "execute_result"
    }
   ],
   "source": [
    "pbt_news_DF.dropna(inplace = True)\n",
    "pbt_news_DF"
   ]
  },
  {
   "cell_type": "markdown",
   "id": "9ea8667f",
   "metadata": {
    "papermill": {
     "duration": 0.007287,
     "end_time": "2022-01-16T20:35:14.989610",
     "exception": false,
     "start_time": "2022-01-16T20:35:14.982323",
     "status": "completed"
    },
    "tags": []
   },
   "source": [
    "### Splitting Net Oil Column to Get Gas Volume\n",
    "### Applying Text Cleaning to remove commas"
   ]
  },
  {
   "cell_type": "code",
   "execution_count": 8,
   "id": "0e4b24f4",
   "metadata": {
    "execution": {
     "iopub.execute_input": "2022-01-16T20:35:15.008817Z",
     "iopub.status.busy": "2022-01-16T20:35:15.008286Z",
     "iopub.status.idle": "2022-01-16T20:35:15.009929Z",
     "shell.execute_reply": "2022-01-16T20:35:15.010334Z"
    },
    "papermill": {
     "duration": 0.013532,
     "end_time": "2022-01-16T20:35:15.010533",
     "exception": false,
     "start_time": "2022-01-16T20:35:14.997001",
     "status": "completed"
    },
    "tags": []
   },
   "outputs": [],
   "source": [
    "pbt_news_DF['Gross Gas Volume (PBT News)'] = pbt_news_DF['Gross Oil Volume (PBT News)'].apply(lambda x: int(x.split(' ')[1].replace(',', '')))\n",
    "\n",
    "pbt_news_DF['Gross Oil Volume (PBT News)'] = pbt_news_DF['Gross Oil Volume (PBT News)'].apply(lambda x: int(x.split(' ')[0].replace(',', '')))"
   ]
  },
  {
   "cell_type": "code",
   "execution_count": 9,
   "id": "735d5051",
   "metadata": {
    "execution": {
     "iopub.execute_input": "2022-01-16T20:35:15.030465Z",
     "iopub.status.busy": "2022-01-16T20:35:15.029913Z",
     "iopub.status.idle": "2022-01-16T20:35:15.032038Z",
     "shell.execute_reply": "2022-01-16T20:35:15.032435Z"
    },
    "papermill": {
     "duration": 0.01484,
     "end_time": "2022-01-16T20:35:15.032620",
     "exception": false,
     "start_time": "2022-01-16T20:35:15.017780",
     "status": "completed"
    },
    "tags": []
   },
   "outputs": [
    {
     "data": {
      "text/html": [
       "<div>\n",
       "<style scoped>\n",
       "    .dataframe tbody tr th:only-of-type {\n",
       "        vertical-align: middle;\n",
       "    }\n",
       "\n",
       "    .dataframe tbody tr th {\n",
       "        vertical-align: top;\n",
       "    }\n",
       "\n",
       "    .dataframe thead th {\n",
       "        text-align: right;\n",
       "    }\n",
       "</style>\n",
       "<table border=\"1\" class=\"dataframe\">\n",
       "  <thead>\n",
       "    <tr style=\"text-align: right;\">\n",
       "      <th></th>\n",
       "      <th>Property</th>\n",
       "      <th>Gross Oil Volume (PBT News)</th>\n",
       "      <th>Net Oil Volume (PBT News)</th>\n",
       "      <th>Average Oil Price</th>\n",
       "      <th>Average Gas Price</th>\n",
       "      <th>Gross Gas Volume (PBT News)</th>\n",
       "    </tr>\n",
       "  </thead>\n",
       "  <tbody>\n",
       "    <tr>\n",
       "      <th>5</th>\n",
       "      <td>Waddell Ranch</td>\n",
       "      <td>50757</td>\n",
       "      <td>38,068 142,928*</td>\n",
       "      <td>$58.09</td>\n",
       "      <td>$2.28**</td>\n",
       "      <td>190570</td>\n",
       "    </tr>\n",
       "    <tr>\n",
       "      <th>6</th>\n",
       "      <td>Texas Royalties</td>\n",
       "      <td>19947</td>\n",
       "      <td>17,556 10,948*</td>\n",
       "      <td>$52.80</td>\n",
       "      <td>$5.89**</td>\n",
       "      <td>12461</td>\n",
       "    </tr>\n",
       "    <tr>\n",
       "      <th>9</th>\n",
       "      <td>Waddell Ranch</td>\n",
       "      <td>61828</td>\n",
       "      <td>46,371 163,653*</td>\n",
       "      <td>$50.16</td>\n",
       "      <td>$2.20**</td>\n",
       "      <td>218264</td>\n",
       "    </tr>\n",
       "    <tr>\n",
       "      <th>10</th>\n",
       "      <td>Texas Royalties</td>\n",
       "      <td>16211</td>\n",
       "      <td>13,882 7,560*</td>\n",
       "      <td>$49.13</td>\n",
       "      <td>$5.68**</td>\n",
       "      <td>8828</td>\n",
       "    </tr>\n",
       "  </tbody>\n",
       "</table>\n",
       "</div>"
      ],
      "text/plain": [
       "           Property  Gross Oil Volume (PBT News) Net Oil Volume (PBT News)  \\\n",
       "5     Waddell Ranch                        50757           38,068 142,928*   \n",
       "6   Texas Royalties                        19947            17,556 10,948*   \n",
       "9     Waddell Ranch                        61828           46,371 163,653*   \n",
       "10  Texas Royalties                        16211             13,882 7,560*   \n",
       "\n",
       "   Average Oil Price Average Gas Price  Gross Gas Volume (PBT News)  \n",
       "5             $58.09           $2.28**                       190570  \n",
       "6             $52.80           $5.89**                        12461  \n",
       "9             $50.16           $2.20**                       218264  \n",
       "10            $49.13           $5.68**                         8828  "
      ]
     },
     "execution_count": 9,
     "metadata": {},
     "output_type": "execute_result"
    }
   ],
   "source": [
    "pbt_news_DF"
   ]
  },
  {
   "cell_type": "markdown",
   "id": "27cceb93",
   "metadata": {
    "papermill": {
     "duration": 0.007652,
     "end_time": "2022-01-16T20:35:15.048547",
     "exception": false,
     "start_time": "2022-01-16T20:35:15.040895",
     "status": "completed"
    },
    "tags": []
   },
   "source": [
    "### Splitting Net Oil Column to Get Gas Volume\n",
    "### Applying Text Cleaning to remove commas and asterisks"
   ]
  },
  {
   "cell_type": "code",
   "execution_count": 10,
   "id": "36f1f177",
   "metadata": {
    "execution": {
     "iopub.execute_input": "2022-01-16T20:35:15.067891Z",
     "iopub.status.busy": "2022-01-16T20:35:15.067259Z",
     "iopub.status.idle": "2022-01-16T20:35:15.068858Z",
     "shell.execute_reply": "2022-01-16T20:35:15.069163Z"
    },
    "papermill": {
     "duration": 0.013403,
     "end_time": "2022-01-16T20:35:15.069339",
     "exception": false,
     "start_time": "2022-01-16T20:35:15.055936",
     "status": "completed"
    },
    "tags": []
   },
   "outputs": [],
   "source": [
    "pbt_news_DF['Net Gas Volume (PBT News)'] = pbt_news_DF['Net Oil Volume (PBT News)'].apply(lambda x: int(x.split(' ')[1]\\\n",
    "                                                                                  .replace(',', '')\\\n",
    "                                                                                 .replace('*','')))\n",
    "\n",
    "pbt_news_DF['Net Oil Volume (PBT News)'] = pbt_news_DF['Net Oil Volume (PBT News)'].apply(lambda x: int(x.split(' ')[0].replace(',', '')))"
   ]
  },
  {
   "cell_type": "markdown",
   "id": "f78ceacc",
   "metadata": {
    "papermill": {
     "duration": 0.007878,
     "end_time": "2022-01-16T20:35:15.084755",
     "exception": false,
     "start_time": "2022-01-16T20:35:15.076877",
     "status": "completed"
    },
    "tags": []
   },
   "source": [
    "### Cleaning Prices Columns by removing asterisks and Dollar Sign"
   ]
  },
  {
   "cell_type": "code",
   "execution_count": 11,
   "id": "670ab6d8",
   "metadata": {
    "execution": {
     "iopub.execute_input": "2022-01-16T20:35:15.102948Z",
     "iopub.status.busy": "2022-01-16T20:35:15.102564Z",
     "iopub.status.idle": "2022-01-16T20:35:15.103919Z",
     "shell.execute_reply": "2022-01-16T20:35:15.104168Z"
    },
    "papermill": {
     "duration": 0.012168,
     "end_time": "2022-01-16T20:35:15.104286",
     "exception": false,
     "start_time": "2022-01-16T20:35:15.092118",
     "status": "completed"
    },
    "tags": []
   },
   "outputs": [],
   "source": [
    "pbt_news_DF['Average Gas Price'] = pbt_news_DF['Average Gas Price'].apply(lambda x: x.replace('$','').replace('**',''))\n",
    "\n",
    "pbt_news_DF['Average Oil Price'] = pbt_news_DF['Average Oil Price'].apply(lambda x: x.replace('$','').replace('**',''))"
   ]
  },
  {
   "cell_type": "code",
   "execution_count": 12,
   "id": "b1456a0e",
   "metadata": {
    "execution": {
     "iopub.execute_input": "2022-01-16T20:35:15.121558Z",
     "iopub.status.busy": "2022-01-16T20:35:15.121182Z",
     "iopub.status.idle": "2022-01-16T20:35:15.122419Z",
     "shell.execute_reply": "2022-01-16T20:35:15.122680Z"
    },
    "papermill": {
     "duration": 0.010995,
     "end_time": "2022-01-16T20:35:15.122795",
     "exception": false,
     "start_time": "2022-01-16T20:35:15.111800",
     "status": "completed"
    },
    "tags": []
   },
   "outputs": [],
   "source": [
    "#filtering table to the 'current month' values\n",
    "pbt_news_DF = pbt_news_DF.head(2)"
   ]
  },
  {
   "cell_type": "code",
   "execution_count": 13,
   "id": "6d802530",
   "metadata": {
    "execution": {
     "iopub.execute_input": "2022-01-16T20:35:15.142039Z",
     "iopub.status.busy": "2022-01-16T20:35:15.139637Z",
     "iopub.status.idle": "2022-01-16T20:35:15.143582Z",
     "shell.execute_reply": "2022-01-16T20:35:15.143820Z"
    },
    "papermill": {
     "duration": 0.013719,
     "end_time": "2022-01-16T20:35:15.143934",
     "exception": false,
     "start_time": "2022-01-16T20:35:15.130215",
     "status": "completed"
    },
    "tags": []
   },
   "outputs": [
    {
     "data": {
      "text/html": [
       "<div>\n",
       "<style scoped>\n",
       "    .dataframe tbody tr th:only-of-type {\n",
       "        vertical-align: middle;\n",
       "    }\n",
       "\n",
       "    .dataframe tbody tr th {\n",
       "        vertical-align: top;\n",
       "    }\n",
       "\n",
       "    .dataframe thead th {\n",
       "        text-align: right;\n",
       "    }\n",
       "</style>\n",
       "<table border=\"1\" class=\"dataframe\">\n",
       "  <thead>\n",
       "    <tr style=\"text-align: right;\">\n",
       "      <th></th>\n",
       "      <th>Property</th>\n",
       "      <th>Gross Oil Volume (PBT News)</th>\n",
       "      <th>Net Oil Volume (PBT News)</th>\n",
       "      <th>Average Oil Price</th>\n",
       "      <th>Average Gas Price</th>\n",
       "      <th>Gross Gas Volume (PBT News)</th>\n",
       "      <th>Net Gas Volume (PBT News)</th>\n",
       "    </tr>\n",
       "  </thead>\n",
       "  <tbody>\n",
       "    <tr>\n",
       "      <th>5</th>\n",
       "      <td>Waddell Ranch</td>\n",
       "      <td>50757</td>\n",
       "      <td>38068</td>\n",
       "      <td>58.09</td>\n",
       "      <td>2.28</td>\n",
       "      <td>190570</td>\n",
       "      <td>142928</td>\n",
       "    </tr>\n",
       "    <tr>\n",
       "      <th>6</th>\n",
       "      <td>Texas Royalties</td>\n",
       "      <td>19947</td>\n",
       "      <td>17556</td>\n",
       "      <td>52.80</td>\n",
       "      <td>5.89</td>\n",
       "      <td>12461</td>\n",
       "      <td>10948</td>\n",
       "    </tr>\n",
       "  </tbody>\n",
       "</table>\n",
       "</div>"
      ],
      "text/plain": [
       "          Property  Gross Oil Volume (PBT News)  Net Oil Volume (PBT News)  \\\n",
       "5    Waddell Ranch                        50757                      38068   \n",
       "6  Texas Royalties                        19947                      17556   \n",
       "\n",
       "  Average Oil Price Average Gas Price  Gross Gas Volume (PBT News)  \\\n",
       "5             58.09              2.28                       190570   \n",
       "6             52.80              5.89                        12461   \n",
       "\n",
       "   Net Gas Volume (PBT News)  \n",
       "5                     142928  \n",
       "6                      10948  "
      ]
     },
     "execution_count": 13,
     "metadata": {},
     "output_type": "execute_result"
    }
   ],
   "source": [
    "pbt_news_DF"
   ]
  },
  {
   "cell_type": "code",
   "execution_count": 14,
   "id": "9bcb4f75",
   "metadata": {
    "execution": {
     "iopub.execute_input": "2022-01-16T20:35:15.162686Z",
     "iopub.status.busy": "2022-01-16T20:35:15.162320Z",
     "iopub.status.idle": "2022-01-16T20:35:15.163554Z",
     "shell.execute_reply": "2022-01-16T20:35:15.163790Z"
    },
    "papermill": {
     "duration": 0.011525,
     "end_time": "2022-01-16T20:35:15.163905",
     "exception": false,
     "start_time": "2022-01-16T20:35:15.152380",
     "status": "completed"
    },
    "tags": []
   },
   "outputs": [],
   "source": [
    "date_from_filename = news_file_name.split(',')[1]\\\n",
    "                                    .split('.')[0]\\\n",
    "                                    .strip()\\\n",
    "                                    .replace(' prod', '')"
   ]
  },
  {
   "cell_type": "code",
   "execution_count": 15,
   "id": "b2d00cad",
   "metadata": {
    "execution": {
     "iopub.execute_input": "2022-01-16T20:35:15.181921Z",
     "iopub.status.busy": "2022-01-16T20:35:15.181541Z",
     "iopub.status.idle": "2022-01-16T20:35:15.182843Z",
     "shell.execute_reply": "2022-01-16T20:35:15.183091Z"
    },
    "papermill": {
     "duration": 0.011591,
     "end_time": "2022-01-16T20:35:15.183207",
     "exception": false,
     "start_time": "2022-01-16T20:35:15.171616",
     "status": "completed"
    },
    "tags": []
   },
   "outputs": [],
   "source": [
    "pbt_news_DF.insert(0, 'Date', date_from_filename.title())"
   ]
  },
  {
   "cell_type": "code",
   "execution_count": 16,
   "id": "e38fd321",
   "metadata": {
    "execution": {
     "iopub.execute_input": "2022-01-16T20:35:15.203553Z",
     "iopub.status.busy": "2022-01-16T20:35:15.203148Z",
     "iopub.status.idle": "2022-01-16T20:35:15.204588Z",
     "shell.execute_reply": "2022-01-16T20:35:15.204845Z"
    },
    "papermill": {
     "duration": 0.013887,
     "end_time": "2022-01-16T20:35:15.204959",
     "exception": false,
     "start_time": "2022-01-16T20:35:15.191072",
     "status": "completed"
    },
    "tags": []
   },
   "outputs": [
    {
     "data": {
      "text/html": [
       "<div>\n",
       "<style scoped>\n",
       "    .dataframe tbody tr th:only-of-type {\n",
       "        vertical-align: middle;\n",
       "    }\n",
       "\n",
       "    .dataframe tbody tr th {\n",
       "        vertical-align: top;\n",
       "    }\n",
       "\n",
       "    .dataframe thead th {\n",
       "        text-align: right;\n",
       "    }\n",
       "</style>\n",
       "<table border=\"1\" class=\"dataframe\">\n",
       "  <thead>\n",
       "    <tr style=\"text-align: right;\">\n",
       "      <th></th>\n",
       "      <th>Date</th>\n",
       "      <th>Property</th>\n",
       "      <th>Gross Oil Volume (PBT News)</th>\n",
       "      <th>Net Oil Volume (PBT News)</th>\n",
       "      <th>Average Oil Price</th>\n",
       "      <th>Average Gas Price</th>\n",
       "      <th>Gross Gas Volume (PBT News)</th>\n",
       "      <th>Net Gas Volume (PBT News)</th>\n",
       "    </tr>\n",
       "  </thead>\n",
       "  <tbody>\n",
       "    <tr>\n",
       "      <th>5</th>\n",
       "      <td>Feb 2021</td>\n",
       "      <td>Waddell Ranch</td>\n",
       "      <td>50757</td>\n",
       "      <td>38068</td>\n",
       "      <td>58.09</td>\n",
       "      <td>2.28</td>\n",
       "      <td>190570</td>\n",
       "      <td>142928</td>\n",
       "    </tr>\n",
       "    <tr>\n",
       "      <th>6</th>\n",
       "      <td>Feb 2021</td>\n",
       "      <td>Texas Royalties</td>\n",
       "      <td>19947</td>\n",
       "      <td>17556</td>\n",
       "      <td>52.80</td>\n",
       "      <td>5.89</td>\n",
       "      <td>12461</td>\n",
       "      <td>10948</td>\n",
       "    </tr>\n",
       "  </tbody>\n",
       "</table>\n",
       "</div>"
      ],
      "text/plain": [
       "       Date         Property  Gross Oil Volume (PBT News)  \\\n",
       "5  Feb 2021    Waddell Ranch                        50757   \n",
       "6  Feb 2021  Texas Royalties                        19947   \n",
       "\n",
       "   Net Oil Volume (PBT News) Average Oil Price Average Gas Price  \\\n",
       "5                      38068             58.09              2.28   \n",
       "6                      17556             52.80              5.89   \n",
       "\n",
       "   Gross Gas Volume (PBT News)  Net Gas Volume (PBT News)  \n",
       "5                       190570                     142928  \n",
       "6                        12461                      10948  "
      ]
     },
     "execution_count": 16,
     "metadata": {},
     "output_type": "execute_result"
    }
   ],
   "source": [
    "pbt_news_DF"
   ]
  },
  {
   "cell_type": "markdown",
   "id": "eb3ae53a",
   "metadata": {
    "papermill": {
     "duration": 0.007901,
     "end_time": "2022-01-16T20:35:15.220882",
     "exception": false,
     "start_time": "2022-01-16T20:35:15.212981",
     "status": "completed"
    },
    "tags": []
   },
   "source": [
    "# Write Table to File"
   ]
  },
  {
   "cell_type": "code",
   "execution_count": 17,
   "id": "c9638897",
   "metadata": {
    "execution": {
     "iopub.execute_input": "2022-01-16T20:35:15.239106Z",
     "iopub.status.busy": "2022-01-16T20:35:15.238717Z",
     "iopub.status.idle": "2022-01-16T20:35:15.240327Z",
     "shell.execute_reply": "2022-01-16T20:35:15.240559Z"
    },
    "papermill": {
     "duration": 0.011922,
     "end_time": "2022-01-16T20:35:15.240667",
     "exception": false,
     "start_time": "2022-01-16T20:35:15.228745",
     "status": "completed"
    },
    "tags": []
   },
   "outputs": [
    {
     "data": {
      "text/plain": [
       "'apr 2021 news, feb 2021 prod.csv'"
      ]
     },
     "execution_count": 17,
     "metadata": {},
     "output_type": "execute_result"
    }
   ],
   "source": [
    "to_file_name = news_file_name.split('.')[0] + '.csv'\n",
    "\n",
    "to_file_name"
   ]
  },
  {
   "cell_type": "code",
   "execution_count": 18,
   "id": "6553b868",
   "metadata": {
    "execution": {
     "iopub.execute_input": "2022-01-16T20:35:15.259331Z",
     "iopub.status.busy": "2022-01-16T20:35:15.258975Z",
     "iopub.status.idle": "2022-01-16T20:35:15.261979Z",
     "shell.execute_reply": "2022-01-16T20:35:15.262203Z"
    },
    "papermill": {
     "duration": 0.013505,
     "end_time": "2022-01-16T20:35:15.262323",
     "exception": false,
     "start_time": "2022-01-16T20:35:15.248818",
     "status": "completed"
    },
    "tags": []
   },
   "outputs": [],
   "source": [
    "pbt_news_DF.to_csv(f'{processed_data_folder}/pbt_news_prod/{to_file_name}', index = False)"
   ]
  },
  {
   "cell_type": "code",
   "execution_count": null,
   "id": "7b8340db",
   "metadata": {
    "papermill": {
     "duration": 0.008546,
     "end_time": "2022-01-16T20:35:15.280059",
     "exception": false,
     "start_time": "2022-01-16T20:35:15.271513",
     "status": "completed"
    },
    "tags": []
   },
   "outputs": [],
   "source": []
  }
 ],
 "metadata": {
  "kernelspec": {
   "display_name": "Python 3 (ipykernel)",
   "language": "python",
   "name": "python3"
  },
  "language_info": {
   "codemirror_mode": {
    "name": "ipython",
    "version": 3
   },
   "file_extension": ".py",
   "mimetype": "text/x-python",
   "name": "python",
   "nbconvert_exporter": "python",
   "pygments_lexer": "ipython3",
   "version": "3.9.7"
  },
  "papermill": {
   "default_parameters": {},
   "duration": 5.425394,
   "end_time": "2022-01-16T20:35:15.495762",
   "environment_variables": {},
   "exception": null,
   "input_path": "3. Ingest PBT News Release PDFs.ipynb",
   "output_path": "output_notebooks/pbt_news_runs/apr 2021 news, feb 2021 prod.pdf.ipynb",
   "parameters": {
    "news_file_name": "apr 2021 news, feb 2021 prod.pdf"
   },
   "start_time": "2022-01-16T20:35:10.070368",
   "version": "2.3.3"
  }
 },
 "nbformat": 4,
 "nbformat_minor": 5
}