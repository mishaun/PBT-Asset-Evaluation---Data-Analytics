{
 "cells": [
  {
   "cell_type": "markdown",
   "id": "3bf9f2f8",
   "metadata": {
    "papermill": {
     "duration": 0.023983,
     "end_time": "2022-01-16T20:35:05.937138",
     "exception": false,
     "start_time": "2022-01-16T20:35:05.913155",
     "status": "completed"
    },
    "tags": []
   },
   "source": [
    "# Ingest PBT News Releases"
   ]
  },
  {
   "cell_type": "code",
   "execution_count": 1,
   "id": "f63d6cde",
   "metadata": {
    "execution": {
     "iopub.execute_input": "2022-01-16T20:35:05.956637Z",
     "iopub.status.busy": "2022-01-16T20:35:05.956244Z",
     "iopub.status.idle": "2022-01-16T20:35:06.699219Z",
     "shell.execute_reply": "2022-01-16T20:35:06.699452Z"
    },
    "papermill": {
     "duration": 0.755121,
     "end_time": "2022-01-16T20:35:06.699624",
     "exception": false,
     "start_time": "2022-01-16T20:35:05.944503",
     "status": "completed"
    },
    "tags": []
   },
   "outputs": [],
   "source": [
    "from tabula import read_pdf"
   ]
  },
  {
   "cell_type": "code",
   "execution_count": 2,
   "id": "b68a4e59",
   "metadata": {
    "execution": {
     "iopub.execute_input": "2022-01-16T20:35:06.715544Z",
     "iopub.status.busy": "2022-01-16T20:35:06.715179Z",
     "iopub.status.idle": "2022-01-16T20:35:06.739926Z",
     "shell.execute_reply": "2022-01-16T20:35:06.740163Z"
    },
    "papermill": {
     "duration": 0.033764,
     "end_time": "2022-01-16T20:35:06.740310",
     "exception": false,
     "start_time": "2022-01-16T20:35:06.706546",
     "status": "completed"
    },
    "tags": []
   },
   "outputs": [],
   "source": [
    "%run configs.ipynb"
   ]
  },
  {
   "cell_type": "code",
   "execution_count": 3,
   "id": "b5516fe2",
   "metadata": {
    "execution": {
     "iopub.execute_input": "2022-01-16T20:35:06.754657Z",
     "iopub.status.busy": "2022-01-16T20:35:06.754300Z",
     "iopub.status.idle": "2022-01-16T20:35:06.755592Z",
     "shell.execute_reply": "2022-01-16T20:35:06.755854Z"
    },
    "papermill": {
     "duration": 0.009352,
     "end_time": "2022-01-16T20:35:06.755967",
     "exception": false,
     "start_time": "2022-01-16T20:35:06.746615",
     "status": "completed"
    },
    "tags": [
     "parameters"
    ]
   },
   "outputs": [],
   "source": [
    "#parameters cell\n",
    "news_file_name = 'dec 2021 news, oct 2021 prod.pdf'"
   ]
  },
  {
   "cell_type": "code",
   "execution_count": 4,
   "id": "01d82352",
   "metadata": {
    "execution": {
     "iopub.execute_input": "2022-01-16T20:35:06.770346Z",
     "iopub.status.busy": "2022-01-16T20:35:06.769980Z",
     "iopub.status.idle": "2022-01-16T20:35:06.771267Z",
     "shell.execute_reply": "2022-01-16T20:35:06.771516Z"
    },
    "papermill": {
     "duration": 0.009445,
     "end_time": "2022-01-16T20:35:06.771626",
     "exception": false,
     "start_time": "2022-01-16T20:35:06.762181",
     "status": "completed"
    },
    "tags": [
     "injected-parameters"
    ]
   },
   "outputs": [],
   "source": [
    "# Parameters\n",
    "news_file_name = \"aug 2021 news, jun 2021 prod.pdf\"\n"
   ]
  },
  {
   "cell_type": "code",
   "execution_count": 5,
   "id": "89d75a6d",
   "metadata": {
    "execution": {
     "iopub.execute_input": "2022-01-16T20:35:06.786194Z",
     "iopub.status.busy": "2022-01-16T20:35:06.785721Z",
     "iopub.status.idle": "2022-01-16T20:35:09.455578Z",
     "shell.execute_reply": "2022-01-16T20:35:09.456036Z"
    },
    "papermill": {
     "duration": 2.678364,
     "end_time": "2022-01-16T20:35:09.456217",
     "exception": false,
     "start_time": "2022-01-16T20:35:06.777853",
     "status": "completed"
    },
    "tags": []
   },
   "outputs": [
    {
     "name": "stderr",
     "output_type": "stream",
     "text": [
      "'pages' argument isn't specified.Will extract only from page 1 by default.\n"
     ]
    },
    {
     "data": {
      "text/html": [
       "<div>\n",
       "<style scoped>\n",
       "    .dataframe tbody tr th:only-of-type {\n",
       "        vertical-align: middle;\n",
       "    }\n",
       "\n",
       "    .dataframe tbody tr th {\n",
       "        vertical-align: top;\n",
       "    }\n",
       "\n",
       "    .dataframe thead th {\n",
       "        text-align: right;\n",
       "    }\n",
       "</style>\n",
       "<table border=\"1\" class=\"dataframe\">\n",
       "  <thead>\n",
       "    <tr style=\"text-align: right;\">\n",
       "      <th></th>\n",
       "      <th>Unnamed: 0</th>\n",
       "      <th>Unnamed: 1</th>\n",
       "      <th>Unnamed: 2</th>\n",
       "      <th>Unnamed: 3</th>\n",
       "      <th>Unnamed: 4</th>\n",
       "    </tr>\n",
       "  </thead>\n",
       "  <tbody>\n",
       "    <tr>\n",
       "      <th>0</th>\n",
       "      <td>NaN</td>\n",
       "      <td>Underlying Properties</td>\n",
       "      <td>Net to Trust Sales</td>\n",
       "      <td>NaN</td>\n",
       "      <td>NaN</td>\n",
       "    </tr>\n",
       "    <tr>\n",
       "      <th>1</th>\n",
       "      <td>NaN</td>\n",
       "      <td>Volumes</td>\n",
       "      <td>Volumes</td>\n",
       "      <td>Average</td>\n",
       "      <td>Price</td>\n",
       "    </tr>\n",
       "    <tr>\n",
       "      <th>2</th>\n",
       "      <td>NaN</td>\n",
       "      <td>Oil  Gas</td>\n",
       "      <td>Oil  Gas</td>\n",
       "      <td>Oil</td>\n",
       "      <td>Gas</td>\n",
       "    </tr>\n",
       "    <tr>\n",
       "      <th>3</th>\n",
       "      <td>NaN</td>\n",
       "      <td>(bbls) (Mcf)</td>\n",
       "      <td>(bbls) (Mcf)</td>\n",
       "      <td>(per bbl)</td>\n",
       "      <td>(per Mcf)</td>\n",
       "    </tr>\n",
       "    <tr>\n",
       "      <th>4</th>\n",
       "      <td>Current Month</td>\n",
       "      <td>NaN</td>\n",
       "      <td>NaN</td>\n",
       "      <td>NaN</td>\n",
       "      <td>NaN</td>\n",
       "    </tr>\n",
       "    <tr>\n",
       "      <th>5</th>\n",
       "      <td>Waddell Ranch</td>\n",
       "      <td>90,258 220,120</td>\n",
       "      <td>67,694 165,090*</td>\n",
       "      <td>$70.22</td>\n",
       "      <td>$4.21**</td>\n",
       "    </tr>\n",
       "    <tr>\n",
       "      <th>6</th>\n",
       "      <td>Texas Royalties</td>\n",
       "      <td>17,820 9,894</td>\n",
       "      <td>15,854 8,797*</td>\n",
       "      <td>$69.06</td>\n",
       "      <td>$7.89**</td>\n",
       "    </tr>\n",
       "    <tr>\n",
       "      <th>7</th>\n",
       "      <td>NaN</td>\n",
       "      <td>NaN</td>\n",
       "      <td>NaN</td>\n",
       "      <td>NaN</td>\n",
       "      <td>NaN</td>\n",
       "    </tr>\n",
       "    <tr>\n",
       "      <th>8</th>\n",
       "      <td>Prior Month</td>\n",
       "      <td>NaN</td>\n",
       "      <td>NaN</td>\n",
       "      <td>NaN</td>\n",
       "      <td>NaN</td>\n",
       "    </tr>\n",
       "    <tr>\n",
       "      <th>9</th>\n",
       "      <td>Waddell Ranch</td>\n",
       "      <td>94,554 194,689</td>\n",
       "      <td>70,916 146,017*</td>\n",
       "      <td>$63.97</td>\n",
       "      <td>$2.61**</td>\n",
       "    </tr>\n",
       "    <tr>\n",
       "      <th>10</th>\n",
       "      <td>Texas Royalties</td>\n",
       "      <td>19,114 10,523</td>\n",
       "      <td>16,949 9,333*</td>\n",
       "      <td>$61.94</td>\n",
       "      <td>$6.62**</td>\n",
       "    </tr>\n",
       "  </tbody>\n",
       "</table>\n",
       "</div>"
      ],
      "text/plain": [
       "         Unnamed: 0             Unnamed: 1          Unnamed: 2 Unnamed: 3  \\\n",
       "0               NaN  Underlying Properties  Net to Trust Sales        NaN   \n",
       "1               NaN                Volumes             Volumes    Average   \n",
       "2               NaN               Oil  Gas            Oil  Gas        Oil   \n",
       "3               NaN           (bbls) (Mcf)        (bbls) (Mcf)  (per bbl)   \n",
       "4     Current Month                    NaN                 NaN        NaN   \n",
       "5     Waddell Ranch         90,258 220,120     67,694 165,090*     $70.22   \n",
       "6   Texas Royalties           17,820 9,894       15,854 8,797*     $69.06   \n",
       "7               NaN                    NaN                 NaN        NaN   \n",
       "8       Prior Month                    NaN                 NaN        NaN   \n",
       "9     Waddell Ranch         94,554 194,689     70,916 146,017*     $63.97   \n",
       "10  Texas Royalties          19,114 10,523       16,949 9,333*     $61.94   \n",
       "\n",
       "   Unnamed: 4  \n",
       "0         NaN  \n",
       "1       Price  \n",
       "2         Gas  \n",
       "3   (per Mcf)  \n",
       "4         NaN  \n",
       "5     $4.21**  \n",
       "6     $7.89**  \n",
       "7         NaN  \n",
       "8         NaN  \n",
       "9     $2.61**  \n",
       "10    $6.62**  "
      ]
     },
     "execution_count": 5,
     "metadata": {},
     "output_type": "execute_result"
    }
   ],
   "source": [
    "pbt_news_DF = read_pdf(f'{raw_data_folder}/pbt_news/2021/{news_file_name}')[0]\n",
    "\n",
    "pbt_news_DF"
   ]
  },
  {
   "cell_type": "code",
   "execution_count": 6,
   "id": "5ad174f1",
   "metadata": {
    "execution": {
     "iopub.execute_input": "2022-01-16T20:35:09.474403Z",
     "iopub.status.busy": "2022-01-16T20:35:09.474030Z",
     "iopub.status.idle": "2022-01-16T20:35:09.475252Z",
     "shell.execute_reply": "2022-01-16T20:35:09.475542Z"
    },
    "papermill": {
     "duration": 0.011611,
     "end_time": "2022-01-16T20:35:09.475661",
     "exception": false,
     "start_time": "2022-01-16T20:35:09.464050",
     "status": "completed"
    },
    "tags": []
   },
   "outputs": [],
   "source": [
    "cols_pdf = 'Property', 'Gross Oil Volume (PBT News)', 'Net Oil Volume (PBT News)', 'Average Oil Price', 'Average Gas Price'\n",
    "pbt_news_DF.columns = cols_pdf"
   ]
  },
  {
   "cell_type": "code",
   "execution_count": 7,
   "id": "9e1a6833",
   "metadata": {
    "execution": {
     "iopub.execute_input": "2022-01-16T20:35:09.495276Z",
     "iopub.status.busy": "2022-01-16T20:35:09.494852Z",
     "iopub.status.idle": "2022-01-16T20:35:09.496305Z",
     "shell.execute_reply": "2022-01-16T20:35:09.496661Z"
    },
    "papermill": {
     "duration": 0.014302,
     "end_time": "2022-01-16T20:35:09.496775",
     "exception": false,
     "start_time": "2022-01-16T20:35:09.482473",
     "status": "completed"
    },
    "tags": []
   },
   "outputs": [
    {
     "data": {
      "text/html": [
       "<div>\n",
       "<style scoped>\n",
       "    .dataframe tbody tr th:only-of-type {\n",
       "        vertical-align: middle;\n",
       "    }\n",
       "\n",
       "    .dataframe tbody tr th {\n",
       "        vertical-align: top;\n",
       "    }\n",
       "\n",
       "    .dataframe thead th {\n",
       "        text-align: right;\n",
       "    }\n",
       "</style>\n",
       "<table border=\"1\" class=\"dataframe\">\n",
       "  <thead>\n",
       "    <tr style=\"text-align: right;\">\n",
       "      <th></th>\n",
       "      <th>Property</th>\n",
       "      <th>Gross Oil Volume (PBT News)</th>\n",
       "      <th>Net Oil Volume (PBT News)</th>\n",
       "      <th>Average Oil Price</th>\n",
       "      <th>Average Gas Price</th>\n",
       "    </tr>\n",
       "  </thead>\n",
       "  <tbody>\n",
       "    <tr>\n",
       "      <th>5</th>\n",
       "      <td>Waddell Ranch</td>\n",
       "      <td>90,258 220,120</td>\n",
       "      <td>67,694 165,090*</td>\n",
       "      <td>$70.22</td>\n",
       "      <td>$4.21**</td>\n",
       "    </tr>\n",
       "    <tr>\n",
       "      <th>6</th>\n",
       "      <td>Texas Royalties</td>\n",
       "      <td>17,820 9,894</td>\n",
       "      <td>15,854 8,797*</td>\n",
       "      <td>$69.06</td>\n",
       "      <td>$7.89**</td>\n",
       "    </tr>\n",
       "    <tr>\n",
       "      <th>9</th>\n",
       "      <td>Waddell Ranch</td>\n",
       "      <td>94,554 194,689</td>\n",
       "      <td>70,916 146,017*</td>\n",
       "      <td>$63.97</td>\n",
       "      <td>$2.61**</td>\n",
       "    </tr>\n",
       "    <tr>\n",
       "      <th>10</th>\n",
       "      <td>Texas Royalties</td>\n",
       "      <td>19,114 10,523</td>\n",
       "      <td>16,949 9,333*</td>\n",
       "      <td>$61.94</td>\n",
       "      <td>$6.62**</td>\n",
       "    </tr>\n",
       "  </tbody>\n",
       "</table>\n",
       "</div>"
      ],
      "text/plain": [
       "           Property Gross Oil Volume (PBT News) Net Oil Volume (PBT News)  \\\n",
       "5     Waddell Ranch              90,258 220,120           67,694 165,090*   \n",
       "6   Texas Royalties                17,820 9,894             15,854 8,797*   \n",
       "9     Waddell Ranch              94,554 194,689           70,916 146,017*   \n",
       "10  Texas Royalties               19,114 10,523             16,949 9,333*   \n",
       "\n",
       "   Average Oil Price Average Gas Price  \n",
       "5             $70.22           $4.21**  \n",
       "6             $69.06           $7.89**  \n",
       "9             $63.97           $2.61**  \n",
       "10            $61.94           $6.62**  "
      ]
     },
     "execution_count": 7,
     "metadata": {},
     "output_type": "execute_result"
    }
   ],
   "source": [
    "pbt_news_DF.dropna(inplace = True)\n",
    "pbt_news_DF"
   ]
  },
  {
   "cell_type": "markdown",
   "id": "9ea8667f",
   "metadata": {
    "papermill": {
     "duration": 0.007414,
     "end_time": "2022-01-16T20:35:09.511259",
     "exception": false,
     "start_time": "2022-01-16T20:35:09.503845",
     "status": "completed"
    },
    "tags": []
   },
   "source": [
    "### Splitting Net Oil Column to Get Gas Volume\n",
    "### Applying Text Cleaning to remove commas"
   ]
  },
  {
   "cell_type": "code",
   "execution_count": 8,
   "id": "0e4b24f4",
   "metadata": {
    "execution": {
     "iopub.execute_input": "2022-01-16T20:35:09.530061Z",
     "iopub.status.busy": "2022-01-16T20:35:09.529537Z",
     "iopub.status.idle": "2022-01-16T20:35:09.531838Z",
     "shell.execute_reply": "2022-01-16T20:35:09.531511Z"
    },
    "papermill": {
     "duration": 0.013446,
     "end_time": "2022-01-16T20:35:09.531943",
     "exception": false,
     "start_time": "2022-01-16T20:35:09.518497",
     "status": "completed"
    },
    "tags": []
   },
   "outputs": [],
   "source": [
    "pbt_news_DF['Gross Gas Volume (PBT News)'] = pbt_news_DF['Gross Oil Volume (PBT News)'].apply(lambda x: int(x.split(' ')[1].replace(',', '')))\n",
    "\n",
    "pbt_news_DF['Gross Oil Volume (PBT News)'] = pbt_news_DF['Gross Oil Volume (PBT News)'].apply(lambda x: int(x.split(' ')[0].replace(',', '')))"
   ]
  },
  {
   "cell_type": "code",
   "execution_count": 9,
   "id": "735d5051",
   "metadata": {
    "execution": {
     "iopub.execute_input": "2022-01-16T20:35:09.551603Z",
     "iopub.status.busy": "2022-01-16T20:35:09.551220Z",
     "iopub.status.idle": "2022-01-16T20:35:09.552873Z",
     "shell.execute_reply": "2022-01-16T20:35:09.553166Z"
    },
    "papermill": {
     "duration": 0.014016,
     "end_time": "2022-01-16T20:35:09.553284",
     "exception": false,
     "start_time": "2022-01-16T20:35:09.539268",
     "status": "completed"
    },
    "tags": []
   },
   "outputs": [
    {
     "data": {
      "text/html": [
       "<div>\n",
       "<style scoped>\n",
       "    .dataframe tbody tr th:only-of-type {\n",
       "        vertical-align: middle;\n",
       "    }\n",
       "\n",
       "    .dataframe tbody tr th {\n",
       "        vertical-align: top;\n",
       "    }\n",
       "\n",
       "    .dataframe thead th {\n",
       "        text-align: right;\n",
       "    }\n",
       "</style>\n",
       "<table border=\"1\" class=\"dataframe\">\n",
       "  <thead>\n",
       "    <tr style=\"text-align: right;\">\n",
       "      <th></th>\n",
       "      <th>Property</th>\n",
       "      <th>Gross Oil Volume (PBT News)</th>\n",
       "      <th>Net Oil Volume (PBT News)</th>\n",
       "      <th>Average Oil Price</th>\n",
       "      <th>Average Gas Price</th>\n",
       "      <th>Gross Gas Volume (PBT News)</th>\n",
       "    </tr>\n",
       "  </thead>\n",
       "  <tbody>\n",
       "    <tr>\n",
       "      <th>5</th>\n",
       "      <td>Waddell Ranch</td>\n",
       "      <td>90258</td>\n",
       "      <td>67,694 165,090*</td>\n",
       "      <td>$70.22</td>\n",
       "      <td>$4.21**</td>\n",
       "      <td>220120</td>\n",
       "    </tr>\n",
       "    <tr>\n",
       "      <th>6</th>\n",
       "      <td>Texas Royalties</td>\n",
       "      <td>17820</td>\n",
       "      <td>15,854 8,797*</td>\n",
       "      <td>$69.06</td>\n",
       "      <td>$7.89**</td>\n",
       "      <td>9894</td>\n",
       "    </tr>\n",
       "    <tr>\n",
       "      <th>9</th>\n",
       "      <td>Waddell Ranch</td>\n",
       "      <td>94554</td>\n",
       "      <td>70,916 146,017*</td>\n",
       "      <td>$63.97</td>\n",
       "      <td>$2.61**</td>\n",
       "      <td>194689</td>\n",
       "    </tr>\n",
       "    <tr>\n",
       "      <th>10</th>\n",
       "      <td>Texas Royalties</td>\n",
       "      <td>19114</td>\n",
       "      <td>16,949 9,333*</td>\n",
       "      <td>$61.94</td>\n",
       "      <td>$6.62**</td>\n",
       "      <td>10523</td>\n",
       "    </tr>\n",
       "  </tbody>\n",
       "</table>\n",
       "</div>"
      ],
      "text/plain": [
       "           Property  Gross Oil Volume (PBT News) Net Oil Volume (PBT News)  \\\n",
       "5     Waddell Ranch                        90258           67,694 165,090*   \n",
       "6   Texas Royalties                        17820             15,854 8,797*   \n",
       "9     Waddell Ranch                        94554           70,916 146,017*   \n",
       "10  Texas Royalties                        19114             16,949 9,333*   \n",
       "\n",
       "   Average Oil Price Average Gas Price  Gross Gas Volume (PBT News)  \n",
       "5             $70.22           $4.21**                       220120  \n",
       "6             $69.06           $7.89**                         9894  \n",
       "9             $63.97           $2.61**                       194689  \n",
       "10            $61.94           $6.62**                        10523  "
      ]
     },
     "execution_count": 9,
     "metadata": {},
     "output_type": "execute_result"
    }
   ],
   "source": [
    "pbt_news_DF"
   ]
  },
  {
   "cell_type": "markdown",
   "id": "27cceb93",
   "metadata": {
    "papermill": {
     "duration": 0.007992,
     "end_time": "2022-01-16T20:35:09.568756",
     "exception": false,
     "start_time": "2022-01-16T20:35:09.560764",
     "status": "completed"
    },
    "tags": []
   },
   "source": [
    "### Splitting Net Oil Column to Get Gas Volume\n",
    "### Applying Text Cleaning to remove commas and asterisks"
   ]
  },
  {
   "cell_type": "code",
   "execution_count": 10,
   "id": "36f1f177",
   "metadata": {
    "execution": {
     "iopub.execute_input": "2022-01-16T20:35:09.588670Z",
     "iopub.status.busy": "2022-01-16T20:35:09.587897Z",
     "iopub.status.idle": "2022-01-16T20:35:09.589897Z",
     "shell.execute_reply": "2022-01-16T20:35:09.590141Z"
    },
    "papermill": {
     "duration": 0.013331,
     "end_time": "2022-01-16T20:35:09.590270",
     "exception": false,
     "start_time": "2022-01-16T20:35:09.576939",
     "status": "completed"
    },
    "tags": []
   },
   "outputs": [],
   "source": [
    "pbt_news_DF['Net Gas Volume (PBT News)'] = pbt_news_DF['Net Oil Volume (PBT News)'].apply(lambda x: int(x.split(' ')[1]\\\n",
    "                                                                                  .replace(',', '')\\\n",
    "                                                                                 .replace('*','')))\n",
    "\n",
    "pbt_news_DF['Net Oil Volume (PBT News)'] = pbt_news_DF['Net Oil Volume (PBT News)'].apply(lambda x: int(x.split(' ')[0].replace(',', '')))"
   ]
  },
  {
   "cell_type": "markdown",
   "id": "f78ceacc",
   "metadata": {
    "papermill": {
     "duration": 0.007956,
     "end_time": "2022-01-16T20:35:09.605876",
     "exception": false,
     "start_time": "2022-01-16T20:35:09.597920",
     "status": "completed"
    },
    "tags": []
   },
   "source": [
    "### Cleaning Prices Columns by removing asterisks and Dollar Sign"
   ]
  },
  {
   "cell_type": "code",
   "execution_count": 11,
   "id": "670ab6d8",
   "metadata": {
    "execution": {
     "iopub.execute_input": "2022-01-16T20:35:09.624504Z",
     "iopub.status.busy": "2022-01-16T20:35:09.623888Z",
     "iopub.status.idle": "2022-01-16T20:35:09.625734Z",
     "shell.execute_reply": "2022-01-16T20:35:09.626000Z"
    },
    "papermill": {
     "duration": 0.012928,
     "end_time": "2022-01-16T20:35:09.626190",
     "exception": false,
     "start_time": "2022-01-16T20:35:09.613262",
     "status": "completed"
    },
    "tags": []
   },
   "outputs": [],
   "source": [
    "pbt_news_DF['Average Gas Price'] = pbt_news_DF['Average Gas Price'].apply(lambda x: x.replace('$','').replace('**',''))\n",
    "\n",
    "pbt_news_DF['Average Oil Price'] = pbt_news_DF['Average Oil Price'].apply(lambda x: x.replace('$','').replace('**',''))"
   ]
  },
  {
   "cell_type": "code",
   "execution_count": 12,
   "id": "b1456a0e",
   "metadata": {
    "execution": {
     "iopub.execute_input": "2022-01-16T20:35:09.645636Z",
     "iopub.status.busy": "2022-01-16T20:35:09.645098Z",
     "iopub.status.idle": "2022-01-16T20:35:09.646686Z",
     "shell.execute_reply": "2022-01-16T20:35:09.646953Z"
    },
    "papermill": {
     "duration": 0.012697,
     "end_time": "2022-01-16T20:35:09.647171",
     "exception": false,
     "start_time": "2022-01-16T20:35:09.634474",
     "status": "completed"
    },
    "tags": []
   },
   "outputs": [],
   "source": [
    "#filtering table to the 'current month' values\n",
    "pbt_news_DF = pbt_news_DF.head(2)"
   ]
  },
  {
   "cell_type": "code",
   "execution_count": 13,
   "id": "6d802530",
   "metadata": {
    "execution": {
     "iopub.execute_input": "2022-01-16T20:35:09.667605Z",
     "iopub.status.busy": "2022-01-16T20:35:09.667215Z",
     "iopub.status.idle": "2022-01-16T20:35:09.668854Z",
     "shell.execute_reply": "2022-01-16T20:35:09.669105Z"
    },
    "papermill": {
     "duration": 0.014458,
     "end_time": "2022-01-16T20:35:09.669232",
     "exception": false,
     "start_time": "2022-01-16T20:35:09.654774",
     "status": "completed"
    },
    "tags": []
   },
   "outputs": [
    {
     "data": {
      "text/html": [
       "<div>\n",
       "<style scoped>\n",
       "    .dataframe tbody tr th:only-of-type {\n",
       "        vertical-align: middle;\n",
       "    }\n",
       "\n",
       "    .dataframe tbody tr th {\n",
       "        vertical-align: top;\n",
       "    }\n",
       "\n",
       "    .dataframe thead th {\n",
       "        text-align: right;\n",
       "    }\n",
       "</style>\n",
       "<table border=\"1\" class=\"dataframe\">\n",
       "  <thead>\n",
       "    <tr style=\"text-align: right;\">\n",
       "      <th></th>\n",
       "      <th>Property</th>\n",
       "      <th>Gross Oil Volume (PBT News)</th>\n",
       "      <th>Net Oil Volume (PBT News)</th>\n",
       "      <th>Average Oil Price</th>\n",
       "      <th>Average Gas Price</th>\n",
       "      <th>Gross Gas Volume (PBT News)</th>\n",
       "      <th>Net Gas Volume (PBT News)</th>\n",
       "    </tr>\n",
       "  </thead>\n",
       "  <tbody>\n",
       "    <tr>\n",
       "      <th>5</th>\n",
       "      <td>Waddell Ranch</td>\n",
       "      <td>90258</td>\n",
       "      <td>67694</td>\n",
       "      <td>70.22</td>\n",
       "      <td>4.21</td>\n",
       "      <td>220120</td>\n",
       "      <td>165090</td>\n",
       "    </tr>\n",
       "    <tr>\n",
       "      <th>6</th>\n",
       "      <td>Texas Royalties</td>\n",
       "      <td>17820</td>\n",
       "      <td>15854</td>\n",
       "      <td>69.06</td>\n",
       "      <td>7.89</td>\n",
       "      <td>9894</td>\n",
       "      <td>8797</td>\n",
       "    </tr>\n",
       "  </tbody>\n",
       "</table>\n",
       "</div>"
      ],
      "text/plain": [
       "          Property  Gross Oil Volume (PBT News)  Net Oil Volume (PBT News)  \\\n",
       "5    Waddell Ranch                        90258                      67694   \n",
       "6  Texas Royalties                        17820                      15854   \n",
       "\n",
       "  Average Oil Price Average Gas Price  Gross Gas Volume (PBT News)  \\\n",
       "5             70.22              4.21                       220120   \n",
       "6             69.06              7.89                         9894   \n",
       "\n",
       "   Net Gas Volume (PBT News)  \n",
       "5                     165090  \n",
       "6                       8797  "
      ]
     },
     "execution_count": 13,
     "metadata": {},
     "output_type": "execute_result"
    }
   ],
   "source": [
    "pbt_news_DF"
   ]
  },
  {
   "cell_type": "code",
   "execution_count": 14,
   "id": "9bcb4f75",
   "metadata": {
    "execution": {
     "iopub.execute_input": "2022-01-16T20:35:09.689095Z",
     "iopub.status.busy": "2022-01-16T20:35:09.688741Z",
     "iopub.status.idle": "2022-01-16T20:35:09.689894Z",
     "shell.execute_reply": "2022-01-16T20:35:09.690179Z"
    },
    "papermill": {
     "duration": 0.01231,
     "end_time": "2022-01-16T20:35:09.690292",
     "exception": false,
     "start_time": "2022-01-16T20:35:09.677982",
     "status": "completed"
    },
    "tags": []
   },
   "outputs": [],
   "source": [
    "date_from_filename = news_file_name.split(',')[1]\\\n",
    "                                    .split('.')[0]\\\n",
    "                                    .strip()\\\n",
    "                                    .replace(' prod', '')"
   ]
  },
  {
   "cell_type": "code",
   "execution_count": 15,
   "id": "b2d00cad",
   "metadata": {
    "execution": {
     "iopub.execute_input": "2022-01-16T20:35:09.709315Z",
     "iopub.status.busy": "2022-01-16T20:35:09.708951Z",
     "iopub.status.idle": "2022-01-16T20:35:09.710270Z",
     "shell.execute_reply": "2022-01-16T20:35:09.710592Z"
    },
    "papermill": {
     "duration": 0.012719,
     "end_time": "2022-01-16T20:35:09.710730",
     "exception": false,
     "start_time": "2022-01-16T20:35:09.698011",
     "status": "completed"
    },
    "tags": []
   },
   "outputs": [],
   "source": [
    "pbt_news_DF.insert(0, 'Date', date_from_filename.title())"
   ]
  },
  {
   "cell_type": "code",
   "execution_count": 16,
   "id": "e38fd321",
   "metadata": {
    "execution": {
     "iopub.execute_input": "2022-01-16T20:35:09.731989Z",
     "iopub.status.busy": "2022-01-16T20:35:09.731610Z",
     "iopub.status.idle": "2022-01-16T20:35:09.733141Z",
     "shell.execute_reply": "2022-01-16T20:35:09.733389Z"
    },
    "papermill": {
     "duration": 0.01469,
     "end_time": "2022-01-16T20:35:09.733507",
     "exception": false,
     "start_time": "2022-01-16T20:35:09.718817",
     "status": "completed"
    },
    "tags": []
   },
   "outputs": [
    {
     "data": {
      "text/html": [
       "<div>\n",
       "<style scoped>\n",
       "    .dataframe tbody tr th:only-of-type {\n",
       "        vertical-align: middle;\n",
       "    }\n",
       "\n",
       "    .dataframe tbody tr th {\n",
       "        vertical-align: top;\n",
       "    }\n",
       "\n",
       "    .dataframe thead th {\n",
       "        text-align: right;\n",
       "    }\n",
       "</style>\n",
       "<table border=\"1\" class=\"dataframe\">\n",
       "  <thead>\n",
       "    <tr style=\"text-align: right;\">\n",
       "      <th></th>\n",
       "      <th>Date</th>\n",
       "      <th>Property</th>\n",
       "      <th>Gross Oil Volume (PBT News)</th>\n",
       "      <th>Net Oil Volume (PBT News)</th>\n",
       "      <th>Average Oil Price</th>\n",
       "      <th>Average Gas Price</th>\n",
       "      <th>Gross Gas Volume (PBT News)</th>\n",
       "      <th>Net Gas Volume (PBT News)</th>\n",
       "    </tr>\n",
       "  </thead>\n",
       "  <tbody>\n",
       "    <tr>\n",
       "      <th>5</th>\n",
       "      <td>Jun 2021</td>\n",
       "      <td>Waddell Ranch</td>\n",
       "      <td>90258</td>\n",
       "      <td>67694</td>\n",
       "      <td>70.22</td>\n",
       "      <td>4.21</td>\n",
       "      <td>220120</td>\n",
       "      <td>165090</td>\n",
       "    </tr>\n",
       "    <tr>\n",
       "      <th>6</th>\n",
       "      <td>Jun 2021</td>\n",
       "      <td>Texas Royalties</td>\n",
       "      <td>17820</td>\n",
       "      <td>15854</td>\n",
       "      <td>69.06</td>\n",
       "      <td>7.89</td>\n",
       "      <td>9894</td>\n",
       "      <td>8797</td>\n",
       "    </tr>\n",
       "  </tbody>\n",
       "</table>\n",
       "</div>"
      ],
      "text/plain": [
       "       Date         Property  Gross Oil Volume (PBT News)  \\\n",
       "5  Jun 2021    Waddell Ranch                        90258   \n",
       "6  Jun 2021  Texas Royalties                        17820   \n",
       "\n",
       "   Net Oil Volume (PBT News) Average Oil Price Average Gas Price  \\\n",
       "5                      67694             70.22              4.21   \n",
       "6                      15854             69.06              7.89   \n",
       "\n",
       "   Gross Gas Volume (PBT News)  Net Gas Volume (PBT News)  \n",
       "5                       220120                     165090  \n",
       "6                         9894                       8797  "
      ]
     },
     "execution_count": 16,
     "metadata": {},
     "output_type": "execute_result"
    }
   ],
   "source": [
    "pbt_news_DF"
   ]
  },
  {
   "cell_type": "markdown",
   "id": "eb3ae53a",
   "metadata": {
    "papermill": {
     "duration": 0.008313,
     "end_time": "2022-01-16T20:35:09.749887",
     "exception": false,
     "start_time": "2022-01-16T20:35:09.741574",
     "status": "completed"
    },
    "tags": []
   },
   "source": [
    "# Write Table to File"
   ]
  },
  {
   "cell_type": "code",
   "execution_count": 17,
   "id": "c9638897",
   "metadata": {
    "execution": {
     "iopub.execute_input": "2022-01-16T20:35:09.768979Z",
     "iopub.status.busy": "2022-01-16T20:35:09.768543Z",
     "iopub.status.idle": "2022-01-16T20:35:09.770020Z",
     "shell.execute_reply": "2022-01-16T20:35:09.770253Z"
    },
    "papermill": {
     "duration": 0.012528,
     "end_time": "2022-01-16T20:35:09.770374",
     "exception": false,
     "start_time": "2022-01-16T20:35:09.757846",
     "status": "completed"
    },
    "tags": []
   },
   "outputs": [
    {
     "data": {
      "text/plain": [
       "'aug 2021 news, jun 2021 prod.csv'"
      ]
     },
     "execution_count": 17,
     "metadata": {},
     "output_type": "execute_result"
    }
   ],
   "source": [
    "to_file_name = news_file_name.split('.')[0] + '.csv'\n",
    "\n",
    "to_file_name"
   ]
  },
  {
   "cell_type": "code",
   "execution_count": 18,
   "id": "6553b868",
   "metadata": {
    "execution": {
     "iopub.execute_input": "2022-01-16T20:35:09.791427Z",
     "iopub.status.busy": "2022-01-16T20:35:09.791049Z",
     "iopub.status.idle": "2022-01-16T20:35:09.793856Z",
     "shell.execute_reply": "2022-01-16T20:35:09.794079Z"
    },
    "papermill": {
     "duration": 0.014418,
     "end_time": "2022-01-16T20:35:09.794203",
     "exception": false,
     "start_time": "2022-01-16T20:35:09.779785",
     "status": "completed"
    },
    "tags": []
   },
   "outputs": [],
   "source": [
    "pbt_news_DF.to_csv(f'{processed_data_folder}/pbt_news_prod/{to_file_name}', index = False)"
   ]
  },
  {
   "cell_type": "code",
   "execution_count": null,
   "id": "7b8340db",
   "metadata": {
    "papermill": {
     "duration": 0.008305,
     "end_time": "2022-01-16T20:35:09.811030",
     "exception": false,
     "start_time": "2022-01-16T20:35:09.802725",
     "status": "completed"
    },
    "tags": []
   },
   "outputs": [],
   "source": []
  }
 ],
 "metadata": {
  "kernelspec": {
   "display_name": "Python 3 (ipykernel)",
   "language": "python",
   "name": "python3"
  },
  "language_info": {
   "codemirror_mode": {
    "name": "ipython",
    "version": 3
   },
   "file_extension": ".py",
   "mimetype": "text/x-python",
   "name": "python",
   "nbconvert_exporter": "python",
   "pygments_lexer": "ipython3",
   "version": "3.9.7"
  },
  "papermill": {
   "default_parameters": {},
   "duration": 4.877013,
   "end_time": "2022-01-16T20:35:10.026613",
   "environment_variables": {},
   "exception": null,
   "input_path": "3. Ingest PBT News Release PDFs.ipynb",
   "output_path": "output_notebooks/pbt_news_runs/aug 2021 news, jun 2021 prod.pdf.ipynb",
   "parameters": {
    "news_file_name": "aug 2021 news, jun 2021 prod.pdf"
   },
   "start_time": "2022-01-16T20:35:05.149600",
   "version": "2.3.3"
  }
 },
 "nbformat": 4,
 "nbformat_minor": 5
}