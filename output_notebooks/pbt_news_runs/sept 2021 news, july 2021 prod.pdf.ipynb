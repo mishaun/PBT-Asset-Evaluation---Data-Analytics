{
 "cells": [
  {
   "cell_type": "markdown",
   "id": "b020d585",
   "metadata": {
    "papermill": {
     "duration": 0.024686,
     "end_time": "2022-01-15T23:48:59.035356",
     "exception": false,
     "start_time": "2022-01-15T23:48:59.010670",
     "status": "completed"
    },
    "tags": []
   },
   "source": [
    "# Ingest PBT News Releases"
   ]
  },
  {
   "cell_type": "code",
   "execution_count": 1,
   "id": "dfeb746d",
   "metadata": {
    "execution": {
     "iopub.execute_input": "2022-01-15T23:48:59.055799Z",
     "iopub.status.busy": "2022-01-15T23:48:59.055297Z",
     "iopub.status.idle": "2022-01-15T23:48:59.799350Z",
     "shell.execute_reply": "2022-01-15T23:48:59.799611Z"
    },
    "papermill": {
     "duration": 0.756468,
     "end_time": "2022-01-15T23:48:59.799782",
     "exception": false,
     "start_time": "2022-01-15T23:48:59.043314",
     "status": "completed"
    },
    "tags": []
   },
   "outputs": [],
   "source": [
    "from tabula import read_pdf"
   ]
  },
  {
   "cell_type": "code",
   "execution_count": 2,
   "id": "79c56f99",
   "metadata": {
    "execution": {
     "iopub.execute_input": "2022-01-15T23:48:59.815628Z",
     "iopub.status.busy": "2022-01-15T23:48:59.815250Z",
     "iopub.status.idle": "2022-01-15T23:48:59.840522Z",
     "shell.execute_reply": "2022-01-15T23:48:59.840234Z"
    },
    "papermill": {
     "duration": 0.033903,
     "end_time": "2022-01-15T23:48:59.840646",
     "exception": false,
     "start_time": "2022-01-15T23:48:59.806743",
     "status": "completed"
    },
    "tags": []
   },
   "outputs": [],
   "source": [
    "%run configs.ipynb"
   ]
  },
  {
   "cell_type": "code",
   "execution_count": 3,
   "id": "0339b1fb",
   "metadata": {
    "execution": {
     "iopub.execute_input": "2022-01-15T23:48:59.855138Z",
     "iopub.status.busy": "2022-01-15T23:48:59.854771Z",
     "iopub.status.idle": "2022-01-15T23:48:59.855896Z",
     "shell.execute_reply": "2022-01-15T23:48:59.856135Z"
    },
    "papermill": {
     "duration": 0.009268,
     "end_time": "2022-01-15T23:48:59.856248",
     "exception": false,
     "start_time": "2022-01-15T23:48:59.846980",
     "status": "completed"
    },
    "tags": [
     "parameters"
    ]
   },
   "outputs": [],
   "source": [
    "news_file_name = 'dec 2021 news, oct 2021 prod.pdf'"
   ]
  },
  {
   "cell_type": "code",
   "execution_count": 4,
   "id": "384b988e",
   "metadata": {
    "execution": {
     "iopub.execute_input": "2022-01-15T23:48:59.870407Z",
     "iopub.status.busy": "2022-01-15T23:48:59.870022Z",
     "iopub.status.idle": "2022-01-15T23:48:59.871381Z",
     "shell.execute_reply": "2022-01-15T23:48:59.871621Z"
    },
    "papermill": {
     "duration": 0.009278,
     "end_time": "2022-01-15T23:48:59.871735",
     "exception": false,
     "start_time": "2022-01-15T23:48:59.862457",
     "status": "completed"
    },
    "tags": [
     "injected-parameters"
    ]
   },
   "outputs": [],
   "source": [
    "# Parameters\n",
    "news_file_name = \"sept 2021 news, july 2021 prod.pdf\"\n"
   ]
  },
  {
   "cell_type": "code",
   "execution_count": 5,
   "id": "69d15a49",
   "metadata": {
    "execution": {
     "iopub.execute_input": "2022-01-15T23:48:59.886213Z",
     "iopub.status.busy": "2022-01-15T23:48:59.885812Z",
     "iopub.status.idle": "2022-01-15T23:49:02.515815Z",
     "shell.execute_reply": "2022-01-15T23:49:02.516200Z"
    },
    "papermill": {
     "duration": 2.638378,
     "end_time": "2022-01-15T23:49:02.516334",
     "exception": false,
     "start_time": "2022-01-15T23:48:59.877956",
     "status": "completed"
    },
    "tags": []
   },
   "outputs": [
    {
     "name": "stderr",
     "output_type": "stream",
     "text": [
      "'pages' argument isn't specified.Will extract only from page 1 by default.\n"
     ]
    },
    {
     "data": {
      "text/html": [
       "<div>\n",
       "<style scoped>\n",
       "    .dataframe tbody tr th:only-of-type {\n",
       "        vertical-align: middle;\n",
       "    }\n",
       "\n",
       "    .dataframe tbody tr th {\n",
       "        vertical-align: top;\n",
       "    }\n",
       "\n",
       "    .dataframe thead th {\n",
       "        text-align: right;\n",
       "    }\n",
       "</style>\n",
       "<table border=\"1\" class=\"dataframe\">\n",
       "  <thead>\n",
       "    <tr style=\"text-align: right;\">\n",
       "      <th></th>\n",
       "      <th>Unnamed: 0</th>\n",
       "      <th>Unnamed: 1</th>\n",
       "      <th>Unnamed: 2</th>\n",
       "      <th>Unnamed: 3</th>\n",
       "      <th>Unnamed: 4</th>\n",
       "    </tr>\n",
       "  </thead>\n",
       "  <tbody>\n",
       "    <tr>\n",
       "      <th>0</th>\n",
       "      <td>NaN</td>\n",
       "      <td>Underlying Properties</td>\n",
       "      <td>Net to Trust Sales</td>\n",
       "      <td>NaN</td>\n",
       "      <td>NaN</td>\n",
       "    </tr>\n",
       "    <tr>\n",
       "      <th>1</th>\n",
       "      <td>NaN</td>\n",
       "      <td>Volumes</td>\n",
       "      <td>Volumes</td>\n",
       "      <td>Average</td>\n",
       "      <td>Price</td>\n",
       "    </tr>\n",
       "    <tr>\n",
       "      <th>2</th>\n",
       "      <td>NaN</td>\n",
       "      <td>Oil  Gas</td>\n",
       "      <td>Oil  Gas</td>\n",
       "      <td>Oil</td>\n",
       "      <td>Gas</td>\n",
       "    </tr>\n",
       "    <tr>\n",
       "      <th>3</th>\n",
       "      <td>NaN</td>\n",
       "      <td>(bbls) (Mcf)</td>\n",
       "      <td>(bbls) (Mcf)</td>\n",
       "      <td>(per bbl)</td>\n",
       "      <td>(per Mcf)</td>\n",
       "    </tr>\n",
       "    <tr>\n",
       "      <th>4</th>\n",
       "      <td>Current Month</td>\n",
       "      <td>NaN</td>\n",
       "      <td>NaN</td>\n",
       "      <td>NaN</td>\n",
       "      <td>NaN</td>\n",
       "    </tr>\n",
       "    <tr>\n",
       "      <th>5</th>\n",
       "      <td>Waddell Ranch</td>\n",
       "      <td>102,735 249,359</td>\n",
       "      <td>77,051 187,019*</td>\n",
       "      <td>$71.32</td>\n",
       "      <td>$3.45**</td>\n",
       "    </tr>\n",
       "    <tr>\n",
       "      <th>6</th>\n",
       "      <td>Texas Royalties</td>\n",
       "      <td>17,690 11,870</td>\n",
       "      <td>15,772 10,570*</td>\n",
       "      <td>$71.11</td>\n",
       "      <td>$8.09**</td>\n",
       "    </tr>\n",
       "    <tr>\n",
       "      <th>7</th>\n",
       "      <td>NaN</td>\n",
       "      <td>NaN</td>\n",
       "      <td>NaN</td>\n",
       "      <td>NaN</td>\n",
       "      <td>NaN</td>\n",
       "    </tr>\n",
       "    <tr>\n",
       "      <th>8</th>\n",
       "      <td>Prior Month</td>\n",
       "      <td>NaN</td>\n",
       "      <td>NaN</td>\n",
       "      <td>NaN</td>\n",
       "      <td>NaN</td>\n",
       "    </tr>\n",
       "    <tr>\n",
       "      <th>9</th>\n",
       "      <td>Waddell Ranch</td>\n",
       "      <td>90,258 220,120</td>\n",
       "      <td>67,694 165,090*</td>\n",
       "      <td>$70.22</td>\n",
       "      <td>$4.21**</td>\n",
       "    </tr>\n",
       "    <tr>\n",
       "      <th>10</th>\n",
       "      <td>Texas Royalties</td>\n",
       "      <td>17,820 9,894</td>\n",
       "      <td>15,854 8,797*</td>\n",
       "      <td>$69.06</td>\n",
       "      <td>$7.89**</td>\n",
       "    </tr>\n",
       "  </tbody>\n",
       "</table>\n",
       "</div>"
      ],
      "text/plain": [
       "         Unnamed: 0             Unnamed: 1          Unnamed: 2 Unnamed: 3  \\\n",
       "0               NaN  Underlying Properties  Net to Trust Sales        NaN   \n",
       "1               NaN                Volumes             Volumes    Average   \n",
       "2               NaN               Oil  Gas            Oil  Gas        Oil   \n",
       "3               NaN           (bbls) (Mcf)        (bbls) (Mcf)  (per bbl)   \n",
       "4     Current Month                    NaN                 NaN        NaN   \n",
       "5     Waddell Ranch        102,735 249,359     77,051 187,019*     $71.32   \n",
       "6   Texas Royalties          17,690 11,870      15,772 10,570*     $71.11   \n",
       "7               NaN                    NaN                 NaN        NaN   \n",
       "8       Prior Month                    NaN                 NaN        NaN   \n",
       "9     Waddell Ranch         90,258 220,120     67,694 165,090*     $70.22   \n",
       "10  Texas Royalties           17,820 9,894       15,854 8,797*     $69.06   \n",
       "\n",
       "   Unnamed: 4  \n",
       "0         NaN  \n",
       "1       Price  \n",
       "2         Gas  \n",
       "3   (per Mcf)  \n",
       "4         NaN  \n",
       "5     $3.45**  \n",
       "6     $8.09**  \n",
       "7         NaN  \n",
       "8         NaN  \n",
       "9     $4.21**  \n",
       "10    $7.89**  "
      ]
     },
     "execution_count": 5,
     "metadata": {},
     "output_type": "execute_result"
    }
   ],
   "source": [
    "pbt_news_DF = read_pdf(f'{raw_data_folder}/pbt_news/2021/{news_file_name}')[0]\n",
    "\n",
    "pbt_news_DF"
   ]
  },
  {
   "cell_type": "code",
   "execution_count": 6,
   "id": "97aa3b27",
   "metadata": {
    "execution": {
     "iopub.execute_input": "2022-01-15T23:49:02.536081Z",
     "iopub.status.busy": "2022-01-15T23:49:02.535529Z",
     "iopub.status.idle": "2022-01-15T23:49:02.537016Z",
     "shell.execute_reply": "2022-01-15T23:49:02.537468Z"
    },
    "papermill": {
     "duration": 0.012949,
     "end_time": "2022-01-15T23:49:02.537605",
     "exception": false,
     "start_time": "2022-01-15T23:49:02.524656",
     "status": "completed"
    },
    "tags": []
   },
   "outputs": [],
   "source": [
    "cols_pdf = 'Property', 'Gross Oil Volume (PBT News)', 'Net Oil Volume (PBT News)', 'Average Oil Price', 'Average Gas Price'\n",
    "pbt_news_DF.columns = cols_pdf"
   ]
  },
  {
   "cell_type": "code",
   "execution_count": 7,
   "id": "1ae3c239",
   "metadata": {
    "execution": {
     "iopub.execute_input": "2022-01-15T23:49:02.557955Z",
     "iopub.status.busy": "2022-01-15T23:49:02.557568Z",
     "iopub.status.idle": "2022-01-15T23:49:02.559166Z",
     "shell.execute_reply": "2022-01-15T23:49:02.559402Z"
    },
    "papermill": {
     "duration": 0.014871,
     "end_time": "2022-01-15T23:49:02.559520",
     "exception": false,
     "start_time": "2022-01-15T23:49:02.544649",
     "status": "completed"
    },
    "tags": []
   },
   "outputs": [
    {
     "data": {
      "text/html": [
       "<div>\n",
       "<style scoped>\n",
       "    .dataframe tbody tr th:only-of-type {\n",
       "        vertical-align: middle;\n",
       "    }\n",
       "\n",
       "    .dataframe tbody tr th {\n",
       "        vertical-align: top;\n",
       "    }\n",
       "\n",
       "    .dataframe thead th {\n",
       "        text-align: right;\n",
       "    }\n",
       "</style>\n",
       "<table border=\"1\" class=\"dataframe\">\n",
       "  <thead>\n",
       "    <tr style=\"text-align: right;\">\n",
       "      <th></th>\n",
       "      <th>Property</th>\n",
       "      <th>Gross Oil Volume (PBT News)</th>\n",
       "      <th>Net Oil Volume (PBT News)</th>\n",
       "      <th>Average Oil Price</th>\n",
       "      <th>Average Gas Price</th>\n",
       "    </tr>\n",
       "  </thead>\n",
       "  <tbody>\n",
       "    <tr>\n",
       "      <th>5</th>\n",
       "      <td>Waddell Ranch</td>\n",
       "      <td>102,735 249,359</td>\n",
       "      <td>77,051 187,019*</td>\n",
       "      <td>$71.32</td>\n",
       "      <td>$3.45**</td>\n",
       "    </tr>\n",
       "    <tr>\n",
       "      <th>6</th>\n",
       "      <td>Texas Royalties</td>\n",
       "      <td>17,690 11,870</td>\n",
       "      <td>15,772 10,570*</td>\n",
       "      <td>$71.11</td>\n",
       "      <td>$8.09**</td>\n",
       "    </tr>\n",
       "    <tr>\n",
       "      <th>9</th>\n",
       "      <td>Waddell Ranch</td>\n",
       "      <td>90,258 220,120</td>\n",
       "      <td>67,694 165,090*</td>\n",
       "      <td>$70.22</td>\n",
       "      <td>$4.21**</td>\n",
       "    </tr>\n",
       "    <tr>\n",
       "      <th>10</th>\n",
       "      <td>Texas Royalties</td>\n",
       "      <td>17,820 9,894</td>\n",
       "      <td>15,854 8,797*</td>\n",
       "      <td>$69.06</td>\n",
       "      <td>$7.89**</td>\n",
       "    </tr>\n",
       "  </tbody>\n",
       "</table>\n",
       "</div>"
      ],
      "text/plain": [
       "           Property Gross Oil Volume (PBT News) Net Oil Volume (PBT News)  \\\n",
       "5     Waddell Ranch             102,735 249,359           77,051 187,019*   \n",
       "6   Texas Royalties               17,690 11,870            15,772 10,570*   \n",
       "9     Waddell Ranch              90,258 220,120           67,694 165,090*   \n",
       "10  Texas Royalties                17,820 9,894             15,854 8,797*   \n",
       "\n",
       "   Average Oil Price Average Gas Price  \n",
       "5             $71.32           $3.45**  \n",
       "6             $71.11           $8.09**  \n",
       "9             $70.22           $4.21**  \n",
       "10            $69.06           $7.89**  "
      ]
     },
     "execution_count": 7,
     "metadata": {},
     "output_type": "execute_result"
    }
   ],
   "source": [
    "pbt_news_DF.dropna(inplace = True)\n",
    "pbt_news_DF"
   ]
  },
  {
   "cell_type": "markdown",
   "id": "936c3277",
   "metadata": {
    "papermill": {
     "duration": 0.006789,
     "end_time": "2022-01-15T23:49:02.573331",
     "exception": false,
     "start_time": "2022-01-15T23:49:02.566542",
     "status": "completed"
    },
    "tags": []
   },
   "source": [
    "### Splitting Net Oil Column to Get Gas Volume\n",
    "### Applying Text Cleaning to remove commas"
   ]
  },
  {
   "cell_type": "code",
   "execution_count": 8,
   "id": "9244fbca",
   "metadata": {
    "execution": {
     "iopub.execute_input": "2022-01-15T23:49:02.590771Z",
     "iopub.status.busy": "2022-01-15T23:49:02.590404Z",
     "iopub.status.idle": "2022-01-15T23:49:02.591782Z",
     "shell.execute_reply": "2022-01-15T23:49:02.592030Z"
    },
    "papermill": {
     "duration": 0.011983,
     "end_time": "2022-01-15T23:49:02.592154",
     "exception": false,
     "start_time": "2022-01-15T23:49:02.580171",
     "status": "completed"
    },
    "tags": []
   },
   "outputs": [],
   "source": [
    "pbt_news_DF['Gross Gas Volume (PBT News)'] = pbt_news_DF['Gross Oil Volume (PBT News)'].apply(lambda x: int(x.split(' ')[1].replace(',', '')))\n",
    "\n",
    "pbt_news_DF['Gross Oil Volume (PBT News)'] = pbt_news_DF['Gross Oil Volume (PBT News)'].apply(lambda x: int(x.split(' ')[0].replace(',', '')))"
   ]
  },
  {
   "cell_type": "code",
   "execution_count": 9,
   "id": "8ce06c49",
   "metadata": {
    "execution": {
     "iopub.execute_input": "2022-01-15T23:49:02.610719Z",
     "iopub.status.busy": "2022-01-15T23:49:02.610323Z",
     "iopub.status.idle": "2022-01-15T23:49:02.612047Z",
     "shell.execute_reply": "2022-01-15T23:49:02.612273Z"
    },
    "papermill": {
     "duration": 0.013161,
     "end_time": "2022-01-15T23:49:02.612402",
     "exception": false,
     "start_time": "2022-01-15T23:49:02.599241",
     "status": "completed"
    },
    "tags": []
   },
   "outputs": [
    {
     "data": {
      "text/html": [
       "<div>\n",
       "<style scoped>\n",
       "    .dataframe tbody tr th:only-of-type {\n",
       "        vertical-align: middle;\n",
       "    }\n",
       "\n",
       "    .dataframe tbody tr th {\n",
       "        vertical-align: top;\n",
       "    }\n",
       "\n",
       "    .dataframe thead th {\n",
       "        text-align: right;\n",
       "    }\n",
       "</style>\n",
       "<table border=\"1\" class=\"dataframe\">\n",
       "  <thead>\n",
       "    <tr style=\"text-align: right;\">\n",
       "      <th></th>\n",
       "      <th>Property</th>\n",
       "      <th>Gross Oil Volume (PBT News)</th>\n",
       "      <th>Net Oil Volume (PBT News)</th>\n",
       "      <th>Average Oil Price</th>\n",
       "      <th>Average Gas Price</th>\n",
       "      <th>Gross Gas Volume (PBT News)</th>\n",
       "    </tr>\n",
       "  </thead>\n",
       "  <tbody>\n",
       "    <tr>\n",
       "      <th>5</th>\n",
       "      <td>Waddell Ranch</td>\n",
       "      <td>102735</td>\n",
       "      <td>77,051 187,019*</td>\n",
       "      <td>$71.32</td>\n",
       "      <td>$3.45**</td>\n",
       "      <td>249359</td>\n",
       "    </tr>\n",
       "    <tr>\n",
       "      <th>6</th>\n",
       "      <td>Texas Royalties</td>\n",
       "      <td>17690</td>\n",
       "      <td>15,772 10,570*</td>\n",
       "      <td>$71.11</td>\n",
       "      <td>$8.09**</td>\n",
       "      <td>11870</td>\n",
       "    </tr>\n",
       "    <tr>\n",
       "      <th>9</th>\n",
       "      <td>Waddell Ranch</td>\n",
       "      <td>90258</td>\n",
       "      <td>67,694 165,090*</td>\n",
       "      <td>$70.22</td>\n",
       "      <td>$4.21**</td>\n",
       "      <td>220120</td>\n",
       "    </tr>\n",
       "    <tr>\n",
       "      <th>10</th>\n",
       "      <td>Texas Royalties</td>\n",
       "      <td>17820</td>\n",
       "      <td>15,854 8,797*</td>\n",
       "      <td>$69.06</td>\n",
       "      <td>$7.89**</td>\n",
       "      <td>9894</td>\n",
       "    </tr>\n",
       "  </tbody>\n",
       "</table>\n",
       "</div>"
      ],
      "text/plain": [
       "           Property  Gross Oil Volume (PBT News) Net Oil Volume (PBT News)  \\\n",
       "5     Waddell Ranch                       102735           77,051 187,019*   \n",
       "6   Texas Royalties                        17690            15,772 10,570*   \n",
       "9     Waddell Ranch                        90258           67,694 165,090*   \n",
       "10  Texas Royalties                        17820             15,854 8,797*   \n",
       "\n",
       "   Average Oil Price Average Gas Price  Gross Gas Volume (PBT News)  \n",
       "5             $71.32           $3.45**                       249359  \n",
       "6             $71.11           $8.09**                        11870  \n",
       "9             $70.22           $4.21**                       220120  \n",
       "10            $69.06           $7.89**                         9894  "
      ]
     },
     "execution_count": 9,
     "metadata": {},
     "output_type": "execute_result"
    }
   ],
   "source": [
    "pbt_news_DF"
   ]
  },
  {
   "cell_type": "markdown",
   "id": "bd4fafe8",
   "metadata": {
    "papermill": {
     "duration": 0.007334,
     "end_time": "2022-01-15T23:49:02.626988",
     "exception": false,
     "start_time": "2022-01-15T23:49:02.619654",
     "status": "completed"
    },
    "tags": []
   },
   "source": [
    "### Splitting Net Oil Column to Get Gas Volume\n",
    "### Applying Text Cleaning to remove commas and asterisks"
   ]
  },
  {
   "cell_type": "code",
   "execution_count": 10,
   "id": "71a54166",
   "metadata": {
    "execution": {
     "iopub.execute_input": "2022-01-15T23:49:02.646953Z",
     "iopub.status.busy": "2022-01-15T23:49:02.646576Z",
     "iopub.status.idle": "2022-01-15T23:49:02.647972Z",
     "shell.execute_reply": "2022-01-15T23:49:02.648242Z"
    },
    "papermill": {
     "duration": 0.012883,
     "end_time": "2022-01-15T23:49:02.648360",
     "exception": false,
     "start_time": "2022-01-15T23:49:02.635477",
     "status": "completed"
    },
    "tags": []
   },
   "outputs": [],
   "source": [
    "pbt_news_DF['Net Gas Volume (PBT News)'] = pbt_news_DF['Net Oil Volume (PBT News)'].apply(lambda x: int(x.split(' ')[1]\\\n",
    "                                                                                  .replace(',', '')\\\n",
    "                                                                                 .replace('*','')))\n",
    "\n",
    "pbt_news_DF['Net Oil Volume (PBT News)'] = pbt_news_DF['Net Oil Volume (PBT News)'].apply(lambda x: int(x.split(' ')[0].replace(',', '')))"
   ]
  },
  {
   "cell_type": "markdown",
   "id": "aaccf39d",
   "metadata": {
    "papermill": {
     "duration": 0.007102,
     "end_time": "2022-01-15T23:49:02.662738",
     "exception": false,
     "start_time": "2022-01-15T23:49:02.655636",
     "status": "completed"
    },
    "tags": []
   },
   "source": [
    "### Cleaning Prices Columns by removing asterisks and Dollar Sign"
   ]
  },
  {
   "cell_type": "code",
   "execution_count": 11,
   "id": "e2b7313b",
   "metadata": {
    "execution": {
     "iopub.execute_input": "2022-01-15T23:49:02.679948Z",
     "iopub.status.busy": "2022-01-15T23:49:02.679557Z",
     "iopub.status.idle": "2022-01-15T23:49:02.680628Z",
     "shell.execute_reply": "2022-01-15T23:49:02.680936Z"
    },
    "papermill": {
     "duration": 0.01121,
     "end_time": "2022-01-15T23:49:02.681067",
     "exception": false,
     "start_time": "2022-01-15T23:49:02.669857",
     "status": "completed"
    },
    "tags": []
   },
   "outputs": [],
   "source": [
    "pbt_news_DF['Average Gas Price'] = pbt_news_DF['Average Gas Price'].apply(lambda x: x.replace('$','').replace('**',''))\n",
    "\n",
    "pbt_news_DF['Average Oil Price'] = pbt_news_DF['Average Oil Price'].apply(lambda x: x.replace('$','').replace('**',''))"
   ]
  },
  {
   "cell_type": "code",
   "execution_count": 12,
   "id": "db418091",
   "metadata": {
    "execution": {
     "iopub.execute_input": "2022-01-15T23:49:02.698024Z",
     "iopub.status.busy": "2022-01-15T23:49:02.697491Z",
     "iopub.status.idle": "2022-01-15T23:49:02.698998Z",
     "shell.execute_reply": "2022-01-15T23:49:02.699367Z"
    },
    "papermill": {
     "duration": 0.011101,
     "end_time": "2022-01-15T23:49:02.699521",
     "exception": false,
     "start_time": "2022-01-15T23:49:02.688420",
     "status": "completed"
    },
    "tags": []
   },
   "outputs": [],
   "source": [
    "#filtering table to the 'current month' values\n",
    "pbt_news_DF = pbt_news_DF.head(2)"
   ]
  },
  {
   "cell_type": "code",
   "execution_count": 13,
   "id": "f7e14200",
   "metadata": {
    "execution": {
     "iopub.execute_input": "2022-01-15T23:49:02.719724Z",
     "iopub.status.busy": "2022-01-15T23:49:02.716526Z",
     "iopub.status.idle": "2022-01-15T23:49:02.721301Z",
     "shell.execute_reply": "2022-01-15T23:49:02.721530Z"
    },
    "papermill": {
     "duration": 0.014391,
     "end_time": "2022-01-15T23:49:02.721653",
     "exception": false,
     "start_time": "2022-01-15T23:49:02.707262",
     "status": "completed"
    },
    "tags": []
   },
   "outputs": [
    {
     "data": {
      "text/html": [
       "<div>\n",
       "<style scoped>\n",
       "    .dataframe tbody tr th:only-of-type {\n",
       "        vertical-align: middle;\n",
       "    }\n",
       "\n",
       "    .dataframe tbody tr th {\n",
       "        vertical-align: top;\n",
       "    }\n",
       "\n",
       "    .dataframe thead th {\n",
       "        text-align: right;\n",
       "    }\n",
       "</style>\n",
       "<table border=\"1\" class=\"dataframe\">\n",
       "  <thead>\n",
       "    <tr style=\"text-align: right;\">\n",
       "      <th></th>\n",
       "      <th>Property</th>\n",
       "      <th>Gross Oil Volume (PBT News)</th>\n",
       "      <th>Net Oil Volume (PBT News)</th>\n",
       "      <th>Average Oil Price</th>\n",
       "      <th>Average Gas Price</th>\n",
       "      <th>Gross Gas Volume (PBT News)</th>\n",
       "      <th>Net Gas Volume (PBT News)</th>\n",
       "    </tr>\n",
       "  </thead>\n",
       "  <tbody>\n",
       "    <tr>\n",
       "      <th>5</th>\n",
       "      <td>Waddell Ranch</td>\n",
       "      <td>102735</td>\n",
       "      <td>77051</td>\n",
       "      <td>71.32</td>\n",
       "      <td>3.45</td>\n",
       "      <td>249359</td>\n",
       "      <td>187019</td>\n",
       "    </tr>\n",
       "    <tr>\n",
       "      <th>6</th>\n",
       "      <td>Texas Royalties</td>\n",
       "      <td>17690</td>\n",
       "      <td>15772</td>\n",
       "      <td>71.11</td>\n",
       "      <td>8.09</td>\n",
       "      <td>11870</td>\n",
       "      <td>10570</td>\n",
       "    </tr>\n",
       "  </tbody>\n",
       "</table>\n",
       "</div>"
      ],
      "text/plain": [
       "          Property  Gross Oil Volume (PBT News)  Net Oil Volume (PBT News)  \\\n",
       "5    Waddell Ranch                       102735                      77051   \n",
       "6  Texas Royalties                        17690                      15772   \n",
       "\n",
       "  Average Oil Price Average Gas Price  Gross Gas Volume (PBT News)  \\\n",
       "5             71.32              3.45                       249359   \n",
       "6             71.11              8.09                        11870   \n",
       "\n",
       "   Net Gas Volume (PBT News)  \n",
       "5                     187019  \n",
       "6                      10570  "
      ]
     },
     "execution_count": 13,
     "metadata": {},
     "output_type": "execute_result"
    }
   ],
   "source": [
    "pbt_news_DF"
   ]
  },
  {
   "cell_type": "code",
   "execution_count": 14,
   "id": "3418a45d",
   "metadata": {
    "execution": {
     "iopub.execute_input": "2022-01-15T23:49:02.739427Z",
     "iopub.status.busy": "2022-01-15T23:49:02.739054Z",
     "iopub.status.idle": "2022-01-15T23:49:02.740350Z",
     "shell.execute_reply": "2022-01-15T23:49:02.740604Z"
    },
    "papermill": {
     "duration": 0.011054,
     "end_time": "2022-01-15T23:49:02.740733",
     "exception": false,
     "start_time": "2022-01-15T23:49:02.729679",
     "status": "completed"
    },
    "tags": []
   },
   "outputs": [],
   "source": [
    "date_from_filename = news_file_name.split(',')[1]\\\n",
    "                                    .split('.')[0]\\\n",
    "                                    .strip()\\\n",
    "                                    .replace(' prod', '')"
   ]
  },
  {
   "cell_type": "code",
   "execution_count": 15,
   "id": "7f62808a",
   "metadata": {
    "execution": {
     "iopub.execute_input": "2022-01-15T23:49:02.760325Z",
     "iopub.status.busy": "2022-01-15T23:49:02.759875Z",
     "iopub.status.idle": "2022-01-15T23:49:02.761544Z",
     "shell.execute_reply": "2022-01-15T23:49:02.761858Z"
    },
    "papermill": {
     "duration": 0.012501,
     "end_time": "2022-01-15T23:49:02.761979",
     "exception": false,
     "start_time": "2022-01-15T23:49:02.749478",
     "status": "completed"
    },
    "tags": []
   },
   "outputs": [],
   "source": [
    "pbt_news_DF.insert(0, 'Date', date_from_filename.title())"
   ]
  },
  {
   "cell_type": "code",
   "execution_count": 16,
   "id": "30dfab25",
   "metadata": {
    "execution": {
     "iopub.execute_input": "2022-01-15T23:49:02.782304Z",
     "iopub.status.busy": "2022-01-15T23:49:02.781919Z",
     "iopub.status.idle": "2022-01-15T23:49:02.783572Z",
     "shell.execute_reply": "2022-01-15T23:49:02.783808Z"
    },
    "papermill": {
     "duration": 0.014088,
     "end_time": "2022-01-15T23:49:02.783922",
     "exception": false,
     "start_time": "2022-01-15T23:49:02.769834",
     "status": "completed"
    },
    "tags": []
   },
   "outputs": [
    {
     "data": {
      "text/html": [
       "<div>\n",
       "<style scoped>\n",
       "    .dataframe tbody tr th:only-of-type {\n",
       "        vertical-align: middle;\n",
       "    }\n",
       "\n",
       "    .dataframe tbody tr th {\n",
       "        vertical-align: top;\n",
       "    }\n",
       "\n",
       "    .dataframe thead th {\n",
       "        text-align: right;\n",
       "    }\n",
       "</style>\n",
       "<table border=\"1\" class=\"dataframe\">\n",
       "  <thead>\n",
       "    <tr style=\"text-align: right;\">\n",
       "      <th></th>\n",
       "      <th>Date</th>\n",
       "      <th>Property</th>\n",
       "      <th>Gross Oil Volume (PBT News)</th>\n",
       "      <th>Net Oil Volume (PBT News)</th>\n",
       "      <th>Average Oil Price</th>\n",
       "      <th>Average Gas Price</th>\n",
       "      <th>Gross Gas Volume (PBT News)</th>\n",
       "      <th>Net Gas Volume (PBT News)</th>\n",
       "    </tr>\n",
       "  </thead>\n",
       "  <tbody>\n",
       "    <tr>\n",
       "      <th>5</th>\n",
       "      <td>July 2021</td>\n",
       "      <td>Waddell Ranch</td>\n",
       "      <td>102735</td>\n",
       "      <td>77051</td>\n",
       "      <td>71.32</td>\n",
       "      <td>3.45</td>\n",
       "      <td>249359</td>\n",
       "      <td>187019</td>\n",
       "    </tr>\n",
       "    <tr>\n",
       "      <th>6</th>\n",
       "      <td>July 2021</td>\n",
       "      <td>Texas Royalties</td>\n",
       "      <td>17690</td>\n",
       "      <td>15772</td>\n",
       "      <td>71.11</td>\n",
       "      <td>8.09</td>\n",
       "      <td>11870</td>\n",
       "      <td>10570</td>\n",
       "    </tr>\n",
       "  </tbody>\n",
       "</table>\n",
       "</div>"
      ],
      "text/plain": [
       "        Date         Property  Gross Oil Volume (PBT News)  \\\n",
       "5  July 2021    Waddell Ranch                       102735   \n",
       "6  July 2021  Texas Royalties                        17690   \n",
       "\n",
       "   Net Oil Volume (PBT News) Average Oil Price Average Gas Price  \\\n",
       "5                      77051             71.32              3.45   \n",
       "6                      15772             71.11              8.09   \n",
       "\n",
       "   Gross Gas Volume (PBT News)  Net Gas Volume (PBT News)  \n",
       "5                       249359                     187019  \n",
       "6                        11870                      10570  "
      ]
     },
     "execution_count": 16,
     "metadata": {},
     "output_type": "execute_result"
    }
   ],
   "source": [
    "pbt_news_DF"
   ]
  },
  {
   "cell_type": "markdown",
   "id": "84a27d62",
   "metadata": {
    "papermill": {
     "duration": 0.007762,
     "end_time": "2022-01-15T23:49:02.799690",
     "exception": false,
     "start_time": "2022-01-15T23:49:02.791928",
     "status": "completed"
    },
    "tags": []
   },
   "source": [
    "# Write Table to File"
   ]
  },
  {
   "cell_type": "code",
   "execution_count": 17,
   "id": "0d50b451",
   "metadata": {
    "execution": {
     "iopub.execute_input": "2022-01-15T23:49:02.817786Z",
     "iopub.status.busy": "2022-01-15T23:49:02.817363Z",
     "iopub.status.idle": "2022-01-15T23:49:02.818776Z",
     "shell.execute_reply": "2022-01-15T23:49:02.819009Z"
    },
    "papermill": {
     "duration": 0.011634,
     "end_time": "2022-01-15T23:49:02.819120",
     "exception": false,
     "start_time": "2022-01-15T23:49:02.807486",
     "status": "completed"
    },
    "tags": []
   },
   "outputs": [
    {
     "data": {
      "text/plain": [
       "'sept 2021 news, july 2021 prod.csv'"
      ]
     },
     "execution_count": 17,
     "metadata": {},
     "output_type": "execute_result"
    }
   ],
   "source": [
    "to_file_name = news_file_name.split('.')[0] + '.csv'\n",
    "\n",
    "to_file_name"
   ]
  },
  {
   "cell_type": "code",
   "execution_count": 18,
   "id": "b51450e5",
   "metadata": {
    "execution": {
     "iopub.execute_input": "2022-01-15T23:49:02.837331Z",
     "iopub.status.busy": "2022-01-15T23:49:02.836967Z",
     "iopub.status.idle": "2022-01-15T23:49:02.839472Z",
     "shell.execute_reply": "2022-01-15T23:49:02.839752Z"
    },
    "papermill": {
     "duration": 0.012637,
     "end_time": "2022-01-15T23:49:02.839863",
     "exception": false,
     "start_time": "2022-01-15T23:49:02.827226",
     "status": "completed"
    },
    "tags": []
   },
   "outputs": [],
   "source": [
    "pbt_news_DF.to_csv(f'{processed_data_folder}/pbt_news_prod/{to_file_name}', index = False)"
   ]
  },
  {
   "cell_type": "code",
   "execution_count": null,
   "id": "dfa563b5",
   "metadata": {
    "papermill": {
     "duration": 0.007976,
     "end_time": "2022-01-15T23:49:02.855999",
     "exception": false,
     "start_time": "2022-01-15T23:49:02.848023",
     "status": "completed"
    },
    "tags": []
   },
   "outputs": [],
   "source": []
  }
 ],
 "metadata": {
  "celltoolbar": "Tags",
  "kernelspec": {
   "display_name": "Python 3 (ipykernel)",
   "language": "python",
   "name": "python3"
  },
  "language_info": {
   "codemirror_mode": {
    "name": "ipython",
    "version": 3
   },
   "file_extension": ".py",
   "mimetype": "text/x-python",
   "name": "python",
   "nbconvert_exporter": "python",
   "pygments_lexer": "ipython3",
   "version": "3.9.7"
  },
  "papermill": {
   "default_parameters": {},
   "duration": 4.974914,
   "end_time": "2022-01-15T23:49:03.070520",
   "environment_variables": {},
   "exception": null,
   "input_path": "3. Ingest PBT News Release PDFs.ipynb",
   "output_path": "output_notebooks/pbt_news_runs/sept 2021 news, july 2021 prod.pdf.ipynb",
   "parameters": {
    "news_file_name": "sept 2021 news, july 2021 prod.pdf"
   },
   "start_time": "2022-01-15T23:48:58.095606",
   "version": "2.3.3"
  }
 },
 "nbformat": 4,
 "nbformat_minor": 5
}