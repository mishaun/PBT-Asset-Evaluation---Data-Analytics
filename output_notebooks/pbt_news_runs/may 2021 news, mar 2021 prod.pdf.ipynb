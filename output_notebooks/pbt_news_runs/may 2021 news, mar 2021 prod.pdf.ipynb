{
 "cells": [
  {
   "cell_type": "markdown",
   "id": "3bf9f2f8",
   "metadata": {
    "papermill": {
     "duration": 0.037083,
     "end_time": "2022-01-16T20:34:32.174693",
     "exception": false,
     "start_time": "2022-01-16T20:34:32.137610",
     "status": "completed"
    },
    "tags": []
   },
   "source": [
    "# Ingest PBT News Releases"
   ]
  },
  {
   "cell_type": "code",
   "execution_count": 1,
   "id": "f63d6cde",
   "metadata": {
    "execution": {
     "iopub.execute_input": "2022-01-16T20:34:32.196292Z",
     "iopub.status.busy": "2022-01-16T20:34:32.195729Z",
     "iopub.status.idle": "2022-01-16T20:34:33.111277Z",
     "shell.execute_reply": "2022-01-16T20:34:33.111629Z"
    },
    "papermill": {
     "duration": 0.929417,
     "end_time": "2022-01-16T20:34:33.111946",
     "exception": false,
     "start_time": "2022-01-16T20:34:32.182529",
     "status": "completed"
    },
    "tags": []
   },
   "outputs": [],
   "source": [
    "from tabula import read_pdf"
   ]
  },
  {
   "cell_type": "code",
   "execution_count": 2,
   "id": "b68a4e59",
   "metadata": {
    "execution": {
     "iopub.execute_input": "2022-01-16T20:34:33.130863Z",
     "iopub.status.busy": "2022-01-16T20:34:33.130457Z",
     "iopub.status.idle": "2022-01-16T20:34:33.158854Z",
     "shell.execute_reply": "2022-01-16T20:34:33.159143Z"
    },
    "papermill": {
     "duration": 0.038895,
     "end_time": "2022-01-16T20:34:33.159348",
     "exception": false,
     "start_time": "2022-01-16T20:34:33.120453",
     "status": "completed"
    },
    "tags": []
   },
   "outputs": [],
   "source": [
    "%run configs.ipynb"
   ]
  },
  {
   "cell_type": "code",
   "execution_count": 3,
   "id": "b5516fe2",
   "metadata": {
    "execution": {
     "iopub.execute_input": "2022-01-16T20:34:33.175353Z",
     "iopub.status.busy": "2022-01-16T20:34:33.174783Z",
     "iopub.status.idle": "2022-01-16T20:34:33.176257Z",
     "shell.execute_reply": "2022-01-16T20:34:33.176672Z"
    },
    "papermill": {
     "duration": 0.01071,
     "end_time": "2022-01-16T20:34:33.176831",
     "exception": false,
     "start_time": "2022-01-16T20:34:33.166121",
     "status": "completed"
    },
    "tags": [
     "parameters"
    ]
   },
   "outputs": [],
   "source": [
    "#parameters cell\n",
    "news_file_name = 'dec 2021 news, oct 2021 prod.pdf'"
   ]
  },
  {
   "cell_type": "code",
   "execution_count": 4,
   "id": "f2709b56",
   "metadata": {
    "execution": {
     "iopub.execute_input": "2022-01-16T20:34:33.192555Z",
     "iopub.status.busy": "2022-01-16T20:34:33.192056Z",
     "iopub.status.idle": "2022-01-16T20:34:33.193693Z",
     "shell.execute_reply": "2022-01-16T20:34:33.193999Z"
    },
    "papermill": {
     "duration": 0.010868,
     "end_time": "2022-01-16T20:34:33.194210",
     "exception": false,
     "start_time": "2022-01-16T20:34:33.183342",
     "status": "completed"
    },
    "tags": [
     "injected-parameters"
    ]
   },
   "outputs": [],
   "source": [
    "# Parameters\n",
    "news_file_name = \"may 2021 news, mar 2021 prod.pdf\"\n"
   ]
  },
  {
   "cell_type": "code",
   "execution_count": 5,
   "id": "89d75a6d",
   "metadata": {
    "execution": {
     "iopub.execute_input": "2022-01-16T20:34:33.210836Z",
     "iopub.status.busy": "2022-01-16T20:34:33.210352Z",
     "iopub.status.idle": "2022-01-16T20:34:36.445379Z",
     "shell.execute_reply": "2022-01-16T20:34:36.446145Z"
    },
    "papermill": {
     "duration": 3.245547,
     "end_time": "2022-01-16T20:34:36.446410",
     "exception": false,
     "start_time": "2022-01-16T20:34:33.200863",
     "status": "completed"
    },
    "tags": []
   },
   "outputs": [
    {
     "name": "stderr",
     "output_type": "stream",
     "text": [
      "'pages' argument isn't specified.Will extract only from page 1 by default.\n"
     ]
    },
    {
     "data": {
      "text/html": [
       "<div>\n",
       "<style scoped>\n",
       "    .dataframe tbody tr th:only-of-type {\n",
       "        vertical-align: middle;\n",
       "    }\n",
       "\n",
       "    .dataframe tbody tr th {\n",
       "        vertical-align: top;\n",
       "    }\n",
       "\n",
       "    .dataframe thead th {\n",
       "        text-align: right;\n",
       "    }\n",
       "</style>\n",
       "<table border=\"1\" class=\"dataframe\">\n",
       "  <thead>\n",
       "    <tr style=\"text-align: right;\">\n",
       "      <th></th>\n",
       "      <th>Unnamed: 0</th>\n",
       "      <th>Unnamed: 1</th>\n",
       "      <th>Unnamed: 2</th>\n",
       "      <th>Unnamed: 3</th>\n",
       "      <th>Unnamed: 4</th>\n",
       "    </tr>\n",
       "  </thead>\n",
       "  <tbody>\n",
       "    <tr>\n",
       "      <th>0</th>\n",
       "      <td>NaN</td>\n",
       "      <td>Underlying Properties</td>\n",
       "      <td>Net to Trust Sales</td>\n",
       "      <td>NaN</td>\n",
       "      <td>NaN</td>\n",
       "    </tr>\n",
       "    <tr>\n",
       "      <th>1</th>\n",
       "      <td>NaN</td>\n",
       "      <td>Volumes</td>\n",
       "      <td>Volumes</td>\n",
       "      <td>Average</td>\n",
       "      <td>Price</td>\n",
       "    </tr>\n",
       "    <tr>\n",
       "      <th>2</th>\n",
       "      <td>NaN</td>\n",
       "      <td>Oil  Gas</td>\n",
       "      <td>Oil  Gas</td>\n",
       "      <td>Oil</td>\n",
       "      <td>Gas</td>\n",
       "    </tr>\n",
       "    <tr>\n",
       "      <th>3</th>\n",
       "      <td>NaN</td>\n",
       "      <td>(bbls) (Mcf)</td>\n",
       "      <td>(bbls) (Mcf)</td>\n",
       "      <td>(per bbl)</td>\n",
       "      <td>(per Mcf)</td>\n",
       "    </tr>\n",
       "    <tr>\n",
       "      <th>4</th>\n",
       "      <td>Current Month</td>\n",
       "      <td>NaN</td>\n",
       "      <td>NaN</td>\n",
       "      <td>NaN</td>\n",
       "      <td>NaN</td>\n",
       "    </tr>\n",
       "    <tr>\n",
       "      <th>5</th>\n",
       "      <td>Waddell Ranch</td>\n",
       "      <td>74,075 157,614</td>\n",
       "      <td>55,556 118,211*</td>\n",
       "      <td>$61.36</td>\n",
       "      <td>$3.38**</td>\n",
       "    </tr>\n",
       "    <tr>\n",
       "      <th>6</th>\n",
       "      <td>Texas Royalties</td>\n",
       "      <td>17,920 12,115</td>\n",
       "      <td>15,902 10,598*</td>\n",
       "      <td>$58.09</td>\n",
       "      <td>$6.86**</td>\n",
       "    </tr>\n",
       "    <tr>\n",
       "      <th>7</th>\n",
       "      <td>NaN</td>\n",
       "      <td>NaN</td>\n",
       "      <td>NaN</td>\n",
       "      <td>NaN</td>\n",
       "      <td>NaN</td>\n",
       "    </tr>\n",
       "    <tr>\n",
       "      <th>8</th>\n",
       "      <td>Prior Month</td>\n",
       "      <td>NaN</td>\n",
       "      <td>NaN</td>\n",
       "      <td>NaN</td>\n",
       "      <td>NaN</td>\n",
       "    </tr>\n",
       "    <tr>\n",
       "      <th>9</th>\n",
       "      <td>Waddell Ranch</td>\n",
       "      <td>50,757 190,570</td>\n",
       "      <td>38,068 142,928*</td>\n",
       "      <td>$58.09</td>\n",
       "      <td>$2.28**</td>\n",
       "    </tr>\n",
       "    <tr>\n",
       "      <th>10</th>\n",
       "      <td>Texas Royalties</td>\n",
       "      <td>19,947 12,461</td>\n",
       "      <td>17,556 10,948*</td>\n",
       "      <td>$52.80</td>\n",
       "      <td>$5.89**</td>\n",
       "    </tr>\n",
       "  </tbody>\n",
       "</table>\n",
       "</div>"
      ],
      "text/plain": [
       "         Unnamed: 0             Unnamed: 1          Unnamed: 2 Unnamed: 3  \\\n",
       "0               NaN  Underlying Properties  Net to Trust Sales        NaN   \n",
       "1               NaN                Volumes             Volumes    Average   \n",
       "2               NaN               Oil  Gas            Oil  Gas        Oil   \n",
       "3               NaN           (bbls) (Mcf)        (bbls) (Mcf)  (per bbl)   \n",
       "4     Current Month                    NaN                 NaN        NaN   \n",
       "5     Waddell Ranch         74,075 157,614     55,556 118,211*     $61.36   \n",
       "6   Texas Royalties          17,920 12,115      15,902 10,598*     $58.09   \n",
       "7               NaN                    NaN                 NaN        NaN   \n",
       "8       Prior Month                    NaN                 NaN        NaN   \n",
       "9     Waddell Ranch         50,757 190,570     38,068 142,928*     $58.09   \n",
       "10  Texas Royalties          19,947 12,461      17,556 10,948*     $52.80   \n",
       "\n",
       "   Unnamed: 4  \n",
       "0         NaN  \n",
       "1       Price  \n",
       "2         Gas  \n",
       "3   (per Mcf)  \n",
       "4         NaN  \n",
       "5     $3.38**  \n",
       "6     $6.86**  \n",
       "7         NaN  \n",
       "8         NaN  \n",
       "9     $2.28**  \n",
       "10    $5.89**  "
      ]
     },
     "execution_count": 5,
     "metadata": {},
     "output_type": "execute_result"
    }
   ],
   "source": [
    "pbt_news_DF = read_pdf(f'{raw_data_folder}/pbt_news/2021/{news_file_name}')[0]\n",
    "\n",
    "pbt_news_DF"
   ]
  },
  {
   "cell_type": "code",
   "execution_count": 6,
   "id": "5ad174f1",
   "metadata": {
    "execution": {
     "iopub.execute_input": "2022-01-16T20:34:36.473281Z",
     "iopub.status.busy": "2022-01-16T20:34:36.472709Z",
     "iopub.status.idle": "2022-01-16T20:34:36.474254Z",
     "shell.execute_reply": "2022-01-16T20:34:36.474515Z"
    },
    "papermill": {
     "duration": 0.015523,
     "end_time": "2022-01-16T20:34:36.474650",
     "exception": false,
     "start_time": "2022-01-16T20:34:36.459127",
     "status": "completed"
    },
    "tags": []
   },
   "outputs": [],
   "source": [
    "cols_pdf = 'Property', 'Gross Oil Volume (PBT News)', 'Net Oil Volume (PBT News)', 'Average Oil Price', 'Average Gas Price'\n",
    "pbt_news_DF.columns = cols_pdf"
   ]
  },
  {
   "cell_type": "code",
   "execution_count": 7,
   "id": "9e1a6833",
   "metadata": {
    "execution": {
     "iopub.execute_input": "2022-01-16T20:34:36.505824Z",
     "iopub.status.busy": "2022-01-16T20:34:36.504974Z",
     "iopub.status.idle": "2022-01-16T20:34:36.507449Z",
     "shell.execute_reply": "2022-01-16T20:34:36.507970Z"
    },
    "papermill": {
     "duration": 0.025875,
     "end_time": "2022-01-16T20:34:36.508265",
     "exception": false,
     "start_time": "2022-01-16T20:34:36.482390",
     "status": "completed"
    },
    "tags": []
   },
   "outputs": [
    {
     "data": {
      "text/html": [
       "<div>\n",
       "<style scoped>\n",
       "    .dataframe tbody tr th:only-of-type {\n",
       "        vertical-align: middle;\n",
       "    }\n",
       "\n",
       "    .dataframe tbody tr th {\n",
       "        vertical-align: top;\n",
       "    }\n",
       "\n",
       "    .dataframe thead th {\n",
       "        text-align: right;\n",
       "    }\n",
       "</style>\n",
       "<table border=\"1\" class=\"dataframe\">\n",
       "  <thead>\n",
       "    <tr style=\"text-align: right;\">\n",
       "      <th></th>\n",
       "      <th>Property</th>\n",
       "      <th>Gross Oil Volume (PBT News)</th>\n",
       "      <th>Net Oil Volume (PBT News)</th>\n",
       "      <th>Average Oil Price</th>\n",
       "      <th>Average Gas Price</th>\n",
       "    </tr>\n",
       "  </thead>\n",
       "  <tbody>\n",
       "    <tr>\n",
       "      <th>5</th>\n",
       "      <td>Waddell Ranch</td>\n",
       "      <td>74,075 157,614</td>\n",
       "      <td>55,556 118,211*</td>\n",
       "      <td>$61.36</td>\n",
       "      <td>$3.38**</td>\n",
       "    </tr>\n",
       "    <tr>\n",
       "      <th>6</th>\n",
       "      <td>Texas Royalties</td>\n",
       "      <td>17,920 12,115</td>\n",
       "      <td>15,902 10,598*</td>\n",
       "      <td>$58.09</td>\n",
       "      <td>$6.86**</td>\n",
       "    </tr>\n",
       "    <tr>\n",
       "      <th>9</th>\n",
       "      <td>Waddell Ranch</td>\n",
       "      <td>50,757 190,570</td>\n",
       "      <td>38,068 142,928*</td>\n",
       "      <td>$58.09</td>\n",
       "      <td>$2.28**</td>\n",
       "    </tr>\n",
       "    <tr>\n",
       "      <th>10</th>\n",
       "      <td>Texas Royalties</td>\n",
       "      <td>19,947 12,461</td>\n",
       "      <td>17,556 10,948*</td>\n",
       "      <td>$52.80</td>\n",
       "      <td>$5.89**</td>\n",
       "    </tr>\n",
       "  </tbody>\n",
       "</table>\n",
       "</div>"
      ],
      "text/plain": [
       "           Property Gross Oil Volume (PBT News) Net Oil Volume (PBT News)  \\\n",
       "5     Waddell Ranch              74,075 157,614           55,556 118,211*   \n",
       "6   Texas Royalties               17,920 12,115            15,902 10,598*   \n",
       "9     Waddell Ranch              50,757 190,570           38,068 142,928*   \n",
       "10  Texas Royalties               19,947 12,461            17,556 10,948*   \n",
       "\n",
       "   Average Oil Price Average Gas Price  \n",
       "5             $61.36           $3.38**  \n",
       "6             $58.09           $6.86**  \n",
       "9             $58.09           $2.28**  \n",
       "10            $52.80           $5.89**  "
      ]
     },
     "execution_count": 7,
     "metadata": {},
     "output_type": "execute_result"
    }
   ],
   "source": [
    "pbt_news_DF.dropna(inplace = True)\n",
    "pbt_news_DF"
   ]
  },
  {
   "cell_type": "markdown",
   "id": "9ea8667f",
   "metadata": {
    "papermill": {
     "duration": 0.007672,
     "end_time": "2022-01-16T20:34:36.523714",
     "exception": false,
     "start_time": "2022-01-16T20:34:36.516042",
     "status": "completed"
    },
    "tags": []
   },
   "source": [
    "### Splitting Net Oil Column to Get Gas Volume\n",
    "### Applying Text Cleaning to remove commas"
   ]
  },
  {
   "cell_type": "code",
   "execution_count": 8,
   "id": "0e4b24f4",
   "metadata": {
    "execution": {
     "iopub.execute_input": "2022-01-16T20:34:36.544053Z",
     "iopub.status.busy": "2022-01-16T20:34:36.543579Z",
     "iopub.status.idle": "2022-01-16T20:34:36.545158Z",
     "shell.execute_reply": "2022-01-16T20:34:36.545617Z"
    },
    "papermill": {
     "duration": 0.014597,
     "end_time": "2022-01-16T20:34:36.545769",
     "exception": false,
     "start_time": "2022-01-16T20:34:36.531172",
     "status": "completed"
    },
    "tags": []
   },
   "outputs": [],
   "source": [
    "pbt_news_DF['Gross Gas Volume (PBT News)'] = pbt_news_DF['Gross Oil Volume (PBT News)'].apply(lambda x: int(x.split(' ')[1].replace(',', '')))\n",
    "\n",
    "pbt_news_DF['Gross Oil Volume (PBT News)'] = pbt_news_DF['Gross Oil Volume (PBT News)'].apply(lambda x: int(x.split(' ')[0].replace(',', '')))"
   ]
  },
  {
   "cell_type": "code",
   "execution_count": 9,
   "id": "735d5051",
   "metadata": {
    "execution": {
     "iopub.execute_input": "2022-01-16T20:34:36.566906Z",
     "iopub.status.busy": "2022-01-16T20:34:36.566198Z",
     "iopub.status.idle": "2022-01-16T20:34:36.568769Z",
     "shell.execute_reply": "2022-01-16T20:34:36.569310Z"
    },
    "papermill": {
     "duration": 0.01612,
     "end_time": "2022-01-16T20:34:36.569456",
     "exception": false,
     "start_time": "2022-01-16T20:34:36.553336",
     "status": "completed"
    },
    "tags": []
   },
   "outputs": [
    {
     "data": {
      "text/html": [
       "<div>\n",
       "<style scoped>\n",
       "    .dataframe tbody tr th:only-of-type {\n",
       "        vertical-align: middle;\n",
       "    }\n",
       "\n",
       "    .dataframe tbody tr th {\n",
       "        vertical-align: top;\n",
       "    }\n",
       "\n",
       "    .dataframe thead th {\n",
       "        text-align: right;\n",
       "    }\n",
       "</style>\n",
       "<table border=\"1\" class=\"dataframe\">\n",
       "  <thead>\n",
       "    <tr style=\"text-align: right;\">\n",
       "      <th></th>\n",
       "      <th>Property</th>\n",
       "      <th>Gross Oil Volume (PBT News)</th>\n",
       "      <th>Net Oil Volume (PBT News)</th>\n",
       "      <th>Average Oil Price</th>\n",
       "      <th>Average Gas Price</th>\n",
       "      <th>Gross Gas Volume (PBT News)</th>\n",
       "    </tr>\n",
       "  </thead>\n",
       "  <tbody>\n",
       "    <tr>\n",
       "      <th>5</th>\n",
       "      <td>Waddell Ranch</td>\n",
       "      <td>74075</td>\n",
       "      <td>55,556 118,211*</td>\n",
       "      <td>$61.36</td>\n",
       "      <td>$3.38**</td>\n",
       "      <td>157614</td>\n",
       "    </tr>\n",
       "    <tr>\n",
       "      <th>6</th>\n",
       "      <td>Texas Royalties</td>\n",
       "      <td>17920</td>\n",
       "      <td>15,902 10,598*</td>\n",
       "      <td>$58.09</td>\n",
       "      <td>$6.86**</td>\n",
       "      <td>12115</td>\n",
       "    </tr>\n",
       "    <tr>\n",
       "      <th>9</th>\n",
       "      <td>Waddell Ranch</td>\n",
       "      <td>50757</td>\n",
       "      <td>38,068 142,928*</td>\n",
       "      <td>$58.09</td>\n",
       "      <td>$2.28**</td>\n",
       "      <td>190570</td>\n",
       "    </tr>\n",
       "    <tr>\n",
       "      <th>10</th>\n",
       "      <td>Texas Royalties</td>\n",
       "      <td>19947</td>\n",
       "      <td>17,556 10,948*</td>\n",
       "      <td>$52.80</td>\n",
       "      <td>$5.89**</td>\n",
       "      <td>12461</td>\n",
       "    </tr>\n",
       "  </tbody>\n",
       "</table>\n",
       "</div>"
      ],
      "text/plain": [
       "           Property  Gross Oil Volume (PBT News) Net Oil Volume (PBT News)  \\\n",
       "5     Waddell Ranch                        74075           55,556 118,211*   \n",
       "6   Texas Royalties                        17920            15,902 10,598*   \n",
       "9     Waddell Ranch                        50757           38,068 142,928*   \n",
       "10  Texas Royalties                        19947            17,556 10,948*   \n",
       "\n",
       "   Average Oil Price Average Gas Price  Gross Gas Volume (PBT News)  \n",
       "5             $61.36           $3.38**                       157614  \n",
       "6             $58.09           $6.86**                        12115  \n",
       "9             $58.09           $2.28**                       190570  \n",
       "10            $52.80           $5.89**                        12461  "
      ]
     },
     "execution_count": 9,
     "metadata": {},
     "output_type": "execute_result"
    }
   ],
   "source": [
    "pbt_news_DF"
   ]
  },
  {
   "cell_type": "markdown",
   "id": "27cceb93",
   "metadata": {
    "papermill": {
     "duration": 0.009372,
     "end_time": "2022-01-16T20:34:36.588813",
     "exception": false,
     "start_time": "2022-01-16T20:34:36.579441",
     "status": "completed"
    },
    "tags": []
   },
   "source": [
    "### Splitting Net Oil Column to Get Gas Volume\n",
    "### Applying Text Cleaning to remove commas and asterisks"
   ]
  },
  {
   "cell_type": "code",
   "execution_count": 10,
   "id": "36f1f177",
   "metadata": {
    "execution": {
     "iopub.execute_input": "2022-01-16T20:34:36.610323Z",
     "iopub.status.busy": "2022-01-16T20:34:36.609839Z",
     "iopub.status.idle": "2022-01-16T20:34:36.611661Z",
     "shell.execute_reply": "2022-01-16T20:34:36.612037Z"
    },
    "papermill": {
     "duration": 0.015311,
     "end_time": "2022-01-16T20:34:36.612201",
     "exception": false,
     "start_time": "2022-01-16T20:34:36.596890",
     "status": "completed"
    },
    "tags": []
   },
   "outputs": [],
   "source": [
    "pbt_news_DF['Net Gas Volume (PBT News)'] = pbt_news_DF['Net Oil Volume (PBT News)'].apply(lambda x: int(x.split(' ')[1]\\\n",
    "                                                                                  .replace(',', '')\\\n",
    "                                                                                 .replace('*','')))\n",
    "\n",
    "pbt_news_DF['Net Oil Volume (PBT News)'] = pbt_news_DF['Net Oil Volume (PBT News)'].apply(lambda x: int(x.split(' ')[0].replace(',', '')))"
   ]
  },
  {
   "cell_type": "markdown",
   "id": "f78ceacc",
   "metadata": {
    "papermill": {
     "duration": 0.007717,
     "end_time": "2022-01-16T20:34:36.628023",
     "exception": false,
     "start_time": "2022-01-16T20:34:36.620306",
     "status": "completed"
    },
    "tags": []
   },
   "source": [
    "### Cleaning Prices Columns by removing asterisks and Dollar Sign"
   ]
  },
  {
   "cell_type": "code",
   "execution_count": 11,
   "id": "670ab6d8",
   "metadata": {
    "execution": {
     "iopub.execute_input": "2022-01-16T20:34:36.649301Z",
     "iopub.status.busy": "2022-01-16T20:34:36.648808Z",
     "iopub.status.idle": "2022-01-16T20:34:36.650469Z",
     "shell.execute_reply": "2022-01-16T20:34:36.650734Z"
    },
    "papermill": {
     "duration": 0.01438,
     "end_time": "2022-01-16T20:34:36.650887",
     "exception": false,
     "start_time": "2022-01-16T20:34:36.636507",
     "status": "completed"
    },
    "tags": []
   },
   "outputs": [],
   "source": [
    "pbt_news_DF['Average Gas Price'] = pbt_news_DF['Average Gas Price'].apply(lambda x: x.replace('$','').replace('**',''))\n",
    "\n",
    "pbt_news_DF['Average Oil Price'] = pbt_news_DF['Average Oil Price'].apply(lambda x: x.replace('$','').replace('**',''))"
   ]
  },
  {
   "cell_type": "code",
   "execution_count": 12,
   "id": "b1456a0e",
   "metadata": {
    "execution": {
     "iopub.execute_input": "2022-01-16T20:34:36.670189Z",
     "iopub.status.busy": "2022-01-16T20:34:36.669674Z",
     "iopub.status.idle": "2022-01-16T20:34:36.671262Z",
     "shell.execute_reply": "2022-01-16T20:34:36.671515Z"
    },
    "papermill": {
     "duration": 0.012839,
     "end_time": "2022-01-16T20:34:36.671644",
     "exception": false,
     "start_time": "2022-01-16T20:34:36.658805",
     "status": "completed"
    },
    "tags": []
   },
   "outputs": [],
   "source": [
    "#filtering table to the 'current month' values\n",
    "pbt_news_DF = pbt_news_DF.head(2)"
   ]
  },
  {
   "cell_type": "code",
   "execution_count": 13,
   "id": "6d802530",
   "metadata": {
    "execution": {
     "iopub.execute_input": "2022-01-16T20:34:36.702186Z",
     "iopub.status.busy": "2022-01-16T20:34:36.701547Z",
     "iopub.status.idle": "2022-01-16T20:34:36.704406Z",
     "shell.execute_reply": "2022-01-16T20:34:36.704659Z"
    },
    "papermill": {
     "duration": 0.023618,
     "end_time": "2022-01-16T20:34:36.704866",
     "exception": false,
     "start_time": "2022-01-16T20:34:36.681248",
     "status": "completed"
    },
    "tags": []
   },
   "outputs": [
    {
     "data": {
      "text/html": [
       "<div>\n",
       "<style scoped>\n",
       "    .dataframe tbody tr th:only-of-type {\n",
       "        vertical-align: middle;\n",
       "    }\n",
       "\n",
       "    .dataframe tbody tr th {\n",
       "        vertical-align: top;\n",
       "    }\n",
       "\n",
       "    .dataframe thead th {\n",
       "        text-align: right;\n",
       "    }\n",
       "</style>\n",
       "<table border=\"1\" class=\"dataframe\">\n",
       "  <thead>\n",
       "    <tr style=\"text-align: right;\">\n",
       "      <th></th>\n",
       "      <th>Property</th>\n",
       "      <th>Gross Oil Volume (PBT News)</th>\n",
       "      <th>Net Oil Volume (PBT News)</th>\n",
       "      <th>Average Oil Price</th>\n",
       "      <th>Average Gas Price</th>\n",
       "      <th>Gross Gas Volume (PBT News)</th>\n",
       "      <th>Net Gas Volume (PBT News)</th>\n",
       "    </tr>\n",
       "  </thead>\n",
       "  <tbody>\n",
       "    <tr>\n",
       "      <th>5</th>\n",
       "      <td>Waddell Ranch</td>\n",
       "      <td>74075</td>\n",
       "      <td>55556</td>\n",
       "      <td>61.36</td>\n",
       "      <td>3.38</td>\n",
       "      <td>157614</td>\n",
       "      <td>118211</td>\n",
       "    </tr>\n",
       "    <tr>\n",
       "      <th>6</th>\n",
       "      <td>Texas Royalties</td>\n",
       "      <td>17920</td>\n",
       "      <td>15902</td>\n",
       "      <td>58.09</td>\n",
       "      <td>6.86</td>\n",
       "      <td>12115</td>\n",
       "      <td>10598</td>\n",
       "    </tr>\n",
       "  </tbody>\n",
       "</table>\n",
       "</div>"
      ],
      "text/plain": [
       "          Property  Gross Oil Volume (PBT News)  Net Oil Volume (PBT News)  \\\n",
       "5    Waddell Ranch                        74075                      55556   \n",
       "6  Texas Royalties                        17920                      15902   \n",
       "\n",
       "  Average Oil Price Average Gas Price  Gross Gas Volume (PBT News)  \\\n",
       "5             61.36              3.38                       157614   \n",
       "6             58.09              6.86                        12115   \n",
       "\n",
       "   Net Gas Volume (PBT News)  \n",
       "5                     118211  \n",
       "6                      10598  "
      ]
     },
     "execution_count": 13,
     "metadata": {},
     "output_type": "execute_result"
    }
   ],
   "source": [
    "pbt_news_DF"
   ]
  },
  {
   "cell_type": "code",
   "execution_count": 14,
   "id": "9bcb4f75",
   "metadata": {
    "execution": {
     "iopub.execute_input": "2022-01-16T20:34:36.727197Z",
     "iopub.status.busy": "2022-01-16T20:34:36.726697Z",
     "iopub.status.idle": "2022-01-16T20:34:36.728251Z",
     "shell.execute_reply": "2022-01-16T20:34:36.728528Z"
    },
    "papermill": {
     "duration": 0.014904,
     "end_time": "2022-01-16T20:34:36.728660",
     "exception": false,
     "start_time": "2022-01-16T20:34:36.713756",
     "status": "completed"
    },
    "tags": []
   },
   "outputs": [],
   "source": [
    "date_from_filename = news_file_name.split(',')[1]\\\n",
    "                                    .split('.')[0]\\\n",
    "                                    .strip()\\\n",
    "                                    .replace(' prod', '')"
   ]
  },
  {
   "cell_type": "code",
   "execution_count": 15,
   "id": "b2d00cad",
   "metadata": {
    "execution": {
     "iopub.execute_input": "2022-01-16T20:34:36.752391Z",
     "iopub.status.busy": "2022-01-16T20:34:36.751773Z",
     "iopub.status.idle": "2022-01-16T20:34:36.753661Z",
     "shell.execute_reply": "2022-01-16T20:34:36.754201Z"
    },
    "papermill": {
     "duration": 0.015518,
     "end_time": "2022-01-16T20:34:36.754363",
     "exception": false,
     "start_time": "2022-01-16T20:34:36.738845",
     "status": "completed"
    },
    "tags": []
   },
   "outputs": [],
   "source": [
    "pbt_news_DF.insert(0, 'Date', date_from_filename.title())"
   ]
  },
  {
   "cell_type": "code",
   "execution_count": 16,
   "id": "e38fd321",
   "metadata": {
    "execution": {
     "iopub.execute_input": "2022-01-16T20:34:36.777959Z",
     "iopub.status.busy": "2022-01-16T20:34:36.776869Z",
     "iopub.status.idle": "2022-01-16T20:34:36.780033Z",
     "shell.execute_reply": "2022-01-16T20:34:36.780438Z"
    },
    "papermill": {
     "duration": 0.017983,
     "end_time": "2022-01-16T20:34:36.780580",
     "exception": false,
     "start_time": "2022-01-16T20:34:36.762597",
     "status": "completed"
    },
    "tags": []
   },
   "outputs": [
    {
     "data": {
      "text/html": [
       "<div>\n",
       "<style scoped>\n",
       "    .dataframe tbody tr th:only-of-type {\n",
       "        vertical-align: middle;\n",
       "    }\n",
       "\n",
       "    .dataframe tbody tr th {\n",
       "        vertical-align: top;\n",
       "    }\n",
       "\n",
       "    .dataframe thead th {\n",
       "        text-align: right;\n",
       "    }\n",
       "</style>\n",
       "<table border=\"1\" class=\"dataframe\">\n",
       "  <thead>\n",
       "    <tr style=\"text-align: right;\">\n",
       "      <th></th>\n",
       "      <th>Date</th>\n",
       "      <th>Property</th>\n",
       "      <th>Gross Oil Volume (PBT News)</th>\n",
       "      <th>Net Oil Volume (PBT News)</th>\n",
       "      <th>Average Oil Price</th>\n",
       "      <th>Average Gas Price</th>\n",
       "      <th>Gross Gas Volume (PBT News)</th>\n",
       "      <th>Net Gas Volume (PBT News)</th>\n",
       "    </tr>\n",
       "  </thead>\n",
       "  <tbody>\n",
       "    <tr>\n",
       "      <th>5</th>\n",
       "      <td>Mar 2021</td>\n",
       "      <td>Waddell Ranch</td>\n",
       "      <td>74075</td>\n",
       "      <td>55556</td>\n",
       "      <td>61.36</td>\n",
       "      <td>3.38</td>\n",
       "      <td>157614</td>\n",
       "      <td>118211</td>\n",
       "    </tr>\n",
       "    <tr>\n",
       "      <th>6</th>\n",
       "      <td>Mar 2021</td>\n",
       "      <td>Texas Royalties</td>\n",
       "      <td>17920</td>\n",
       "      <td>15902</td>\n",
       "      <td>58.09</td>\n",
       "      <td>6.86</td>\n",
       "      <td>12115</td>\n",
       "      <td>10598</td>\n",
       "    </tr>\n",
       "  </tbody>\n",
       "</table>\n",
       "</div>"
      ],
      "text/plain": [
       "       Date         Property  Gross Oil Volume (PBT News)  \\\n",
       "5  Mar 2021    Waddell Ranch                        74075   \n",
       "6  Mar 2021  Texas Royalties                        17920   \n",
       "\n",
       "   Net Oil Volume (PBT News) Average Oil Price Average Gas Price  \\\n",
       "5                      55556             61.36              3.38   \n",
       "6                      15902             58.09              6.86   \n",
       "\n",
       "   Gross Gas Volume (PBT News)  Net Gas Volume (PBT News)  \n",
       "5                       157614                     118211  \n",
       "6                        12115                      10598  "
      ]
     },
     "execution_count": 16,
     "metadata": {},
     "output_type": "execute_result"
    }
   ],
   "source": [
    "pbt_news_DF"
   ]
  },
  {
   "cell_type": "markdown",
   "id": "eb3ae53a",
   "metadata": {
    "papermill": {
     "duration": 0.010336,
     "end_time": "2022-01-16T20:34:36.800557",
     "exception": false,
     "start_time": "2022-01-16T20:34:36.790221",
     "status": "completed"
    },
    "tags": []
   },
   "source": [
    "# Write Table to File"
   ]
  },
  {
   "cell_type": "code",
   "execution_count": 17,
   "id": "c9638897",
   "metadata": {
    "execution": {
     "iopub.execute_input": "2022-01-16T20:34:36.828847Z",
     "iopub.status.busy": "2022-01-16T20:34:36.828203Z",
     "iopub.status.idle": "2022-01-16T20:34:36.831268Z",
     "shell.execute_reply": "2022-01-16T20:34:36.832040Z"
    },
    "papermill": {
     "duration": 0.019659,
     "end_time": "2022-01-16T20:34:36.832200",
     "exception": false,
     "start_time": "2022-01-16T20:34:36.812541",
     "status": "completed"
    },
    "tags": []
   },
   "outputs": [
    {
     "data": {
      "text/plain": [
       "'may 2021 news, mar 2021 prod.csv'"
      ]
     },
     "execution_count": 17,
     "metadata": {},
     "output_type": "execute_result"
    }
   ],
   "source": [
    "to_file_name = news_file_name.split('.')[0] + '.csv'\n",
    "\n",
    "to_file_name"
   ]
  },
  {
   "cell_type": "code",
   "execution_count": 18,
   "id": "6553b868",
   "metadata": {
    "execution": {
     "iopub.execute_input": "2022-01-16T20:34:36.860313Z",
     "iopub.status.busy": "2022-01-16T20:34:36.859345Z",
     "iopub.status.idle": "2022-01-16T20:34:36.864112Z",
     "shell.execute_reply": "2022-01-16T20:34:36.864589Z"
    },
    "papermill": {
     "duration": 0.02125,
     "end_time": "2022-01-16T20:34:36.864890",
     "exception": false,
     "start_time": "2022-01-16T20:34:36.843640",
     "status": "completed"
    },
    "tags": []
   },
   "outputs": [],
   "source": [
    "pbt_news_DF.to_csv(f'{processed_data_folder}/pbt_news_prod/{to_file_name}', index = False)"
   ]
  },
  {
   "cell_type": "code",
   "execution_count": null,
   "id": "7b8340db",
   "metadata": {
    "papermill": {
     "duration": 0.009961,
     "end_time": "2022-01-16T20:34:36.887455",
     "exception": false,
     "start_time": "2022-01-16T20:34:36.877494",
     "status": "completed"
    },
    "tags": []
   },
   "outputs": [],
   "source": []
  }
 ],
 "metadata": {
  "kernelspec": {
   "display_name": "Python 3 (ipykernel)",
   "language": "python",
   "name": "python3"
  },
  "language_info": {
   "codemirror_mode": {
    "name": "ipython",
    "version": 3
   },
   "file_extension": ".py",
   "mimetype": "text/x-python",
   "name": "python",
   "nbconvert_exporter": "python",
   "pygments_lexer": "ipython3",
   "version": "3.9.7"
  },
  "papermill": {
   "default_parameters": {},
   "duration": 5.836016,
   "end_time": "2022-01-16T20:34:37.106047",
   "environment_variables": {},
   "exception": null,
   "input_path": "3. Ingest PBT News Release PDFs.ipynb",
   "output_path": "output_notebooks/pbt_news_runs/may 2021 news, mar 2021 prod.pdf.ipynb",
   "parameters": {
    "news_file_name": "may 2021 news, mar 2021 prod.pdf"
   },
   "start_time": "2022-01-16T20:34:31.270031",
   "version": "2.3.3"
  }
 },
 "nbformat": 4,
 "nbformat_minor": 5
}