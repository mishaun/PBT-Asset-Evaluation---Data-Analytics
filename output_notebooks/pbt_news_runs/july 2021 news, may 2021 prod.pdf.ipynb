{
 "cells": [
  {
   "cell_type": "markdown",
   "id": "b020d585",
   "metadata": {
    "papermill": {
     "duration": 0.027212,
     "end_time": "2022-01-15T23:48:32.689209",
     "exception": false,
     "start_time": "2022-01-15T23:48:32.661997",
     "status": "completed"
    },
    "tags": []
   },
   "source": [
    "# Ingest PBT News Releases"
   ]
  },
  {
   "cell_type": "code",
   "execution_count": 1,
   "id": "dfeb746d",
   "metadata": {
    "execution": {
     "iopub.execute_input": "2022-01-15T23:48:32.709200Z",
     "iopub.status.busy": "2022-01-15T23:48:32.708792Z",
     "iopub.status.idle": "2022-01-15T23:48:33.475890Z",
     "shell.execute_reply": "2022-01-15T23:48:33.476188Z"
    },
    "papermill": {
     "duration": 0.77975,
     "end_time": "2022-01-15T23:48:33.476377",
     "exception": false,
     "start_time": "2022-01-15T23:48:32.696627",
     "status": "completed"
    },
    "tags": []
   },
   "outputs": [],
   "source": [
    "from tabula import read_pdf"
   ]
  },
  {
   "cell_type": "code",
   "execution_count": 2,
   "id": "79c56f99",
   "metadata": {
    "execution": {
     "iopub.execute_input": "2022-01-15T23:48:33.493592Z",
     "iopub.status.busy": "2022-01-15T23:48:33.493191Z",
     "iopub.status.idle": "2022-01-15T23:48:33.520042Z",
     "shell.execute_reply": "2022-01-15T23:48:33.520292Z"
    },
    "papermill": {
     "duration": 0.036599,
     "end_time": "2022-01-15T23:48:33.520451",
     "exception": false,
     "start_time": "2022-01-15T23:48:33.483852",
     "status": "completed"
    },
    "tags": []
   },
   "outputs": [],
   "source": [
    "%run configs.ipynb"
   ]
  },
  {
   "cell_type": "code",
   "execution_count": 3,
   "id": "0339b1fb",
   "metadata": {
    "execution": {
     "iopub.execute_input": "2022-01-15T23:48:33.536207Z",
     "iopub.status.busy": "2022-01-15T23:48:33.535733Z",
     "iopub.status.idle": "2022-01-15T23:48:33.537207Z",
     "shell.execute_reply": "2022-01-15T23:48:33.537443Z"
    },
    "papermill": {
     "duration": 0.0108,
     "end_time": "2022-01-15T23:48:33.537570",
     "exception": false,
     "start_time": "2022-01-15T23:48:33.526770",
     "status": "completed"
    },
    "tags": [
     "parameters"
    ]
   },
   "outputs": [],
   "source": [
    "news_file_name = 'dec 2021 news, oct 2021 prod.pdf'"
   ]
  },
  {
   "cell_type": "code",
   "execution_count": 4,
   "id": "b4820070",
   "metadata": {
    "execution": {
     "iopub.execute_input": "2022-01-15T23:48:33.553684Z",
     "iopub.status.busy": "2022-01-15T23:48:33.553163Z",
     "iopub.status.idle": "2022-01-15T23:48:33.554595Z",
     "shell.execute_reply": "2022-01-15T23:48:33.554930Z"
    },
    "papermill": {
     "duration": 0.01108,
     "end_time": "2022-01-15T23:48:33.555081",
     "exception": false,
     "start_time": "2022-01-15T23:48:33.544001",
     "status": "completed"
    },
    "tags": [
     "injected-parameters"
    ]
   },
   "outputs": [],
   "source": [
    "# Parameters\n",
    "news_file_name = \"july 2021 news, may 2021 prod.pdf\"\n"
   ]
  },
  {
   "cell_type": "code",
   "execution_count": 5,
   "id": "69d15a49",
   "metadata": {
    "execution": {
     "iopub.execute_input": "2022-01-15T23:48:33.571076Z",
     "iopub.status.busy": "2022-01-15T23:48:33.570462Z",
     "iopub.status.idle": "2022-01-15T23:48:36.148662Z",
     "shell.execute_reply": "2022-01-15T23:48:36.149026Z"
    },
    "papermill": {
     "duration": 2.587684,
     "end_time": "2022-01-15T23:48:36.149162",
     "exception": false,
     "start_time": "2022-01-15T23:48:33.561478",
     "status": "completed"
    },
    "tags": []
   },
   "outputs": [
    {
     "name": "stderr",
     "output_type": "stream",
     "text": [
      "'pages' argument isn't specified.Will extract only from page 1 by default.\n"
     ]
    },
    {
     "data": {
      "text/html": [
       "<div>\n",
       "<style scoped>\n",
       "    .dataframe tbody tr th:only-of-type {\n",
       "        vertical-align: middle;\n",
       "    }\n",
       "\n",
       "    .dataframe tbody tr th {\n",
       "        vertical-align: top;\n",
       "    }\n",
       "\n",
       "    .dataframe thead th {\n",
       "        text-align: right;\n",
       "    }\n",
       "</style>\n",
       "<table border=\"1\" class=\"dataframe\">\n",
       "  <thead>\n",
       "    <tr style=\"text-align: right;\">\n",
       "      <th></th>\n",
       "      <th>Unnamed: 0</th>\n",
       "      <th>Unnamed: 1</th>\n",
       "      <th>Unnamed: 2</th>\n",
       "      <th>Unnamed: 3</th>\n",
       "      <th>Unnamed: 4</th>\n",
       "    </tr>\n",
       "  </thead>\n",
       "  <tbody>\n",
       "    <tr>\n",
       "      <th>0</th>\n",
       "      <td>NaN</td>\n",
       "      <td>Underlying Properties</td>\n",
       "      <td>Net to Trust Sales</td>\n",
       "      <td>NaN</td>\n",
       "      <td>NaN</td>\n",
       "    </tr>\n",
       "    <tr>\n",
       "      <th>1</th>\n",
       "      <td>NaN</td>\n",
       "      <td>Volumes</td>\n",
       "      <td>Volumes</td>\n",
       "      <td>Average</td>\n",
       "      <td>Price</td>\n",
       "    </tr>\n",
       "    <tr>\n",
       "      <th>2</th>\n",
       "      <td>NaN</td>\n",
       "      <td>Oil  Gas</td>\n",
       "      <td>Oil  Gas</td>\n",
       "      <td>Oil</td>\n",
       "      <td>Gas</td>\n",
       "    </tr>\n",
       "    <tr>\n",
       "      <th>3</th>\n",
       "      <td>NaN</td>\n",
       "      <td>(bbls) (Mcf)</td>\n",
       "      <td>(bbls) (Mcf)</td>\n",
       "      <td>(per bbl)</td>\n",
       "      <td>(per Mcf)</td>\n",
       "    </tr>\n",
       "    <tr>\n",
       "      <th>4</th>\n",
       "      <td>Current Month</td>\n",
       "      <td>NaN</td>\n",
       "      <td>NaN</td>\n",
       "      <td>NaN</td>\n",
       "      <td>NaN</td>\n",
       "    </tr>\n",
       "    <tr>\n",
       "      <th>5</th>\n",
       "      <td>Waddell Ranch</td>\n",
       "      <td>94,554 194,689</td>\n",
       "      <td>70,916 146,017*</td>\n",
       "      <td>$63.97</td>\n",
       "      <td>$2.61**</td>\n",
       "    </tr>\n",
       "    <tr>\n",
       "      <th>6</th>\n",
       "      <td>Texas Royalties</td>\n",
       "      <td>19,114 10,523</td>\n",
       "      <td>16,949 9,333*</td>\n",
       "      <td>$61.94</td>\n",
       "      <td>$6.62**</td>\n",
       "    </tr>\n",
       "    <tr>\n",
       "      <th>7</th>\n",
       "      <td>NaN</td>\n",
       "      <td>NaN</td>\n",
       "      <td>NaN</td>\n",
       "      <td>NaN</td>\n",
       "      <td>NaN</td>\n",
       "    </tr>\n",
       "    <tr>\n",
       "      <th>8</th>\n",
       "      <td>Prior Month</td>\n",
       "      <td>NaN</td>\n",
       "      <td>NaN</td>\n",
       "      <td>NaN</td>\n",
       "      <td>NaN</td>\n",
       "    </tr>\n",
       "    <tr>\n",
       "      <th>9</th>\n",
       "      <td>Waddell Ranch</td>\n",
       "      <td>80,362 259,608</td>\n",
       "      <td>60,272 194,706*</td>\n",
       "      <td>$59.93</td>\n",
       "      <td>$1.91**</td>\n",
       "    </tr>\n",
       "    <tr>\n",
       "      <th>10</th>\n",
       "      <td>Texas Royalties</td>\n",
       "      <td>16,339 12,869</td>\n",
       "      <td>14,344 11,276*</td>\n",
       "      <td>$60.65</td>\n",
       "      <td>$8.34**</td>\n",
       "    </tr>\n",
       "  </tbody>\n",
       "</table>\n",
       "</div>"
      ],
      "text/plain": [
       "         Unnamed: 0             Unnamed: 1          Unnamed: 2 Unnamed: 3  \\\n",
       "0               NaN  Underlying Properties  Net to Trust Sales        NaN   \n",
       "1               NaN                Volumes             Volumes    Average   \n",
       "2               NaN               Oil  Gas            Oil  Gas        Oil   \n",
       "3               NaN           (bbls) (Mcf)        (bbls) (Mcf)  (per bbl)   \n",
       "4     Current Month                    NaN                 NaN        NaN   \n",
       "5     Waddell Ranch         94,554 194,689     70,916 146,017*     $63.97   \n",
       "6   Texas Royalties          19,114 10,523       16,949 9,333*     $61.94   \n",
       "7               NaN                    NaN                 NaN        NaN   \n",
       "8       Prior Month                    NaN                 NaN        NaN   \n",
       "9     Waddell Ranch         80,362 259,608     60,272 194,706*     $59.93   \n",
       "10  Texas Royalties          16,339 12,869      14,344 11,276*     $60.65   \n",
       "\n",
       "   Unnamed: 4  \n",
       "0         NaN  \n",
       "1       Price  \n",
       "2         Gas  \n",
       "3   (per Mcf)  \n",
       "4         NaN  \n",
       "5     $2.61**  \n",
       "6     $6.62**  \n",
       "7         NaN  \n",
       "8         NaN  \n",
       "9     $1.91**  \n",
       "10    $8.34**  "
      ]
     },
     "execution_count": 5,
     "metadata": {},
     "output_type": "execute_result"
    }
   ],
   "source": [
    "pbt_news_DF = read_pdf(f'{raw_data_folder}/pbt_news/2021/{news_file_name}')[0]\n",
    "\n",
    "pbt_news_DF"
   ]
  },
  {
   "cell_type": "code",
   "execution_count": 6,
   "id": "97aa3b27",
   "metadata": {
    "execution": {
     "iopub.execute_input": "2022-01-15T23:48:36.167760Z",
     "iopub.status.busy": "2022-01-15T23:48:36.167221Z",
     "iopub.status.idle": "2022-01-15T23:48:36.168745Z",
     "shell.execute_reply": "2022-01-15T23:48:36.169043Z"
    },
    "papermill": {
     "duration": 0.012224,
     "end_time": "2022-01-15T23:48:36.169169",
     "exception": false,
     "start_time": "2022-01-15T23:48:36.156945",
     "status": "completed"
    },
    "tags": []
   },
   "outputs": [],
   "source": [
    "cols_pdf = 'Property', 'Gross Oil Volume (PBT News)', 'Net Oil Volume (PBT News)', 'Average Oil Price', 'Average Gas Price'\n",
    "pbt_news_DF.columns = cols_pdf"
   ]
  },
  {
   "cell_type": "code",
   "execution_count": 7,
   "id": "1ae3c239",
   "metadata": {
    "execution": {
     "iopub.execute_input": "2022-01-15T23:48:36.192368Z",
     "iopub.status.busy": "2022-01-15T23:48:36.191785Z",
     "iopub.status.idle": "2022-01-15T23:48:36.193831Z",
     "shell.execute_reply": "2022-01-15T23:48:36.194095Z"
    },
    "papermill": {
     "duration": 0.017372,
     "end_time": "2022-01-15T23:48:36.194227",
     "exception": false,
     "start_time": "2022-01-15T23:48:36.176855",
     "status": "completed"
    },
    "tags": []
   },
   "outputs": [
    {
     "data": {
      "text/html": [
       "<div>\n",
       "<style scoped>\n",
       "    .dataframe tbody tr th:only-of-type {\n",
       "        vertical-align: middle;\n",
       "    }\n",
       "\n",
       "    .dataframe tbody tr th {\n",
       "        vertical-align: top;\n",
       "    }\n",
       "\n",
       "    .dataframe thead th {\n",
       "        text-align: right;\n",
       "    }\n",
       "</style>\n",
       "<table border=\"1\" class=\"dataframe\">\n",
       "  <thead>\n",
       "    <tr style=\"text-align: right;\">\n",
       "      <th></th>\n",
       "      <th>Property</th>\n",
       "      <th>Gross Oil Volume (PBT News)</th>\n",
       "      <th>Net Oil Volume (PBT News)</th>\n",
       "      <th>Average Oil Price</th>\n",
       "      <th>Average Gas Price</th>\n",
       "    </tr>\n",
       "  </thead>\n",
       "  <tbody>\n",
       "    <tr>\n",
       "      <th>5</th>\n",
       "      <td>Waddell Ranch</td>\n",
       "      <td>94,554 194,689</td>\n",
       "      <td>70,916 146,017*</td>\n",
       "      <td>$63.97</td>\n",
       "      <td>$2.61**</td>\n",
       "    </tr>\n",
       "    <tr>\n",
       "      <th>6</th>\n",
       "      <td>Texas Royalties</td>\n",
       "      <td>19,114 10,523</td>\n",
       "      <td>16,949 9,333*</td>\n",
       "      <td>$61.94</td>\n",
       "      <td>$6.62**</td>\n",
       "    </tr>\n",
       "    <tr>\n",
       "      <th>9</th>\n",
       "      <td>Waddell Ranch</td>\n",
       "      <td>80,362 259,608</td>\n",
       "      <td>60,272 194,706*</td>\n",
       "      <td>$59.93</td>\n",
       "      <td>$1.91**</td>\n",
       "    </tr>\n",
       "    <tr>\n",
       "      <th>10</th>\n",
       "      <td>Texas Royalties</td>\n",
       "      <td>16,339 12,869</td>\n",
       "      <td>14,344 11,276*</td>\n",
       "      <td>$60.65</td>\n",
       "      <td>$8.34**</td>\n",
       "    </tr>\n",
       "  </tbody>\n",
       "</table>\n",
       "</div>"
      ],
      "text/plain": [
       "           Property Gross Oil Volume (PBT News) Net Oil Volume (PBT News)  \\\n",
       "5     Waddell Ranch              94,554 194,689           70,916 146,017*   \n",
       "6   Texas Royalties               19,114 10,523             16,949 9,333*   \n",
       "9     Waddell Ranch              80,362 259,608           60,272 194,706*   \n",
       "10  Texas Royalties               16,339 12,869            14,344 11,276*   \n",
       "\n",
       "   Average Oil Price Average Gas Price  \n",
       "5             $63.97           $2.61**  \n",
       "6             $61.94           $6.62**  \n",
       "9             $59.93           $1.91**  \n",
       "10            $60.65           $8.34**  "
      ]
     },
     "execution_count": 7,
     "metadata": {},
     "output_type": "execute_result"
    }
   ],
   "source": [
    "pbt_news_DF.dropna(inplace = True)\n",
    "pbt_news_DF"
   ]
  },
  {
   "cell_type": "markdown",
   "id": "936c3277",
   "metadata": {
    "papermill": {
     "duration": 0.007428,
     "end_time": "2022-01-15T23:48:36.208918",
     "exception": false,
     "start_time": "2022-01-15T23:48:36.201490",
     "status": "completed"
    },
    "tags": []
   },
   "source": [
    "### Splitting Net Oil Column to Get Gas Volume\n",
    "### Applying Text Cleaning to remove commas"
   ]
  },
  {
   "cell_type": "code",
   "execution_count": 8,
   "id": "9244fbca",
   "metadata": {
    "execution": {
     "iopub.execute_input": "2022-01-15T23:48:36.227750Z",
     "iopub.status.busy": "2022-01-15T23:48:36.227354Z",
     "iopub.status.idle": "2022-01-15T23:48:36.228829Z",
     "shell.execute_reply": "2022-01-15T23:48:36.229135Z"
    },
    "papermill": {
     "duration": 0.013215,
     "end_time": "2022-01-15T23:48:36.229263",
     "exception": false,
     "start_time": "2022-01-15T23:48:36.216048",
     "status": "completed"
    },
    "tags": []
   },
   "outputs": [],
   "source": [
    "pbt_news_DF['Gross Gas Volume (PBT News)'] = pbt_news_DF['Gross Oil Volume (PBT News)'].apply(lambda x: int(x.split(' ')[1].replace(',', '')))\n",
    "\n",
    "pbt_news_DF['Gross Oil Volume (PBT News)'] = pbt_news_DF['Gross Oil Volume (PBT News)'].apply(lambda x: int(x.split(' ')[0].replace(',', '')))"
   ]
  },
  {
   "cell_type": "code",
   "execution_count": 9,
   "id": "8ce06c49",
   "metadata": {
    "execution": {
     "iopub.execute_input": "2022-01-15T23:48:36.248620Z",
     "iopub.status.busy": "2022-01-15T23:48:36.248095Z",
     "iopub.status.idle": "2022-01-15T23:48:36.250116Z",
     "shell.execute_reply": "2022-01-15T23:48:36.250492Z"
    },
    "papermill": {
     "duration": 0.014261,
     "end_time": "2022-01-15T23:48:36.250626",
     "exception": false,
     "start_time": "2022-01-15T23:48:36.236365",
     "status": "completed"
    },
    "tags": []
   },
   "outputs": [
    {
     "data": {
      "text/html": [
       "<div>\n",
       "<style scoped>\n",
       "    .dataframe tbody tr th:only-of-type {\n",
       "        vertical-align: middle;\n",
       "    }\n",
       "\n",
       "    .dataframe tbody tr th {\n",
       "        vertical-align: top;\n",
       "    }\n",
       "\n",
       "    .dataframe thead th {\n",
       "        text-align: right;\n",
       "    }\n",
       "</style>\n",
       "<table border=\"1\" class=\"dataframe\">\n",
       "  <thead>\n",
       "    <tr style=\"text-align: right;\">\n",
       "      <th></th>\n",
       "      <th>Property</th>\n",
       "      <th>Gross Oil Volume (PBT News)</th>\n",
       "      <th>Net Oil Volume (PBT News)</th>\n",
       "      <th>Average Oil Price</th>\n",
       "      <th>Average Gas Price</th>\n",
       "      <th>Gross Gas Volume (PBT News)</th>\n",
       "    </tr>\n",
       "  </thead>\n",
       "  <tbody>\n",
       "    <tr>\n",
       "      <th>5</th>\n",
       "      <td>Waddell Ranch</td>\n",
       "      <td>94554</td>\n",
       "      <td>70,916 146,017*</td>\n",
       "      <td>$63.97</td>\n",
       "      <td>$2.61**</td>\n",
       "      <td>194689</td>\n",
       "    </tr>\n",
       "    <tr>\n",
       "      <th>6</th>\n",
       "      <td>Texas Royalties</td>\n",
       "      <td>19114</td>\n",
       "      <td>16,949 9,333*</td>\n",
       "      <td>$61.94</td>\n",
       "      <td>$6.62**</td>\n",
       "      <td>10523</td>\n",
       "    </tr>\n",
       "    <tr>\n",
       "      <th>9</th>\n",
       "      <td>Waddell Ranch</td>\n",
       "      <td>80362</td>\n",
       "      <td>60,272 194,706*</td>\n",
       "      <td>$59.93</td>\n",
       "      <td>$1.91**</td>\n",
       "      <td>259608</td>\n",
       "    </tr>\n",
       "    <tr>\n",
       "      <th>10</th>\n",
       "      <td>Texas Royalties</td>\n",
       "      <td>16339</td>\n",
       "      <td>14,344 11,276*</td>\n",
       "      <td>$60.65</td>\n",
       "      <td>$8.34**</td>\n",
       "      <td>12869</td>\n",
       "    </tr>\n",
       "  </tbody>\n",
       "</table>\n",
       "</div>"
      ],
      "text/plain": [
       "           Property  Gross Oil Volume (PBT News) Net Oil Volume (PBT News)  \\\n",
       "5     Waddell Ranch                        94554           70,916 146,017*   \n",
       "6   Texas Royalties                        19114             16,949 9,333*   \n",
       "9     Waddell Ranch                        80362           60,272 194,706*   \n",
       "10  Texas Royalties                        16339            14,344 11,276*   \n",
       "\n",
       "   Average Oil Price Average Gas Price  Gross Gas Volume (PBT News)  \n",
       "5             $63.97           $2.61**                       194689  \n",
       "6             $61.94           $6.62**                        10523  \n",
       "9             $59.93           $1.91**                       259608  \n",
       "10            $60.65           $8.34**                        12869  "
      ]
     },
     "execution_count": 9,
     "metadata": {},
     "output_type": "execute_result"
    }
   ],
   "source": [
    "pbt_news_DF"
   ]
  },
  {
   "cell_type": "markdown",
   "id": "bd4fafe8",
   "metadata": {
    "papermill": {
     "duration": 0.008212,
     "end_time": "2022-01-15T23:48:36.267126",
     "exception": false,
     "start_time": "2022-01-15T23:48:36.258914",
     "status": "completed"
    },
    "tags": []
   },
   "source": [
    "### Splitting Net Oil Column to Get Gas Volume\n",
    "### Applying Text Cleaning to remove commas and asterisks"
   ]
  },
  {
   "cell_type": "code",
   "execution_count": 10,
   "id": "71a54166",
   "metadata": {
    "execution": {
     "iopub.execute_input": "2022-01-15T23:48:36.289039Z",
     "iopub.status.busy": "2022-01-15T23:48:36.288305Z",
     "iopub.status.idle": "2022-01-15T23:48:36.290060Z",
     "shell.execute_reply": "2022-01-15T23:48:36.290448Z"
    },
    "papermill": {
     "duration": 0.015199,
     "end_time": "2022-01-15T23:48:36.290638",
     "exception": false,
     "start_time": "2022-01-15T23:48:36.275439",
     "status": "completed"
    },
    "tags": []
   },
   "outputs": [],
   "source": [
    "pbt_news_DF['Net Gas Volume (PBT News)'] = pbt_news_DF['Net Oil Volume (PBT News)'].apply(lambda x: int(x.split(' ')[1]\\\n",
    "                                                                                  .replace(',', '')\\\n",
    "                                                                                 .replace('*','')))\n",
    "\n",
    "pbt_news_DF['Net Oil Volume (PBT News)'] = pbt_news_DF['Net Oil Volume (PBT News)'].apply(lambda x: int(x.split(' ')[0].replace(',', '')))"
   ]
  },
  {
   "cell_type": "markdown",
   "id": "aaccf39d",
   "metadata": {
    "papermill": {
     "duration": 0.008189,
     "end_time": "2022-01-15T23:48:36.307163",
     "exception": false,
     "start_time": "2022-01-15T23:48:36.298974",
     "status": "completed"
    },
    "tags": []
   },
   "source": [
    "### Cleaning Prices Columns by removing asterisks and Dollar Sign"
   ]
  },
  {
   "cell_type": "code",
   "execution_count": 11,
   "id": "e2b7313b",
   "metadata": {
    "execution": {
     "iopub.execute_input": "2022-01-15T23:48:36.326417Z",
     "iopub.status.busy": "2022-01-15T23:48:36.325890Z",
     "iopub.status.idle": "2022-01-15T23:48:36.327785Z",
     "shell.execute_reply": "2022-01-15T23:48:36.328194Z"
    },
    "papermill": {
     "duration": 0.013519,
     "end_time": "2022-01-15T23:48:36.328400",
     "exception": false,
     "start_time": "2022-01-15T23:48:36.314881",
     "status": "completed"
    },
    "tags": []
   },
   "outputs": [],
   "source": [
    "pbt_news_DF['Average Gas Price'] = pbt_news_DF['Average Gas Price'].apply(lambda x: x.replace('$','').replace('**',''))\n",
    "\n",
    "pbt_news_DF['Average Oil Price'] = pbt_news_DF['Average Oil Price'].apply(lambda x: x.replace('$','').replace('**',''))"
   ]
  },
  {
   "cell_type": "code",
   "execution_count": 12,
   "id": "db418091",
   "metadata": {
    "execution": {
     "iopub.execute_input": "2022-01-15T23:48:36.346911Z",
     "iopub.status.busy": "2022-01-15T23:48:36.346271Z",
     "iopub.status.idle": "2022-01-15T23:48:36.347737Z",
     "shell.execute_reply": "2022-01-15T23:48:36.347987Z"
    },
    "papermill": {
     "duration": 0.011973,
     "end_time": "2022-01-15T23:48:36.348115",
     "exception": false,
     "start_time": "2022-01-15T23:48:36.336142",
     "status": "completed"
    },
    "tags": []
   },
   "outputs": [],
   "source": [
    "#filtering table to the 'current month' values\n",
    "pbt_news_DF = pbt_news_DF.head(2)"
   ]
  },
  {
   "cell_type": "code",
   "execution_count": 13,
   "id": "f7e14200",
   "metadata": {
    "execution": {
     "iopub.execute_input": "2022-01-15T23:48:36.369499Z",
     "iopub.status.busy": "2022-01-15T23:48:36.368922Z",
     "iopub.status.idle": "2022-01-15T23:48:36.370722Z",
     "shell.execute_reply": "2022-01-15T23:48:36.371218Z"
    },
    "papermill": {
     "duration": 0.015315,
     "end_time": "2022-01-15T23:48:36.371383",
     "exception": false,
     "start_time": "2022-01-15T23:48:36.356068",
     "status": "completed"
    },
    "tags": []
   },
   "outputs": [
    {
     "data": {
      "text/html": [
       "<div>\n",
       "<style scoped>\n",
       "    .dataframe tbody tr th:only-of-type {\n",
       "        vertical-align: middle;\n",
       "    }\n",
       "\n",
       "    .dataframe tbody tr th {\n",
       "        vertical-align: top;\n",
       "    }\n",
       "\n",
       "    .dataframe thead th {\n",
       "        text-align: right;\n",
       "    }\n",
       "</style>\n",
       "<table border=\"1\" class=\"dataframe\">\n",
       "  <thead>\n",
       "    <tr style=\"text-align: right;\">\n",
       "      <th></th>\n",
       "      <th>Property</th>\n",
       "      <th>Gross Oil Volume (PBT News)</th>\n",
       "      <th>Net Oil Volume (PBT News)</th>\n",
       "      <th>Average Oil Price</th>\n",
       "      <th>Average Gas Price</th>\n",
       "      <th>Gross Gas Volume (PBT News)</th>\n",
       "      <th>Net Gas Volume (PBT News)</th>\n",
       "    </tr>\n",
       "  </thead>\n",
       "  <tbody>\n",
       "    <tr>\n",
       "      <th>5</th>\n",
       "      <td>Waddell Ranch</td>\n",
       "      <td>94554</td>\n",
       "      <td>70916</td>\n",
       "      <td>63.97</td>\n",
       "      <td>2.61</td>\n",
       "      <td>194689</td>\n",
       "      <td>146017</td>\n",
       "    </tr>\n",
       "    <tr>\n",
       "      <th>6</th>\n",
       "      <td>Texas Royalties</td>\n",
       "      <td>19114</td>\n",
       "      <td>16949</td>\n",
       "      <td>61.94</td>\n",
       "      <td>6.62</td>\n",
       "      <td>10523</td>\n",
       "      <td>9333</td>\n",
       "    </tr>\n",
       "  </tbody>\n",
       "</table>\n",
       "</div>"
      ],
      "text/plain": [
       "          Property  Gross Oil Volume (PBT News)  Net Oil Volume (PBT News)  \\\n",
       "5    Waddell Ranch                        94554                      70916   \n",
       "6  Texas Royalties                        19114                      16949   \n",
       "\n",
       "  Average Oil Price Average Gas Price  Gross Gas Volume (PBT News)  \\\n",
       "5             63.97              2.61                       194689   \n",
       "6             61.94              6.62                        10523   \n",
       "\n",
       "   Net Gas Volume (PBT News)  \n",
       "5                     146017  \n",
       "6                       9333  "
      ]
     },
     "execution_count": 13,
     "metadata": {},
     "output_type": "execute_result"
    }
   ],
   "source": [
    "pbt_news_DF"
   ]
  },
  {
   "cell_type": "code",
   "execution_count": 14,
   "id": "3418a45d",
   "metadata": {
    "execution": {
     "iopub.execute_input": "2022-01-15T23:48:36.390962Z",
     "iopub.status.busy": "2022-01-15T23:48:36.390572Z",
     "iopub.status.idle": "2022-01-15T23:48:36.391961Z",
     "shell.execute_reply": "2022-01-15T23:48:36.392204Z"
    },
    "papermill": {
     "duration": 0.011925,
     "end_time": "2022-01-15T23:48:36.392327",
     "exception": false,
     "start_time": "2022-01-15T23:48:36.380402",
     "status": "completed"
    },
    "tags": []
   },
   "outputs": [],
   "source": [
    "date_from_filename = news_file_name.split(',')[1]\\\n",
    "                                    .split('.')[0]\\\n",
    "                                    .strip()\\\n",
    "                                    .replace(' prod', '')"
   ]
  },
  {
   "cell_type": "code",
   "execution_count": 15,
   "id": "7f62808a",
   "metadata": {
    "execution": {
     "iopub.execute_input": "2022-01-15T23:48:36.412136Z",
     "iopub.status.busy": "2022-01-15T23:48:36.411727Z",
     "iopub.status.idle": "2022-01-15T23:48:36.413002Z",
     "shell.execute_reply": "2022-01-15T23:48:36.413298Z"
    },
    "papermill": {
     "duration": 0.01303,
     "end_time": "2022-01-15T23:48:36.413428",
     "exception": false,
     "start_time": "2022-01-15T23:48:36.400398",
     "status": "completed"
    },
    "tags": []
   },
   "outputs": [],
   "source": [
    "pbt_news_DF.insert(0, 'Date', date_from_filename.title())"
   ]
  },
  {
   "cell_type": "code",
   "execution_count": 16,
   "id": "30dfab25",
   "metadata": {
    "execution": {
     "iopub.execute_input": "2022-01-15T23:48:36.434448Z",
     "iopub.status.busy": "2022-01-15T23:48:36.433992Z",
     "iopub.status.idle": "2022-01-15T23:48:36.435896Z",
     "shell.execute_reply": "2022-01-15T23:48:36.436161Z"
    },
    "papermill": {
     "duration": 0.015046,
     "end_time": "2022-01-15T23:48:36.436290",
     "exception": false,
     "start_time": "2022-01-15T23:48:36.421244",
     "status": "completed"
    },
    "tags": []
   },
   "outputs": [
    {
     "data": {
      "text/html": [
       "<div>\n",
       "<style scoped>\n",
       "    .dataframe tbody tr th:only-of-type {\n",
       "        vertical-align: middle;\n",
       "    }\n",
       "\n",
       "    .dataframe tbody tr th {\n",
       "        vertical-align: top;\n",
       "    }\n",
       "\n",
       "    .dataframe thead th {\n",
       "        text-align: right;\n",
       "    }\n",
       "</style>\n",
       "<table border=\"1\" class=\"dataframe\">\n",
       "  <thead>\n",
       "    <tr style=\"text-align: right;\">\n",
       "      <th></th>\n",
       "      <th>Date</th>\n",
       "      <th>Property</th>\n",
       "      <th>Gross Oil Volume (PBT News)</th>\n",
       "      <th>Net Oil Volume (PBT News)</th>\n",
       "      <th>Average Oil Price</th>\n",
       "      <th>Average Gas Price</th>\n",
       "      <th>Gross Gas Volume (PBT News)</th>\n",
       "      <th>Net Gas Volume (PBT News)</th>\n",
       "    </tr>\n",
       "  </thead>\n",
       "  <tbody>\n",
       "    <tr>\n",
       "      <th>5</th>\n",
       "      <td>May 2021</td>\n",
       "      <td>Waddell Ranch</td>\n",
       "      <td>94554</td>\n",
       "      <td>70916</td>\n",
       "      <td>63.97</td>\n",
       "      <td>2.61</td>\n",
       "      <td>194689</td>\n",
       "      <td>146017</td>\n",
       "    </tr>\n",
       "    <tr>\n",
       "      <th>6</th>\n",
       "      <td>May 2021</td>\n",
       "      <td>Texas Royalties</td>\n",
       "      <td>19114</td>\n",
       "      <td>16949</td>\n",
       "      <td>61.94</td>\n",
       "      <td>6.62</td>\n",
       "      <td>10523</td>\n",
       "      <td>9333</td>\n",
       "    </tr>\n",
       "  </tbody>\n",
       "</table>\n",
       "</div>"
      ],
      "text/plain": [
       "       Date         Property  Gross Oil Volume (PBT News)  \\\n",
       "5  May 2021    Waddell Ranch                        94554   \n",
       "6  May 2021  Texas Royalties                        19114   \n",
       "\n",
       "   Net Oil Volume (PBT News) Average Oil Price Average Gas Price  \\\n",
       "5                      70916             63.97              2.61   \n",
       "6                      16949             61.94              6.62   \n",
       "\n",
       "   Gross Gas Volume (PBT News)  Net Gas Volume (PBT News)  \n",
       "5                       194689                     146017  \n",
       "6                        10523                       9333  "
      ]
     },
     "execution_count": 16,
     "metadata": {},
     "output_type": "execute_result"
    }
   ],
   "source": [
    "pbt_news_DF"
   ]
  },
  {
   "cell_type": "markdown",
   "id": "84a27d62",
   "metadata": {
    "papermill": {
     "duration": 0.008045,
     "end_time": "2022-01-15T23:48:36.452629",
     "exception": false,
     "start_time": "2022-01-15T23:48:36.444584",
     "status": "completed"
    },
    "tags": []
   },
   "source": [
    "# Write Table to File"
   ]
  },
  {
   "cell_type": "code",
   "execution_count": 17,
   "id": "0d50b451",
   "metadata": {
    "execution": {
     "iopub.execute_input": "2022-01-15T23:48:36.471414Z",
     "iopub.status.busy": "2022-01-15T23:48:36.471014Z",
     "iopub.status.idle": "2022-01-15T23:48:36.472760Z",
     "shell.execute_reply": "2022-01-15T23:48:36.473000Z"
    },
    "papermill": {
     "duration": 0.012452,
     "end_time": "2022-01-15T23:48:36.473120",
     "exception": false,
     "start_time": "2022-01-15T23:48:36.460668",
     "status": "completed"
    },
    "tags": []
   },
   "outputs": [
    {
     "data": {
      "text/plain": [
       "'july 2021 news, may 2021 prod.csv'"
      ]
     },
     "execution_count": 17,
     "metadata": {},
     "output_type": "execute_result"
    }
   ],
   "source": [
    "to_file_name = news_file_name.split('.')[0] + '.csv'\n",
    "\n",
    "to_file_name"
   ]
  },
  {
   "cell_type": "code",
   "execution_count": 18,
   "id": "b51450e5",
   "metadata": {
    "execution": {
     "iopub.execute_input": "2022-01-15T23:48:36.493595Z",
     "iopub.status.busy": "2022-01-15T23:48:36.493194Z",
     "iopub.status.idle": "2022-01-15T23:48:36.496240Z",
     "shell.execute_reply": "2022-01-15T23:48:36.496503Z"
    },
    "papermill": {
     "duration": 0.014295,
     "end_time": "2022-01-15T23:48:36.496632",
     "exception": false,
     "start_time": "2022-01-15T23:48:36.482337",
     "status": "completed"
    },
    "tags": []
   },
   "outputs": [],
   "source": [
    "pbt_news_DF.to_csv(f'{processed_data_folder}/pbt_news_prod/{to_file_name}', index = False)"
   ]
  },
  {
   "cell_type": "code",
   "execution_count": null,
   "id": "dfa563b5",
   "metadata": {
    "papermill": {
     "duration": 0.008237,
     "end_time": "2022-01-15T23:48:36.513270",
     "exception": false,
     "start_time": "2022-01-15T23:48:36.505033",
     "status": "completed"
    },
    "tags": []
   },
   "outputs": [],
   "source": []
  }
 ],
 "metadata": {
  "celltoolbar": "Tags",
  "kernelspec": {
   "display_name": "Python 3 (ipykernel)",
   "language": "python",
   "name": "python3"
  },
  "language_info": {
   "codemirror_mode": {
    "name": "ipython",
    "version": 3
   },
   "file_extension": ".py",
   "mimetype": "text/x-python",
   "name": "python",
   "nbconvert_exporter": "python",
   "pygments_lexer": "ipython3",
   "version": "3.9.7"
  },
  "papermill": {
   "default_parameters": {},
   "duration": 4.904074,
   "end_time": "2022-01-15T23:48:36.728457",
   "environment_variables": {},
   "exception": null,
   "input_path": "3. Ingest PBT News Release PDFs.ipynb",
   "output_path": "output_notebooks/pbt_news_runs/july 2021 news, may 2021 prod.pdf.ipynb",
   "parameters": {
    "news_file_name": "july 2021 news, may 2021 prod.pdf"
   },
   "start_time": "2022-01-15T23:48:31.824383",
   "version": "2.3.3"
  }
 },
 "nbformat": 4,
 "nbformat_minor": 5
}