{
 "cells": [
  {
   "cell_type": "markdown",
   "id": "3bf9f2f8",
   "metadata": {
    "papermill": {
     "duration": 0.026644,
     "end_time": "2022-01-16T20:34:49.161552",
     "exception": false,
     "start_time": "2022-01-16T20:34:49.134908",
     "status": "completed"
    },
    "tags": []
   },
   "source": [
    "# Ingest PBT News Releases"
   ]
  },
  {
   "cell_type": "code",
   "execution_count": 1,
   "id": "f63d6cde",
   "metadata": {
    "execution": {
     "iopub.execute_input": "2022-01-16T20:34:49.183602Z",
     "iopub.status.busy": "2022-01-16T20:34:49.183136Z",
     "iopub.status.idle": "2022-01-16T20:34:50.013190Z",
     "shell.execute_reply": "2022-01-16T20:34:50.013478Z"
    },
    "papermill": {
     "duration": 0.844199,
     "end_time": "2022-01-16T20:34:50.013780",
     "exception": false,
     "start_time": "2022-01-16T20:34:49.169581",
     "status": "completed"
    },
    "tags": []
   },
   "outputs": [],
   "source": [
    "from tabula import read_pdf"
   ]
  },
  {
   "cell_type": "code",
   "execution_count": 2,
   "id": "b68a4e59",
   "metadata": {
    "execution": {
     "iopub.execute_input": "2022-01-16T20:34:50.031571Z",
     "iopub.status.busy": "2022-01-16T20:34:50.030999Z",
     "iopub.status.idle": "2022-01-16T20:34:50.057333Z",
     "shell.execute_reply": "2022-01-16T20:34:50.057594Z"
    },
    "papermill": {
     "duration": 0.036024,
     "end_time": "2022-01-16T20:34:50.057730",
     "exception": false,
     "start_time": "2022-01-16T20:34:50.021706",
     "status": "completed"
    },
    "tags": []
   },
   "outputs": [],
   "source": [
    "%run configs.ipynb"
   ]
  },
  {
   "cell_type": "code",
   "execution_count": 3,
   "id": "b5516fe2",
   "metadata": {
    "execution": {
     "iopub.execute_input": "2022-01-16T20:34:50.072683Z",
     "iopub.status.busy": "2022-01-16T20:34:50.072304Z",
     "iopub.status.idle": "2022-01-16T20:34:50.073608Z",
     "shell.execute_reply": "2022-01-16T20:34:50.073847Z"
    },
    "papermill": {
     "duration": 0.00974,
     "end_time": "2022-01-16T20:34:50.073962",
     "exception": false,
     "start_time": "2022-01-16T20:34:50.064222",
     "status": "completed"
    },
    "tags": [
     "parameters"
    ]
   },
   "outputs": [],
   "source": [
    "#parameters cell\n",
    "news_file_name = 'dec 2021 news, oct 2021 prod.pdf'"
   ]
  },
  {
   "cell_type": "code",
   "execution_count": 4,
   "id": "57db6274",
   "metadata": {
    "execution": {
     "iopub.execute_input": "2022-01-16T20:34:50.088694Z",
     "iopub.status.busy": "2022-01-16T20:34:50.088332Z",
     "iopub.status.idle": "2022-01-16T20:34:50.089580Z",
     "shell.execute_reply": "2022-01-16T20:34:50.089820Z"
    },
    "papermill": {
     "duration": 0.009572,
     "end_time": "2022-01-16T20:34:50.089938",
     "exception": false,
     "start_time": "2022-01-16T20:34:50.080366",
     "status": "completed"
    },
    "tags": [
     "injected-parameters"
    ]
   },
   "outputs": [],
   "source": [
    "# Parameters\n",
    "news_file_name = \"sept 2021 news, jul 2021 prod.pdf\"\n"
   ]
  },
  {
   "cell_type": "code",
   "execution_count": 5,
   "id": "89d75a6d",
   "metadata": {
    "execution": {
     "iopub.execute_input": "2022-01-16T20:34:50.105123Z",
     "iopub.status.busy": "2022-01-16T20:34:50.104734Z",
     "iopub.status.idle": "2022-01-16T20:34:53.049313Z",
     "shell.execute_reply": "2022-01-16T20:34:53.049588Z"
    },
    "papermill": {
     "duration": 2.953381,
     "end_time": "2022-01-16T20:34:53.049788",
     "exception": false,
     "start_time": "2022-01-16T20:34:50.096407",
     "status": "completed"
    },
    "tags": []
   },
   "outputs": [
    {
     "name": "stderr",
     "output_type": "stream",
     "text": [
      "'pages' argument isn't specified.Will extract only from page 1 by default.\n"
     ]
    },
    {
     "data": {
      "text/html": [
       "<div>\n",
       "<style scoped>\n",
       "    .dataframe tbody tr th:only-of-type {\n",
       "        vertical-align: middle;\n",
       "    }\n",
       "\n",
       "    .dataframe tbody tr th {\n",
       "        vertical-align: top;\n",
       "    }\n",
       "\n",
       "    .dataframe thead th {\n",
       "        text-align: right;\n",
       "    }\n",
       "</style>\n",
       "<table border=\"1\" class=\"dataframe\">\n",
       "  <thead>\n",
       "    <tr style=\"text-align: right;\">\n",
       "      <th></th>\n",
       "      <th>Unnamed: 0</th>\n",
       "      <th>Unnamed: 1</th>\n",
       "      <th>Unnamed: 2</th>\n",
       "      <th>Unnamed: 3</th>\n",
       "      <th>Unnamed: 4</th>\n",
       "    </tr>\n",
       "  </thead>\n",
       "  <tbody>\n",
       "    <tr>\n",
       "      <th>0</th>\n",
       "      <td>NaN</td>\n",
       "      <td>Underlying Properties</td>\n",
       "      <td>Net to Trust Sales</td>\n",
       "      <td>NaN</td>\n",
       "      <td>NaN</td>\n",
       "    </tr>\n",
       "    <tr>\n",
       "      <th>1</th>\n",
       "      <td>NaN</td>\n",
       "      <td>Volumes</td>\n",
       "      <td>Volumes</td>\n",
       "      <td>Average</td>\n",
       "      <td>Price</td>\n",
       "    </tr>\n",
       "    <tr>\n",
       "      <th>2</th>\n",
       "      <td>NaN</td>\n",
       "      <td>Oil  Gas</td>\n",
       "      <td>Oil  Gas</td>\n",
       "      <td>Oil</td>\n",
       "      <td>Gas</td>\n",
       "    </tr>\n",
       "    <tr>\n",
       "      <th>3</th>\n",
       "      <td>NaN</td>\n",
       "      <td>(bbls) (Mcf)</td>\n",
       "      <td>(bbls) (Mcf)</td>\n",
       "      <td>(per bbl)</td>\n",
       "      <td>(per Mcf)</td>\n",
       "    </tr>\n",
       "    <tr>\n",
       "      <th>4</th>\n",
       "      <td>Current Month</td>\n",
       "      <td>NaN</td>\n",
       "      <td>NaN</td>\n",
       "      <td>NaN</td>\n",
       "      <td>NaN</td>\n",
       "    </tr>\n",
       "    <tr>\n",
       "      <th>5</th>\n",
       "      <td>Waddell Ranch</td>\n",
       "      <td>102,735 249,359</td>\n",
       "      <td>77,051 187,019*</td>\n",
       "      <td>$71.32</td>\n",
       "      <td>$3.45**</td>\n",
       "    </tr>\n",
       "    <tr>\n",
       "      <th>6</th>\n",
       "      <td>Texas Royalties</td>\n",
       "      <td>17,690 11,870</td>\n",
       "      <td>15,772 10,570*</td>\n",
       "      <td>$71.11</td>\n",
       "      <td>$8.09**</td>\n",
       "    </tr>\n",
       "    <tr>\n",
       "      <th>7</th>\n",
       "      <td>NaN</td>\n",
       "      <td>NaN</td>\n",
       "      <td>NaN</td>\n",
       "      <td>NaN</td>\n",
       "      <td>NaN</td>\n",
       "    </tr>\n",
       "    <tr>\n",
       "      <th>8</th>\n",
       "      <td>Prior Month</td>\n",
       "      <td>NaN</td>\n",
       "      <td>NaN</td>\n",
       "      <td>NaN</td>\n",
       "      <td>NaN</td>\n",
       "    </tr>\n",
       "    <tr>\n",
       "      <th>9</th>\n",
       "      <td>Waddell Ranch</td>\n",
       "      <td>90,258 220,120</td>\n",
       "      <td>67,694 165,090*</td>\n",
       "      <td>$70.22</td>\n",
       "      <td>$4.21**</td>\n",
       "    </tr>\n",
       "    <tr>\n",
       "      <th>10</th>\n",
       "      <td>Texas Royalties</td>\n",
       "      <td>17,820 9,894</td>\n",
       "      <td>15,854 8,797*</td>\n",
       "      <td>$69.06</td>\n",
       "      <td>$7.89**</td>\n",
       "    </tr>\n",
       "  </tbody>\n",
       "</table>\n",
       "</div>"
      ],
      "text/plain": [
       "         Unnamed: 0             Unnamed: 1          Unnamed: 2 Unnamed: 3  \\\n",
       "0               NaN  Underlying Properties  Net to Trust Sales        NaN   \n",
       "1               NaN                Volumes             Volumes    Average   \n",
       "2               NaN               Oil  Gas            Oil  Gas        Oil   \n",
       "3               NaN           (bbls) (Mcf)        (bbls) (Mcf)  (per bbl)   \n",
       "4     Current Month                    NaN                 NaN        NaN   \n",
       "5     Waddell Ranch        102,735 249,359     77,051 187,019*     $71.32   \n",
       "6   Texas Royalties          17,690 11,870      15,772 10,570*     $71.11   \n",
       "7               NaN                    NaN                 NaN        NaN   \n",
       "8       Prior Month                    NaN                 NaN        NaN   \n",
       "9     Waddell Ranch         90,258 220,120     67,694 165,090*     $70.22   \n",
       "10  Texas Royalties           17,820 9,894       15,854 8,797*     $69.06   \n",
       "\n",
       "   Unnamed: 4  \n",
       "0         NaN  \n",
       "1       Price  \n",
       "2         Gas  \n",
       "3   (per Mcf)  \n",
       "4         NaN  \n",
       "5     $3.45**  \n",
       "6     $8.09**  \n",
       "7         NaN  \n",
       "8         NaN  \n",
       "9     $4.21**  \n",
       "10    $7.89**  "
      ]
     },
     "execution_count": 5,
     "metadata": {},
     "output_type": "execute_result"
    }
   ],
   "source": [
    "pbt_news_DF = read_pdf(f'{raw_data_folder}/pbt_news/2021/{news_file_name}')[0]\n",
    "\n",
    "pbt_news_DF"
   ]
  },
  {
   "cell_type": "code",
   "execution_count": 6,
   "id": "5ad174f1",
   "metadata": {
    "execution": {
     "iopub.execute_input": "2022-01-16T20:34:53.069862Z",
     "iopub.status.busy": "2022-01-16T20:34:53.069476Z",
     "iopub.status.idle": "2022-01-16T20:34:53.070897Z",
     "shell.execute_reply": "2022-01-16T20:34:53.071156Z"
    },
    "papermill": {
     "duration": 0.012467,
     "end_time": "2022-01-16T20:34:53.071283",
     "exception": false,
     "start_time": "2022-01-16T20:34:53.058816",
     "status": "completed"
    },
    "tags": []
   },
   "outputs": [],
   "source": [
    "cols_pdf = 'Property', 'Gross Oil Volume (PBT News)', 'Net Oil Volume (PBT News)', 'Average Oil Price', 'Average Gas Price'\n",
    "pbt_news_DF.columns = cols_pdf"
   ]
  },
  {
   "cell_type": "code",
   "execution_count": 7,
   "id": "9e1a6833",
   "metadata": {
    "execution": {
     "iopub.execute_input": "2022-01-16T20:34:53.092394Z",
     "iopub.status.busy": "2022-01-16T20:34:53.091994Z",
     "iopub.status.idle": "2022-01-16T20:34:53.093735Z",
     "shell.execute_reply": "2022-01-16T20:34:53.093980Z"
    },
    "papermill": {
     "duration": 0.015517,
     "end_time": "2022-01-16T20:34:53.094105",
     "exception": false,
     "start_time": "2022-01-16T20:34:53.078588",
     "status": "completed"
    },
    "tags": []
   },
   "outputs": [
    {
     "data": {
      "text/html": [
       "<div>\n",
       "<style scoped>\n",
       "    .dataframe tbody tr th:only-of-type {\n",
       "        vertical-align: middle;\n",
       "    }\n",
       "\n",
       "    .dataframe tbody tr th {\n",
       "        vertical-align: top;\n",
       "    }\n",
       "\n",
       "    .dataframe thead th {\n",
       "        text-align: right;\n",
       "    }\n",
       "</style>\n",
       "<table border=\"1\" class=\"dataframe\">\n",
       "  <thead>\n",
       "    <tr style=\"text-align: right;\">\n",
       "      <th></th>\n",
       "      <th>Property</th>\n",
       "      <th>Gross Oil Volume (PBT News)</th>\n",
       "      <th>Net Oil Volume (PBT News)</th>\n",
       "      <th>Average Oil Price</th>\n",
       "      <th>Average Gas Price</th>\n",
       "    </tr>\n",
       "  </thead>\n",
       "  <tbody>\n",
       "    <tr>\n",
       "      <th>5</th>\n",
       "      <td>Waddell Ranch</td>\n",
       "      <td>102,735 249,359</td>\n",
       "      <td>77,051 187,019*</td>\n",
       "      <td>$71.32</td>\n",
       "      <td>$3.45**</td>\n",
       "    </tr>\n",
       "    <tr>\n",
       "      <th>6</th>\n",
       "      <td>Texas Royalties</td>\n",
       "      <td>17,690 11,870</td>\n",
       "      <td>15,772 10,570*</td>\n",
       "      <td>$71.11</td>\n",
       "      <td>$8.09**</td>\n",
       "    </tr>\n",
       "    <tr>\n",
       "      <th>9</th>\n",
       "      <td>Waddell Ranch</td>\n",
       "      <td>90,258 220,120</td>\n",
       "      <td>67,694 165,090*</td>\n",
       "      <td>$70.22</td>\n",
       "      <td>$4.21**</td>\n",
       "    </tr>\n",
       "    <tr>\n",
       "      <th>10</th>\n",
       "      <td>Texas Royalties</td>\n",
       "      <td>17,820 9,894</td>\n",
       "      <td>15,854 8,797*</td>\n",
       "      <td>$69.06</td>\n",
       "      <td>$7.89**</td>\n",
       "    </tr>\n",
       "  </tbody>\n",
       "</table>\n",
       "</div>"
      ],
      "text/plain": [
       "           Property Gross Oil Volume (PBT News) Net Oil Volume (PBT News)  \\\n",
       "5     Waddell Ranch             102,735 249,359           77,051 187,019*   \n",
       "6   Texas Royalties               17,690 11,870            15,772 10,570*   \n",
       "9     Waddell Ranch              90,258 220,120           67,694 165,090*   \n",
       "10  Texas Royalties                17,820 9,894             15,854 8,797*   \n",
       "\n",
       "   Average Oil Price Average Gas Price  \n",
       "5             $71.32           $3.45**  \n",
       "6             $71.11           $8.09**  \n",
       "9             $70.22           $4.21**  \n",
       "10            $69.06           $7.89**  "
      ]
     },
     "execution_count": 7,
     "metadata": {},
     "output_type": "execute_result"
    }
   ],
   "source": [
    "pbt_news_DF.dropna(inplace = True)\n",
    "pbt_news_DF"
   ]
  },
  {
   "cell_type": "markdown",
   "id": "9ea8667f",
   "metadata": {
    "papermill": {
     "duration": 0.007176,
     "end_time": "2022-01-16T20:34:53.108535",
     "exception": false,
     "start_time": "2022-01-16T20:34:53.101359",
     "status": "completed"
    },
    "tags": []
   },
   "source": [
    "### Splitting Net Oil Column to Get Gas Volume\n",
    "### Applying Text Cleaning to remove commas"
   ]
  },
  {
   "cell_type": "code",
   "execution_count": 8,
   "id": "0e4b24f4",
   "metadata": {
    "execution": {
     "iopub.execute_input": "2022-01-16T20:34:53.126928Z",
     "iopub.status.busy": "2022-01-16T20:34:53.126551Z",
     "iopub.status.idle": "2022-01-16T20:34:53.128009Z",
     "shell.execute_reply": "2022-01-16T20:34:53.128270Z"
    },
    "papermill": {
     "duration": 0.012755,
     "end_time": "2022-01-16T20:34:53.128407",
     "exception": false,
     "start_time": "2022-01-16T20:34:53.115652",
     "status": "completed"
    },
    "tags": []
   },
   "outputs": [],
   "source": [
    "pbt_news_DF['Gross Gas Volume (PBT News)'] = pbt_news_DF['Gross Oil Volume (PBT News)'].apply(lambda x: int(x.split(' ')[1].replace(',', '')))\n",
    "\n",
    "pbt_news_DF['Gross Oil Volume (PBT News)'] = pbt_news_DF['Gross Oil Volume (PBT News)'].apply(lambda x: int(x.split(' ')[0].replace(',', '')))"
   ]
  },
  {
   "cell_type": "code",
   "execution_count": 9,
   "id": "735d5051",
   "metadata": {
    "execution": {
     "iopub.execute_input": "2022-01-16T20:34:53.148368Z",
     "iopub.status.busy": "2022-01-16T20:34:53.147931Z",
     "iopub.status.idle": "2022-01-16T20:34:53.149756Z",
     "shell.execute_reply": "2022-01-16T20:34:53.150001Z"
    },
    "papermill": {
     "duration": 0.014434,
     "end_time": "2022-01-16T20:34:53.150124",
     "exception": false,
     "start_time": "2022-01-16T20:34:53.135690",
     "status": "completed"
    },
    "tags": []
   },
   "outputs": [
    {
     "data": {
      "text/html": [
       "<div>\n",
       "<style scoped>\n",
       "    .dataframe tbody tr th:only-of-type {\n",
       "        vertical-align: middle;\n",
       "    }\n",
       "\n",
       "    .dataframe tbody tr th {\n",
       "        vertical-align: top;\n",
       "    }\n",
       "\n",
       "    .dataframe thead th {\n",
       "        text-align: right;\n",
       "    }\n",
       "</style>\n",
       "<table border=\"1\" class=\"dataframe\">\n",
       "  <thead>\n",
       "    <tr style=\"text-align: right;\">\n",
       "      <th></th>\n",
       "      <th>Property</th>\n",
       "      <th>Gross Oil Volume (PBT News)</th>\n",
       "      <th>Net Oil Volume (PBT News)</th>\n",
       "      <th>Average Oil Price</th>\n",
       "      <th>Average Gas Price</th>\n",
       "      <th>Gross Gas Volume (PBT News)</th>\n",
       "    </tr>\n",
       "  </thead>\n",
       "  <tbody>\n",
       "    <tr>\n",
       "      <th>5</th>\n",
       "      <td>Waddell Ranch</td>\n",
       "      <td>102735</td>\n",
       "      <td>77,051 187,019*</td>\n",
       "      <td>$71.32</td>\n",
       "      <td>$3.45**</td>\n",
       "      <td>249359</td>\n",
       "    </tr>\n",
       "    <tr>\n",
       "      <th>6</th>\n",
       "      <td>Texas Royalties</td>\n",
       "      <td>17690</td>\n",
       "      <td>15,772 10,570*</td>\n",
       "      <td>$71.11</td>\n",
       "      <td>$8.09**</td>\n",
       "      <td>11870</td>\n",
       "    </tr>\n",
       "    <tr>\n",
       "      <th>9</th>\n",
       "      <td>Waddell Ranch</td>\n",
       "      <td>90258</td>\n",
       "      <td>67,694 165,090*</td>\n",
       "      <td>$70.22</td>\n",
       "      <td>$4.21**</td>\n",
       "      <td>220120</td>\n",
       "    </tr>\n",
       "    <tr>\n",
       "      <th>10</th>\n",
       "      <td>Texas Royalties</td>\n",
       "      <td>17820</td>\n",
       "      <td>15,854 8,797*</td>\n",
       "      <td>$69.06</td>\n",
       "      <td>$7.89**</td>\n",
       "      <td>9894</td>\n",
       "    </tr>\n",
       "  </tbody>\n",
       "</table>\n",
       "</div>"
      ],
      "text/plain": [
       "           Property  Gross Oil Volume (PBT News) Net Oil Volume (PBT News)  \\\n",
       "5     Waddell Ranch                       102735           77,051 187,019*   \n",
       "6   Texas Royalties                        17690            15,772 10,570*   \n",
       "9     Waddell Ranch                        90258           67,694 165,090*   \n",
       "10  Texas Royalties                        17820             15,854 8,797*   \n",
       "\n",
       "   Average Oil Price Average Gas Price  Gross Gas Volume (PBT News)  \n",
       "5             $71.32           $3.45**                       249359  \n",
       "6             $71.11           $8.09**                        11870  \n",
       "9             $70.22           $4.21**                       220120  \n",
       "10            $69.06           $7.89**                         9894  "
      ]
     },
     "execution_count": 9,
     "metadata": {},
     "output_type": "execute_result"
    }
   ],
   "source": [
    "pbt_news_DF"
   ]
  },
  {
   "cell_type": "markdown",
   "id": "27cceb93",
   "metadata": {
    "papermill": {
     "duration": 0.008004,
     "end_time": "2022-01-16T20:34:53.166593",
     "exception": false,
     "start_time": "2022-01-16T20:34:53.158589",
     "status": "completed"
    },
    "tags": []
   },
   "source": [
    "### Splitting Net Oil Column to Get Gas Volume\n",
    "### Applying Text Cleaning to remove commas and asterisks"
   ]
  },
  {
   "cell_type": "code",
   "execution_count": 10,
   "id": "36f1f177",
   "metadata": {
    "execution": {
     "iopub.execute_input": "2022-01-16T20:34:53.185713Z",
     "iopub.status.busy": "2022-01-16T20:34:53.185293Z",
     "iopub.status.idle": "2022-01-16T20:34:53.186491Z",
     "shell.execute_reply": "2022-01-16T20:34:53.186787Z"
    },
    "papermill": {
     "duration": 0.012833,
     "end_time": "2022-01-16T20:34:53.186918",
     "exception": false,
     "start_time": "2022-01-16T20:34:53.174085",
     "status": "completed"
    },
    "tags": []
   },
   "outputs": [],
   "source": [
    "pbt_news_DF['Net Gas Volume (PBT News)'] = pbt_news_DF['Net Oil Volume (PBT News)'].apply(lambda x: int(x.split(' ')[1]\\\n",
    "                                                                                  .replace(',', '')\\\n",
    "                                                                                 .replace('*','')))\n",
    "\n",
    "pbt_news_DF['Net Oil Volume (PBT News)'] = pbt_news_DF['Net Oil Volume (PBT News)'].apply(lambda x: int(x.split(' ')[0].replace(',', '')))"
   ]
  },
  {
   "cell_type": "markdown",
   "id": "f78ceacc",
   "metadata": {
    "papermill": {
     "duration": 0.007514,
     "end_time": "2022-01-16T20:34:53.201972",
     "exception": false,
     "start_time": "2022-01-16T20:34:53.194458",
     "status": "completed"
    },
    "tags": []
   },
   "source": [
    "### Cleaning Prices Columns by removing asterisks and Dollar Sign"
   ]
  },
  {
   "cell_type": "code",
   "execution_count": 11,
   "id": "670ab6d8",
   "metadata": {
    "execution": {
     "iopub.execute_input": "2022-01-16T20:34:53.220393Z",
     "iopub.status.busy": "2022-01-16T20:34:53.220014Z",
     "iopub.status.idle": "2022-01-16T20:34:53.221436Z",
     "shell.execute_reply": "2022-01-16T20:34:53.221845Z"
    },
    "papermill": {
     "duration": 0.012548,
     "end_time": "2022-01-16T20:34:53.221977",
     "exception": false,
     "start_time": "2022-01-16T20:34:53.209429",
     "status": "completed"
    },
    "tags": []
   },
   "outputs": [],
   "source": [
    "pbt_news_DF['Average Gas Price'] = pbt_news_DF['Average Gas Price'].apply(lambda x: x.replace('$','').replace('**',''))\n",
    "\n",
    "pbt_news_DF['Average Oil Price'] = pbt_news_DF['Average Oil Price'].apply(lambda x: x.replace('$','').replace('**',''))"
   ]
  },
  {
   "cell_type": "code",
   "execution_count": 12,
   "id": "b1456a0e",
   "metadata": {
    "execution": {
     "iopub.execute_input": "2022-01-16T20:34:53.239501Z",
     "iopub.status.busy": "2022-01-16T20:34:53.239131Z",
     "iopub.status.idle": "2022-01-16T20:34:53.240369Z",
     "shell.execute_reply": "2022-01-16T20:34:53.240675Z"
    },
    "papermill": {
     "duration": 0.011131,
     "end_time": "2022-01-16T20:34:53.240793",
     "exception": false,
     "start_time": "2022-01-16T20:34:53.229662",
     "status": "completed"
    },
    "tags": []
   },
   "outputs": [],
   "source": [
    "#filtering table to the 'current month' values\n",
    "pbt_news_DF = pbt_news_DF.head(2)"
   ]
  },
  {
   "cell_type": "code",
   "execution_count": 13,
   "id": "6d802530",
   "metadata": {
    "execution": {
     "iopub.execute_input": "2022-01-16T20:34:53.261068Z",
     "iopub.status.busy": "2022-01-16T20:34:53.260630Z",
     "iopub.status.idle": "2022-01-16T20:34:53.262343Z",
     "shell.execute_reply": "2022-01-16T20:34:53.262589Z"
    },
    "papermill": {
     "duration": 0.014192,
     "end_time": "2022-01-16T20:34:53.262709",
     "exception": false,
     "start_time": "2022-01-16T20:34:53.248517",
     "status": "completed"
    },
    "tags": []
   },
   "outputs": [
    {
     "data": {
      "text/html": [
       "<div>\n",
       "<style scoped>\n",
       "    .dataframe tbody tr th:only-of-type {\n",
       "        vertical-align: middle;\n",
       "    }\n",
       "\n",
       "    .dataframe tbody tr th {\n",
       "        vertical-align: top;\n",
       "    }\n",
       "\n",
       "    .dataframe thead th {\n",
       "        text-align: right;\n",
       "    }\n",
       "</style>\n",
       "<table border=\"1\" class=\"dataframe\">\n",
       "  <thead>\n",
       "    <tr style=\"text-align: right;\">\n",
       "      <th></th>\n",
       "      <th>Property</th>\n",
       "      <th>Gross Oil Volume (PBT News)</th>\n",
       "      <th>Net Oil Volume (PBT News)</th>\n",
       "      <th>Average Oil Price</th>\n",
       "      <th>Average Gas Price</th>\n",
       "      <th>Gross Gas Volume (PBT News)</th>\n",
       "      <th>Net Gas Volume (PBT News)</th>\n",
       "    </tr>\n",
       "  </thead>\n",
       "  <tbody>\n",
       "    <tr>\n",
       "      <th>5</th>\n",
       "      <td>Waddell Ranch</td>\n",
       "      <td>102735</td>\n",
       "      <td>77051</td>\n",
       "      <td>71.32</td>\n",
       "      <td>3.45</td>\n",
       "      <td>249359</td>\n",
       "      <td>187019</td>\n",
       "    </tr>\n",
       "    <tr>\n",
       "      <th>6</th>\n",
       "      <td>Texas Royalties</td>\n",
       "      <td>17690</td>\n",
       "      <td>15772</td>\n",
       "      <td>71.11</td>\n",
       "      <td>8.09</td>\n",
       "      <td>11870</td>\n",
       "      <td>10570</td>\n",
       "    </tr>\n",
       "  </tbody>\n",
       "</table>\n",
       "</div>"
      ],
      "text/plain": [
       "          Property  Gross Oil Volume (PBT News)  Net Oil Volume (PBT News)  \\\n",
       "5    Waddell Ranch                       102735                      77051   \n",
       "6  Texas Royalties                        17690                      15772   \n",
       "\n",
       "  Average Oil Price Average Gas Price  Gross Gas Volume (PBT News)  \\\n",
       "5             71.32              3.45                       249359   \n",
       "6             71.11              8.09                        11870   \n",
       "\n",
       "   Net Gas Volume (PBT News)  \n",
       "5                     187019  \n",
       "6                      10570  "
      ]
     },
     "execution_count": 13,
     "metadata": {},
     "output_type": "execute_result"
    }
   ],
   "source": [
    "pbt_news_DF"
   ]
  },
  {
   "cell_type": "code",
   "execution_count": 14,
   "id": "9bcb4f75",
   "metadata": {
    "execution": {
     "iopub.execute_input": "2022-01-16T20:34:53.282570Z",
     "iopub.status.busy": "2022-01-16T20:34:53.282199Z",
     "iopub.status.idle": "2022-01-16T20:34:53.283557Z",
     "shell.execute_reply": "2022-01-16T20:34:53.283807Z"
    },
    "papermill": {
     "duration": 0.012509,
     "end_time": "2022-01-16T20:34:53.283932",
     "exception": false,
     "start_time": "2022-01-16T20:34:53.271423",
     "status": "completed"
    },
    "tags": []
   },
   "outputs": [],
   "source": [
    "date_from_filename = news_file_name.split(',')[1]\\\n",
    "                                    .split('.')[0]\\\n",
    "                                    .strip()\\\n",
    "                                    .replace(' prod', '')"
   ]
  },
  {
   "cell_type": "code",
   "execution_count": 15,
   "id": "b2d00cad",
   "metadata": {
    "execution": {
     "iopub.execute_input": "2022-01-16T20:34:53.302818Z",
     "iopub.status.busy": "2022-01-16T20:34:53.302438Z",
     "iopub.status.idle": "2022-01-16T20:34:53.303817Z",
     "shell.execute_reply": "2022-01-16T20:34:53.304059Z"
    },
    "papermill": {
     "duration": 0.012223,
     "end_time": "2022-01-16T20:34:53.304186",
     "exception": false,
     "start_time": "2022-01-16T20:34:53.291963",
     "status": "completed"
    },
    "tags": []
   },
   "outputs": [],
   "source": [
    "pbt_news_DF.insert(0, 'Date', date_from_filename.title())"
   ]
  },
  {
   "cell_type": "code",
   "execution_count": 16,
   "id": "e38fd321",
   "metadata": {
    "execution": {
     "iopub.execute_input": "2022-01-16T20:34:53.325675Z",
     "iopub.status.busy": "2022-01-16T20:34:53.325239Z",
     "iopub.status.idle": "2022-01-16T20:34:53.326839Z",
     "shell.execute_reply": "2022-01-16T20:34:53.327156Z"
    },
    "papermill": {
     "duration": 0.015067,
     "end_time": "2022-01-16T20:34:53.327284",
     "exception": false,
     "start_time": "2022-01-16T20:34:53.312217",
     "status": "completed"
    },
    "tags": []
   },
   "outputs": [
    {
     "data": {
      "text/html": [
       "<div>\n",
       "<style scoped>\n",
       "    .dataframe tbody tr th:only-of-type {\n",
       "        vertical-align: middle;\n",
       "    }\n",
       "\n",
       "    .dataframe tbody tr th {\n",
       "        vertical-align: top;\n",
       "    }\n",
       "\n",
       "    .dataframe thead th {\n",
       "        text-align: right;\n",
       "    }\n",
       "</style>\n",
       "<table border=\"1\" class=\"dataframe\">\n",
       "  <thead>\n",
       "    <tr style=\"text-align: right;\">\n",
       "      <th></th>\n",
       "      <th>Date</th>\n",
       "      <th>Property</th>\n",
       "      <th>Gross Oil Volume (PBT News)</th>\n",
       "      <th>Net Oil Volume (PBT News)</th>\n",
       "      <th>Average Oil Price</th>\n",
       "      <th>Average Gas Price</th>\n",
       "      <th>Gross Gas Volume (PBT News)</th>\n",
       "      <th>Net Gas Volume (PBT News)</th>\n",
       "    </tr>\n",
       "  </thead>\n",
       "  <tbody>\n",
       "    <tr>\n",
       "      <th>5</th>\n",
       "      <td>Jul 2021</td>\n",
       "      <td>Waddell Ranch</td>\n",
       "      <td>102735</td>\n",
       "      <td>77051</td>\n",
       "      <td>71.32</td>\n",
       "      <td>3.45</td>\n",
       "      <td>249359</td>\n",
       "      <td>187019</td>\n",
       "    </tr>\n",
       "    <tr>\n",
       "      <th>6</th>\n",
       "      <td>Jul 2021</td>\n",
       "      <td>Texas Royalties</td>\n",
       "      <td>17690</td>\n",
       "      <td>15772</td>\n",
       "      <td>71.11</td>\n",
       "      <td>8.09</td>\n",
       "      <td>11870</td>\n",
       "      <td>10570</td>\n",
       "    </tr>\n",
       "  </tbody>\n",
       "</table>\n",
       "</div>"
      ],
      "text/plain": [
       "       Date         Property  Gross Oil Volume (PBT News)  \\\n",
       "5  Jul 2021    Waddell Ranch                       102735   \n",
       "6  Jul 2021  Texas Royalties                        17690   \n",
       "\n",
       "   Net Oil Volume (PBT News) Average Oil Price Average Gas Price  \\\n",
       "5                      77051             71.32              3.45   \n",
       "6                      15772             71.11              8.09   \n",
       "\n",
       "   Gross Gas Volume (PBT News)  Net Gas Volume (PBT News)  \n",
       "5                       249359                     187019  \n",
       "6                        11870                      10570  "
      ]
     },
     "execution_count": 16,
     "metadata": {},
     "output_type": "execute_result"
    }
   ],
   "source": [
    "pbt_news_DF"
   ]
  },
  {
   "cell_type": "markdown",
   "id": "eb3ae53a",
   "metadata": {
    "papermill": {
     "duration": 0.0085,
     "end_time": "2022-01-16T20:34:53.344054",
     "exception": false,
     "start_time": "2022-01-16T20:34:53.335554",
     "status": "completed"
    },
    "tags": []
   },
   "source": [
    "# Write Table to File"
   ]
  },
  {
   "cell_type": "code",
   "execution_count": 17,
   "id": "c9638897",
   "metadata": {
    "execution": {
     "iopub.execute_input": "2022-01-16T20:34:53.374152Z",
     "iopub.status.busy": "2022-01-16T20:34:53.373410Z",
     "iopub.status.idle": "2022-01-16T20:34:53.376575Z",
     "shell.execute_reply": "2022-01-16T20:34:53.377092Z"
    },
    "papermill": {
     "duration": 0.020014,
     "end_time": "2022-01-16T20:34:53.377356",
     "exception": false,
     "start_time": "2022-01-16T20:34:53.357342",
     "status": "completed"
    },
    "tags": []
   },
   "outputs": [
    {
     "data": {
      "text/plain": [
       "'sept 2021 news, jul 2021 prod.csv'"
      ]
     },
     "execution_count": 17,
     "metadata": {},
     "output_type": "execute_result"
    }
   ],
   "source": [
    "to_file_name = news_file_name.split('.')[0] + '.csv'\n",
    "\n",
    "to_file_name"
   ]
  },
  {
   "cell_type": "code",
   "execution_count": 18,
   "id": "6553b868",
   "metadata": {
    "execution": {
     "iopub.execute_input": "2022-01-16T20:34:53.399527Z",
     "iopub.status.busy": "2022-01-16T20:34:53.399071Z",
     "iopub.status.idle": "2022-01-16T20:34:53.402533Z",
     "shell.execute_reply": "2022-01-16T20:34:53.402892Z"
    },
    "papermill": {
     "duration": 0.016091,
     "end_time": "2022-01-16T20:34:53.403053",
     "exception": false,
     "start_time": "2022-01-16T20:34:53.386962",
     "status": "completed"
    },
    "tags": []
   },
   "outputs": [],
   "source": [
    "pbt_news_DF.to_csv(f'{processed_data_folder}/pbt_news_prod/{to_file_name}', index = False)"
   ]
  },
  {
   "cell_type": "code",
   "execution_count": null,
   "id": "7b8340db",
   "metadata": {
    "papermill": {
     "duration": 0.008454,
     "end_time": "2022-01-16T20:34:53.420053",
     "exception": false,
     "start_time": "2022-01-16T20:34:53.411599",
     "status": "completed"
    },
    "tags": []
   },
   "outputs": [],
   "source": []
  }
 ],
 "metadata": {
  "kernelspec": {
   "display_name": "Python 3 (ipykernel)",
   "language": "python",
   "name": "python3"
  },
  "language_info": {
   "codemirror_mode": {
    "name": "ipython",
    "version": 3
   },
   "file_extension": ".py",
   "mimetype": "text/x-python",
   "name": "python",
   "nbconvert_exporter": "python",
   "pygments_lexer": "ipython3",
   "version": "3.9.7"
  },
  "papermill": {
   "default_parameters": {},
   "duration": 5.372237,
   "end_time": "2022-01-16T20:34:53.636261",
   "environment_variables": {},
   "exception": null,
   "input_path": "3. Ingest PBT News Release PDFs.ipynb",
   "output_path": "output_notebooks/pbt_news_runs/sept 2021 news, jul 2021 prod.pdf.ipynb",
   "parameters": {
    "news_file_name": "sept 2021 news, jul 2021 prod.pdf"
   },
   "start_time": "2022-01-16T20:34:48.264024",
   "version": "2.3.3"
  }
 },
 "nbformat": 4,
 "nbformat_minor": 5
}