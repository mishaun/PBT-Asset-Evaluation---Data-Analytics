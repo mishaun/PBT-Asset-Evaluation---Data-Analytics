{
 "cells": [
  {
   "cell_type": "markdown",
   "id": "3bf9f2f8",
   "metadata": {
    "papermill": {
     "duration": 0.024423,
     "end_time": "2022-01-16T20:34:38.087902",
     "exception": false,
     "start_time": "2022-01-16T20:34:38.063479",
     "status": "completed"
    },
    "tags": []
   },
   "source": [
    "# Ingest PBT News Releases"
   ]
  },
  {
   "cell_type": "code",
   "execution_count": 1,
   "id": "f63d6cde",
   "metadata": {
    "execution": {
     "iopub.execute_input": "2022-01-16T20:34:38.109934Z",
     "iopub.status.busy": "2022-01-16T20:34:38.109477Z",
     "iopub.status.idle": "2022-01-16T20:34:38.924519Z",
     "shell.execute_reply": "2022-01-16T20:34:38.925005Z"
    },
    "papermill": {
     "duration": 0.82895,
     "end_time": "2022-01-16T20:34:38.925320",
     "exception": false,
     "start_time": "2022-01-16T20:34:38.096370",
     "status": "completed"
    },
    "tags": []
   },
   "outputs": [],
   "source": [
    "from tabula import read_pdf"
   ]
  },
  {
   "cell_type": "code",
   "execution_count": 2,
   "id": "b68a4e59",
   "metadata": {
    "execution": {
     "iopub.execute_input": "2022-01-16T20:34:38.942394Z",
     "iopub.status.busy": "2022-01-16T20:34:38.942004Z",
     "iopub.status.idle": "2022-01-16T20:34:38.969733Z",
     "shell.execute_reply": "2022-01-16T20:34:38.970029Z"
    },
    "papermill": {
     "duration": 0.037652,
     "end_time": "2022-01-16T20:34:38.970188",
     "exception": false,
     "start_time": "2022-01-16T20:34:38.932536",
     "status": "completed"
    },
    "tags": []
   },
   "outputs": [],
   "source": [
    "%run configs.ipynb"
   ]
  },
  {
   "cell_type": "code",
   "execution_count": 3,
   "id": "b5516fe2",
   "metadata": {
    "execution": {
     "iopub.execute_input": "2022-01-16T20:34:38.986206Z",
     "iopub.status.busy": "2022-01-16T20:34:38.985690Z",
     "iopub.status.idle": "2022-01-16T20:34:38.987301Z",
     "shell.execute_reply": "2022-01-16T20:34:38.987656Z"
    },
    "papermill": {
     "duration": 0.011149,
     "end_time": "2022-01-16T20:34:38.987826",
     "exception": false,
     "start_time": "2022-01-16T20:34:38.976677",
     "status": "completed"
    },
    "tags": [
     "parameters"
    ]
   },
   "outputs": [],
   "source": [
    "#parameters cell\n",
    "news_file_name = 'dec 2021 news, oct 2021 prod.pdf'"
   ]
  },
  {
   "cell_type": "code",
   "execution_count": 4,
   "id": "4a6ec242",
   "metadata": {
    "execution": {
     "iopub.execute_input": "2022-01-16T20:34:39.003136Z",
     "iopub.status.busy": "2022-01-16T20:34:39.002737Z",
     "iopub.status.idle": "2022-01-16T20:34:39.004156Z",
     "shell.execute_reply": "2022-01-16T20:34:39.004406Z"
    },
    "papermill": {
     "duration": 0.01042,
     "end_time": "2022-01-16T20:34:39.004533",
     "exception": false,
     "start_time": "2022-01-16T20:34:38.994113",
     "status": "completed"
    },
    "tags": [
     "injected-parameters"
    ]
   },
   "outputs": [],
   "source": [
    "# Parameters\n",
    "news_file_name = \"jun 2021 news, apr 2021 prod.pdf\"\n"
   ]
  },
  {
   "cell_type": "code",
   "execution_count": 5,
   "id": "89d75a6d",
   "metadata": {
    "execution": {
     "iopub.execute_input": "2022-01-16T20:34:39.021008Z",
     "iopub.status.busy": "2022-01-16T20:34:39.020514Z",
     "iopub.status.idle": "2022-01-16T20:34:41.841452Z",
     "shell.execute_reply": "2022-01-16T20:34:41.842082Z"
    },
    "papermill": {
     "duration": 2.831216,
     "end_time": "2022-01-16T20:34:41.842316",
     "exception": false,
     "start_time": "2022-01-16T20:34:39.011100",
     "status": "completed"
    },
    "tags": []
   },
   "outputs": [
    {
     "name": "stderr",
     "output_type": "stream",
     "text": [
      "'pages' argument isn't specified.Will extract only from page 1 by default.\n"
     ]
    },
    {
     "data": {
      "text/html": [
       "<div>\n",
       "<style scoped>\n",
       "    .dataframe tbody tr th:only-of-type {\n",
       "        vertical-align: middle;\n",
       "    }\n",
       "\n",
       "    .dataframe tbody tr th {\n",
       "        vertical-align: top;\n",
       "    }\n",
       "\n",
       "    .dataframe thead th {\n",
       "        text-align: right;\n",
       "    }\n",
       "</style>\n",
       "<table border=\"1\" class=\"dataframe\">\n",
       "  <thead>\n",
       "    <tr style=\"text-align: right;\">\n",
       "      <th></th>\n",
       "      <th>Unnamed: 0</th>\n",
       "      <th>Unnamed: 1</th>\n",
       "      <th>Unnamed: 2</th>\n",
       "      <th>Unnamed: 3</th>\n",
       "      <th>Unnamed: 4</th>\n",
       "    </tr>\n",
       "  </thead>\n",
       "  <tbody>\n",
       "    <tr>\n",
       "      <th>0</th>\n",
       "      <td>NaN</td>\n",
       "      <td>Underlying Properties</td>\n",
       "      <td>Net to Trust Sales</td>\n",
       "      <td>NaN</td>\n",
       "      <td>NaN</td>\n",
       "    </tr>\n",
       "    <tr>\n",
       "      <th>1</th>\n",
       "      <td>NaN</td>\n",
       "      <td>Volumes</td>\n",
       "      <td>Volumes</td>\n",
       "      <td>Average</td>\n",
       "      <td>Price</td>\n",
       "    </tr>\n",
       "    <tr>\n",
       "      <th>2</th>\n",
       "      <td>NaN</td>\n",
       "      <td>Oil  Gas</td>\n",
       "      <td>Oil  Gas</td>\n",
       "      <td>Oil</td>\n",
       "      <td>Gas</td>\n",
       "    </tr>\n",
       "    <tr>\n",
       "      <th>3</th>\n",
       "      <td>NaN</td>\n",
       "      <td>(bbls) (Mcf)</td>\n",
       "      <td>(bbls) (Mcf)</td>\n",
       "      <td>(per bbl)</td>\n",
       "      <td>(per Mcf)</td>\n",
       "    </tr>\n",
       "    <tr>\n",
       "      <th>4</th>\n",
       "      <td>Current Month</td>\n",
       "      <td>NaN</td>\n",
       "      <td>NaN</td>\n",
       "      <td>NaN</td>\n",
       "      <td>NaN</td>\n",
       "    </tr>\n",
       "    <tr>\n",
       "      <th>5</th>\n",
       "      <td>Waddell Ranch</td>\n",
       "      <td>80,362 259,608</td>\n",
       "      <td>60,272 194,706*</td>\n",
       "      <td>$59.93</td>\n",
       "      <td>$1.91**</td>\n",
       "    </tr>\n",
       "    <tr>\n",
       "      <th>6</th>\n",
       "      <td>Texas Royalties</td>\n",
       "      <td>16,339 12,869</td>\n",
       "      <td>14,344 11,276*</td>\n",
       "      <td>$60.65</td>\n",
       "      <td>$8.34**</td>\n",
       "    </tr>\n",
       "    <tr>\n",
       "      <th>7</th>\n",
       "      <td>NaN</td>\n",
       "      <td>NaN</td>\n",
       "      <td>NaN</td>\n",
       "      <td>NaN</td>\n",
       "      <td>NaN</td>\n",
       "    </tr>\n",
       "    <tr>\n",
       "      <th>8</th>\n",
       "      <td>Prior Month</td>\n",
       "      <td>NaN</td>\n",
       "      <td>NaN</td>\n",
       "      <td>NaN</td>\n",
       "      <td>NaN</td>\n",
       "    </tr>\n",
       "    <tr>\n",
       "      <th>9</th>\n",
       "      <td>Waddell Ranch</td>\n",
       "      <td>74,075 157,614</td>\n",
       "      <td>55,556 118,211*</td>\n",
       "      <td>$61.36</td>\n",
       "      <td>$3.38**</td>\n",
       "    </tr>\n",
       "    <tr>\n",
       "      <th>10</th>\n",
       "      <td>Texas Royalties</td>\n",
       "      <td>17,920 12,115</td>\n",
       "      <td>15,902 10,598*</td>\n",
       "      <td>$58.09</td>\n",
       "      <td>$6.86**</td>\n",
       "    </tr>\n",
       "  </tbody>\n",
       "</table>\n",
       "</div>"
      ],
      "text/plain": [
       "         Unnamed: 0             Unnamed: 1          Unnamed: 2 Unnamed: 3  \\\n",
       "0               NaN  Underlying Properties  Net to Trust Sales        NaN   \n",
       "1               NaN                Volumes             Volumes    Average   \n",
       "2               NaN               Oil  Gas            Oil  Gas        Oil   \n",
       "3               NaN           (bbls) (Mcf)        (bbls) (Mcf)  (per bbl)   \n",
       "4     Current Month                    NaN                 NaN        NaN   \n",
       "5     Waddell Ranch         80,362 259,608     60,272 194,706*     $59.93   \n",
       "6   Texas Royalties          16,339 12,869      14,344 11,276*     $60.65   \n",
       "7               NaN                    NaN                 NaN        NaN   \n",
       "8       Prior Month                    NaN                 NaN        NaN   \n",
       "9     Waddell Ranch         74,075 157,614     55,556 118,211*     $61.36   \n",
       "10  Texas Royalties          17,920 12,115      15,902 10,598*     $58.09   \n",
       "\n",
       "   Unnamed: 4  \n",
       "0         NaN  \n",
       "1       Price  \n",
       "2         Gas  \n",
       "3   (per Mcf)  \n",
       "4         NaN  \n",
       "5     $1.91**  \n",
       "6     $8.34**  \n",
       "7         NaN  \n",
       "8         NaN  \n",
       "9     $3.38**  \n",
       "10    $6.86**  "
      ]
     },
     "execution_count": 5,
     "metadata": {},
     "output_type": "execute_result"
    }
   ],
   "source": [
    "pbt_news_DF = read_pdf(f'{raw_data_folder}/pbt_news/2021/{news_file_name}')[0]\n",
    "\n",
    "pbt_news_DF"
   ]
  },
  {
   "cell_type": "code",
   "execution_count": 6,
   "id": "5ad174f1",
   "metadata": {
    "execution": {
     "iopub.execute_input": "2022-01-16T20:34:41.861862Z",
     "iopub.status.busy": "2022-01-16T20:34:41.861347Z",
     "iopub.status.idle": "2022-01-16T20:34:41.863047Z",
     "shell.execute_reply": "2022-01-16T20:34:41.863376Z"
    },
    "papermill": {
     "duration": 0.013166,
     "end_time": "2022-01-16T20:34:41.863513",
     "exception": false,
     "start_time": "2022-01-16T20:34:41.850347",
     "status": "completed"
    },
    "tags": []
   },
   "outputs": [],
   "source": [
    "cols_pdf = 'Property', 'Gross Oil Volume (PBT News)', 'Net Oil Volume (PBT News)', 'Average Oil Price', 'Average Gas Price'\n",
    "pbt_news_DF.columns = cols_pdf"
   ]
  },
  {
   "cell_type": "code",
   "execution_count": 7,
   "id": "9e1a6833",
   "metadata": {
    "execution": {
     "iopub.execute_input": "2022-01-16T20:34:41.884839Z",
     "iopub.status.busy": "2022-01-16T20:34:41.884223Z",
     "iopub.status.idle": "2022-01-16T20:34:41.886402Z",
     "shell.execute_reply": "2022-01-16T20:34:41.886635Z"
    },
    "papermill": {
     "duration": 0.016134,
     "end_time": "2022-01-16T20:34:41.886806",
     "exception": false,
     "start_time": "2022-01-16T20:34:41.870672",
     "status": "completed"
    },
    "tags": []
   },
   "outputs": [
    {
     "data": {
      "text/html": [
       "<div>\n",
       "<style scoped>\n",
       "    .dataframe tbody tr th:only-of-type {\n",
       "        vertical-align: middle;\n",
       "    }\n",
       "\n",
       "    .dataframe tbody tr th {\n",
       "        vertical-align: top;\n",
       "    }\n",
       "\n",
       "    .dataframe thead th {\n",
       "        text-align: right;\n",
       "    }\n",
       "</style>\n",
       "<table border=\"1\" class=\"dataframe\">\n",
       "  <thead>\n",
       "    <tr style=\"text-align: right;\">\n",
       "      <th></th>\n",
       "      <th>Property</th>\n",
       "      <th>Gross Oil Volume (PBT News)</th>\n",
       "      <th>Net Oil Volume (PBT News)</th>\n",
       "      <th>Average Oil Price</th>\n",
       "      <th>Average Gas Price</th>\n",
       "    </tr>\n",
       "  </thead>\n",
       "  <tbody>\n",
       "    <tr>\n",
       "      <th>5</th>\n",
       "      <td>Waddell Ranch</td>\n",
       "      <td>80,362 259,608</td>\n",
       "      <td>60,272 194,706*</td>\n",
       "      <td>$59.93</td>\n",
       "      <td>$1.91**</td>\n",
       "    </tr>\n",
       "    <tr>\n",
       "      <th>6</th>\n",
       "      <td>Texas Royalties</td>\n",
       "      <td>16,339 12,869</td>\n",
       "      <td>14,344 11,276*</td>\n",
       "      <td>$60.65</td>\n",
       "      <td>$8.34**</td>\n",
       "    </tr>\n",
       "    <tr>\n",
       "      <th>9</th>\n",
       "      <td>Waddell Ranch</td>\n",
       "      <td>74,075 157,614</td>\n",
       "      <td>55,556 118,211*</td>\n",
       "      <td>$61.36</td>\n",
       "      <td>$3.38**</td>\n",
       "    </tr>\n",
       "    <tr>\n",
       "      <th>10</th>\n",
       "      <td>Texas Royalties</td>\n",
       "      <td>17,920 12,115</td>\n",
       "      <td>15,902 10,598*</td>\n",
       "      <td>$58.09</td>\n",
       "      <td>$6.86**</td>\n",
       "    </tr>\n",
       "  </tbody>\n",
       "</table>\n",
       "</div>"
      ],
      "text/plain": [
       "           Property Gross Oil Volume (PBT News) Net Oil Volume (PBT News)  \\\n",
       "5     Waddell Ranch              80,362 259,608           60,272 194,706*   \n",
       "6   Texas Royalties               16,339 12,869            14,344 11,276*   \n",
       "9     Waddell Ranch              74,075 157,614           55,556 118,211*   \n",
       "10  Texas Royalties               17,920 12,115            15,902 10,598*   \n",
       "\n",
       "   Average Oil Price Average Gas Price  \n",
       "5             $59.93           $1.91**  \n",
       "6             $60.65           $8.34**  \n",
       "9             $61.36           $3.38**  \n",
       "10            $58.09           $6.86**  "
      ]
     },
     "execution_count": 7,
     "metadata": {},
     "output_type": "execute_result"
    }
   ],
   "source": [
    "pbt_news_DF.dropna(inplace = True)\n",
    "pbt_news_DF"
   ]
  },
  {
   "cell_type": "markdown",
   "id": "9ea8667f",
   "metadata": {
    "papermill": {
     "duration": 0.00733,
     "end_time": "2022-01-16T20:34:41.901473",
     "exception": false,
     "start_time": "2022-01-16T20:34:41.894143",
     "status": "completed"
    },
    "tags": []
   },
   "source": [
    "### Splitting Net Oil Column to Get Gas Volume\n",
    "### Applying Text Cleaning to remove commas"
   ]
  },
  {
   "cell_type": "code",
   "execution_count": 8,
   "id": "0e4b24f4",
   "metadata": {
    "execution": {
     "iopub.execute_input": "2022-01-16T20:34:41.920807Z",
     "iopub.status.busy": "2022-01-16T20:34:41.920256Z",
     "iopub.status.idle": "2022-01-16T20:34:41.921956Z",
     "shell.execute_reply": "2022-01-16T20:34:41.922295Z"
    },
    "papermill": {
     "duration": 0.013954,
     "end_time": "2022-01-16T20:34:41.922484",
     "exception": false,
     "start_time": "2022-01-16T20:34:41.908530",
     "status": "completed"
    },
    "tags": []
   },
   "outputs": [],
   "source": [
    "pbt_news_DF['Gross Gas Volume (PBT News)'] = pbt_news_DF['Gross Oil Volume (PBT News)'].apply(lambda x: int(x.split(' ')[1].replace(',', '')))\n",
    "\n",
    "pbt_news_DF['Gross Oil Volume (PBT News)'] = pbt_news_DF['Gross Oil Volume (PBT News)'].apply(lambda x: int(x.split(' ')[0].replace(',', '')))"
   ]
  },
  {
   "cell_type": "code",
   "execution_count": 9,
   "id": "735d5051",
   "metadata": {
    "execution": {
     "iopub.execute_input": "2022-01-16T20:34:41.942315Z",
     "iopub.status.busy": "2022-01-16T20:34:41.941808Z",
     "iopub.status.idle": "2022-01-16T20:34:41.943804Z",
     "shell.execute_reply": "2022-01-16T20:34:41.944081Z"
    },
    "papermill": {
     "duration": 0.014572,
     "end_time": "2022-01-16T20:34:41.944216",
     "exception": false,
     "start_time": "2022-01-16T20:34:41.929644",
     "status": "completed"
    },
    "tags": []
   },
   "outputs": [
    {
     "data": {
      "text/html": [
       "<div>\n",
       "<style scoped>\n",
       "    .dataframe tbody tr th:only-of-type {\n",
       "        vertical-align: middle;\n",
       "    }\n",
       "\n",
       "    .dataframe tbody tr th {\n",
       "        vertical-align: top;\n",
       "    }\n",
       "\n",
       "    .dataframe thead th {\n",
       "        text-align: right;\n",
       "    }\n",
       "</style>\n",
       "<table border=\"1\" class=\"dataframe\">\n",
       "  <thead>\n",
       "    <tr style=\"text-align: right;\">\n",
       "      <th></th>\n",
       "      <th>Property</th>\n",
       "      <th>Gross Oil Volume (PBT News)</th>\n",
       "      <th>Net Oil Volume (PBT News)</th>\n",
       "      <th>Average Oil Price</th>\n",
       "      <th>Average Gas Price</th>\n",
       "      <th>Gross Gas Volume (PBT News)</th>\n",
       "    </tr>\n",
       "  </thead>\n",
       "  <tbody>\n",
       "    <tr>\n",
       "      <th>5</th>\n",
       "      <td>Waddell Ranch</td>\n",
       "      <td>80362</td>\n",
       "      <td>60,272 194,706*</td>\n",
       "      <td>$59.93</td>\n",
       "      <td>$1.91**</td>\n",
       "      <td>259608</td>\n",
       "    </tr>\n",
       "    <tr>\n",
       "      <th>6</th>\n",
       "      <td>Texas Royalties</td>\n",
       "      <td>16339</td>\n",
       "      <td>14,344 11,276*</td>\n",
       "      <td>$60.65</td>\n",
       "      <td>$8.34**</td>\n",
       "      <td>12869</td>\n",
       "    </tr>\n",
       "    <tr>\n",
       "      <th>9</th>\n",
       "      <td>Waddell Ranch</td>\n",
       "      <td>74075</td>\n",
       "      <td>55,556 118,211*</td>\n",
       "      <td>$61.36</td>\n",
       "      <td>$3.38**</td>\n",
       "      <td>157614</td>\n",
       "    </tr>\n",
       "    <tr>\n",
       "      <th>10</th>\n",
       "      <td>Texas Royalties</td>\n",
       "      <td>17920</td>\n",
       "      <td>15,902 10,598*</td>\n",
       "      <td>$58.09</td>\n",
       "      <td>$6.86**</td>\n",
       "      <td>12115</td>\n",
       "    </tr>\n",
       "  </tbody>\n",
       "</table>\n",
       "</div>"
      ],
      "text/plain": [
       "           Property  Gross Oil Volume (PBT News) Net Oil Volume (PBT News)  \\\n",
       "5     Waddell Ranch                        80362           60,272 194,706*   \n",
       "6   Texas Royalties                        16339            14,344 11,276*   \n",
       "9     Waddell Ranch                        74075           55,556 118,211*   \n",
       "10  Texas Royalties                        17920            15,902 10,598*   \n",
       "\n",
       "   Average Oil Price Average Gas Price  Gross Gas Volume (PBT News)  \n",
       "5             $59.93           $1.91**                       259608  \n",
       "6             $60.65           $8.34**                        12869  \n",
       "9             $61.36           $3.38**                       157614  \n",
       "10            $58.09           $6.86**                        12115  "
      ]
     },
     "execution_count": 9,
     "metadata": {},
     "output_type": "execute_result"
    }
   ],
   "source": [
    "pbt_news_DF"
   ]
  },
  {
   "cell_type": "markdown",
   "id": "27cceb93",
   "metadata": {
    "papermill": {
     "duration": 0.008188,
     "end_time": "2022-01-16T20:34:41.960868",
     "exception": false,
     "start_time": "2022-01-16T20:34:41.952680",
     "status": "completed"
    },
    "tags": []
   },
   "source": [
    "### Splitting Net Oil Column to Get Gas Volume\n",
    "### Applying Text Cleaning to remove commas and asterisks"
   ]
  },
  {
   "cell_type": "code",
   "execution_count": 10,
   "id": "36f1f177",
   "metadata": {
    "execution": {
     "iopub.execute_input": "2022-01-16T20:34:41.981556Z",
     "iopub.status.busy": "2022-01-16T20:34:41.981059Z",
     "iopub.status.idle": "2022-01-16T20:34:41.982297Z",
     "shell.execute_reply": "2022-01-16T20:34:41.982568Z"
    },
    "papermill": {
     "duration": 0.014072,
     "end_time": "2022-01-16T20:34:41.982711",
     "exception": false,
     "start_time": "2022-01-16T20:34:41.968639",
     "status": "completed"
    },
    "tags": []
   },
   "outputs": [],
   "source": [
    "pbt_news_DF['Net Gas Volume (PBT News)'] = pbt_news_DF['Net Oil Volume (PBT News)'].apply(lambda x: int(x.split(' ')[1]\\\n",
    "                                                                                  .replace(',', '')\\\n",
    "                                                                                 .replace('*','')))\n",
    "\n",
    "pbt_news_DF['Net Oil Volume (PBT News)'] = pbt_news_DF['Net Oil Volume (PBT News)'].apply(lambda x: int(x.split(' ')[0].replace(',', '')))"
   ]
  },
  {
   "cell_type": "markdown",
   "id": "f78ceacc",
   "metadata": {
    "papermill": {
     "duration": 0.007518,
     "end_time": "2022-01-16T20:34:41.998087",
     "exception": false,
     "start_time": "2022-01-16T20:34:41.990569",
     "status": "completed"
    },
    "tags": []
   },
   "source": [
    "### Cleaning Prices Columns by removing asterisks and Dollar Sign"
   ]
  },
  {
   "cell_type": "code",
   "execution_count": 11,
   "id": "670ab6d8",
   "metadata": {
    "execution": {
     "iopub.execute_input": "2022-01-16T20:34:42.017690Z",
     "iopub.status.busy": "2022-01-16T20:34:42.017214Z",
     "iopub.status.idle": "2022-01-16T20:34:42.018856Z",
     "shell.execute_reply": "2022-01-16T20:34:42.019253Z"
    },
    "papermill": {
     "duration": 0.013916,
     "end_time": "2022-01-16T20:34:42.019428",
     "exception": false,
     "start_time": "2022-01-16T20:34:42.005512",
     "status": "completed"
    },
    "tags": []
   },
   "outputs": [],
   "source": [
    "pbt_news_DF['Average Gas Price'] = pbt_news_DF['Average Gas Price'].apply(lambda x: x.replace('$','').replace('**',''))\n",
    "\n",
    "pbt_news_DF['Average Oil Price'] = pbt_news_DF['Average Oil Price'].apply(lambda x: x.replace('$','').replace('**',''))"
   ]
  },
  {
   "cell_type": "code",
   "execution_count": 12,
   "id": "b1456a0e",
   "metadata": {
    "execution": {
     "iopub.execute_input": "2022-01-16T20:34:42.037635Z",
     "iopub.status.busy": "2022-01-16T20:34:42.037134Z",
     "iopub.status.idle": "2022-01-16T20:34:42.038663Z",
     "shell.execute_reply": "2022-01-16T20:34:42.039035Z"
    },
    "papermill": {
     "duration": 0.0122,
     "end_time": "2022-01-16T20:34:42.039203",
     "exception": false,
     "start_time": "2022-01-16T20:34:42.027003",
     "status": "completed"
    },
    "tags": []
   },
   "outputs": [],
   "source": [
    "#filtering table to the 'current month' values\n",
    "pbt_news_DF = pbt_news_DF.head(2)"
   ]
  },
  {
   "cell_type": "code",
   "execution_count": 13,
   "id": "6d802530",
   "metadata": {
    "execution": {
     "iopub.execute_input": "2022-01-16T20:34:42.059486Z",
     "iopub.status.busy": "2022-01-16T20:34:42.058976Z",
     "iopub.status.idle": "2022-01-16T20:34:42.061428Z",
     "shell.execute_reply": "2022-01-16T20:34:42.060983Z"
    },
    "papermill": {
     "duration": 0.014835,
     "end_time": "2022-01-16T20:34:42.061588",
     "exception": false,
     "start_time": "2022-01-16T20:34:42.046753",
     "status": "completed"
    },
    "tags": []
   },
   "outputs": [
    {
     "data": {
      "text/html": [
       "<div>\n",
       "<style scoped>\n",
       "    .dataframe tbody tr th:only-of-type {\n",
       "        vertical-align: middle;\n",
       "    }\n",
       "\n",
       "    .dataframe tbody tr th {\n",
       "        vertical-align: top;\n",
       "    }\n",
       "\n",
       "    .dataframe thead th {\n",
       "        text-align: right;\n",
       "    }\n",
       "</style>\n",
       "<table border=\"1\" class=\"dataframe\">\n",
       "  <thead>\n",
       "    <tr style=\"text-align: right;\">\n",
       "      <th></th>\n",
       "      <th>Property</th>\n",
       "      <th>Gross Oil Volume (PBT News)</th>\n",
       "      <th>Net Oil Volume (PBT News)</th>\n",
       "      <th>Average Oil Price</th>\n",
       "      <th>Average Gas Price</th>\n",
       "      <th>Gross Gas Volume (PBT News)</th>\n",
       "      <th>Net Gas Volume (PBT News)</th>\n",
       "    </tr>\n",
       "  </thead>\n",
       "  <tbody>\n",
       "    <tr>\n",
       "      <th>5</th>\n",
       "      <td>Waddell Ranch</td>\n",
       "      <td>80362</td>\n",
       "      <td>60272</td>\n",
       "      <td>59.93</td>\n",
       "      <td>1.91</td>\n",
       "      <td>259608</td>\n",
       "      <td>194706</td>\n",
       "    </tr>\n",
       "    <tr>\n",
       "      <th>6</th>\n",
       "      <td>Texas Royalties</td>\n",
       "      <td>16339</td>\n",
       "      <td>14344</td>\n",
       "      <td>60.65</td>\n",
       "      <td>8.34</td>\n",
       "      <td>12869</td>\n",
       "      <td>11276</td>\n",
       "    </tr>\n",
       "  </tbody>\n",
       "</table>\n",
       "</div>"
      ],
      "text/plain": [
       "          Property  Gross Oil Volume (PBT News)  Net Oil Volume (PBT News)  \\\n",
       "5    Waddell Ranch                        80362                      60272   \n",
       "6  Texas Royalties                        16339                      14344   \n",
       "\n",
       "  Average Oil Price Average Gas Price  Gross Gas Volume (PBT News)  \\\n",
       "5             59.93              1.91                       259608   \n",
       "6             60.65              8.34                        12869   \n",
       "\n",
       "   Net Gas Volume (PBT News)  \n",
       "5                     194706  \n",
       "6                      11276  "
      ]
     },
     "execution_count": 13,
     "metadata": {},
     "output_type": "execute_result"
    }
   ],
   "source": [
    "pbt_news_DF"
   ]
  },
  {
   "cell_type": "code",
   "execution_count": 14,
   "id": "9bcb4f75",
   "metadata": {
    "execution": {
     "iopub.execute_input": "2022-01-16T20:34:42.081566Z",
     "iopub.status.busy": "2022-01-16T20:34:42.081132Z",
     "iopub.status.idle": "2022-01-16T20:34:42.082329Z",
     "shell.execute_reply": "2022-01-16T20:34:42.082625Z"
    },
    "papermill": {
     "duration": 0.012672,
     "end_time": "2022-01-16T20:34:42.082756",
     "exception": false,
     "start_time": "2022-01-16T20:34:42.070084",
     "status": "completed"
    },
    "tags": []
   },
   "outputs": [],
   "source": [
    "date_from_filename = news_file_name.split(',')[1]\\\n",
    "                                    .split('.')[0]\\\n",
    "                                    .strip()\\\n",
    "                                    .replace(' prod', '')"
   ]
  },
  {
   "cell_type": "code",
   "execution_count": 15,
   "id": "b2d00cad",
   "metadata": {
    "execution": {
     "iopub.execute_input": "2022-01-16T20:34:42.102489Z",
     "iopub.status.busy": "2022-01-16T20:34:42.101884Z",
     "iopub.status.idle": "2022-01-16T20:34:42.103461Z",
     "shell.execute_reply": "2022-01-16T20:34:42.103967Z"
    },
    "papermill": {
     "duration": 0.013059,
     "end_time": "2022-01-16T20:34:42.104167",
     "exception": false,
     "start_time": "2022-01-16T20:34:42.091108",
     "status": "completed"
    },
    "tags": []
   },
   "outputs": [],
   "source": [
    "pbt_news_DF.insert(0, 'Date', date_from_filename.title())"
   ]
  },
  {
   "cell_type": "code",
   "execution_count": 16,
   "id": "e38fd321",
   "metadata": {
    "execution": {
     "iopub.execute_input": "2022-01-16T20:34:42.178157Z",
     "iopub.status.busy": "2022-01-16T20:34:42.177368Z",
     "iopub.status.idle": "2022-01-16T20:34:42.179566Z",
     "shell.execute_reply": "2022-01-16T20:34:42.180100Z"
    },
    "papermill": {
     "duration": 0.024675,
     "end_time": "2022-01-16T20:34:42.180263",
     "exception": false,
     "start_time": "2022-01-16T20:34:42.155588",
     "status": "completed"
    },
    "tags": []
   },
   "outputs": [
    {
     "data": {
      "text/html": [
       "<div>\n",
       "<style scoped>\n",
       "    .dataframe tbody tr th:only-of-type {\n",
       "        vertical-align: middle;\n",
       "    }\n",
       "\n",
       "    .dataframe tbody tr th {\n",
       "        vertical-align: top;\n",
       "    }\n",
       "\n",
       "    .dataframe thead th {\n",
       "        text-align: right;\n",
       "    }\n",
       "</style>\n",
       "<table border=\"1\" class=\"dataframe\">\n",
       "  <thead>\n",
       "    <tr style=\"text-align: right;\">\n",
       "      <th></th>\n",
       "      <th>Date</th>\n",
       "      <th>Property</th>\n",
       "      <th>Gross Oil Volume (PBT News)</th>\n",
       "      <th>Net Oil Volume (PBT News)</th>\n",
       "      <th>Average Oil Price</th>\n",
       "      <th>Average Gas Price</th>\n",
       "      <th>Gross Gas Volume (PBT News)</th>\n",
       "      <th>Net Gas Volume (PBT News)</th>\n",
       "    </tr>\n",
       "  </thead>\n",
       "  <tbody>\n",
       "    <tr>\n",
       "      <th>5</th>\n",
       "      <td>Apr 2021</td>\n",
       "      <td>Waddell Ranch</td>\n",
       "      <td>80362</td>\n",
       "      <td>60272</td>\n",
       "      <td>59.93</td>\n",
       "      <td>1.91</td>\n",
       "      <td>259608</td>\n",
       "      <td>194706</td>\n",
       "    </tr>\n",
       "    <tr>\n",
       "      <th>6</th>\n",
       "      <td>Apr 2021</td>\n",
       "      <td>Texas Royalties</td>\n",
       "      <td>16339</td>\n",
       "      <td>14344</td>\n",
       "      <td>60.65</td>\n",
       "      <td>8.34</td>\n",
       "      <td>12869</td>\n",
       "      <td>11276</td>\n",
       "    </tr>\n",
       "  </tbody>\n",
       "</table>\n",
       "</div>"
      ],
      "text/plain": [
       "       Date         Property  Gross Oil Volume (PBT News)  \\\n",
       "5  Apr 2021    Waddell Ranch                        80362   \n",
       "6  Apr 2021  Texas Royalties                        16339   \n",
       "\n",
       "   Net Oil Volume (PBT News) Average Oil Price Average Gas Price  \\\n",
       "5                      60272             59.93              1.91   \n",
       "6                      14344             60.65              8.34   \n",
       "\n",
       "   Gross Gas Volume (PBT News)  Net Gas Volume (PBT News)  \n",
       "5                       259608                     194706  \n",
       "6                        12869                      11276  "
      ]
     },
     "execution_count": 16,
     "metadata": {},
     "output_type": "execute_result"
    }
   ],
   "source": [
    "pbt_news_DF"
   ]
  },
  {
   "cell_type": "markdown",
   "id": "eb3ae53a",
   "metadata": {
    "papermill": {
     "duration": 0.010043,
     "end_time": "2022-01-16T20:34:42.199509",
     "exception": false,
     "start_time": "2022-01-16T20:34:42.189466",
     "status": "completed"
    },
    "tags": []
   },
   "source": [
    "# Write Table to File"
   ]
  },
  {
   "cell_type": "code",
   "execution_count": 17,
   "id": "c9638897",
   "metadata": {
    "execution": {
     "iopub.execute_input": "2022-01-16T20:34:42.223269Z",
     "iopub.status.busy": "2022-01-16T20:34:42.222647Z",
     "iopub.status.idle": "2022-01-16T20:34:42.225047Z",
     "shell.execute_reply": "2022-01-16T20:34:42.225763Z"
    },
    "papermill": {
     "duration": 0.016081,
     "end_time": "2022-01-16T20:34:42.225953",
     "exception": false,
     "start_time": "2022-01-16T20:34:42.209872",
     "status": "completed"
    },
    "tags": []
   },
   "outputs": [
    {
     "data": {
      "text/plain": [
       "'jun 2021 news, apr 2021 prod.csv'"
      ]
     },
     "execution_count": 17,
     "metadata": {},
     "output_type": "execute_result"
    }
   ],
   "source": [
    "to_file_name = news_file_name.split('.')[0] + '.csv'\n",
    "\n",
    "to_file_name"
   ]
  },
  {
   "cell_type": "code",
   "execution_count": 18,
   "id": "6553b868",
   "metadata": {
    "execution": {
     "iopub.execute_input": "2022-01-16T20:34:42.258655Z",
     "iopub.status.busy": "2022-01-16T20:34:42.257372Z",
     "iopub.status.idle": "2022-01-16T20:34:42.261138Z",
     "shell.execute_reply": "2022-01-16T20:34:42.261920Z"
    },
    "papermill": {
     "duration": 0.024893,
     "end_time": "2022-01-16T20:34:42.262402",
     "exception": false,
     "start_time": "2022-01-16T20:34:42.237509",
     "status": "completed"
    },
    "tags": []
   },
   "outputs": [],
   "source": [
    "pbt_news_DF.to_csv(f'{processed_data_folder}/pbt_news_prod/{to_file_name}', index = False)"
   ]
  },
  {
   "cell_type": "code",
   "execution_count": null,
   "id": "7b8340db",
   "metadata": {
    "papermill": {
     "duration": 0.009274,
     "end_time": "2022-01-16T20:34:42.284969",
     "exception": false,
     "start_time": "2022-01-16T20:34:42.275695",
     "status": "completed"
    },
    "tags": []
   },
   "outputs": [],
   "source": []
  }
 ],
 "metadata": {
  "kernelspec": {
   "display_name": "Python 3 (ipykernel)",
   "language": "python",
   "name": "python3"
  },
  "language_info": {
   "codemirror_mode": {
    "name": "ipython",
    "version": 3
   },
   "file_extension": ".py",
   "mimetype": "text/x-python",
   "name": "python",
   "nbconvert_exporter": "python",
   "pygments_lexer": "ipython3",
   "version": "3.9.7"
  },
  "papermill": {
   "default_parameters": {},
   "duration": 5.354029,
   "end_time": "2022-01-16T20:34:42.502479",
   "environment_variables": {},
   "exception": null,
   "input_path": "3. Ingest PBT News Release PDFs.ipynb",
   "output_path": "output_notebooks/pbt_news_runs/jun 2021 news, apr 2021 prod.pdf.ipynb",
   "parameters": {
    "news_file_name": "jun 2021 news, apr 2021 prod.pdf"
   },
   "start_time": "2022-01-16T20:34:37.148450",
   "version": "2.3.3"
  }
 },
 "nbformat": 4,
 "nbformat_minor": 5
}