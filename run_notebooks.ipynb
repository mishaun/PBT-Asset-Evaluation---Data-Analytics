{
 "cells": [
  {
   "cell_type": "code",
   "execution_count": 1,
   "id": "331e9062",
   "metadata": {},
   "outputs": [],
   "source": [
    "import os\n",
    "import papermill as pm"
   ]
  },
  {
   "cell_type": "code",
   "execution_count": 2,
   "id": "7ae4c63f",
   "metadata": {},
   "outputs": [],
   "source": [
    "%run configs.ipynb"
   ]
  },
  {
   "cell_type": "markdown",
   "id": "6de273b3",
   "metadata": {},
   "source": [
    "# Run all RRC Production Raw"
   ]
  },
  {
   "cell_type": "code",
   "execution_count": 3,
   "id": "3996e98c",
   "metadata": {},
   "outputs": [
    {
     "data": {
      "text/plain": [
       "['oct_21.csv',\n",
       " 'july_21.csv',\n",
       " 'june_21.csv',\n",
       " 'feb_21.csv',\n",
       " 'may_21.csv',\n",
       " 'september_21.csv',\n",
       " 'jan_21.csv',\n",
       " 'august_21.csv',\n",
       " 'march_21.csv',\n",
       " 'nov_21.csv',\n",
       " 'april_21.csv']"
      ]
     },
     "execution_count": 3,
     "metadata": {},
     "output_type": "execute_result"
    }
   ],
   "source": [
    "rrc_prod_raw_files = list(filter(lambda x: 'DS_Store' not in x, os.listdir(f'{raw_data_folder}/rrc_prod_blackbeard/2021')))\n",
    "\n",
    "rrc_prod_raw_files"
   ]
  },
  {
   "cell_type": "code",
   "execution_count": 4,
   "id": "ef6dc003",
   "metadata": {},
   "outputs": [
    {
     "data": {
      "application/vnd.jupyter.widget-view+json": {
       "model_id": "96783dedecca42758ceea99ce5531d25",
       "version_major": 2,
       "version_minor": 0
      },
      "text/plain": [
       "Executing:   0%|          | 0/35 [00:00<?, ?cell/s]"
      ]
     },
     "metadata": {},
     "output_type": "display_data"
    },
    {
     "data": {
      "application/vnd.jupyter.widget-view+json": {
       "model_id": "ea54514a109b49798b44561066bdd918",
       "version_major": 2,
       "version_minor": 0
      },
      "text/plain": [
       "Executing:   0%|          | 0/35 [00:00<?, ?cell/s]"
      ]
     },
     "metadata": {},
     "output_type": "display_data"
    },
    {
     "data": {
      "application/vnd.jupyter.widget-view+json": {
       "model_id": "4303373a2bbe425c9ac4652f642bcd54",
       "version_major": 2,
       "version_minor": 0
      },
      "text/plain": [
       "Executing:   0%|          | 0/35 [00:00<?, ?cell/s]"
      ]
     },
     "metadata": {},
     "output_type": "display_data"
    },
    {
     "data": {
      "application/vnd.jupyter.widget-view+json": {
       "model_id": "b2f6890e5ff546d08182cb2d321355fc",
       "version_major": 2,
       "version_minor": 0
      },
      "text/plain": [
       "Executing:   0%|          | 0/35 [00:00<?, ?cell/s]"
      ]
     },
     "metadata": {},
     "output_type": "display_data"
    },
    {
     "data": {
      "application/vnd.jupyter.widget-view+json": {
       "model_id": "42f39933090a4035b7fc13531ee43bca",
       "version_major": 2,
       "version_minor": 0
      },
      "text/plain": [
       "Executing:   0%|          | 0/35 [00:00<?, ?cell/s]"
      ]
     },
     "metadata": {},
     "output_type": "display_data"
    },
    {
     "data": {
      "application/vnd.jupyter.widget-view+json": {
       "model_id": "241d421f080a4793b1f76302057b48b3",
       "version_major": 2,
       "version_minor": 0
      },
      "text/plain": [
       "Executing:   0%|          | 0/35 [00:00<?, ?cell/s]"
      ]
     },
     "metadata": {},
     "output_type": "display_data"
    },
    {
     "data": {
      "application/vnd.jupyter.widget-view+json": {
       "model_id": "fbdd9b3201d4476bac0d2f88c321d361",
       "version_major": 2,
       "version_minor": 0
      },
      "text/plain": [
       "Executing:   0%|          | 0/35 [00:00<?, ?cell/s]"
      ]
     },
     "metadata": {},
     "output_type": "display_data"
    },
    {
     "data": {
      "application/vnd.jupyter.widget-view+json": {
       "model_id": "d16476137112439bbab482402a1ae0ab",
       "version_major": 2,
       "version_minor": 0
      },
      "text/plain": [
       "Executing:   0%|          | 0/35 [00:00<?, ?cell/s]"
      ]
     },
     "metadata": {},
     "output_type": "display_data"
    },
    {
     "data": {
      "application/vnd.jupyter.widget-view+json": {
       "model_id": "b590dffae5ce469f83c40eff601b97e2",
       "version_major": 2,
       "version_minor": 0
      },
      "text/plain": [
       "Executing:   0%|          | 0/35 [00:00<?, ?cell/s]"
      ]
     },
     "metadata": {},
     "output_type": "display_data"
    },
    {
     "data": {
      "application/vnd.jupyter.widget-view+json": {
       "model_id": "875413c2a38b4bdeaa1bff13146ac64b",
       "version_major": 2,
       "version_minor": 0
      },
      "text/plain": [
       "Executing:   0%|          | 0/35 [00:00<?, ?cell/s]"
      ]
     },
     "metadata": {},
     "output_type": "display_data"
    },
    {
     "data": {
      "application/vnd.jupyter.widget-view+json": {
       "model_id": "e1b4283cb2f64569be14a3605a5d75bd",
       "version_major": 2,
       "version_minor": 0
      },
      "text/plain": [
       "Executing:   0%|          | 0/35 [00:00<?, ?cell/s]"
      ]
     },
     "metadata": {},
     "output_type": "display_data"
    }
   ],
   "source": [
    "for file in rrc_prod_raw_files:\n",
    "\n",
    "    pm.execute_notebook(\n",
    "       '2. Ingest RRC Data.ipynb',\n",
    "       f'output_notebooks/rrc_prod_runs/{file}.ipynb',\n",
    "       parameters=dict(file_name=file)\n",
    "    )"
   ]
  },
  {
   "cell_type": "markdown",
   "id": "f53e3d87",
   "metadata": {},
   "source": [
    "# Run PBT News"
   ]
  },
  {
   "cell_type": "code",
   "execution_count": 5,
   "id": "38de9c3b",
   "metadata": {},
   "outputs": [
    {
     "data": {
      "text/plain": [
       "['dec 2021 news, oct 2021 prod.pdf',\n",
       " 'may 2021 news, mar 2021 prod.pdf',\n",
       " 'jun 2021 news, apr 2021 prod.pdf',\n",
       " 'mar 2021 news, jan 2021 prod.pdf',\n",
       " 'sept 2021 news, jul 2021 prod.pdf',\n",
       " 'jul 2021 news, may 2021 prod.pdf',\n",
       " 'oct 2021 news, aug 2021 prod.pdf',\n",
       " 'aug 2021 news, jun 2021 prod.pdf',\n",
       " 'apr 2021 news, feb 2021 prod.pdf',\n",
       " 'nov 2021 news, sept 2021 prod.pdf']"
      ]
     },
     "execution_count": 5,
     "metadata": {},
     "output_type": "execute_result"
    }
   ],
   "source": [
    "pbt_news_raw_files = list(filter(lambda x: 'DS_Store' not in x, os.listdir(f'{raw_data_folder}/pbt_news/2021')))\n",
    "\n",
    "pbt_news_raw_files"
   ]
  },
  {
   "cell_type": "code",
   "execution_count": 6,
   "id": "3ff8658a",
   "metadata": {},
   "outputs": [
    {
     "data": {
      "application/vnd.jupyter.widget-view+json": {
       "model_id": "e9496fd7be8a4a0c8db0e52273b3e457",
       "version_major": 2,
       "version_minor": 0
      },
      "text/plain": [
       "Executing:   0%|          | 0/24 [00:00<?, ?cell/s]"
      ]
     },
     "metadata": {},
     "output_type": "display_data"
    },
    {
     "data": {
      "application/vnd.jupyter.widget-view+json": {
       "model_id": "e7a7f9004b0a4d65af8e4e048aba946b",
       "version_major": 2,
       "version_minor": 0
      },
      "text/plain": [
       "Executing:   0%|          | 0/24 [00:00<?, ?cell/s]"
      ]
     },
     "metadata": {},
     "output_type": "display_data"
    },
    {
     "data": {
      "application/vnd.jupyter.widget-view+json": {
       "model_id": "331053a5a8c74a33a08580ce2520fbe5",
       "version_major": 2,
       "version_minor": 0
      },
      "text/plain": [
       "Executing:   0%|          | 0/24 [00:00<?, ?cell/s]"
      ]
     },
     "metadata": {},
     "output_type": "display_data"
    },
    {
     "data": {
      "application/vnd.jupyter.widget-view+json": {
       "model_id": "0ae31962821240759cbe98bc706e1b34",
       "version_major": 2,
       "version_minor": 0
      },
      "text/plain": [
       "Executing:   0%|          | 0/24 [00:00<?, ?cell/s]"
      ]
     },
     "metadata": {},
     "output_type": "display_data"
    },
    {
     "data": {
      "application/vnd.jupyter.widget-view+json": {
       "model_id": "524c8e68e6b74752bb2fd40061b49bd2",
       "version_major": 2,
       "version_minor": 0
      },
      "text/plain": [
       "Executing:   0%|          | 0/24 [00:00<?, ?cell/s]"
      ]
     },
     "metadata": {},
     "output_type": "display_data"
    },
    {
     "data": {
      "application/vnd.jupyter.widget-view+json": {
       "model_id": "10597001129941fda906404c0e6c0cc9",
       "version_major": 2,
       "version_minor": 0
      },
      "text/plain": [
       "Executing:   0%|          | 0/24 [00:00<?, ?cell/s]"
      ]
     },
     "metadata": {},
     "output_type": "display_data"
    },
    {
     "data": {
      "application/vnd.jupyter.widget-view+json": {
       "model_id": "b30011ba51ef4c7f85744d0e354eae0a",
       "version_major": 2,
       "version_minor": 0
      },
      "text/plain": [
       "Executing:   0%|          | 0/24 [00:00<?, ?cell/s]"
      ]
     },
     "metadata": {},
     "output_type": "display_data"
    },
    {
     "data": {
      "application/vnd.jupyter.widget-view+json": {
       "model_id": "9e428c5b1af742df875ce3107cd1f9ee",
       "version_major": 2,
       "version_minor": 0
      },
      "text/plain": [
       "Executing:   0%|          | 0/24 [00:00<?, ?cell/s]"
      ]
     },
     "metadata": {},
     "output_type": "display_data"
    },
    {
     "data": {
      "application/vnd.jupyter.widget-view+json": {
       "model_id": "9d784e62b2fb4b91a35f2e78a4cb3c3d",
       "version_major": 2,
       "version_minor": 0
      },
      "text/plain": [
       "Executing:   0%|          | 0/24 [00:00<?, ?cell/s]"
      ]
     },
     "metadata": {},
     "output_type": "display_data"
    },
    {
     "data": {
      "application/vnd.jupyter.widget-view+json": {
       "model_id": "571a645037454741a5d53ada5bab7c73",
       "version_major": 2,
       "version_minor": 0
      },
      "text/plain": [
       "Executing:   0%|          | 0/24 [00:00<?, ?cell/s]"
      ]
     },
     "metadata": {},
     "output_type": "display_data"
    }
   ],
   "source": [
    "for file in pbt_news_raw_files:\n",
    "\n",
    "    pm.execute_notebook('3. Ingest PBT News Release PDFs.ipynb',\n",
    "       f'output_notebooks/pbt_news_runs/{file}.ipynb',\n",
    "       parameters=dict(news_file_name=file)\n",
    "    )"
   ]
  },
  {
   "cell_type": "code",
   "execution_count": null,
   "id": "8318283b",
   "metadata": {},
   "outputs": [],
   "source": []
  }
 ],
 "metadata": {
  "kernelspec": {
   "display_name": "Python 3 (ipykernel)",
   "language": "python",
   "name": "python3"
  },
  "language_info": {
   "codemirror_mode": {
    "name": "ipython",
    "version": 3
   },
   "file_extension": ".py",
   "mimetype": "text/x-python",
   "name": "python",
   "nbconvert_exporter": "python",
   "pygments_lexer": "ipython3",
   "version": "3.9.7"
  }
 },
 "nbformat": 4,
 "nbformat_minor": 5
}
