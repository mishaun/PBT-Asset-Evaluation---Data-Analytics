{
 "cells": [
  {
   "cell_type": "markdown",
   "id": "800ffd0d",
   "metadata": {},
   "source": [
    "# Import Libraries"
   ]
  },
  {
   "cell_type": "code",
   "execution_count": 1,
   "id": "bbb77c6c",
   "metadata": {},
   "outputs": [],
   "source": [
    "import pandas as pd\n",
    "import requests\n",
    "\n",
    "import yfinance as yf\n",
    "from pandas_datareader import data as pdr"
   ]
  },
  {
   "cell_type": "code",
   "execution_count": 2,
   "id": "a6dc9094",
   "metadata": {},
   "outputs": [],
   "source": [
    "import datetime as dt"
   ]
  },
  {
   "cell_type": "code",
   "execution_count": 3,
   "id": "f456161f",
   "metadata": {},
   "outputs": [],
   "source": [
    "pd.options.display.max_columns=1000\n",
    "\n",
    "from IPython.core.interactiveshell import InteractiveShell\n",
    "InteractiveShell.ast_node_interactivity = \"all\""
   ]
  },
  {
   "cell_type": "markdown",
   "id": "c2601f5e",
   "metadata": {},
   "source": [
    "# Folder Paths"
   ]
  },
  {
   "cell_type": "code",
   "execution_count": 4,
   "id": "f17f42d7",
   "metadata": {},
   "outputs": [],
   "source": [
    "%run configs.ipynb"
   ]
  },
  {
   "cell_type": "markdown",
   "id": "7466b7a0",
   "metadata": {},
   "source": [
    "<hr>"
   ]
  },
  {
   "cell_type": "markdown",
   "id": "c98bbfb3",
   "metadata": {},
   "source": [
    "# Ingest & Transform Data "
   ]
  },
  {
   "cell_type": "markdown",
   "id": "764dba4d",
   "metadata": {},
   "source": [
    "## PBT Historical Asset Price"
   ]
  },
  {
   "cell_type": "markdown",
   "id": "cff93ff2",
   "metadata": {},
   "source": [
    "### Ingest from Yahoo Finance API"
   ]
  },
  {
   "cell_type": "markdown",
   "id": "33d2d316",
   "metadata": {},
   "source": [
    "#### Get Current Date"
   ]
  },
  {
   "cell_type": "code",
   "execution_count": 5,
   "id": "3d1e7732",
   "metadata": {},
   "outputs": [
    {
     "data": {
      "text/plain": [
       "'2022-01-15'"
      ]
     },
     "execution_count": 5,
     "metadata": {},
     "output_type": "execute_result"
    }
   ],
   "source": [
    "present_date = dt.datetime.strftime(dt.datetime.now(), '%Y-%m-%d')\n",
    "present_date"
   ]
  },
  {
   "cell_type": "code",
   "execution_count": 6,
   "id": "41cc40f4",
   "metadata": {},
   "outputs": [
    {
     "name": "stdout",
     "output_type": "stream",
     "text": [
      "[*********************100%***********************]  1 of 1 completed\n"
     ]
    }
   ],
   "source": [
    "yf.pdr_override()\n",
    "\n",
    "# download dataframe\n",
    "data = pdr.get_data_yahoo(\"PBT\", start=\"1996-01-01\", end=present_date)\n"
   ]
  },
  {
   "cell_type": "markdown",
   "id": "b755f626",
   "metadata": {},
   "source": [
    "### Transform - Select Columns"
   ]
  },
  {
   "cell_type": "code",
   "execution_count": 7,
   "id": "af9e62d6",
   "metadata": {},
   "outputs": [
    {
     "data": {
      "text/html": [
       "<div>\n",
       "<style scoped>\n",
       "    .dataframe tbody tr th:only-of-type {\n",
       "        vertical-align: middle;\n",
       "    }\n",
       "\n",
       "    .dataframe tbody tr th {\n",
       "        vertical-align: top;\n",
       "    }\n",
       "\n",
       "    .dataframe thead th {\n",
       "        text-align: right;\n",
       "    }\n",
       "</style>\n",
       "<table border=\"1\" class=\"dataframe\">\n",
       "  <thead>\n",
       "    <tr style=\"text-align: right;\">\n",
       "      <th></th>\n",
       "      <th>Date</th>\n",
       "      <th>Close</th>\n",
       "    </tr>\n",
       "  </thead>\n",
       "  <tbody>\n",
       "    <tr>\n",
       "      <th>0</th>\n",
       "      <td>1996-01-02</td>\n",
       "      <td>3.125</td>\n",
       "    </tr>\n",
       "    <tr>\n",
       "      <th>1</th>\n",
       "      <td>1996-01-03</td>\n",
       "      <td>3.375</td>\n",
       "    </tr>\n",
       "    <tr>\n",
       "      <th>2</th>\n",
       "      <td>1996-01-04</td>\n",
       "      <td>3.500</td>\n",
       "    </tr>\n",
       "    <tr>\n",
       "      <th>3</th>\n",
       "      <td>1996-01-05</td>\n",
       "      <td>3.500</td>\n",
       "    </tr>\n",
       "    <tr>\n",
       "      <th>4</th>\n",
       "      <td>1996-01-08</td>\n",
       "      <td>3.625</td>\n",
       "    </tr>\n",
       "  </tbody>\n",
       "</table>\n",
       "</div>"
      ],
      "text/plain": [
       "        Date  Close\n",
       "0 1996-01-02  3.125\n",
       "1 1996-01-03  3.375\n",
       "2 1996-01-04  3.500\n",
       "3 1996-01-05  3.500\n",
       "4 1996-01-08  3.625"
      ]
     },
     "execution_count": 7,
     "metadata": {},
     "output_type": "execute_result"
    }
   ],
   "source": [
    "#resetting index to make date a column and only taking closing price and date\n",
    "historical_close = data.reset_index()[['Date', 'Close']]\n",
    "historical_close.head()\n",
    "historical_close.to_csv(f\"{presentation_data_folder}/pbt_asset_price/pbt asset price.csv\", index = False)"
   ]
  },
  {
   "cell_type": "markdown",
   "id": "7bf843d0",
   "metadata": {},
   "source": [
    "<hr>"
   ]
  },
  {
   "cell_type": "markdown",
   "id": "dfba4b1a",
   "metadata": {},
   "source": [
    "\n",
    "## Oil Price by Month - Web Scrape\n",
    "* Source URL: https://www.eia.gov/dnav/pet/hist/LeafHandler.ashx?n=PET&s=RWTC&f=M"
   ]
  },
  {
   "cell_type": "markdown",
   "id": "71855685",
   "metadata": {},
   "source": [
    "### Ingest from EIA Web Site"
   ]
  },
  {
   "cell_type": "code",
   "execution_count": 8,
   "id": "b23dcadd",
   "metadata": {},
   "outputs": [],
   "source": [
    "oilPricebyMonth = pd.read_html('https://www.eia.gov/dnav/pet/hist/LeafHandler.ashx?n=PET&s=RWTC&f=M')[4]"
   ]
  },
  {
   "cell_type": "markdown",
   "id": "54d1ea3f",
   "metadata": {},
   "source": [
    "### Transform - Drop Null Years and Unpivot with Custom Pandas Melt Function"
   ]
  },
  {
   "cell_type": "code",
   "execution_count": 9,
   "id": "444038c6",
   "metadata": {},
   "outputs": [
    {
     "data": {
      "text/html": [
       "<div>\n",
       "<style scoped>\n",
       "    .dataframe tbody tr th:only-of-type {\n",
       "        vertical-align: middle;\n",
       "    }\n",
       "\n",
       "    .dataframe tbody tr th {\n",
       "        vertical-align: top;\n",
       "    }\n",
       "\n",
       "    .dataframe thead th {\n",
       "        text-align: right;\n",
       "    }\n",
       "</style>\n",
       "<table border=\"1\" class=\"dataframe\">\n",
       "  <thead>\n",
       "    <tr style=\"text-align: right;\">\n",
       "      <th></th>\n",
       "      <th>Year</th>\n",
       "      <th>Jan</th>\n",
       "      <th>Feb</th>\n",
       "      <th>Mar</th>\n",
       "      <th>Apr</th>\n",
       "      <th>May</th>\n",
       "      <th>Jun</th>\n",
       "      <th>Jul</th>\n",
       "      <th>Aug</th>\n",
       "      <th>Sep</th>\n",
       "      <th>Oct</th>\n",
       "      <th>Nov</th>\n",
       "      <th>Dec</th>\n",
       "    </tr>\n",
       "  </thead>\n",
       "  <tbody>\n",
       "    <tr>\n",
       "      <th>0</th>\n",
       "      <td>1986.0</td>\n",
       "      <td>22.93</td>\n",
       "      <td>15.46</td>\n",
       "      <td>12.61</td>\n",
       "      <td>12.84</td>\n",
       "      <td>15.38</td>\n",
       "      <td>13.43</td>\n",
       "      <td>11.59</td>\n",
       "      <td>15.10</td>\n",
       "      <td>14.87</td>\n",
       "      <td>14.90</td>\n",
       "      <td>15.22</td>\n",
       "      <td>16.11</td>\n",
       "    </tr>\n",
       "    <tr>\n",
       "      <th>1</th>\n",
       "      <td>1987.0</td>\n",
       "      <td>18.65</td>\n",
       "      <td>17.75</td>\n",
       "      <td>18.30</td>\n",
       "      <td>18.68</td>\n",
       "      <td>19.44</td>\n",
       "      <td>20.07</td>\n",
       "      <td>21.34</td>\n",
       "      <td>20.31</td>\n",
       "      <td>19.53</td>\n",
       "      <td>19.86</td>\n",
       "      <td>18.85</td>\n",
       "      <td>17.28</td>\n",
       "    </tr>\n",
       "    <tr>\n",
       "      <th>2</th>\n",
       "      <td>1988.0</td>\n",
       "      <td>17.13</td>\n",
       "      <td>16.80</td>\n",
       "      <td>16.20</td>\n",
       "      <td>17.86</td>\n",
       "      <td>17.42</td>\n",
       "      <td>16.53</td>\n",
       "      <td>15.50</td>\n",
       "      <td>15.52</td>\n",
       "      <td>14.54</td>\n",
       "      <td>13.77</td>\n",
       "      <td>14.14</td>\n",
       "      <td>16.38</td>\n",
       "    </tr>\n",
       "    <tr>\n",
       "      <th>3</th>\n",
       "      <td>1989.0</td>\n",
       "      <td>18.02</td>\n",
       "      <td>17.94</td>\n",
       "      <td>19.48</td>\n",
       "      <td>21.07</td>\n",
       "      <td>20.12</td>\n",
       "      <td>20.05</td>\n",
       "      <td>19.78</td>\n",
       "      <td>18.58</td>\n",
       "      <td>19.59</td>\n",
       "      <td>20.10</td>\n",
       "      <td>19.86</td>\n",
       "      <td>21.10</td>\n",
       "    </tr>\n",
       "    <tr>\n",
       "      <th>5</th>\n",
       "      <td>1990.0</td>\n",
       "      <td>22.86</td>\n",
       "      <td>22.11</td>\n",
       "      <td>20.39</td>\n",
       "      <td>18.43</td>\n",
       "      <td>18.20</td>\n",
       "      <td>16.70</td>\n",
       "      <td>18.45</td>\n",
       "      <td>27.31</td>\n",
       "      <td>33.51</td>\n",
       "      <td>36.04</td>\n",
       "      <td>32.33</td>\n",
       "      <td>27.28</td>\n",
       "    </tr>\n",
       "  </tbody>\n",
       "</table>\n",
       "</div>"
      ],
      "text/plain": [
       "     Year    Jan    Feb    Mar    Apr    May    Jun    Jul    Aug    Sep  \\\n",
       "0  1986.0  22.93  15.46  12.61  12.84  15.38  13.43  11.59  15.10  14.87   \n",
       "1  1987.0  18.65  17.75  18.30  18.68  19.44  20.07  21.34  20.31  19.53   \n",
       "2  1988.0  17.13  16.80  16.20  17.86  17.42  16.53  15.50  15.52  14.54   \n",
       "3  1989.0  18.02  17.94  19.48  21.07  20.12  20.05  19.78  18.58  19.59   \n",
       "5  1990.0  22.86  22.11  20.39  18.43  18.20  16.70  18.45  27.31  33.51   \n",
       "\n",
       "     Oct    Nov    Dec  \n",
       "0  14.90  15.22  16.11  \n",
       "1  19.86  18.85  17.28  \n",
       "2  13.77  14.14  16.38  \n",
       "3  20.10  19.86  21.10  \n",
       "5  36.04  32.33  27.28  "
      ]
     },
     "execution_count": 9,
     "metadata": {},
     "output_type": "execute_result"
    }
   ],
   "source": [
    "oilPricebyMonth.dropna(subset = ['Year'], inplace = True)\n",
    "oilPricebyMonth.head()"
   ]
  },
  {
   "cell_type": "code",
   "execution_count": 10,
   "id": "ab571917",
   "metadata": {},
   "outputs": [],
   "source": [
    "def unpivot_eia_commodity_price_tables(df, col_to_not_pivot, value_name):\n",
    "    \n",
    "    #unpivoting month with no associated year columns\n",
    "    unpivot_df = df.melt(id_vars = col_to_not_pivot) \n",
    "    \n",
    "    #creating date mo-yr column by making year a string, splitting at decimal, and concatenating to month\n",
    "    #inserting to be first column of dataframe\n",
    "    unpivot_df.insert(0, \\\n",
    "                      \"Date\", \\\n",
    "                      unpivot_df['variable'] + \" \" + \\\n",
    "                      unpivot_df[col_to_not_pivot].apply(lambda x: str(x).split('.')[0])\n",
    "                     )\n",
    "    \n",
    "    #converting string mo-yr to datetime\n",
    "    unpivot_df[\"Date\"] = unpivot_df['Date'].apply(lambda x: dt.datetime.strptime(x, '%b %Y'))\n",
    "    \n",
    "    #cleaning up dataframes by dropping unneeded columns, and sorting by date\n",
    "    unpivot_df.drop(columns = ['variable', col_to_not_pivot], inplace = True)\n",
    "    unpivot_df.sort_values(by = \"Date\", inplace = True)\n",
    "    unpivot_df.rename(columns = {'value': value_name}, inplace = True)\n",
    "\n",
    "    \n",
    "    return unpivot_df"
   ]
  },
  {
   "cell_type": "code",
   "execution_count": 11,
   "id": "12437335",
   "metadata": {},
   "outputs": [
    {
     "data": {
      "text/html": [
       "<div>\n",
       "<style scoped>\n",
       "    .dataframe tbody tr th:only-of-type {\n",
       "        vertical-align: middle;\n",
       "    }\n",
       "\n",
       "    .dataframe tbody tr th {\n",
       "        vertical-align: top;\n",
       "    }\n",
       "\n",
       "    .dataframe thead th {\n",
       "        text-align: right;\n",
       "    }\n",
       "</style>\n",
       "<table border=\"1\" class=\"dataframe\">\n",
       "  <thead>\n",
       "    <tr style=\"text-align: right;\">\n",
       "      <th></th>\n",
       "      <th>Date</th>\n",
       "      <th>monthly_oil_price</th>\n",
       "    </tr>\n",
       "  </thead>\n",
       "  <tbody>\n",
       "    <tr>\n",
       "      <th>0</th>\n",
       "      <td>1986-01-01</td>\n",
       "      <td>22.93</td>\n",
       "    </tr>\n",
       "    <tr>\n",
       "      <th>36</th>\n",
       "      <td>1986-02-01</td>\n",
       "      <td>15.46</td>\n",
       "    </tr>\n",
       "    <tr>\n",
       "      <th>72</th>\n",
       "      <td>1986-03-01</td>\n",
       "      <td>12.61</td>\n",
       "    </tr>\n",
       "    <tr>\n",
       "      <th>108</th>\n",
       "      <td>1986-04-01</td>\n",
       "      <td>12.84</td>\n",
       "    </tr>\n",
       "    <tr>\n",
       "      <th>144</th>\n",
       "      <td>1986-05-01</td>\n",
       "      <td>15.38</td>\n",
       "    </tr>\n",
       "  </tbody>\n",
       "</table>\n",
       "</div>"
      ],
      "text/plain": [
       "          Date  monthly_oil_price\n",
       "0   1986-01-01              22.93\n",
       "36  1986-02-01              15.46\n",
       "72  1986-03-01              12.61\n",
       "108 1986-04-01              12.84\n",
       "144 1986-05-01              15.38"
      ]
     },
     "execution_count": 11,
     "metadata": {},
     "output_type": "execute_result"
    }
   ],
   "source": [
    "oilPricebyMonth = unpivot_eia_commodity_price_tables(oilPricebyMonth, 'Year', value_name='monthly_oil_price')\n",
    "oilPricebyMonth.head()"
   ]
  },
  {
   "cell_type": "code",
   "execution_count": 12,
   "id": "afbf887b",
   "metadata": {},
   "outputs": [],
   "source": [
    "oilPricebyMonth.to_csv(f\"{presentation_data_folder}/oil_prices/oil price by month.csv\", index = False)"
   ]
  },
  {
   "cell_type": "markdown",
   "id": "b0f4aba0",
   "metadata": {},
   "source": [
    "## Gas Price by Month - Web Scrape\n",
    "* Source Url: https://www.eia.gov/dnav/ng/hist/rngwhhdm.htm"
   ]
  },
  {
   "cell_type": "markdown",
   "id": "8de3049a",
   "metadata": {},
   "source": [
    "### Ingest from Web"
   ]
  },
  {
   "cell_type": "code",
   "execution_count": 13,
   "id": "2ca1f351",
   "metadata": {},
   "outputs": [],
   "source": [
    "gasPricebyMonth = pd.read_html('https://www.eia.gov/dnav/ng/hist/rngwhhdm.htm')[4]"
   ]
  },
  {
   "cell_type": "markdown",
   "id": "fa5e56f3",
   "metadata": {},
   "source": [
    "### Transform - Drop Null Years and Unpivot with Custom Pandas Melt Function"
   ]
  },
  {
   "cell_type": "code",
   "execution_count": 14,
   "id": "3fc84f4a",
   "metadata": {},
   "outputs": [
    {
     "data": {
      "text/html": [
       "<div>\n",
       "<style scoped>\n",
       "    .dataframe tbody tr th:only-of-type {\n",
       "        vertical-align: middle;\n",
       "    }\n",
       "\n",
       "    .dataframe tbody tr th {\n",
       "        vertical-align: top;\n",
       "    }\n",
       "\n",
       "    .dataframe thead th {\n",
       "        text-align: right;\n",
       "    }\n",
       "</style>\n",
       "<table border=\"1\" class=\"dataframe\">\n",
       "  <thead>\n",
       "    <tr style=\"text-align: right;\">\n",
       "      <th></th>\n",
       "      <th>Year</th>\n",
       "      <th>Jan</th>\n",
       "      <th>Feb</th>\n",
       "      <th>Mar</th>\n",
       "      <th>Apr</th>\n",
       "      <th>May</th>\n",
       "      <th>Jun</th>\n",
       "      <th>Jul</th>\n",
       "      <th>Aug</th>\n",
       "      <th>Sep</th>\n",
       "      <th>Oct</th>\n",
       "      <th>Nov</th>\n",
       "      <th>Dec</th>\n",
       "    </tr>\n",
       "  </thead>\n",
       "  <tbody>\n",
       "    <tr>\n",
       "      <th>0</th>\n",
       "      <td>1997.0</td>\n",
       "      <td>3.45</td>\n",
       "      <td>2.15</td>\n",
       "      <td>1.89</td>\n",
       "      <td>2.03</td>\n",
       "      <td>2.25</td>\n",
       "      <td>2.20</td>\n",
       "      <td>2.19</td>\n",
       "      <td>2.49</td>\n",
       "      <td>2.88</td>\n",
       "      <td>3.07</td>\n",
       "      <td>3.01</td>\n",
       "      <td>2.35</td>\n",
       "    </tr>\n",
       "    <tr>\n",
       "      <th>1</th>\n",
       "      <td>1998.0</td>\n",
       "      <td>2.09</td>\n",
       "      <td>2.23</td>\n",
       "      <td>2.24</td>\n",
       "      <td>2.43</td>\n",
       "      <td>2.14</td>\n",
       "      <td>2.17</td>\n",
       "      <td>2.17</td>\n",
       "      <td>1.85</td>\n",
       "      <td>2.02</td>\n",
       "      <td>1.91</td>\n",
       "      <td>2.12</td>\n",
       "      <td>1.72</td>\n",
       "    </tr>\n",
       "    <tr>\n",
       "      <th>2</th>\n",
       "      <td>1999.0</td>\n",
       "      <td>1.85</td>\n",
       "      <td>1.77</td>\n",
       "      <td>1.79</td>\n",
       "      <td>2.15</td>\n",
       "      <td>2.26</td>\n",
       "      <td>2.30</td>\n",
       "      <td>2.31</td>\n",
       "      <td>2.80</td>\n",
       "      <td>2.55</td>\n",
       "      <td>2.73</td>\n",
       "      <td>2.37</td>\n",
       "      <td>2.36</td>\n",
       "    </tr>\n",
       "    <tr>\n",
       "      <th>4</th>\n",
       "      <td>2000.0</td>\n",
       "      <td>2.42</td>\n",
       "      <td>2.66</td>\n",
       "      <td>2.79</td>\n",
       "      <td>3.04</td>\n",
       "      <td>3.59</td>\n",
       "      <td>4.29</td>\n",
       "      <td>3.99</td>\n",
       "      <td>4.43</td>\n",
       "      <td>5.06</td>\n",
       "      <td>5.02</td>\n",
       "      <td>5.52</td>\n",
       "      <td>8.90</td>\n",
       "    </tr>\n",
       "    <tr>\n",
       "      <th>5</th>\n",
       "      <td>2001.0</td>\n",
       "      <td>8.17</td>\n",
       "      <td>5.61</td>\n",
       "      <td>5.23</td>\n",
       "      <td>5.19</td>\n",
       "      <td>4.19</td>\n",
       "      <td>3.72</td>\n",
       "      <td>3.11</td>\n",
       "      <td>2.97</td>\n",
       "      <td>2.19</td>\n",
       "      <td>2.46</td>\n",
       "      <td>2.34</td>\n",
       "      <td>2.30</td>\n",
       "    </tr>\n",
       "  </tbody>\n",
       "</table>\n",
       "</div>"
      ],
      "text/plain": [
       "     Year   Jan   Feb   Mar   Apr   May   Jun   Jul   Aug   Sep   Oct   Nov  \\\n",
       "0  1997.0  3.45  2.15  1.89  2.03  2.25  2.20  2.19  2.49  2.88  3.07  3.01   \n",
       "1  1998.0  2.09  2.23  2.24  2.43  2.14  2.17  2.17  1.85  2.02  1.91  2.12   \n",
       "2  1999.0  1.85  1.77  1.79  2.15  2.26  2.30  2.31  2.80  2.55  2.73  2.37   \n",
       "4  2000.0  2.42  2.66  2.79  3.04  3.59  4.29  3.99  4.43  5.06  5.02  5.52   \n",
       "5  2001.0  8.17  5.61  5.23  5.19  4.19  3.72  3.11  2.97  2.19  2.46  2.34   \n",
       "\n",
       "    Dec  \n",
       "0  2.35  \n",
       "1  1.72  \n",
       "2  2.36  \n",
       "4  8.90  \n",
       "5  2.30  "
      ]
     },
     "execution_count": 14,
     "metadata": {},
     "output_type": "execute_result"
    }
   ],
   "source": [
    "gasPricebyMonth.dropna(subset=[\"Year\"], inplace = True)\n",
    "gasPricebyMonth.head()"
   ]
  },
  {
   "cell_type": "code",
   "execution_count": 15,
   "id": "496b31c2",
   "metadata": {},
   "outputs": [
    {
     "data": {
      "text/html": [
       "<div>\n",
       "<style scoped>\n",
       "    .dataframe tbody tr th:only-of-type {\n",
       "        vertical-align: middle;\n",
       "    }\n",
       "\n",
       "    .dataframe tbody tr th {\n",
       "        vertical-align: top;\n",
       "    }\n",
       "\n",
       "    .dataframe thead th {\n",
       "        text-align: right;\n",
       "    }\n",
       "</style>\n",
       "<table border=\"1\" class=\"dataframe\">\n",
       "  <thead>\n",
       "    <tr style=\"text-align: right;\">\n",
       "      <th></th>\n",
       "      <th>Date</th>\n",
       "      <th>monthly_gas_price</th>\n",
       "    </tr>\n",
       "  </thead>\n",
       "  <tbody>\n",
       "    <tr>\n",
       "      <th>0</th>\n",
       "      <td>1997-01-01</td>\n",
       "      <td>3.45</td>\n",
       "    </tr>\n",
       "    <tr>\n",
       "      <th>25</th>\n",
       "      <td>1997-02-01</td>\n",
       "      <td>2.15</td>\n",
       "    </tr>\n",
       "    <tr>\n",
       "      <th>50</th>\n",
       "      <td>1997-03-01</td>\n",
       "      <td>1.89</td>\n",
       "    </tr>\n",
       "    <tr>\n",
       "      <th>75</th>\n",
       "      <td>1997-04-01</td>\n",
       "      <td>2.03</td>\n",
       "    </tr>\n",
       "    <tr>\n",
       "      <th>100</th>\n",
       "      <td>1997-05-01</td>\n",
       "      <td>2.25</td>\n",
       "    </tr>\n",
       "  </tbody>\n",
       "</table>\n",
       "</div>"
      ],
      "text/plain": [
       "          Date  monthly_gas_price\n",
       "0   1997-01-01               3.45\n",
       "25  1997-02-01               2.15\n",
       "50  1997-03-01               1.89\n",
       "75  1997-04-01               2.03\n",
       "100 1997-05-01               2.25"
      ]
     },
     "execution_count": 15,
     "metadata": {},
     "output_type": "execute_result"
    }
   ],
   "source": [
    "gasPricebyMonth = unpivot_eia_commodity_price_tables(gasPricebyMonth, 'Year', value_name='monthly_gas_price')\n",
    "gasPricebyMonth.head()"
   ]
  },
  {
   "cell_type": "code",
   "execution_count": 16,
   "id": "30af4c93",
   "metadata": {},
   "outputs": [],
   "source": [
    "gasPricebyMonth.to_csv(f\"{presentation_data_folder}/gas_prices/gas price by month.csv\", index = False)"
   ]
  },
  {
   "cell_type": "markdown",
   "id": "f5139b06",
   "metadata": {},
   "source": [
    "<hr>\n",
    "<br>\n",
    "\n"
   ]
  },
  {
   "cell_type": "markdown",
   "id": "975df47d",
   "metadata": {},
   "source": [
    "## Historical Field Production"
   ]
  },
  {
   "cell_type": "markdown",
   "id": "06af56c9",
   "metadata": {},
   "source": [
    "### Ingest historical production"
   ]
  },
  {
   "cell_type": "code",
   "execution_count": 17,
   "id": "77673dcc",
   "metadata": {},
   "outputs": [],
   "source": [
    "historical_prod = pd.read_csv(f'{raw_data_folder}/historical_production/Historical Production.csv')"
   ]
  },
  {
   "cell_type": "markdown",
   "id": "19906ea3",
   "metadata": {},
   "source": [
    "### Transform - Convert String Timestamp to Date and Adding Fields"
   ]
  },
  {
   "cell_type": "code",
   "execution_count": 18,
   "id": "814d5771",
   "metadata": {},
   "outputs": [],
   "source": [
    "historical_prod['Date'] = pd.to_datetime(historical_prod['Date'])\n",
    "\n",
    "historical_prod['Mbbl/month'] = historical_prod['Oil']/1E3\n",
    "historical_prod['Ten\\'s of Thousand bbl /month (1E-4)'] = historical_prod['Oil']/1E4\n",
    "\n",
    "historical_prod['MMcf/month'] = historical_prod['Gas']/1E3\n",
    "historical_prod['Ten\\'s of Thousand mcf /month (1E-4)'] = historical_prod['Gas']/1E4"
   ]
  },
  {
   "cell_type": "code",
   "execution_count": 19,
   "id": "924e56ae",
   "metadata": {},
   "outputs": [],
   "source": [
    "historical_prod.to_csv(f'{presentation_data_folder}/historical_production/historical_production.csv', index = False)"
   ]
  },
  {
   "cell_type": "markdown",
   "id": "2f96647f",
   "metadata": {},
   "source": [
    "<hr>\n",
    "<br>"
   ]
  },
  {
   "cell_type": "markdown",
   "id": "bdd8b028",
   "metadata": {},
   "source": [
    "## Wells in Field"
   ]
  },
  {
   "cell_type": "markdown",
   "id": "7416c3a8",
   "metadata": {},
   "source": [
    "### Ingest Wells"
   ]
  },
  {
   "cell_type": "code",
   "execution_count": 20,
   "id": "14d7407a",
   "metadata": {},
   "outputs": [],
   "source": [
    "wells = pd.read_csv(f'{raw_data_folder}/wells/Production Table.csv')"
   ]
  },
  {
   "cell_type": "code",
   "execution_count": 21,
   "id": "848266c7",
   "metadata": {},
   "outputs": [],
   "source": [
    "import re"
   ]
  },
  {
   "cell_type": "code",
   "execution_count": 22,
   "id": "5df33fec",
   "metadata": {},
   "outputs": [],
   "source": [
    "chars_split_regex = ', | . | '"
   ]
  },
  {
   "cell_type": "code",
   "execution_count": 23,
   "id": "d68e69a0",
   "metadata": {},
   "outputs": [
    {
     "data": {
      "text/plain": [
       "['WADDELL', 'TR', 'B']"
      ]
     },
     "execution_count": 23,
     "metadata": {},
     "output_type": "execute_result"
    }
   ],
   "source": [
    "testname = wells[\"Well/Lease Name\"].iloc[0]\n",
    "\n",
    "re.split(chars_split_regex, testname)"
   ]
  },
  {
   "cell_type": "code",
   "execution_count": 24,
   "id": "c40cfdcd",
   "metadata": {},
   "outputs": [
    {
     "data": {
      "text/plain": [
       "WADDELL              546\n",
       "MCKNIGHT              49\n",
       "6                     20\n",
       "LANDLUBBER            13\n",
       "YELLOW                 9\n",
       "STEDE                  5\n",
       "CROLEY                 4\n",
       "JEAN                   3\n",
       "WADDELL,W.N.,ETAL      3\n",
       "MCCAMEY                3\n",
       "M.B.                   3\n",
       "CLEW                   3\n",
       "nan                    3\n",
       "BLACK                  2\n",
       "BARATARIA              2\n",
       "GALLEON                1\n",
       "RAYDEN                 1\n",
       "ROADRUNNER             1\n",
       "W.                     1\n",
       "Name: Well/Lease Name, dtype: int64"
      ]
     },
     "execution_count": 24,
     "metadata": {},
     "output_type": "execute_result"
    }
   ],
   "source": [
    "wells[\"Well/Lease Name\"].apply(lambda x: re.split(chars_split_regex,str(x))[0]).value_counts()\n"
   ]
  },
  {
   "cell_type": "markdown",
   "id": "81c2acc4",
   "metadata": {},
   "source": [
    "### Transform - Add Fields"
   ]
  },
  {
   "cell_type": "code",
   "execution_count": 25,
   "id": "75310e15",
   "metadata": {},
   "outputs": [],
   "source": [
    "wells[\"Total MMbbl\"] = wells['Cum Oil']/1E6\n",
    "wells[\"Total BCF\"] = wells['Cum Gas']/1E6"
   ]
  },
  {
   "cell_type": "code",
   "execution_count": 26,
   "id": "e04dfd6d",
   "metadata": {},
   "outputs": [],
   "source": [
    "wells.to_csv(f'{presentation_data_folder}/wells/wells.csv', index = False)"
   ]
  },
  {
   "cell_type": "markdown",
   "id": "433070d0",
   "metadata": {},
   "source": [
    "<hr>\n",
    "<br>"
   ]
  },
  {
   "cell_type": "markdown",
   "id": "264727ca",
   "metadata": {},
   "source": [
    "## Permits"
   ]
  },
  {
   "cell_type": "markdown",
   "id": "05c5ee2b",
   "metadata": {},
   "source": [
    "### Ingest Permits"
   ]
  },
  {
   "cell_type": "code",
   "execution_count": 27,
   "id": "a01944a8",
   "metadata": {},
   "outputs": [],
   "source": [
    "permits = pd.read_csv(f'{raw_data_folder}/permits/Permits Table.csv')"
   ]
  },
  {
   "cell_type": "markdown",
   "id": "8c9c8485",
   "metadata": {},
   "source": [
    "### Transform - Group Similar Values in Well Status Field"
   ]
  },
  {
   "cell_type": "code",
   "execution_count": 28,
   "id": "d4d54d19",
   "metadata": {},
   "outputs": [],
   "source": [
    "def group_categories(value, similar_categories, target_category):\n",
    "    '''\n",
    "    similar_categories: list of values that wish to be grouped together\n",
    "    target_category: value for similar values to be grouped to\n",
    "    value: value in row of DataFrame\n",
    "    '''\n",
    "    if value in similar_categories:\n",
    "        return target_category\n",
    "    else:\n",
    "        return value"
   ]
  },
  {
   "cell_type": "code",
   "execution_count": 29,
   "id": "14fde9dc",
   "metadata": {},
   "outputs": [
    {
     "data": {
      "text/plain": [
       "PERMITTED    77\n",
       "DUC          53\n",
       "ACTIVE       34\n",
       "COMPLETED    12\n",
       "UNKNOWN      11\n",
       "CANCELLED     3\n",
       "DRILLING      2\n",
       "INACTIVE      2\n",
       "DRILLED       1\n",
       "P & A         1\n",
       "Name: Well Status, dtype: int64"
      ]
     },
     "execution_count": 29,
     "metadata": {},
     "output_type": "execute_result"
    }
   ],
   "source": [
    "permits['Well Status'].value_counts()"
   ]
  },
  {
   "cell_type": "code",
   "execution_count": 30,
   "id": "dbbcd223",
   "metadata": {},
   "outputs": [],
   "source": [
    "vals_to_be_grouped = ['DUC', 'COMPLETED', 'INACTIVE', 'DRILLED']"
   ]
  },
  {
   "cell_type": "code",
   "execution_count": 31,
   "id": "4f11dc6f",
   "metadata": {},
   "outputs": [],
   "source": [
    "permits['Well Status Grouped'] = permits['Well Status'].apply(lambda x: group_categories(x, vals_to_be_grouped, 'Drilled, Not Producing'))"
   ]
  },
  {
   "cell_type": "code",
   "execution_count": 32,
   "id": "c8ecd97c",
   "metadata": {},
   "outputs": [
    {
     "data": {
      "text/plain": [
       "PERMITTED                 77\n",
       "Drilled, Not Producing    68\n",
       "ACTIVE                    34\n",
       "UNKNOWN                   11\n",
       "CANCELLED                  3\n",
       "DRILLING                   2\n",
       "P & A                      1\n",
       "Name: Well Status Grouped, dtype: int64"
      ]
     },
     "execution_count": 32,
     "metadata": {},
     "output_type": "execute_result"
    }
   ],
   "source": [
    "permits['Well Status Grouped'].value_counts()"
   ]
  },
  {
   "cell_type": "code",
   "execution_count": 33,
   "id": "52cb6d44",
   "metadata": {},
   "outputs": [],
   "source": [
    "permits.to_excel(f'{presentation_data_folder}/permits/permits.xlsx', index = False)"
   ]
  },
  {
   "cell_type": "markdown",
   "id": "43f9128b",
   "metadata": {},
   "source": [
    "<hr>\n",
    "<br>"
   ]
  },
  {
   "cell_type": "markdown",
   "id": "397bc59c",
   "metadata": {},
   "source": [
    "# Combined Tables for Analysis"
   ]
  },
  {
   "cell_type": "markdown",
   "id": "8bfebe02",
   "metadata": {},
   "source": [
    "## Gross Revenue "
   ]
  },
  {
   "cell_type": "code",
   "execution_count": 34,
   "id": "bb069955",
   "metadata": {},
   "outputs": [
    {
     "data": {
      "text/html": [
       "<div>\n",
       "<style scoped>\n",
       "    .dataframe tbody tr th:only-of-type {\n",
       "        vertical-align: middle;\n",
       "    }\n",
       "\n",
       "    .dataframe tbody tr th {\n",
       "        vertical-align: top;\n",
       "    }\n",
       "\n",
       "    .dataframe thead th {\n",
       "        text-align: right;\n",
       "    }\n",
       "</style>\n",
       "<table border=\"1\" class=\"dataframe\">\n",
       "  <thead>\n",
       "    <tr style=\"text-align: right;\">\n",
       "      <th></th>\n",
       "      <th>Date</th>\n",
       "      <th>Oil</th>\n",
       "      <th>Gas</th>\n",
       "      <th>Water</th>\n",
       "      <th>Well Count</th>\n",
       "      <th>Mbbl/month</th>\n",
       "      <th>Ten's of Thousand bbl /month (1E-4)</th>\n",
       "      <th>MMcf/month</th>\n",
       "      <th>Ten's of Thousand mcf /month (1E-4)</th>\n",
       "    </tr>\n",
       "  </thead>\n",
       "  <tbody>\n",
       "    <tr>\n",
       "      <th>0</th>\n",
       "      <td>1941-01-01</td>\n",
       "      <td>4684</td>\n",
       "      <td>0</td>\n",
       "      <td>16736</td>\n",
       "      <td>1</td>\n",
       "      <td>4.684</td>\n",
       "      <td>0.4684</td>\n",
       "      <td>0.0</td>\n",
       "      <td>0.0</td>\n",
       "    </tr>\n",
       "  </tbody>\n",
       "</table>\n",
       "</div>"
      ],
      "text/plain": [
       "        Date   Oil  Gas  Water  Well Count  Mbbl/month  \\\n",
       "0 1941-01-01  4684    0  16736           1       4.684   \n",
       "\n",
       "   Ten's of Thousand bbl /month (1E-4)  MMcf/month  \\\n",
       "0                               0.4684         0.0   \n",
       "\n",
       "   Ten's of Thousand mcf /month (1E-4)  \n",
       "0                                  0.0  "
      ]
     },
     "execution_count": 34,
     "metadata": {},
     "output_type": "execute_result"
    },
    {
     "data": {
      "text/html": [
       "<div>\n",
       "<style scoped>\n",
       "    .dataframe tbody tr th:only-of-type {\n",
       "        vertical-align: middle;\n",
       "    }\n",
       "\n",
       "    .dataframe tbody tr th {\n",
       "        vertical-align: top;\n",
       "    }\n",
       "\n",
       "    .dataframe thead th {\n",
       "        text-align: right;\n",
       "    }\n",
       "</style>\n",
       "<table border=\"1\" class=\"dataframe\">\n",
       "  <thead>\n",
       "    <tr style=\"text-align: right;\">\n",
       "      <th></th>\n",
       "      <th>Date</th>\n",
       "      <th>monthly_oil_price</th>\n",
       "    </tr>\n",
       "  </thead>\n",
       "  <tbody>\n",
       "    <tr>\n",
       "      <th>0</th>\n",
       "      <td>1986-01-01</td>\n",
       "      <td>22.93</td>\n",
       "    </tr>\n",
       "  </tbody>\n",
       "</table>\n",
       "</div>"
      ],
      "text/plain": [
       "        Date  monthly_oil_price\n",
       "0 1986-01-01              22.93"
      ]
     },
     "execution_count": 34,
     "metadata": {},
     "output_type": "execute_result"
    },
    {
     "data": {
      "text/html": [
       "<div>\n",
       "<style scoped>\n",
       "    .dataframe tbody tr th:only-of-type {\n",
       "        vertical-align: middle;\n",
       "    }\n",
       "\n",
       "    .dataframe tbody tr th {\n",
       "        vertical-align: top;\n",
       "    }\n",
       "\n",
       "    .dataframe thead th {\n",
       "        text-align: right;\n",
       "    }\n",
       "</style>\n",
       "<table border=\"1\" class=\"dataframe\">\n",
       "  <thead>\n",
       "    <tr style=\"text-align: right;\">\n",
       "      <th></th>\n",
       "      <th>Date</th>\n",
       "      <th>monthly_gas_price</th>\n",
       "    </tr>\n",
       "  </thead>\n",
       "  <tbody>\n",
       "    <tr>\n",
       "      <th>0</th>\n",
       "      <td>1997-01-01</td>\n",
       "      <td>3.45</td>\n",
       "    </tr>\n",
       "  </tbody>\n",
       "</table>\n",
       "</div>"
      ],
      "text/plain": [
       "        Date  monthly_gas_price\n",
       "0 1997-01-01               3.45"
      ]
     },
     "execution_count": 34,
     "metadata": {},
     "output_type": "execute_result"
    }
   ],
   "source": [
    "historical_prod.head(1)\n",
    "oilPricebyMonth.head(1)\n",
    "gasPricebyMonth.head(1)"
   ]
  },
  {
   "cell_type": "markdown",
   "id": "6cc548a9",
   "metadata": {},
   "source": [
    "### Transform - Create Field for Joining Tables"
   ]
  },
  {
   "cell_type": "code",
   "execution_count": 35,
   "id": "2b086373",
   "metadata": {},
   "outputs": [],
   "source": [
    "#creating field for joining 3 tables since dates resembling each month differ slightly\n",
    "historical_prod['Date Key'] = historical_prod['Date'].apply(lambda x: dt.datetime.strftime(x, '%Y-%m'))\n",
    "gasPricebyMonth['Date Key'] = gasPricebyMonth['Date'].apply(lambda x: dt.datetime.strftime(x, '%Y-%m'))\n",
    "oilPricebyMonth['Date Key'] = oilPricebyMonth['Date'].apply(lambda x: dt.datetime.strftime(x, '%Y-%m'))"
   ]
  },
  {
   "cell_type": "code",
   "execution_count": 36,
   "id": "71290cb5",
   "metadata": {},
   "outputs": [
    {
     "data": {
      "text/html": [
       "<div>\n",
       "<style scoped>\n",
       "    .dataframe tbody tr th:only-of-type {\n",
       "        vertical-align: middle;\n",
       "    }\n",
       "\n",
       "    .dataframe tbody tr th {\n",
       "        vertical-align: top;\n",
       "    }\n",
       "\n",
       "    .dataframe thead th {\n",
       "        text-align: right;\n",
       "    }\n",
       "</style>\n",
       "<table border=\"1\" class=\"dataframe\">\n",
       "  <thead>\n",
       "    <tr style=\"text-align: right;\">\n",
       "      <th></th>\n",
       "      <th>Date</th>\n",
       "      <th>Oil</th>\n",
       "      <th>Gas</th>\n",
       "      <th>Water</th>\n",
       "      <th>Well Count</th>\n",
       "      <th>Mbbl/month</th>\n",
       "      <th>Ten's of Thousand bbl /month (1E-4)</th>\n",
       "      <th>MMcf/month</th>\n",
       "      <th>Ten's of Thousand mcf /month (1E-4)</th>\n",
       "      <th>Date Key</th>\n",
       "    </tr>\n",
       "  </thead>\n",
       "  <tbody>\n",
       "    <tr>\n",
       "      <th>0</th>\n",
       "      <td>1941-01-01</td>\n",
       "      <td>4684</td>\n",
       "      <td>0</td>\n",
       "      <td>16736</td>\n",
       "      <td>1</td>\n",
       "      <td>4.684</td>\n",
       "      <td>0.4684</td>\n",
       "      <td>0.0</td>\n",
       "      <td>0.0</td>\n",
       "      <td>1941-01</td>\n",
       "    </tr>\n",
       "    <tr>\n",
       "      <th>1</th>\n",
       "      <td>1941-02-01</td>\n",
       "      <td>5458</td>\n",
       "      <td>0</td>\n",
       "      <td>19502</td>\n",
       "      <td>1</td>\n",
       "      <td>5.458</td>\n",
       "      <td>0.5458</td>\n",
       "      <td>0.0</td>\n",
       "      <td>0.0</td>\n",
       "      <td>1941-02</td>\n",
       "    </tr>\n",
       "  </tbody>\n",
       "</table>\n",
       "</div>"
      ],
      "text/plain": [
       "        Date   Oil  Gas  Water  Well Count  Mbbl/month  \\\n",
       "0 1941-01-01  4684    0  16736           1       4.684   \n",
       "1 1941-02-01  5458    0  19502           1       5.458   \n",
       "\n",
       "   Ten's of Thousand bbl /month (1E-4)  MMcf/month  \\\n",
       "0                               0.4684         0.0   \n",
       "1                               0.5458         0.0   \n",
       "\n",
       "   Ten's of Thousand mcf /month (1E-4) Date Key  \n",
       "0                                  0.0  1941-01  \n",
       "1                                  0.0  1941-02  "
      ]
     },
     "execution_count": 36,
     "metadata": {},
     "output_type": "execute_result"
    },
    {
     "data": {
      "text/html": [
       "<div>\n",
       "<style scoped>\n",
       "    .dataframe tbody tr th:only-of-type {\n",
       "        vertical-align: middle;\n",
       "    }\n",
       "\n",
       "    .dataframe tbody tr th {\n",
       "        vertical-align: top;\n",
       "    }\n",
       "\n",
       "    .dataframe thead th {\n",
       "        text-align: right;\n",
       "    }\n",
       "</style>\n",
       "<table border=\"1\" class=\"dataframe\">\n",
       "  <thead>\n",
       "    <tr style=\"text-align: right;\">\n",
       "      <th></th>\n",
       "      <th>Date</th>\n",
       "      <th>monthly_oil_price</th>\n",
       "      <th>Date Key</th>\n",
       "    </tr>\n",
       "  </thead>\n",
       "  <tbody>\n",
       "    <tr>\n",
       "      <th>0</th>\n",
       "      <td>1986-01-01</td>\n",
       "      <td>22.93</td>\n",
       "      <td>1986-01</td>\n",
       "    </tr>\n",
       "    <tr>\n",
       "      <th>36</th>\n",
       "      <td>1986-02-01</td>\n",
       "      <td>15.46</td>\n",
       "      <td>1986-02</td>\n",
       "    </tr>\n",
       "  </tbody>\n",
       "</table>\n",
       "</div>"
      ],
      "text/plain": [
       "         Date  monthly_oil_price Date Key\n",
       "0  1986-01-01              22.93  1986-01\n",
       "36 1986-02-01              15.46  1986-02"
      ]
     },
     "execution_count": 36,
     "metadata": {},
     "output_type": "execute_result"
    },
    {
     "data": {
      "text/html": [
       "<div>\n",
       "<style scoped>\n",
       "    .dataframe tbody tr th:only-of-type {\n",
       "        vertical-align: middle;\n",
       "    }\n",
       "\n",
       "    .dataframe tbody tr th {\n",
       "        vertical-align: top;\n",
       "    }\n",
       "\n",
       "    .dataframe thead th {\n",
       "        text-align: right;\n",
       "    }\n",
       "</style>\n",
       "<table border=\"1\" class=\"dataframe\">\n",
       "  <thead>\n",
       "    <tr style=\"text-align: right;\">\n",
       "      <th></th>\n",
       "      <th>Date</th>\n",
       "      <th>monthly_gas_price</th>\n",
       "      <th>Date Key</th>\n",
       "    </tr>\n",
       "  </thead>\n",
       "  <tbody>\n",
       "    <tr>\n",
       "      <th>0</th>\n",
       "      <td>1997-01-01</td>\n",
       "      <td>3.45</td>\n",
       "      <td>1997-01</td>\n",
       "    </tr>\n",
       "    <tr>\n",
       "      <th>25</th>\n",
       "      <td>1997-02-01</td>\n",
       "      <td>2.15</td>\n",
       "      <td>1997-02</td>\n",
       "    </tr>\n",
       "  </tbody>\n",
       "</table>\n",
       "</div>"
      ],
      "text/plain": [
       "         Date  monthly_gas_price Date Key\n",
       "0  1997-01-01               3.45  1997-01\n",
       "25 1997-02-01               2.15  1997-02"
      ]
     },
     "execution_count": 36,
     "metadata": {},
     "output_type": "execute_result"
    }
   ],
   "source": [
    "historical_prod.head(2)\n",
    "oilPricebyMonth.head(2)\n",
    "gasPricebyMonth.head(2)"
   ]
  },
  {
   "cell_type": "markdown",
   "id": "e4625c89",
   "metadata": {},
   "source": [
    "### Perform Join and Clean Up Fields"
   ]
  },
  {
   "cell_type": "code",
   "execution_count": 37,
   "id": "2ef9ef0d",
   "metadata": {},
   "outputs": [],
   "source": [
    "#merging 3 tables together to get commodity pricing along side production. Then cleaning up by selecting only necessary columns\n",
    "revenue = pd.merge(historical_prod, oilPricebyMonth.drop(columns = 'Date'), on = 'Date Key', how = 'inner') \\\n",
    "    .merge(gasPricebyMonth.drop(columns = 'Date'), on = 'Date Key', how = 'inner') \\\n",
    "    .drop(columns = 'Date Key') \\\n",
    "    .loc[:,['Date', 'Oil', 'Gas', 'monthly_oil_price', 'monthly_gas_price']]"
   ]
  },
  {
   "cell_type": "markdown",
   "id": "a47f0280",
   "metadata": {},
   "source": [
    "### Calculate Revenue for Oil, Gas, and Total"
   ]
  },
  {
   "cell_type": "code",
   "execution_count": 38,
   "id": "c2b1c1cb",
   "metadata": {},
   "outputs": [
    {
     "data": {
      "text/html": [
       "<div>\n",
       "<style scoped>\n",
       "    .dataframe tbody tr th:only-of-type {\n",
       "        vertical-align: middle;\n",
       "    }\n",
       "\n",
       "    .dataframe tbody tr th {\n",
       "        vertical-align: top;\n",
       "    }\n",
       "\n",
       "    .dataframe thead th {\n",
       "        text-align: right;\n",
       "    }\n",
       "</style>\n",
       "<table border=\"1\" class=\"dataframe\">\n",
       "  <thead>\n",
       "    <tr style=\"text-align: right;\">\n",
       "      <th></th>\n",
       "      <th>Date</th>\n",
       "      <th>Oil</th>\n",
       "      <th>Gas</th>\n",
       "      <th>monthly_oil_price</th>\n",
       "      <th>monthly_gas_price</th>\n",
       "      <th>Revenue Oil</th>\n",
       "      <th>Revenue Gas</th>\n",
       "      <th>Total Revenue</th>\n",
       "      <th>$M Total Revenue</th>\n",
       "    </tr>\n",
       "  </thead>\n",
       "  <tbody>\n",
       "    <tr>\n",
       "      <th>0</th>\n",
       "      <td>1997-01-01</td>\n",
       "      <td>280995</td>\n",
       "      <td>1202974</td>\n",
       "      <td>25.13</td>\n",
       "      <td>3.45</td>\n",
       "      <td>7061404.35</td>\n",
       "      <td>4150260.30</td>\n",
       "      <td>11211664.65</td>\n",
       "      <td>11.21</td>\n",
       "    </tr>\n",
       "    <tr>\n",
       "      <th>1</th>\n",
       "      <td>1997-02-01</td>\n",
       "      <td>260744</td>\n",
       "      <td>1161835</td>\n",
       "      <td>22.18</td>\n",
       "      <td>2.15</td>\n",
       "      <td>5783301.92</td>\n",
       "      <td>2497945.25</td>\n",
       "      <td>8281247.17</td>\n",
       "      <td>8.28</td>\n",
       "    </tr>\n",
       "    <tr>\n",
       "      <th>2</th>\n",
       "      <td>1997-03-01</td>\n",
       "      <td>290928</td>\n",
       "      <td>1284172</td>\n",
       "      <td>20.97</td>\n",
       "      <td>1.89</td>\n",
       "      <td>6100760.16</td>\n",
       "      <td>2427085.08</td>\n",
       "      <td>8527845.24</td>\n",
       "      <td>8.53</td>\n",
       "    </tr>\n",
       "    <tr>\n",
       "      <th>3</th>\n",
       "      <td>1997-04-01</td>\n",
       "      <td>286429</td>\n",
       "      <td>1232001</td>\n",
       "      <td>19.70</td>\n",
       "      <td>2.03</td>\n",
       "      <td>5642651.30</td>\n",
       "      <td>2500962.03</td>\n",
       "      <td>8143613.33</td>\n",
       "      <td>8.14</td>\n",
       "    </tr>\n",
       "    <tr>\n",
       "      <th>4</th>\n",
       "      <td>1997-05-01</td>\n",
       "      <td>310124</td>\n",
       "      <td>1289414</td>\n",
       "      <td>20.82</td>\n",
       "      <td>2.25</td>\n",
       "      <td>6456781.68</td>\n",
       "      <td>2901181.50</td>\n",
       "      <td>9357963.18</td>\n",
       "      <td>9.36</td>\n",
       "    </tr>\n",
       "    <tr>\n",
       "      <th>...</th>\n",
       "      <td>...</td>\n",
       "      <td>...</td>\n",
       "      <td>...</td>\n",
       "      <td>...</td>\n",
       "      <td>...</td>\n",
       "      <td>...</td>\n",
       "      <td>...</td>\n",
       "      <td>...</td>\n",
       "      <td>...</td>\n",
       "    </tr>\n",
       "    <tr>\n",
       "      <th>293</th>\n",
       "      <td>2021-06-01</td>\n",
       "      <td>200332</td>\n",
       "      <td>914030</td>\n",
       "      <td>71.38</td>\n",
       "      <td>3.26</td>\n",
       "      <td>14299698.16</td>\n",
       "      <td>2979737.80</td>\n",
       "      <td>17279435.96</td>\n",
       "      <td>17.28</td>\n",
       "    </tr>\n",
       "    <tr>\n",
       "      <th>294</th>\n",
       "      <td>2021-07-01</td>\n",
       "      <td>220864</td>\n",
       "      <td>1002275</td>\n",
       "      <td>72.49</td>\n",
       "      <td>3.84</td>\n",
       "      <td>16010431.36</td>\n",
       "      <td>3848736.00</td>\n",
       "      <td>19859167.36</td>\n",
       "      <td>19.86</td>\n",
       "    </tr>\n",
       "    <tr>\n",
       "      <th>295</th>\n",
       "      <td>2021-08-01</td>\n",
       "      <td>206105</td>\n",
       "      <td>1023171</td>\n",
       "      <td>67.73</td>\n",
       "      <td>4.07</td>\n",
       "      <td>13959491.65</td>\n",
       "      <td>4164305.97</td>\n",
       "      <td>18123797.62</td>\n",
       "      <td>18.12</td>\n",
       "    </tr>\n",
       "    <tr>\n",
       "      <th>296</th>\n",
       "      <td>2021-09-01</td>\n",
       "      <td>203026</td>\n",
       "      <td>973874</td>\n",
       "      <td>71.65</td>\n",
       "      <td>5.16</td>\n",
       "      <td>14546812.90</td>\n",
       "      <td>5025189.84</td>\n",
       "      <td>19572002.74</td>\n",
       "      <td>19.57</td>\n",
       "    </tr>\n",
       "    <tr>\n",
       "      <th>297</th>\n",
       "      <td>2021-10-01</td>\n",
       "      <td>201477</td>\n",
       "      <td>897893</td>\n",
       "      <td>81.48</td>\n",
       "      <td>5.51</td>\n",
       "      <td>16416345.96</td>\n",
       "      <td>4947390.43</td>\n",
       "      <td>21363736.39</td>\n",
       "      <td>21.36</td>\n",
       "    </tr>\n",
       "  </tbody>\n",
       "</table>\n",
       "<p>298 rows × 9 columns</p>\n",
       "</div>"
      ],
      "text/plain": [
       "          Date     Oil      Gas  monthly_oil_price  monthly_gas_price  \\\n",
       "0   1997-01-01  280995  1202974              25.13               3.45   \n",
       "1   1997-02-01  260744  1161835              22.18               2.15   \n",
       "2   1997-03-01  290928  1284172              20.97               1.89   \n",
       "3   1997-04-01  286429  1232001              19.70               2.03   \n",
       "4   1997-05-01  310124  1289414              20.82               2.25   \n",
       "..         ...     ...      ...                ...                ...   \n",
       "293 2021-06-01  200332   914030              71.38               3.26   \n",
       "294 2021-07-01  220864  1002275              72.49               3.84   \n",
       "295 2021-08-01  206105  1023171              67.73               4.07   \n",
       "296 2021-09-01  203026   973874              71.65               5.16   \n",
       "297 2021-10-01  201477   897893              81.48               5.51   \n",
       "\n",
       "     Revenue Oil  Revenue Gas  Total Revenue  $M Total Revenue  \n",
       "0     7061404.35   4150260.30    11211664.65             11.21  \n",
       "1     5783301.92   2497945.25     8281247.17              8.28  \n",
       "2     6100760.16   2427085.08     8527845.24              8.53  \n",
       "3     5642651.30   2500962.03     8143613.33              8.14  \n",
       "4     6456781.68   2901181.50     9357963.18              9.36  \n",
       "..           ...          ...            ...               ...  \n",
       "293  14299698.16   2979737.80    17279435.96             17.28  \n",
       "294  16010431.36   3848736.00    19859167.36             19.86  \n",
       "295  13959491.65   4164305.97    18123797.62             18.12  \n",
       "296  14546812.90   5025189.84    19572002.74             19.57  \n",
       "297  16416345.96   4947390.43    21363736.39             21.36  \n",
       "\n",
       "[298 rows x 9 columns]"
      ]
     },
     "execution_count": 38,
     "metadata": {},
     "output_type": "execute_result"
    }
   ],
   "source": [
    "revenue[\"Revenue Oil\"] = revenue[\"Oil\"] * revenue['monthly_oil_price']\n",
    "revenue[\"Revenue Gas\"] = revenue[\"Gas\"] * revenue['monthly_gas_price']\n",
    "\n",
    "revenue['Total Revenue'] = revenue[\"Revenue Oil\"] + revenue[\"Revenue Gas\"]\n",
    "\n",
    "revenue['$M Total Revenue'] = round(revenue[\"Total Revenue\"] / 1E6, 2)\n",
    "\n",
    "revenue"
   ]
  },
  {
   "cell_type": "code",
   "execution_count": 39,
   "id": "315dcea2",
   "metadata": {},
   "outputs": [],
   "source": [
    "revenue.to_csv(f'{presentation_data_folder}/revenue/revenue.csv', index = False)"
   ]
  },
  {
   "cell_type": "markdown",
   "id": "cf2996ca",
   "metadata": {},
   "source": [
    "## Creating Normalized / Scaled Revenue and Asset Price -  from 0 to 1"
   ]
  },
  {
   "cell_type": "code",
   "execution_count": 40,
   "id": "6a17cfa4",
   "metadata": {},
   "outputs": [],
   "source": [
    "from sklearn import preprocessing"
   ]
  },
  {
   "cell_type": "markdown",
   "id": "841ecc4d",
   "metadata": {},
   "source": [
    "### Scaling Revenue"
   ]
  },
  {
   "cell_type": "code",
   "execution_count": 41,
   "id": "65bba6b5",
   "metadata": {},
   "outputs": [],
   "source": [
    "scalerRev = preprocessing.MinMaxScaler().fit(revenue.iloc[:,1:])"
   ]
  },
  {
   "cell_type": "code",
   "execution_count": 42,
   "id": "623230b7",
   "metadata": {},
   "outputs": [],
   "source": [
    "scaled_revenue_vals = scalerRev.transform(revenue.iloc[:,1:])"
   ]
  },
  {
   "cell_type": "code",
   "execution_count": 43,
   "id": "70d0ec2d",
   "metadata": {},
   "outputs": [
    {
     "data": {
      "text/html": [
       "<div>\n",
       "<style scoped>\n",
       "    .dataframe tbody tr th:only-of-type {\n",
       "        vertical-align: middle;\n",
       "    }\n",
       "\n",
       "    .dataframe tbody tr th {\n",
       "        vertical-align: top;\n",
       "    }\n",
       "\n",
       "    .dataframe thead th {\n",
       "        text-align: right;\n",
       "    }\n",
       "</style>\n",
       "<table border=\"1\" class=\"dataframe\">\n",
       "  <thead>\n",
       "    <tr style=\"text-align: right;\">\n",
       "      <th></th>\n",
       "      <th>Date</th>\n",
       "      <th>Oil</th>\n",
       "      <th>Gas</th>\n",
       "      <th>monthly_oil_price</th>\n",
       "      <th>monthly_gas_price</th>\n",
       "      <th>Revenue Oil</th>\n",
       "      <th>Revenue Gas</th>\n",
       "      <th>Total Revenue</th>\n",
       "      <th>$M Total Revenue</th>\n",
       "    </tr>\n",
       "  </thead>\n",
       "  <tbody>\n",
       "    <tr>\n",
       "      <th>0</th>\n",
       "      <td>1997-01-01</td>\n",
       "      <td>0.722649</td>\n",
       "      <td>0.845847</td>\n",
       "      <td>0.112462</td>\n",
       "      <td>0.154368</td>\n",
       "      <td>0.233823</td>\n",
       "      <td>0.259824</td>\n",
       "      <td>0.244986</td>\n",
       "      <td>0.244840</td>\n",
       "    </tr>\n",
       "    <tr>\n",
       "      <th>1</th>\n",
       "      <td>1997-02-01</td>\n",
       "      <td>0.634258</td>\n",
       "      <td>0.790250</td>\n",
       "      <td>0.088387</td>\n",
       "      <td>0.044105</td>\n",
       "      <td>0.155704</td>\n",
       "      <td>0.109146</td>\n",
       "      <td>0.126395</td>\n",
       "      <td>0.126265</td>\n",
       "    </tr>\n",
       "    <tr>\n",
       "      <th>2</th>\n",
       "      <td>1997-03-01</td>\n",
       "      <td>0.766005</td>\n",
       "      <td>0.955581</td>\n",
       "      <td>0.078511</td>\n",
       "      <td>0.022053</td>\n",
       "      <td>0.175108</td>\n",
       "      <td>0.102684</td>\n",
       "      <td>0.136374</td>\n",
       "      <td>0.136382</td>\n",
       "    </tr>\n",
       "    <tr>\n",
       "      <th>3</th>\n",
       "      <td>1997-04-01</td>\n",
       "      <td>0.746367</td>\n",
       "      <td>0.885075</td>\n",
       "      <td>0.068147</td>\n",
       "      <td>0.033927</td>\n",
       "      <td>0.147108</td>\n",
       "      <td>0.109421</td>\n",
       "      <td>0.120825</td>\n",
       "      <td>0.120599</td>\n",
       "    </tr>\n",
       "    <tr>\n",
       "      <th>4</th>\n",
       "      <td>1997-05-01</td>\n",
       "      <td>0.849791</td>\n",
       "      <td>0.962665</td>\n",
       "      <td>0.077287</td>\n",
       "      <td>0.052587</td>\n",
       "      <td>0.196868</td>\n",
       "      <td>0.145918</td>\n",
       "      <td>0.169968</td>\n",
       "      <td>0.169972</td>\n",
       "    </tr>\n",
       "    <tr>\n",
       "      <th>...</th>\n",
       "      <td>...</td>\n",
       "      <td>...</td>\n",
       "      <td>...</td>\n",
       "      <td>...</td>\n",
       "      <td>...</td>\n",
       "      <td>...</td>\n",
       "      <td>...</td>\n",
       "      <td>...</td>\n",
       "      <td>...</td>\n",
       "    </tr>\n",
       "    <tr>\n",
       "      <th>293</th>\n",
       "      <td>2021-06-01</td>\n",
       "      <td>0.370574</td>\n",
       "      <td>0.455358</td>\n",
       "      <td>0.489921</td>\n",
       "      <td>0.138253</td>\n",
       "      <td>0.676233</td>\n",
       "      <td>0.153081</td>\n",
       "      <td>0.490545</td>\n",
       "      <td>0.490490</td>\n",
       "    </tr>\n",
       "    <tr>\n",
       "      <th>294</th>\n",
       "      <td>2021-07-01</td>\n",
       "      <td>0.460191</td>\n",
       "      <td>0.574615</td>\n",
       "      <td>0.498980</td>\n",
       "      <td>0.187447</td>\n",
       "      <td>0.780795</td>\n",
       "      <td>0.232327</td>\n",
       "      <td>0.594945</td>\n",
       "      <td>0.594901</td>\n",
       "    </tr>\n",
       "    <tr>\n",
       "      <th>295</th>\n",
       "      <td>2021-08-01</td>\n",
       "      <td>0.395771</td>\n",
       "      <td>0.602855</td>\n",
       "      <td>0.460132</td>\n",
       "      <td>0.206955</td>\n",
       "      <td>0.655440</td>\n",
       "      <td>0.261105</td>\n",
       "      <td>0.524716</td>\n",
       "      <td>0.524484</td>\n",
       "    </tr>\n",
       "    <tr>\n",
       "      <th>296</th>\n",
       "      <td>2021-09-01</td>\n",
       "      <td>0.382332</td>\n",
       "      <td>0.536233</td>\n",
       "      <td>0.492124</td>\n",
       "      <td>0.299406</td>\n",
       "      <td>0.691337</td>\n",
       "      <td>0.339611</td>\n",
       "      <td>0.583323</td>\n",
       "      <td>0.583165</td>\n",
       "    </tr>\n",
       "    <tr>\n",
       "      <th>297</th>\n",
       "      <td>2021-10-01</td>\n",
       "      <td>0.375571</td>\n",
       "      <td>0.433550</td>\n",
       "      <td>0.572350</td>\n",
       "      <td>0.329092</td>\n",
       "      <td>0.805605</td>\n",
       "      <td>0.332516</td>\n",
       "      <td>0.655834</td>\n",
       "      <td>0.655605</td>\n",
       "    </tr>\n",
       "  </tbody>\n",
       "</table>\n",
       "<p>298 rows × 9 columns</p>\n",
       "</div>"
      ],
      "text/plain": [
       "          Date       Oil       Gas  monthly_oil_price  monthly_gas_price  \\\n",
       "0   1997-01-01  0.722649  0.845847           0.112462           0.154368   \n",
       "1   1997-02-01  0.634258  0.790250           0.088387           0.044105   \n",
       "2   1997-03-01  0.766005  0.955581           0.078511           0.022053   \n",
       "3   1997-04-01  0.746367  0.885075           0.068147           0.033927   \n",
       "4   1997-05-01  0.849791  0.962665           0.077287           0.052587   \n",
       "..         ...       ...       ...                ...                ...   \n",
       "293 2021-06-01  0.370574  0.455358           0.489921           0.138253   \n",
       "294 2021-07-01  0.460191  0.574615           0.498980           0.187447   \n",
       "295 2021-08-01  0.395771  0.602855           0.460132           0.206955   \n",
       "296 2021-09-01  0.382332  0.536233           0.492124           0.299406   \n",
       "297 2021-10-01  0.375571  0.433550           0.572350           0.329092   \n",
       "\n",
       "     Revenue Oil  Revenue Gas  Total Revenue  $M Total Revenue  \n",
       "0       0.233823     0.259824       0.244986          0.244840  \n",
       "1       0.155704     0.109146       0.126395          0.126265  \n",
       "2       0.175108     0.102684       0.136374          0.136382  \n",
       "3       0.147108     0.109421       0.120825          0.120599  \n",
       "4       0.196868     0.145918       0.169968          0.169972  \n",
       "..           ...          ...            ...               ...  \n",
       "293     0.676233     0.153081       0.490545          0.490490  \n",
       "294     0.780795     0.232327       0.594945          0.594901  \n",
       "295     0.655440     0.261105       0.524716          0.524484  \n",
       "296     0.691337     0.339611       0.583323          0.583165  \n",
       "297     0.805605     0.332516       0.655834          0.655605  \n",
       "\n",
       "[298 rows x 9 columns]"
      ]
     },
     "execution_count": 43,
     "metadata": {},
     "output_type": "execute_result"
    }
   ],
   "source": [
    "scaled_Revenue = pd.DataFrame(scaled_revenue_vals)\n",
    "scaled_Revenue.insert(0, 'Date', revenue['Date'])\n",
    "scaled_Revenue.columns = revenue.columns\n",
    "scaled_Revenue"
   ]
  },
  {
   "cell_type": "code",
   "execution_count": 44,
   "id": "baeddd2f",
   "metadata": {},
   "outputs": [],
   "source": [
    "for column in scaled_Revenue.columns[1:]:\n",
    "    scaled_Revenue.rename(columns = {column: f'scaled_{column}'}, inplace=True)"
   ]
  },
  {
   "cell_type": "code",
   "execution_count": 45,
   "id": "f0c185c2",
   "metadata": {},
   "outputs": [
    {
     "data": {
      "text/html": [
       "<div>\n",
       "<style scoped>\n",
       "    .dataframe tbody tr th:only-of-type {\n",
       "        vertical-align: middle;\n",
       "    }\n",
       "\n",
       "    .dataframe tbody tr th {\n",
       "        vertical-align: top;\n",
       "    }\n",
       "\n",
       "    .dataframe thead th {\n",
       "        text-align: right;\n",
       "    }\n",
       "</style>\n",
       "<table border=\"1\" class=\"dataframe\">\n",
       "  <thead>\n",
       "    <tr style=\"text-align: right;\">\n",
       "      <th></th>\n",
       "      <th>Date</th>\n",
       "      <th>scaled_Oil</th>\n",
       "      <th>scaled_Gas</th>\n",
       "      <th>scaled_monthly_oil_price</th>\n",
       "      <th>scaled_monthly_gas_price</th>\n",
       "      <th>scaled_Revenue Oil</th>\n",
       "      <th>scaled_Revenue Gas</th>\n",
       "      <th>scaled_Total Revenue</th>\n",
       "      <th>scaled_$M Total Revenue</th>\n",
       "    </tr>\n",
       "  </thead>\n",
       "  <tbody>\n",
       "    <tr>\n",
       "      <th>0</th>\n",
       "      <td>1997-01-01</td>\n",
       "      <td>0.722649</td>\n",
       "      <td>0.845847</td>\n",
       "      <td>0.112462</td>\n",
       "      <td>0.154368</td>\n",
       "      <td>0.233823</td>\n",
       "      <td>0.259824</td>\n",
       "      <td>0.244986</td>\n",
       "      <td>0.244840</td>\n",
       "    </tr>\n",
       "    <tr>\n",
       "      <th>1</th>\n",
       "      <td>1997-02-01</td>\n",
       "      <td>0.634258</td>\n",
       "      <td>0.790250</td>\n",
       "      <td>0.088387</td>\n",
       "      <td>0.044105</td>\n",
       "      <td>0.155704</td>\n",
       "      <td>0.109146</td>\n",
       "      <td>0.126395</td>\n",
       "      <td>0.126265</td>\n",
       "    </tr>\n",
       "  </tbody>\n",
       "</table>\n",
       "</div>"
      ],
      "text/plain": [
       "        Date  scaled_Oil  scaled_Gas  scaled_monthly_oil_price  \\\n",
       "0 1997-01-01    0.722649    0.845847                  0.112462   \n",
       "1 1997-02-01    0.634258    0.790250                  0.088387   \n",
       "\n",
       "   scaled_monthly_gas_price  scaled_Revenue Oil  scaled_Revenue Gas  \\\n",
       "0                  0.154368            0.233823            0.259824   \n",
       "1                  0.044105            0.155704            0.109146   \n",
       "\n",
       "   scaled_Total Revenue  scaled_$M Total Revenue  \n",
       "0              0.244986                 0.244840  \n",
       "1              0.126395                 0.126265  "
      ]
     },
     "execution_count": 45,
     "metadata": {},
     "output_type": "execute_result"
    }
   ],
   "source": [
    "scaled_Revenue.head(2)\n",
    "scaled_Revenue.to_csv(f'{presentation_data_folder}/scaled_transforms/scaled_revenue_and_commodity.csv', index = False)"
   ]
  },
  {
   "cell_type": "markdown",
   "id": "40e591d4",
   "metadata": {},
   "source": [
    "### Scaling Asset Price"
   ]
  },
  {
   "cell_type": "code",
   "execution_count": 46,
   "id": "84d5d8c2",
   "metadata": {},
   "outputs": [
    {
     "data": {
      "text/html": [
       "<div>\n",
       "<style scoped>\n",
       "    .dataframe tbody tr th:only-of-type {\n",
       "        vertical-align: middle;\n",
       "    }\n",
       "\n",
       "    .dataframe tbody tr th {\n",
       "        vertical-align: top;\n",
       "    }\n",
       "\n",
       "    .dataframe thead th {\n",
       "        text-align: right;\n",
       "    }\n",
       "</style>\n",
       "<table border=\"1\" class=\"dataframe\">\n",
       "  <thead>\n",
       "    <tr style=\"text-align: right;\">\n",
       "      <th></th>\n",
       "      <th>Date</th>\n",
       "      <th>Close</th>\n",
       "    </tr>\n",
       "  </thead>\n",
       "  <tbody>\n",
       "    <tr>\n",
       "      <th>0</th>\n",
       "      <td>1996-01-02</td>\n",
       "      <td>0.036942</td>\n",
       "    </tr>\n",
       "    <tr>\n",
       "      <th>1</th>\n",
       "      <td>1996-01-03</td>\n",
       "      <td>0.046819</td>\n",
       "    </tr>\n",
       "  </tbody>\n",
       "</table>\n",
       "</div>"
      ],
      "text/plain": [
       "        Date     Close\n",
       "0 1996-01-02  0.036942\n",
       "1 1996-01-03  0.046819"
      ]
     },
     "execution_count": 46,
     "metadata": {},
     "output_type": "execute_result"
    }
   ],
   "source": [
    "scalerRev = preprocessing.MinMaxScaler().fit(historical_close.iloc[:,1:])\n",
    "\n",
    "scaled_historical_close_vals = scalerRev.transform(historical_close.iloc[:,1:])\n",
    "\n",
    "scaled_historical_close = pd.DataFrame(scaled_historical_close_vals)\n",
    "scaled_historical_close.insert(0, 'Date', historical_close['Date'])\n",
    "scaled_historical_close.columns = historical_close.columns\n",
    "scaled_historical_close.head(2)"
   ]
  },
  {
   "cell_type": "markdown",
   "id": "f3b64e8c",
   "metadata": {},
   "source": [
    "#### Rename cols to Scaled 'x'"
   ]
  },
  {
   "cell_type": "code",
   "execution_count": 47,
   "id": "7957eed2",
   "metadata": {},
   "outputs": [],
   "source": [
    "for column in scaled_historical_close.columns[1:]:\n",
    "    scaled_historical_close.rename(columns = {column: f'scaled_{column}'}, inplace=True)"
   ]
  },
  {
   "cell_type": "code",
   "execution_count": 48,
   "id": "be9b9680",
   "metadata": {},
   "outputs": [
    {
     "data": {
      "text/html": [
       "<div>\n",
       "<style scoped>\n",
       "    .dataframe tbody tr th:only-of-type {\n",
       "        vertical-align: middle;\n",
       "    }\n",
       "\n",
       "    .dataframe tbody tr th {\n",
       "        vertical-align: top;\n",
       "    }\n",
       "\n",
       "    .dataframe thead th {\n",
       "        text-align: right;\n",
       "    }\n",
       "</style>\n",
       "<table border=\"1\" class=\"dataframe\">\n",
       "  <thead>\n",
       "    <tr style=\"text-align: right;\">\n",
       "      <th></th>\n",
       "      <th>Date</th>\n",
       "      <th>scaled_Close</th>\n",
       "    </tr>\n",
       "  </thead>\n",
       "  <tbody>\n",
       "    <tr>\n",
       "      <th>0</th>\n",
       "      <td>1996-01-02</td>\n",
       "      <td>0.036942</td>\n",
       "    </tr>\n",
       "    <tr>\n",
       "      <th>1</th>\n",
       "      <td>1996-01-03</td>\n",
       "      <td>0.046819</td>\n",
       "    </tr>\n",
       "  </tbody>\n",
       "</table>\n",
       "</div>"
      ],
      "text/plain": [
       "        Date  scaled_Close\n",
       "0 1996-01-02      0.036942\n",
       "1 1996-01-03      0.046819"
      ]
     },
     "execution_count": 48,
     "metadata": {},
     "output_type": "execute_result"
    }
   ],
   "source": [
    "scaled_historical_close.head(2)\n",
    "scaled_historical_close.to_csv(f'{presentation_data_folder}/scaled_transforms/scaled_asset_price.csv', index = False)"
   ]
  },
  {
   "cell_type": "code",
   "execution_count": 49,
   "id": "6ee1af7f",
   "metadata": {},
   "outputs": [],
   "source": [
    "import seaborn as sns\n",
    "import matplotlib.pyplot as plt"
   ]
  },
  {
   "cell_type": "code",
   "execution_count": 50,
   "id": "7967f42e",
   "metadata": {
    "scrolled": true
   },
   "outputs": [
    {
     "data": {
      "text/plain": [
       "<Figure size 1080x504 with 0 Axes>"
      ]
     },
     "execution_count": 50,
     "metadata": {},
     "output_type": "execute_result"
    },
    {
     "data": {
      "text/plain": [
       "Text(0.5, 1.0, 'Revenue ($M) vs Year')"
      ]
     },
     "execution_count": 50,
     "metadata": {},
     "output_type": "execute_result"
    },
    {
     "name": "stderr",
     "output_type": "stream",
     "text": [
      "/Users/Mishaun_Bhakta/opt/anaconda3/lib/python3.9/site-packages/seaborn/_decorators.py:36: FutureWarning: Pass the following variables as keyword args: x, y. From version 0.12, the only valid positional argument will be `data`, and passing other arguments without an explicit keyword will result in an error or misinterpretation.\n",
      "  warnings.warn(\n"
     ]
    },
    {
     "data": {
      "text/plain": [
       "<AxesSubplot:title={'center':'Revenue ($M) vs Year'}, xlabel='Date', ylabel='$M Total Revenue'>"
      ]
     },
     "execution_count": 50,
     "metadata": {},
     "output_type": "execute_result"
    },
    {
     "name": "stderr",
     "output_type": "stream",
     "text": [
      "/Users/Mishaun_Bhakta/opt/anaconda3/lib/python3.9/site-packages/seaborn/_decorators.py:36: FutureWarning: Pass the following variables as keyword args: x, y. From version 0.12, the only valid positional argument will be `data`, and passing other arguments without an explicit keyword will result in an error or misinterpretation.\n",
      "  warnings.warn(\n"
     ]
    },
    {
     "data": {
      "text/plain": [
       "<AxesSubplot:title={'center':'Revenue ($M) vs Year'}, xlabel='Date', ylabel='$M Total Revenue'>"
      ]
     },
     "execution_count": 50,
     "metadata": {},
     "output_type": "execute_result"
    },
    {
     "data": {
      "image/png": "[encoded data removed]",
      "text/plain": [
       "<Figure size 1080x504 with 1 Axes>"
      ]
     },
     "metadata": {
      "needs_background": "light"
     },
     "output_type": "display_data"
    }
   ],
   "source": [
    "plt.figure(figsize=(15,7))\n",
    "\n",
    "plt.title('Revenue ($M) vs Year', fontdict={\"fontsize\": 20})\n",
    "sns.scatterplot(revenue['Date'], revenue['$M Total Revenue'], palette='rainbow')\n",
    "sns.scatterplot(historical_close[\"Date\"], historical_close['Close'])"
   ]
  },
  {
   "cell_type": "code",
   "execution_count": null,
   "id": "05506a11",
   "metadata": {},
   "outputs": [],
   "source": []
  }
 ],
 "metadata": {
  "kernelspec": {
   "display_name": "Python 3 (ipykernel)",
   "language": "python",
   "name": "python3"
  },
  "language_info": {
   "codemirror_mode": {
    "name": "ipython",
    "version": 3
   },
   "file_extension": ".py",
   "mimetype": "text/x-python",
   "name": "python",
   "nbconvert_exporter": "python",
   "pygments_lexer": "ipython3",
   "version": "3.9.7"
  }
 },
 "nbformat": 4,
 "nbformat_minor": 5
}
