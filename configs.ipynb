{
 "cells": [
  {
   "cell_type": "code",
   "execution_count": 5,
   "id": "1c0869b5",
   "metadata": {},
   "outputs": [],
   "source": [
    "raw_data_folder = \"/Users/Mishaun_Bhakta/OneDrive - Magnum Producing/Mishaun/Misc - Maps, AMI, etc/PBT -Crane County - Blackbeard/Data/raw\"\n",
    "presentation_data_folder = \"/Users/Mishaun_Bhakta/OneDrive - Magnum Producing/Mishaun/Misc - Maps, AMI, etc/PBT -Crane County - Blackbeard/Data/presentation\"\n",
    "processed_data_folder = \"/Users/Mishaun_Bhakta/OneDrive - Magnum Producing/Mishaun/Misc - Maps, AMI, etc/PBT -Crane County - Blackbeard/Data/processed\"\n",
    "\n"
   ]
  },
  {
   "cell_type": "code",
   "execution_count": null,
   "id": "1631fd3b",
   "metadata": {},
   "outputs": [],
   "source": []
  }
 ],
 "metadata": {
  "kernelspec": {
   "display_name": "Python 3 (ipykernel)",
   "language": "python",
   "name": "python3"
  },
  "language_info": {
   "codemirror_mode": {
    "name": "ipython",
    "version": 3
   },
   "file_extension": ".py",
   "mimetype": "text/x-python",
   "name": "python",
   "nbconvert_exporter": "python",
   "pygments_lexer": "ipython3",
   "version": "3.9.7"
  }
 },
 "nbformat": 4,
 "nbformat_minor": 5
}
